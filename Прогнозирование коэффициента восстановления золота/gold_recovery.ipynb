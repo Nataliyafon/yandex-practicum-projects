{
 "cells": [
  {
   "cell_type": "markdown",
   "metadata": {
    "toc": true
   },
   "source": [
    "<h1>Содержание<span class=\"tocSkip\"></span></h1>\n",
    "<div class=\"toc\"><ul class=\"toc-item\"><li><span><a href=\"#Подготовка-данных\" data-toc-modified-id=\"Подготовка-данных-1\"><span class=\"toc-item-num\">1&nbsp;&nbsp;</span>Подготовка данных</a></span><ul class=\"toc-item\"><li><span><a href=\"#Изучение-данных\" data-toc-modified-id=\"Изучение-данных-1.1\"><span class=\"toc-item-num\">1.1&nbsp;&nbsp;</span>Изучение данных</a></span></li><li><span><a href=\"#Проверка-расчёта-эффективности-обогащения\" data-toc-modified-id=\"Проверка-расчёта-эффективности-обогащения-1.2\"><span class=\"toc-item-num\">1.2&nbsp;&nbsp;</span>Проверка расчёта эффективности обогащения</a></span></li><li><span><a href=\"#Анализ-признаков,-недоступных-в-тестовой-выборке\" data-toc-modified-id=\"Анализ-признаков,-недоступных-в-тестовой-выборке-1.3\"><span class=\"toc-item-num\">1.3&nbsp;&nbsp;</span>Анализ признаков, недоступных в тестовой выборке</a></span></li><li><span><a href=\"#Предобработка-данных\" data-toc-modified-id=\"Предобработка-данных-1.4\"><span class=\"toc-item-num\">1.4&nbsp;&nbsp;</span>Предобработка данных</a></span></li></ul></li><li><span><a href=\"#Анализ-данных\" data-toc-modified-id=\"Анализ-данных-2\"><span class=\"toc-item-num\">2&nbsp;&nbsp;</span>Анализ данных</a></span><ul class=\"toc-item\"><li><span><a href=\"#Анализ-изменения-концентрации-металла-на-различных-этапах-очистки\" data-toc-modified-id=\"Анализ-изменения-концентрации-металла-на-различных-этапах-очистки-2.1\"><span class=\"toc-item-num\">2.1&nbsp;&nbsp;</span>Анализ изменения концентрации металла на различных этапах очистки</a></span></li><li><span><a href=\"#Сравнение-распределения-размеров-гранул-сырья-на-обучающей-и-тестовой-выборках\" data-toc-modified-id=\"Сравнение-распределения-размеров-гранул-сырья-на-обучающей-и-тестовой-выборках-2.2\"><span class=\"toc-item-num\">2.2&nbsp;&nbsp;</span>Сравнение распределения размеров гранул сырья на обучающей и тестовой выборках</a></span></li><li><span><a href=\"#Исследование-суммарной-концентрации-всех-веществ-на-разных-стадиях\" data-toc-modified-id=\"Исследование-суммарной-концентрации-всех-веществ-на-разных-стадиях-2.3\"><span class=\"toc-item-num\">2.3&nbsp;&nbsp;</span>Исследование суммарной концентрации всех веществ на разных стадиях</a></span></li></ul></li><li><span><a href=\"#Модель\" data-toc-modified-id=\"Модель-3\"><span class=\"toc-item-num\">3&nbsp;&nbsp;</span>Модель</a></span><ul class=\"toc-item\"><li><span><a href=\"#Написание-функции-для-вычисления-итоговой-sMAPE\" data-toc-modified-id=\"Написание-функции-для-вычисления-итоговой-sMAPE-3.1\"><span class=\"toc-item-num\">3.1&nbsp;&nbsp;</span>Написание функции для вычисления итоговой sMAPE</a></span></li><li><span><a href=\"#Обучение-моделей\" data-toc-modified-id=\"Обучение-моделей-3.2\"><span class=\"toc-item-num\">3.2&nbsp;&nbsp;</span>Обучение моделей</a></span><ul class=\"toc-item\"><li><span><a href=\"#Случайный-лес\" data-toc-modified-id=\"Случайный-лес-3.2.1\"><span class=\"toc-item-num\">3.2.1&nbsp;&nbsp;</span>Случайный лес</a></span></li><li><span><a href=\"#Дерево-решений\" data-toc-modified-id=\"Дерево-решений-3.2.2\"><span class=\"toc-item-num\">3.2.2&nbsp;&nbsp;</span>Дерево решений</a></span></li><li><span><a href=\"#Случайная-модель\" data-toc-modified-id=\"Случайная-модель-3.2.3\"><span class=\"toc-item-num\">3.2.3&nbsp;&nbsp;</span>Случайная модель</a></span></li><li><span><a href=\"#Проверка-на-тестовой-выборке\" data-toc-modified-id=\"Проверка-на-тестовой-выборке-3.2.4\"><span class=\"toc-item-num\">3.2.4&nbsp;&nbsp;</span>Проверка на тестовой выборке</a></span></li></ul></li></ul></li><li><span><a href=\"#Вывод\" data-toc-modified-id=\"Вывод-4\"><span class=\"toc-item-num\">4&nbsp;&nbsp;</span>Вывод</a></span></li></ul></div>"
   ]
  },
  {
   "cell_type": "markdown",
   "metadata": {},
   "source": [
    "# Восстановление золота из руды"
   ]
  },
  {
   "cell_type": "markdown",
   "metadata": {},
   "source": [
    "Компания «Цифры» разрабатывает решения для эффективной работы промышленных предприятий.\n",
    "\n",
    "**Цель исследования** - подготовить прототип модели машинного обучения, которая должна предсказать коэффициент восстановления золота из золотосодержащей руды. Это поможет оптимизировать производство, чтобы не запускать предприятие с убыточными характеристиками.\n",
    "\n",
    "**Ход исследования**\n",
    "\n",
    "Данные  с параметрами добычи и очистки золота из золотосодержащей руды мы получили из 3-х файлов - исходного (полного), тестового и тренировочного. Мы проверим данные на корректность, что эффективность обогащения рассчитана правильно, проанализируем признаки, недоступные в тестовой выборке, проведём предобработку. Затем исследуем данные -  посмотрим, как меняется концентрация металлов (Au, Ag, Pb) на различных этапах, сравним распределения размеров гранул исходного сырья на обучающей и тестовой выборках, исследуем суммарную концентрацию металлов на разных стадиях. Далее, перейдём к построению моделей - напишем функцию для вычисления итоговой sMAPE, обучим разные модели и оценим их качество кросс-валидацией, выберем лучшую и проверим её на тестовой выборке. Опишим выводы. \n",
    " \n",
    "Таким образом, исследование пройдёт вследующие этапы:\n",
    " 1. Подготовка данных;\n",
    " 2. Анализ данных;\n",
    " 3. Построение и обучение моделей;\n",
    " 4. Вывод"
   ]
  },
  {
   "cell_type": "markdown",
   "metadata": {},
   "source": [
    "## Подготовка данных"
   ]
  },
  {
   "cell_type": "markdown",
   "metadata": {},
   "source": [
    "### Изучение данных"
   ]
  },
  {
   "cell_type": "code",
   "execution_count": 1,
   "metadata": {
    "ExecuteTime": {
     "end_time": "2023-03-25T08:55:28.311614Z",
     "start_time": "2023-03-25T08:55:25.388700Z"
    }
   },
   "outputs": [],
   "source": [
    "# Импортируем библиотеки\n",
    "\n",
    "import pandas as pd\n",
    "import numpy as np\n",
    "import matplotlib.pyplot as plt\n",
    "import seaborn as sns\n",
    "from sklearn.model_selection import (\n",
    "    RandomizedSearchCV,\n",
    "    cross_val_score\n",
    ")\n",
    "from sklearn.linear_model import LinearRegression\n",
    "from sklearn.ensemble import RandomForestRegressor\n",
    "from sklearn.tree import DecisionTreeRegressor\n",
    "from sklearn.dummy import DummyRegressor\n",
    "from sklearn.preprocessing import StandardScaler\n",
    "from sklearn.metrics import (\n",
    "    mean_absolute_error,\n",
    "    make_scorer\n",
    ")\n",
    "\n",
    "# константы\n",
    "\n",
    "RANDOM_STATE = 12345\n",
    "\n",
    "sns.set_style(\"darkgrid\")\n",
    "pd.set_option('display.max_columns', None)"
   ]
  },
  {
   "cell_type": "code",
   "execution_count": 2,
   "metadata": {
    "ExecuteTime": {
     "end_time": "2023-03-25T08:55:46.358452Z",
     "start_time": "2023-03-25T08:55:28.312596Z"
    }
   },
   "outputs": [],
   "source": [
    "# Читаем csv-файлы и переводим в формат даты столбец date\n",
    "\n",
    "try:\n",
    "    data_train = pd.read_csv('/datasets/gold_recovery_train_new.csv', parse_dates=['date'])\n",
    "    data_test = pd.read_csv('/datasets/gold_recovery_test_new.csv', parse_dates=['date'])\n",
    "    data_full = pd.read_csv('/datasets/gold_recovery_full_new.csv', parse_dates=['date'])\n",
    "except:\n",
    "    data_train = pd.read_csv(r'C:\\Users\\Natal\\Downloads\\gold_recovery_train_new.csv', parse_dates=['date'])\n",
    "    data_test = pd.read_csv(r'C:\\Users\\Natal\\Downloads\\gold_recovery_test_new.csv', parse_dates=['date'])\n",
    "    data_full = pd.read_csv(r'C:\\Users\\Natal\\Downloads\\gold_recovery_full_new.csv', parse_dates=['date'])"
   ]
  },
  {
   "cell_type": "code",
   "execution_count": 3,
   "metadata": {
    "ExecuteTime": {
     "end_time": "2023-03-25T08:55:46.373851Z",
     "start_time": "2023-03-25T08:55:46.361555Z"
    }
   },
   "outputs": [],
   "source": [
    "def get_data_info(data):\n",
    "    print('\\nПервые 5 строк датафрейма:')\n",
    "    display(data.head())\n",
    "    print('\\nОсновная информация о датафрейме с помощью метода info():\\n')\n",
    "    print(data.info())\n",
    "    print('\\nКоличество явных дубликатов:', data.duplicated().sum())\n",
    "    display(\n",
    "        pd.DataFrame(data=zip(data.columns, data.isna().sum(), data.isna().mean()*100), \\\n",
    "        columns = ['названия столбцов','кол-во пропусков', 'пропуски в %'])\n",
    "            .sort_values(by='кол-во пропусков', ascending=False).style.background_gradient('cool'))"
   ]
  },
  {
   "cell_type": "code",
   "execution_count": 4,
   "metadata": {
    "ExecuteTime": {
     "end_time": "2023-03-25T08:55:46.719705Z",
     "start_time": "2023-03-25T08:55:46.376964Z"
    },
    "scrolled": false
   },
   "outputs": [
    {
     "name": "stdout",
     "output_type": "stream",
     "text": [
      "\n",
      "Первые 5 строк датафрейма:\n"
     ]
    },
    {
     "data": {
      "text/html": [
       "<div>\n",
       "<style scoped>\n",
       "    .dataframe tbody tr th:only-of-type {\n",
       "        vertical-align: middle;\n",
       "    }\n",
       "\n",
       "    .dataframe tbody tr th {\n",
       "        vertical-align: top;\n",
       "    }\n",
       "\n",
       "    .dataframe thead th {\n",
       "        text-align: right;\n",
       "    }\n",
       "</style>\n",
       "<table border=\"1\" class=\"dataframe\">\n",
       "  <thead>\n",
       "    <tr style=\"text-align: right;\">\n",
       "      <th></th>\n",
       "      <th>date</th>\n",
       "      <th>final.output.concentrate_ag</th>\n",
       "      <th>final.output.concentrate_pb</th>\n",
       "      <th>final.output.concentrate_sol</th>\n",
       "      <th>final.output.concentrate_au</th>\n",
       "      <th>final.output.recovery</th>\n",
       "      <th>final.output.tail_ag</th>\n",
       "      <th>final.output.tail_pb</th>\n",
       "      <th>final.output.tail_sol</th>\n",
       "      <th>final.output.tail_au</th>\n",
       "      <th>primary_cleaner.input.sulfate</th>\n",
       "      <th>primary_cleaner.input.depressant</th>\n",
       "      <th>primary_cleaner.input.feed_size</th>\n",
       "      <th>primary_cleaner.input.xanthate</th>\n",
       "      <th>primary_cleaner.output.concentrate_ag</th>\n",
       "      <th>primary_cleaner.output.concentrate_pb</th>\n",
       "      <th>primary_cleaner.output.concentrate_sol</th>\n",
       "      <th>primary_cleaner.output.concentrate_au</th>\n",
       "      <th>primary_cleaner.output.tail_ag</th>\n",
       "      <th>primary_cleaner.output.tail_pb</th>\n",
       "      <th>primary_cleaner.output.tail_sol</th>\n",
       "      <th>primary_cleaner.output.tail_au</th>\n",
       "      <th>primary_cleaner.state.floatbank8_a_air</th>\n",
       "      <th>primary_cleaner.state.floatbank8_a_level</th>\n",
       "      <th>primary_cleaner.state.floatbank8_b_air</th>\n",
       "      <th>primary_cleaner.state.floatbank8_b_level</th>\n",
       "      <th>primary_cleaner.state.floatbank8_c_air</th>\n",
       "      <th>primary_cleaner.state.floatbank8_c_level</th>\n",
       "      <th>primary_cleaner.state.floatbank8_d_air</th>\n",
       "      <th>primary_cleaner.state.floatbank8_d_level</th>\n",
       "      <th>rougher.calculation.sulfate_to_au_concentrate</th>\n",
       "      <th>rougher.calculation.floatbank10_sulfate_to_au_feed</th>\n",
       "      <th>rougher.calculation.floatbank11_sulfate_to_au_feed</th>\n",
       "      <th>rougher.calculation.au_pb_ratio</th>\n",
       "      <th>rougher.input.feed_ag</th>\n",
       "      <th>rougher.input.feed_pb</th>\n",
       "      <th>rougher.input.feed_rate</th>\n",
       "      <th>rougher.input.feed_size</th>\n",
       "      <th>rougher.input.feed_sol</th>\n",
       "      <th>rougher.input.feed_au</th>\n",
       "      <th>rougher.input.floatbank10_sulfate</th>\n",
       "      <th>rougher.input.floatbank10_xanthate</th>\n",
       "      <th>rougher.input.floatbank11_sulfate</th>\n",
       "      <th>rougher.input.floatbank11_xanthate</th>\n",
       "      <th>rougher.output.concentrate_ag</th>\n",
       "      <th>rougher.output.concentrate_pb</th>\n",
       "      <th>rougher.output.concentrate_sol</th>\n",
       "      <th>rougher.output.concentrate_au</th>\n",
       "      <th>rougher.output.recovery</th>\n",
       "      <th>rougher.output.tail_ag</th>\n",
       "      <th>rougher.output.tail_pb</th>\n",
       "      <th>rougher.output.tail_sol</th>\n",
       "      <th>rougher.output.tail_au</th>\n",
       "      <th>rougher.state.floatbank10_a_air</th>\n",
       "      <th>rougher.state.floatbank10_a_level</th>\n",
       "      <th>rougher.state.floatbank10_b_air</th>\n",
       "      <th>rougher.state.floatbank10_b_level</th>\n",
       "      <th>rougher.state.floatbank10_c_air</th>\n",
       "      <th>rougher.state.floatbank10_c_level</th>\n",
       "      <th>rougher.state.floatbank10_d_air</th>\n",
       "      <th>rougher.state.floatbank10_d_level</th>\n",
       "      <th>rougher.state.floatbank10_e_air</th>\n",
       "      <th>rougher.state.floatbank10_e_level</th>\n",
       "      <th>rougher.state.floatbank10_f_air</th>\n",
       "      <th>rougher.state.floatbank10_f_level</th>\n",
       "      <th>secondary_cleaner.output.tail_ag</th>\n",
       "      <th>secondary_cleaner.output.tail_pb</th>\n",
       "      <th>secondary_cleaner.output.tail_sol</th>\n",
       "      <th>secondary_cleaner.output.tail_au</th>\n",
       "      <th>secondary_cleaner.state.floatbank2_a_air</th>\n",
       "      <th>secondary_cleaner.state.floatbank2_a_level</th>\n",
       "      <th>secondary_cleaner.state.floatbank2_b_air</th>\n",
       "      <th>secondary_cleaner.state.floatbank2_b_level</th>\n",
       "      <th>secondary_cleaner.state.floatbank3_a_air</th>\n",
       "      <th>secondary_cleaner.state.floatbank3_a_level</th>\n",
       "      <th>secondary_cleaner.state.floatbank3_b_air</th>\n",
       "      <th>secondary_cleaner.state.floatbank3_b_level</th>\n",
       "      <th>secondary_cleaner.state.floatbank4_a_air</th>\n",
       "      <th>secondary_cleaner.state.floatbank4_a_level</th>\n",
       "      <th>secondary_cleaner.state.floatbank4_b_air</th>\n",
       "      <th>secondary_cleaner.state.floatbank4_b_level</th>\n",
       "      <th>secondary_cleaner.state.floatbank5_a_air</th>\n",
       "      <th>secondary_cleaner.state.floatbank5_a_level</th>\n",
       "      <th>secondary_cleaner.state.floatbank5_b_air</th>\n",
       "      <th>secondary_cleaner.state.floatbank5_b_level</th>\n",
       "      <th>secondary_cleaner.state.floatbank6_a_air</th>\n",
       "      <th>secondary_cleaner.state.floatbank6_a_level</th>\n",
       "    </tr>\n",
       "  </thead>\n",
       "  <tbody>\n",
       "    <tr>\n",
       "      <th>0</th>\n",
       "      <td>2016-01-15 00:00:00</td>\n",
       "      <td>6.055403</td>\n",
       "      <td>9.889648</td>\n",
       "      <td>5.507324</td>\n",
       "      <td>42.192020</td>\n",
       "      <td>70.541216</td>\n",
       "      <td>10.411962</td>\n",
       "      <td>0.895447</td>\n",
       "      <td>16.904297</td>\n",
       "      <td>2.143149</td>\n",
       "      <td>127.092003</td>\n",
       "      <td>10.128295</td>\n",
       "      <td>7.25</td>\n",
       "      <td>0.988759</td>\n",
       "      <td>8.547551</td>\n",
       "      <td>10.389648</td>\n",
       "      <td>19.529297</td>\n",
       "      <td>34.174427</td>\n",
       "      <td>14.936526</td>\n",
       "      <td>2.534912</td>\n",
       "      <td>7.476074</td>\n",
       "      <td>2.106679</td>\n",
       "      <td>1549.775757</td>\n",
       "      <td>-498.912140</td>\n",
       "      <td>1551.434204</td>\n",
       "      <td>-516.403442</td>\n",
       "      <td>1549.873901</td>\n",
       "      <td>-498.666595</td>\n",
       "      <td>1554.367432</td>\n",
       "      <td>-493.428131</td>\n",
       "      <td>41885.707031</td>\n",
       "      <td>3481.779053</td>\n",
       "      <td>3520.337158</td>\n",
       "      <td>2.838687</td>\n",
       "      <td>6.100378</td>\n",
       "      <td>2.284912</td>\n",
       "      <td>523.546326</td>\n",
       "      <td>55.486599</td>\n",
       "      <td>36.808594</td>\n",
       "      <td>6.486150</td>\n",
       "      <td>11.986616</td>\n",
       "      <td>6.007990</td>\n",
       "      <td>11.836743</td>\n",
       "      <td>6.005818</td>\n",
       "      <td>11.500771</td>\n",
       "      <td>7.101074</td>\n",
       "      <td>28.029297</td>\n",
       "      <td>19.793808</td>\n",
       "      <td>87.107763</td>\n",
       "      <td>5.008018</td>\n",
       "      <td>0.508728</td>\n",
       "      <td>19.154297</td>\n",
       "      <td>1.170244</td>\n",
       "      <td>999.706909</td>\n",
       "      <td>-404.066986</td>\n",
       "      <td>1603.011353</td>\n",
       "      <td>-434.715027</td>\n",
       "      <td>1602.375000</td>\n",
       "      <td>-442.204468</td>\n",
       "      <td>1598.937256</td>\n",
       "      <td>-451.294128</td>\n",
       "      <td>1404.472046</td>\n",
       "      <td>-455.462982</td>\n",
       "      <td>1416.354980</td>\n",
       "      <td>-451.939636</td>\n",
       "      <td>14.500184</td>\n",
       "      <td>4.694824</td>\n",
       "      <td>8.764648</td>\n",
       "      <td>2.606185</td>\n",
       "      <td>25.853109</td>\n",
       "      <td>-498.526489</td>\n",
       "      <td>23.893660</td>\n",
       "      <td>-501.406281</td>\n",
       "      <td>23.961798</td>\n",
       "      <td>-495.262817</td>\n",
       "      <td>21.940409</td>\n",
       "      <td>-499.340973</td>\n",
       "      <td>14.016835</td>\n",
       "      <td>-502.488007</td>\n",
       "      <td>12.099931</td>\n",
       "      <td>-504.715942</td>\n",
       "      <td>9.925633</td>\n",
       "      <td>-498.310211</td>\n",
       "      <td>8.079666</td>\n",
       "      <td>-500.470978</td>\n",
       "      <td>14.151341</td>\n",
       "      <td>-605.841980</td>\n",
       "    </tr>\n",
       "    <tr>\n",
       "      <th>1</th>\n",
       "      <td>2016-01-15 01:00:00</td>\n",
       "      <td>6.029369</td>\n",
       "      <td>9.968944</td>\n",
       "      <td>5.257781</td>\n",
       "      <td>42.701629</td>\n",
       "      <td>69.266198</td>\n",
       "      <td>10.462676</td>\n",
       "      <td>0.927452</td>\n",
       "      <td>16.634514</td>\n",
       "      <td>2.224930</td>\n",
       "      <td>125.629232</td>\n",
       "      <td>10.296251</td>\n",
       "      <td>7.25</td>\n",
       "      <td>1.002663</td>\n",
       "      <td>8.558743</td>\n",
       "      <td>10.497069</td>\n",
       "      <td>19.369147</td>\n",
       "      <td>34.118526</td>\n",
       "      <td>16.250511</td>\n",
       "      <td>3.049646</td>\n",
       "      <td>6.733907</td>\n",
       "      <td>2.353017</td>\n",
       "      <td>1576.166671</td>\n",
       "      <td>-500.904965</td>\n",
       "      <td>1575.950626</td>\n",
       "      <td>-499.865889</td>\n",
       "      <td>1575.994189</td>\n",
       "      <td>-499.315107</td>\n",
       "      <td>1574.479259</td>\n",
       "      <td>-498.931665</td>\n",
       "      <td>42050.861809</td>\n",
       "      <td>3498.370979</td>\n",
       "      <td>3489.981857</td>\n",
       "      <td>2.858998</td>\n",
       "      <td>6.161113</td>\n",
       "      <td>2.266033</td>\n",
       "      <td>525.290581</td>\n",
       "      <td>57.278666</td>\n",
       "      <td>35.753385</td>\n",
       "      <td>6.478583</td>\n",
       "      <td>11.971193</td>\n",
       "      <td>6.005766</td>\n",
       "      <td>11.996163</td>\n",
       "      <td>6.012594</td>\n",
       "      <td>11.615865</td>\n",
       "      <td>7.278807</td>\n",
       "      <td>28.067063</td>\n",
       "      <td>20.050975</td>\n",
       "      <td>86.843261</td>\n",
       "      <td>4.955378</td>\n",
       "      <td>0.536689</td>\n",
       "      <td>18.965234</td>\n",
       "      <td>1.184827</td>\n",
       "      <td>1000.286398</td>\n",
       "      <td>-400.065196</td>\n",
       "      <td>1600.754587</td>\n",
       "      <td>-449.953435</td>\n",
       "      <td>1600.479580</td>\n",
       "      <td>-449.830646</td>\n",
       "      <td>1600.527589</td>\n",
       "      <td>-449.953649</td>\n",
       "      <td>1399.227084</td>\n",
       "      <td>-450.869848</td>\n",
       "      <td>1399.719514</td>\n",
       "      <td>-450.119001</td>\n",
       "      <td>14.265474</td>\n",
       "      <td>4.592547</td>\n",
       "      <td>9.001494</td>\n",
       "      <td>2.488248</td>\n",
       "      <td>25.880539</td>\n",
       "      <td>-499.989656</td>\n",
       "      <td>23.889530</td>\n",
       "      <td>-500.372428</td>\n",
       "      <td>23.970550</td>\n",
       "      <td>-500.085473</td>\n",
       "      <td>22.085714</td>\n",
       "      <td>-499.446897</td>\n",
       "      <td>13.992281</td>\n",
       "      <td>-505.503262</td>\n",
       "      <td>11.950531</td>\n",
       "      <td>-501.331529</td>\n",
       "      <td>10.039245</td>\n",
       "      <td>-500.169983</td>\n",
       "      <td>7.984757</td>\n",
       "      <td>-500.582168</td>\n",
       "      <td>13.998353</td>\n",
       "      <td>-599.787184</td>\n",
       "    </tr>\n",
       "    <tr>\n",
       "      <th>2</th>\n",
       "      <td>2016-01-15 02:00:00</td>\n",
       "      <td>6.055926</td>\n",
       "      <td>10.213995</td>\n",
       "      <td>5.383759</td>\n",
       "      <td>42.657501</td>\n",
       "      <td>68.116445</td>\n",
       "      <td>10.507046</td>\n",
       "      <td>0.953716</td>\n",
       "      <td>16.208849</td>\n",
       "      <td>2.257889</td>\n",
       "      <td>123.819808</td>\n",
       "      <td>11.316280</td>\n",
       "      <td>7.25</td>\n",
       "      <td>0.991265</td>\n",
       "      <td>8.603505</td>\n",
       "      <td>10.354494</td>\n",
       "      <td>19.167579</td>\n",
       "      <td>33.969464</td>\n",
       "      <td>16.491823</td>\n",
       "      <td>3.124664</td>\n",
       "      <td>6.471768</td>\n",
       "      <td>2.416800</td>\n",
       "      <td>1601.556163</td>\n",
       "      <td>-499.997791</td>\n",
       "      <td>1600.386685</td>\n",
       "      <td>-500.607762</td>\n",
       "      <td>1602.003542</td>\n",
       "      <td>-500.870069</td>\n",
       "      <td>1599.541515</td>\n",
       "      <td>-499.827444</td>\n",
       "      <td>42018.101184</td>\n",
       "      <td>3495.348910</td>\n",
       "      <td>3502.359819</td>\n",
       "      <td>2.945989</td>\n",
       "      <td>6.116455</td>\n",
       "      <td>2.159622</td>\n",
       "      <td>530.026610</td>\n",
       "      <td>57.510649</td>\n",
       "      <td>35.971630</td>\n",
       "      <td>6.362222</td>\n",
       "      <td>11.920603</td>\n",
       "      <td>6.197377</td>\n",
       "      <td>11.920305</td>\n",
       "      <td>6.204633</td>\n",
       "      <td>11.695753</td>\n",
       "      <td>7.216833</td>\n",
       "      <td>27.454037</td>\n",
       "      <td>19.737170</td>\n",
       "      <td>86.842308</td>\n",
       "      <td>4.843460</td>\n",
       "      <td>0.546416</td>\n",
       "      <td>18.808533</td>\n",
       "      <td>1.162562</td>\n",
       "      <td>999.719565</td>\n",
       "      <td>-400.074028</td>\n",
       "      <td>1599.337330</td>\n",
       "      <td>-450.008530</td>\n",
       "      <td>1599.672797</td>\n",
       "      <td>-449.954491</td>\n",
       "      <td>1599.849325</td>\n",
       "      <td>-449.954185</td>\n",
       "      <td>1399.180945</td>\n",
       "      <td>-449.937588</td>\n",
       "      <td>1400.316682</td>\n",
       "      <td>-450.527147</td>\n",
       "      <td>14.115662</td>\n",
       "      <td>4.624775</td>\n",
       "      <td>8.842896</td>\n",
       "      <td>2.458187</td>\n",
       "      <td>26.005245</td>\n",
       "      <td>-499.929616</td>\n",
       "      <td>23.886657</td>\n",
       "      <td>-499.951928</td>\n",
       "      <td>23.913535</td>\n",
       "      <td>-499.442343</td>\n",
       "      <td>23.957717</td>\n",
       "      <td>-499.901982</td>\n",
       "      <td>14.015015</td>\n",
       "      <td>-502.520901</td>\n",
       "      <td>11.912783</td>\n",
       "      <td>-501.133383</td>\n",
       "      <td>10.070913</td>\n",
       "      <td>-500.129135</td>\n",
       "      <td>8.013877</td>\n",
       "      <td>-500.517572</td>\n",
       "      <td>14.028663</td>\n",
       "      <td>-601.427363</td>\n",
       "    </tr>\n",
       "    <tr>\n",
       "      <th>3</th>\n",
       "      <td>2016-01-15 03:00:00</td>\n",
       "      <td>6.047977</td>\n",
       "      <td>9.977019</td>\n",
       "      <td>4.858634</td>\n",
       "      <td>42.689819</td>\n",
       "      <td>68.347543</td>\n",
       "      <td>10.422762</td>\n",
       "      <td>0.883763</td>\n",
       "      <td>16.532835</td>\n",
       "      <td>2.146849</td>\n",
       "      <td>122.270188</td>\n",
       "      <td>11.322140</td>\n",
       "      <td>7.25</td>\n",
       "      <td>0.996739</td>\n",
       "      <td>7.221879</td>\n",
       "      <td>8.496563</td>\n",
       "      <td>15.978538</td>\n",
       "      <td>28.260743</td>\n",
       "      <td>16.024359</td>\n",
       "      <td>2.960362</td>\n",
       "      <td>6.843791</td>\n",
       "      <td>2.262051</td>\n",
       "      <td>1599.968720</td>\n",
       "      <td>-500.951778</td>\n",
       "      <td>1600.659236</td>\n",
       "      <td>-499.677094</td>\n",
       "      <td>1600.304144</td>\n",
       "      <td>-500.727997</td>\n",
       "      <td>1600.449520</td>\n",
       "      <td>-500.052575</td>\n",
       "      <td>42029.447991</td>\n",
       "      <td>3498.578313</td>\n",
       "      <td>3499.162912</td>\n",
       "      <td>3.002340</td>\n",
       "      <td>6.043309</td>\n",
       "      <td>2.037807</td>\n",
       "      <td>542.590390</td>\n",
       "      <td>57.792734</td>\n",
       "      <td>36.862241</td>\n",
       "      <td>6.118189</td>\n",
       "      <td>11.630094</td>\n",
       "      <td>6.203177</td>\n",
       "      <td>11.692450</td>\n",
       "      <td>6.196578</td>\n",
       "      <td>11.915047</td>\n",
       "      <td>7.175616</td>\n",
       "      <td>27.341277</td>\n",
       "      <td>19.320810</td>\n",
       "      <td>87.226430</td>\n",
       "      <td>4.655288</td>\n",
       "      <td>0.542525</td>\n",
       "      <td>19.330200</td>\n",
       "      <td>1.079755</td>\n",
       "      <td>999.814770</td>\n",
       "      <td>-400.200179</td>\n",
       "      <td>1600.059442</td>\n",
       "      <td>-450.619948</td>\n",
       "      <td>1600.012842</td>\n",
       "      <td>-449.910497</td>\n",
       "      <td>1597.725177</td>\n",
       "      <td>-450.130127</td>\n",
       "      <td>1400.943157</td>\n",
       "      <td>-450.030142</td>\n",
       "      <td>1400.234743</td>\n",
       "      <td>-449.790835</td>\n",
       "      <td>13.732071</td>\n",
       "      <td>4.482453</td>\n",
       "      <td>9.122857</td>\n",
       "      <td>2.322062</td>\n",
       "      <td>25.942508</td>\n",
       "      <td>-499.176749</td>\n",
       "      <td>23.955516</td>\n",
       "      <td>-499.848796</td>\n",
       "      <td>23.966838</td>\n",
       "      <td>-500.008812</td>\n",
       "      <td>23.954443</td>\n",
       "      <td>-499.944710</td>\n",
       "      <td>14.036510</td>\n",
       "      <td>-500.857308</td>\n",
       "      <td>11.999550</td>\n",
       "      <td>-501.193686</td>\n",
       "      <td>9.970366</td>\n",
       "      <td>-499.201640</td>\n",
       "      <td>7.977324</td>\n",
       "      <td>-500.255908</td>\n",
       "      <td>14.005551</td>\n",
       "      <td>-599.996129</td>\n",
       "    </tr>\n",
       "    <tr>\n",
       "      <th>4</th>\n",
       "      <td>2016-01-15 04:00:00</td>\n",
       "      <td>6.148599</td>\n",
       "      <td>10.142511</td>\n",
       "      <td>4.939416</td>\n",
       "      <td>42.774141</td>\n",
       "      <td>66.927016</td>\n",
       "      <td>10.360302</td>\n",
       "      <td>0.792826</td>\n",
       "      <td>16.525686</td>\n",
       "      <td>2.055292</td>\n",
       "      <td>117.988169</td>\n",
       "      <td>11.913613</td>\n",
       "      <td>7.25</td>\n",
       "      <td>1.009869</td>\n",
       "      <td>9.089428</td>\n",
       "      <td>9.986786</td>\n",
       "      <td>19.199864</td>\n",
       "      <td>33.044932</td>\n",
       "      <td>16.480185</td>\n",
       "      <td>3.112100</td>\n",
       "      <td>6.550154</td>\n",
       "      <td>2.277073</td>\n",
       "      <td>1601.339707</td>\n",
       "      <td>-498.975456</td>\n",
       "      <td>1601.437854</td>\n",
       "      <td>-500.323246</td>\n",
       "      <td>1599.581894</td>\n",
       "      <td>-500.888152</td>\n",
       "      <td>1602.649541</td>\n",
       "      <td>-500.593010</td>\n",
       "      <td>42125.354245</td>\n",
       "      <td>3494.800771</td>\n",
       "      <td>3506.679315</td>\n",
       "      <td>3.169615</td>\n",
       "      <td>6.060915</td>\n",
       "      <td>1.786875</td>\n",
       "      <td>540.531893</td>\n",
       "      <td>56.047189</td>\n",
       "      <td>34.347666</td>\n",
       "      <td>5.663707</td>\n",
       "      <td>10.957755</td>\n",
       "      <td>6.198826</td>\n",
       "      <td>10.960521</td>\n",
       "      <td>6.194897</td>\n",
       "      <td>12.411054</td>\n",
       "      <td>7.240205</td>\n",
       "      <td>27.041023</td>\n",
       "      <td>19.216101</td>\n",
       "      <td>86.688794</td>\n",
       "      <td>4.552800</td>\n",
       "      <td>0.515438</td>\n",
       "      <td>19.267422</td>\n",
       "      <td>1.012642</td>\n",
       "      <td>999.678690</td>\n",
       "      <td>-399.752729</td>\n",
       "      <td>1600.208824</td>\n",
       "      <td>-449.599614</td>\n",
       "      <td>1600.357732</td>\n",
       "      <td>-450.034364</td>\n",
       "      <td>1599.759049</td>\n",
       "      <td>-449.909799</td>\n",
       "      <td>1401.560902</td>\n",
       "      <td>-448.877187</td>\n",
       "      <td>1401.160227</td>\n",
       "      <td>-450.407128</td>\n",
       "      <td>14.079996</td>\n",
       "      <td>4.470737</td>\n",
       "      <td>8.871028</td>\n",
       "      <td>2.330448</td>\n",
       "      <td>26.024787</td>\n",
       "      <td>-500.279091</td>\n",
       "      <td>23.955345</td>\n",
       "      <td>-500.593614</td>\n",
       "      <td>23.985703</td>\n",
       "      <td>-500.083811</td>\n",
       "      <td>23.958945</td>\n",
       "      <td>-499.990309</td>\n",
       "      <td>14.027298</td>\n",
       "      <td>-499.838632</td>\n",
       "      <td>11.953070</td>\n",
       "      <td>-501.053894</td>\n",
       "      <td>9.925709</td>\n",
       "      <td>-501.686727</td>\n",
       "      <td>7.894242</td>\n",
       "      <td>-500.356035</td>\n",
       "      <td>13.996647</td>\n",
       "      <td>-601.496691</td>\n",
       "    </tr>\n",
       "  </tbody>\n",
       "</table>\n",
       "</div>"
      ],
      "text/plain": [
       "                 date  final.output.concentrate_ag  \\\n",
       "0 2016-01-15 00:00:00                     6.055403   \n",
       "1 2016-01-15 01:00:00                     6.029369   \n",
       "2 2016-01-15 02:00:00                     6.055926   \n",
       "3 2016-01-15 03:00:00                     6.047977   \n",
       "4 2016-01-15 04:00:00                     6.148599   \n",
       "\n",
       "   final.output.concentrate_pb  final.output.concentrate_sol  \\\n",
       "0                     9.889648                      5.507324   \n",
       "1                     9.968944                      5.257781   \n",
       "2                    10.213995                      5.383759   \n",
       "3                     9.977019                      4.858634   \n",
       "4                    10.142511                      4.939416   \n",
       "\n",
       "   final.output.concentrate_au  final.output.recovery  final.output.tail_ag  \\\n",
       "0                    42.192020              70.541216             10.411962   \n",
       "1                    42.701629              69.266198             10.462676   \n",
       "2                    42.657501              68.116445             10.507046   \n",
       "3                    42.689819              68.347543             10.422762   \n",
       "4                    42.774141              66.927016             10.360302   \n",
       "\n",
       "   final.output.tail_pb  final.output.tail_sol  final.output.tail_au  \\\n",
       "0              0.895447              16.904297              2.143149   \n",
       "1              0.927452              16.634514              2.224930   \n",
       "2              0.953716              16.208849              2.257889   \n",
       "3              0.883763              16.532835              2.146849   \n",
       "4              0.792826              16.525686              2.055292   \n",
       "\n",
       "   primary_cleaner.input.sulfate  primary_cleaner.input.depressant  \\\n",
       "0                     127.092003                         10.128295   \n",
       "1                     125.629232                         10.296251   \n",
       "2                     123.819808                         11.316280   \n",
       "3                     122.270188                         11.322140   \n",
       "4                     117.988169                         11.913613   \n",
       "\n",
       "   primary_cleaner.input.feed_size  primary_cleaner.input.xanthate  \\\n",
       "0                             7.25                        0.988759   \n",
       "1                             7.25                        1.002663   \n",
       "2                             7.25                        0.991265   \n",
       "3                             7.25                        0.996739   \n",
       "4                             7.25                        1.009869   \n",
       "\n",
       "   primary_cleaner.output.concentrate_ag  \\\n",
       "0                               8.547551   \n",
       "1                               8.558743   \n",
       "2                               8.603505   \n",
       "3                               7.221879   \n",
       "4                               9.089428   \n",
       "\n",
       "   primary_cleaner.output.concentrate_pb  \\\n",
       "0                              10.389648   \n",
       "1                              10.497069   \n",
       "2                              10.354494   \n",
       "3                               8.496563   \n",
       "4                               9.986786   \n",
       "\n",
       "   primary_cleaner.output.concentrate_sol  \\\n",
       "0                               19.529297   \n",
       "1                               19.369147   \n",
       "2                               19.167579   \n",
       "3                               15.978538   \n",
       "4                               19.199864   \n",
       "\n",
       "   primary_cleaner.output.concentrate_au  primary_cleaner.output.tail_ag  \\\n",
       "0                              34.174427                       14.936526   \n",
       "1                              34.118526                       16.250511   \n",
       "2                              33.969464                       16.491823   \n",
       "3                              28.260743                       16.024359   \n",
       "4                              33.044932                       16.480185   \n",
       "\n",
       "   primary_cleaner.output.tail_pb  primary_cleaner.output.tail_sol  \\\n",
       "0                        2.534912                         7.476074   \n",
       "1                        3.049646                         6.733907   \n",
       "2                        3.124664                         6.471768   \n",
       "3                        2.960362                         6.843791   \n",
       "4                        3.112100                         6.550154   \n",
       "\n",
       "   primary_cleaner.output.tail_au  primary_cleaner.state.floatbank8_a_air  \\\n",
       "0                        2.106679                             1549.775757   \n",
       "1                        2.353017                             1576.166671   \n",
       "2                        2.416800                             1601.556163   \n",
       "3                        2.262051                             1599.968720   \n",
       "4                        2.277073                             1601.339707   \n",
       "\n",
       "   primary_cleaner.state.floatbank8_a_level  \\\n",
       "0                               -498.912140   \n",
       "1                               -500.904965   \n",
       "2                               -499.997791   \n",
       "3                               -500.951778   \n",
       "4                               -498.975456   \n",
       "\n",
       "   primary_cleaner.state.floatbank8_b_air  \\\n",
       "0                             1551.434204   \n",
       "1                             1575.950626   \n",
       "2                             1600.386685   \n",
       "3                             1600.659236   \n",
       "4                             1601.437854   \n",
       "\n",
       "   primary_cleaner.state.floatbank8_b_level  \\\n",
       "0                               -516.403442   \n",
       "1                               -499.865889   \n",
       "2                               -500.607762   \n",
       "3                               -499.677094   \n",
       "4                               -500.323246   \n",
       "\n",
       "   primary_cleaner.state.floatbank8_c_air  \\\n",
       "0                             1549.873901   \n",
       "1                             1575.994189   \n",
       "2                             1602.003542   \n",
       "3                             1600.304144   \n",
       "4                             1599.581894   \n",
       "\n",
       "   primary_cleaner.state.floatbank8_c_level  \\\n",
       "0                               -498.666595   \n",
       "1                               -499.315107   \n",
       "2                               -500.870069   \n",
       "3                               -500.727997   \n",
       "4                               -500.888152   \n",
       "\n",
       "   primary_cleaner.state.floatbank8_d_air  \\\n",
       "0                             1554.367432   \n",
       "1                             1574.479259   \n",
       "2                             1599.541515   \n",
       "3                             1600.449520   \n",
       "4                             1602.649541   \n",
       "\n",
       "   primary_cleaner.state.floatbank8_d_level  \\\n",
       "0                               -493.428131   \n",
       "1                               -498.931665   \n",
       "2                               -499.827444   \n",
       "3                               -500.052575   \n",
       "4                               -500.593010   \n",
       "\n",
       "   rougher.calculation.sulfate_to_au_concentrate  \\\n",
       "0                                   41885.707031   \n",
       "1                                   42050.861809   \n",
       "2                                   42018.101184   \n",
       "3                                   42029.447991   \n",
       "4                                   42125.354245   \n",
       "\n",
       "   rougher.calculation.floatbank10_sulfate_to_au_feed  \\\n",
       "0                                        3481.779053    \n",
       "1                                        3498.370979    \n",
       "2                                        3495.348910    \n",
       "3                                        3498.578313    \n",
       "4                                        3494.800771    \n",
       "\n",
       "   rougher.calculation.floatbank11_sulfate_to_au_feed  \\\n",
       "0                                        3520.337158    \n",
       "1                                        3489.981857    \n",
       "2                                        3502.359819    \n",
       "3                                        3499.162912    \n",
       "4                                        3506.679315    \n",
       "\n",
       "   rougher.calculation.au_pb_ratio  rougher.input.feed_ag  \\\n",
       "0                         2.838687               6.100378   \n",
       "1                         2.858998               6.161113   \n",
       "2                         2.945989               6.116455   \n",
       "3                         3.002340               6.043309   \n",
       "4                         3.169615               6.060915   \n",
       "\n",
       "   rougher.input.feed_pb  rougher.input.feed_rate  rougher.input.feed_size  \\\n",
       "0               2.284912               523.546326                55.486599   \n",
       "1               2.266033               525.290581                57.278666   \n",
       "2               2.159622               530.026610                57.510649   \n",
       "3               2.037807               542.590390                57.792734   \n",
       "4               1.786875               540.531893                56.047189   \n",
       "\n",
       "   rougher.input.feed_sol  rougher.input.feed_au  \\\n",
       "0               36.808594               6.486150   \n",
       "1               35.753385               6.478583   \n",
       "2               35.971630               6.362222   \n",
       "3               36.862241               6.118189   \n",
       "4               34.347666               5.663707   \n",
       "\n",
       "   rougher.input.floatbank10_sulfate  rougher.input.floatbank10_xanthate  \\\n",
       "0                          11.986616                            6.007990   \n",
       "1                          11.971193                            6.005766   \n",
       "2                          11.920603                            6.197377   \n",
       "3                          11.630094                            6.203177   \n",
       "4                          10.957755                            6.198826   \n",
       "\n",
       "   rougher.input.floatbank11_sulfate  rougher.input.floatbank11_xanthate  \\\n",
       "0                          11.836743                            6.005818   \n",
       "1                          11.996163                            6.012594   \n",
       "2                          11.920305                            6.204633   \n",
       "3                          11.692450                            6.196578   \n",
       "4                          10.960521                            6.194897   \n",
       "\n",
       "   rougher.output.concentrate_ag  rougher.output.concentrate_pb  \\\n",
       "0                      11.500771                       7.101074   \n",
       "1                      11.615865                       7.278807   \n",
       "2                      11.695753                       7.216833   \n",
       "3                      11.915047                       7.175616   \n",
       "4                      12.411054                       7.240205   \n",
       "\n",
       "   rougher.output.concentrate_sol  rougher.output.concentrate_au  \\\n",
       "0                       28.029297                      19.793808   \n",
       "1                       28.067063                      20.050975   \n",
       "2                       27.454037                      19.737170   \n",
       "3                       27.341277                      19.320810   \n",
       "4                       27.041023                      19.216101   \n",
       "\n",
       "   rougher.output.recovery  rougher.output.tail_ag  rougher.output.tail_pb  \\\n",
       "0                87.107763                5.008018                0.508728   \n",
       "1                86.843261                4.955378                0.536689   \n",
       "2                86.842308                4.843460                0.546416   \n",
       "3                87.226430                4.655288                0.542525   \n",
       "4                86.688794                4.552800                0.515438   \n",
       "\n",
       "   rougher.output.tail_sol  rougher.output.tail_au  \\\n",
       "0                19.154297                1.170244   \n",
       "1                18.965234                1.184827   \n",
       "2                18.808533                1.162562   \n",
       "3                19.330200                1.079755   \n",
       "4                19.267422                1.012642   \n",
       "\n",
       "   rougher.state.floatbank10_a_air  rougher.state.floatbank10_a_level  \\\n",
       "0                       999.706909                        -404.066986   \n",
       "1                      1000.286398                        -400.065196   \n",
       "2                       999.719565                        -400.074028   \n",
       "3                       999.814770                        -400.200179   \n",
       "4                       999.678690                        -399.752729   \n",
       "\n",
       "   rougher.state.floatbank10_b_air  rougher.state.floatbank10_b_level  \\\n",
       "0                      1603.011353                        -434.715027   \n",
       "1                      1600.754587                        -449.953435   \n",
       "2                      1599.337330                        -450.008530   \n",
       "3                      1600.059442                        -450.619948   \n",
       "4                      1600.208824                        -449.599614   \n",
       "\n",
       "   rougher.state.floatbank10_c_air  rougher.state.floatbank10_c_level  \\\n",
       "0                      1602.375000                        -442.204468   \n",
       "1                      1600.479580                        -449.830646   \n",
       "2                      1599.672797                        -449.954491   \n",
       "3                      1600.012842                        -449.910497   \n",
       "4                      1600.357732                        -450.034364   \n",
       "\n",
       "   rougher.state.floatbank10_d_air  rougher.state.floatbank10_d_level  \\\n",
       "0                      1598.937256                        -451.294128   \n",
       "1                      1600.527589                        -449.953649   \n",
       "2                      1599.849325                        -449.954185   \n",
       "3                      1597.725177                        -450.130127   \n",
       "4                      1599.759049                        -449.909799   \n",
       "\n",
       "   rougher.state.floatbank10_e_air  rougher.state.floatbank10_e_level  \\\n",
       "0                      1404.472046                        -455.462982   \n",
       "1                      1399.227084                        -450.869848   \n",
       "2                      1399.180945                        -449.937588   \n",
       "3                      1400.943157                        -450.030142   \n",
       "4                      1401.560902                        -448.877187   \n",
       "\n",
       "   rougher.state.floatbank10_f_air  rougher.state.floatbank10_f_level  \\\n",
       "0                      1416.354980                        -451.939636   \n",
       "1                      1399.719514                        -450.119001   \n",
       "2                      1400.316682                        -450.527147   \n",
       "3                      1400.234743                        -449.790835   \n",
       "4                      1401.160227                        -450.407128   \n",
       "\n",
       "   secondary_cleaner.output.tail_ag  secondary_cleaner.output.tail_pb  \\\n",
       "0                         14.500184                          4.694824   \n",
       "1                         14.265474                          4.592547   \n",
       "2                         14.115662                          4.624775   \n",
       "3                         13.732071                          4.482453   \n",
       "4                         14.079996                          4.470737   \n",
       "\n",
       "   secondary_cleaner.output.tail_sol  secondary_cleaner.output.tail_au  \\\n",
       "0                           8.764648                          2.606185   \n",
       "1                           9.001494                          2.488248   \n",
       "2                           8.842896                          2.458187   \n",
       "3                           9.122857                          2.322062   \n",
       "4                           8.871028                          2.330448   \n",
       "\n",
       "   secondary_cleaner.state.floatbank2_a_air  \\\n",
       "0                                 25.853109   \n",
       "1                                 25.880539   \n",
       "2                                 26.005245   \n",
       "3                                 25.942508   \n",
       "4                                 26.024787   \n",
       "\n",
       "   secondary_cleaner.state.floatbank2_a_level  \\\n",
       "0                                 -498.526489   \n",
       "1                                 -499.989656   \n",
       "2                                 -499.929616   \n",
       "3                                 -499.176749   \n",
       "4                                 -500.279091   \n",
       "\n",
       "   secondary_cleaner.state.floatbank2_b_air  \\\n",
       "0                                 23.893660   \n",
       "1                                 23.889530   \n",
       "2                                 23.886657   \n",
       "3                                 23.955516   \n",
       "4                                 23.955345   \n",
       "\n",
       "   secondary_cleaner.state.floatbank2_b_level  \\\n",
       "0                                 -501.406281   \n",
       "1                                 -500.372428   \n",
       "2                                 -499.951928   \n",
       "3                                 -499.848796   \n",
       "4                                 -500.593614   \n",
       "\n",
       "   secondary_cleaner.state.floatbank3_a_air  \\\n",
       "0                                 23.961798   \n",
       "1                                 23.970550   \n",
       "2                                 23.913535   \n",
       "3                                 23.966838   \n",
       "4                                 23.985703   \n",
       "\n",
       "   secondary_cleaner.state.floatbank3_a_level  \\\n",
       "0                                 -495.262817   \n",
       "1                                 -500.085473   \n",
       "2                                 -499.442343   \n",
       "3                                 -500.008812   \n",
       "4                                 -500.083811   \n",
       "\n",
       "   secondary_cleaner.state.floatbank3_b_air  \\\n",
       "0                                 21.940409   \n",
       "1                                 22.085714   \n",
       "2                                 23.957717   \n",
       "3                                 23.954443   \n",
       "4                                 23.958945   \n",
       "\n",
       "   secondary_cleaner.state.floatbank3_b_level  \\\n",
       "0                                 -499.340973   \n",
       "1                                 -499.446897   \n",
       "2                                 -499.901982   \n",
       "3                                 -499.944710   \n",
       "4                                 -499.990309   \n",
       "\n",
       "   secondary_cleaner.state.floatbank4_a_air  \\\n",
       "0                                 14.016835   \n",
       "1                                 13.992281   \n",
       "2                                 14.015015   \n",
       "3                                 14.036510   \n",
       "4                                 14.027298   \n",
       "\n",
       "   secondary_cleaner.state.floatbank4_a_level  \\\n",
       "0                                 -502.488007   \n",
       "1                                 -505.503262   \n",
       "2                                 -502.520901   \n",
       "3                                 -500.857308   \n",
       "4                                 -499.838632   \n",
       "\n",
       "   secondary_cleaner.state.floatbank4_b_air  \\\n",
       "0                                 12.099931   \n",
       "1                                 11.950531   \n",
       "2                                 11.912783   \n",
       "3                                 11.999550   \n",
       "4                                 11.953070   \n",
       "\n",
       "   secondary_cleaner.state.floatbank4_b_level  \\\n",
       "0                                 -504.715942   \n",
       "1                                 -501.331529   \n",
       "2                                 -501.133383   \n",
       "3                                 -501.193686   \n",
       "4                                 -501.053894   \n",
       "\n",
       "   secondary_cleaner.state.floatbank5_a_air  \\\n",
       "0                                  9.925633   \n",
       "1                                 10.039245   \n",
       "2                                 10.070913   \n",
       "3                                  9.970366   \n",
       "4                                  9.925709   \n",
       "\n",
       "   secondary_cleaner.state.floatbank5_a_level  \\\n",
       "0                                 -498.310211   \n",
       "1                                 -500.169983   \n",
       "2                                 -500.129135   \n",
       "3                                 -499.201640   \n",
       "4                                 -501.686727   \n",
       "\n",
       "   secondary_cleaner.state.floatbank5_b_air  \\\n",
       "0                                  8.079666   \n",
       "1                                  7.984757   \n",
       "2                                  8.013877   \n",
       "3                                  7.977324   \n",
       "4                                  7.894242   \n",
       "\n",
       "   secondary_cleaner.state.floatbank5_b_level  \\\n",
       "0                                 -500.470978   \n",
       "1                                 -500.582168   \n",
       "2                                 -500.517572   \n",
       "3                                 -500.255908   \n",
       "4                                 -500.356035   \n",
       "\n",
       "   secondary_cleaner.state.floatbank6_a_air  \\\n",
       "0                                 14.151341   \n",
       "1                                 13.998353   \n",
       "2                                 14.028663   \n",
       "3                                 14.005551   \n",
       "4                                 13.996647   \n",
       "\n",
       "   secondary_cleaner.state.floatbank6_a_level  \n",
       "0                                 -605.841980  \n",
       "1                                 -599.787184  \n",
       "2                                 -601.427363  \n",
       "3                                 -599.996129  \n",
       "4                                 -601.496691  "
      ]
     },
     "metadata": {},
     "output_type": "display_data"
    },
    {
     "name": "stdout",
     "output_type": "stream",
     "text": [
      "\n",
      "Основная информация о датафрейме с помощью метода info():\n",
      "\n",
      "<class 'pandas.core.frame.DataFrame'>\n",
      "RangeIndex: 14149 entries, 0 to 14148\n",
      "Data columns (total 87 columns):\n",
      " #   Column                                              Non-Null Count  Dtype         \n",
      "---  ------                                              --------------  -----         \n",
      " 0   date                                                14149 non-null  datetime64[ns]\n",
      " 1   final.output.concentrate_ag                         14148 non-null  float64       \n",
      " 2   final.output.concentrate_pb                         14148 non-null  float64       \n",
      " 3   final.output.concentrate_sol                        13938 non-null  float64       \n",
      " 4   final.output.concentrate_au                         14149 non-null  float64       \n",
      " 5   final.output.recovery                               14149 non-null  float64       \n",
      " 6   final.output.tail_ag                                14149 non-null  float64       \n",
      " 7   final.output.tail_pb                                14049 non-null  float64       \n",
      " 8   final.output.tail_sol                               14144 non-null  float64       \n",
      " 9   final.output.tail_au                                14149 non-null  float64       \n",
      " 10  primary_cleaner.input.sulfate                       14129 non-null  float64       \n",
      " 11  primary_cleaner.input.depressant                    14117 non-null  float64       \n",
      " 12  primary_cleaner.input.feed_size                     14149 non-null  float64       \n",
      " 13  primary_cleaner.input.xanthate                      14049 non-null  float64       \n",
      " 14  primary_cleaner.output.concentrate_ag               14149 non-null  float64       \n",
      " 15  primary_cleaner.output.concentrate_pb               14063 non-null  float64       \n",
      " 16  primary_cleaner.output.concentrate_sol              13863 non-null  float64       \n",
      " 17  primary_cleaner.output.concentrate_au               14149 non-null  float64       \n",
      " 18  primary_cleaner.output.tail_ag                      14148 non-null  float64       \n",
      " 19  primary_cleaner.output.tail_pb                      14134 non-null  float64       \n",
      " 20  primary_cleaner.output.tail_sol                     14103 non-null  float64       \n",
      " 21  primary_cleaner.output.tail_au                      14149 non-null  float64       \n",
      " 22  primary_cleaner.state.floatbank8_a_air              14145 non-null  float64       \n",
      " 23  primary_cleaner.state.floatbank8_a_level            14148 non-null  float64       \n",
      " 24  primary_cleaner.state.floatbank8_b_air              14145 non-null  float64       \n",
      " 25  primary_cleaner.state.floatbank8_b_level            14148 non-null  float64       \n",
      " 26  primary_cleaner.state.floatbank8_c_air              14147 non-null  float64       \n",
      " 27  primary_cleaner.state.floatbank8_c_level            14148 non-null  float64       \n",
      " 28  primary_cleaner.state.floatbank8_d_air              14146 non-null  float64       \n",
      " 29  primary_cleaner.state.floatbank8_d_level            14148 non-null  float64       \n",
      " 30  rougher.calculation.sulfate_to_au_concentrate       14148 non-null  float64       \n",
      " 31  rougher.calculation.floatbank10_sulfate_to_au_feed  14148 non-null  float64       \n",
      " 32  rougher.calculation.floatbank11_sulfate_to_au_feed  14148 non-null  float64       \n",
      " 33  rougher.calculation.au_pb_ratio                     14149 non-null  float64       \n",
      " 34  rougher.input.feed_ag                               14149 non-null  float64       \n",
      " 35  rougher.input.feed_pb                               14049 non-null  float64       \n",
      " 36  rougher.input.feed_rate                             14141 non-null  float64       \n",
      " 37  rougher.input.feed_size                             14005 non-null  float64       \n",
      " 38  rougher.input.feed_sol                              14071 non-null  float64       \n",
      " 39  rougher.input.feed_au                               14149 non-null  float64       \n",
      " 40  rougher.input.floatbank10_sulfate                   14120 non-null  float64       \n",
      " 41  rougher.input.floatbank10_xanthate                  14141 non-null  float64       \n",
      " 42  rougher.input.floatbank11_sulfate                   14113 non-null  float64       \n",
      " 43  rougher.input.floatbank11_xanthate                  13721 non-null  float64       \n",
      " 44  rougher.output.concentrate_ag                       14149 non-null  float64       \n",
      " 45  rougher.output.concentrate_pb                       14149 non-null  float64       \n",
      " 46  rougher.output.concentrate_sol                      14127 non-null  float64       \n",
      " 47  rougher.output.concentrate_au                       14149 non-null  float64       \n",
      " 48  rougher.output.recovery                             14149 non-null  float64       \n",
      " 49  rougher.output.tail_ag                              14148 non-null  float64       \n",
      " 50  rougher.output.tail_pb                              14149 non-null  float64       \n",
      " 51  rougher.output.tail_sol                             14149 non-null  float64       \n",
      " 52  rougher.output.tail_au                              14149 non-null  float64       \n",
      " 53  rougher.state.floatbank10_a_air                     14148 non-null  float64       \n",
      " 54  rougher.state.floatbank10_a_level                   14148 non-null  float64       \n",
      " 55  rougher.state.floatbank10_b_air                     14148 non-null  float64       \n",
      " 56  rougher.state.floatbank10_b_level                   14148 non-null  float64       \n",
      " 57  rougher.state.floatbank10_c_air                     14148 non-null  float64       \n",
      " 58  rougher.state.floatbank10_c_level                   14148 non-null  float64       \n",
      " 59  rougher.state.floatbank10_d_air                     14149 non-null  float64       \n",
      " 60  rougher.state.floatbank10_d_level                   14149 non-null  float64       \n",
      " 61  rougher.state.floatbank10_e_air                     13713 non-null  float64       \n",
      " 62  rougher.state.floatbank10_e_level                   14149 non-null  float64       \n",
      " 63  rougher.state.floatbank10_f_air                     14149 non-null  float64       \n",
      " 64  rougher.state.floatbank10_f_level                   14149 non-null  float64       \n",
      " 65  secondary_cleaner.output.tail_ag                    14147 non-null  float64       \n",
      " 66  secondary_cleaner.output.tail_pb                    14139 non-null  float64       \n",
      " 67  secondary_cleaner.output.tail_sol                   12544 non-null  float64       \n",
      " 68  secondary_cleaner.output.tail_au                    14149 non-null  float64       \n",
      " 69  secondary_cleaner.state.floatbank2_a_air            13932 non-null  float64       \n",
      " 70  secondary_cleaner.state.floatbank2_a_level          14148 non-null  float64       \n",
      " 71  secondary_cleaner.state.floatbank2_b_air            14128 non-null  float64       \n",
      " 72  secondary_cleaner.state.floatbank2_b_level          14148 non-null  float64       \n",
      " 73  secondary_cleaner.state.floatbank3_a_air            14145 non-null  float64       \n",
      " 74  secondary_cleaner.state.floatbank3_a_level          14148 non-null  float64       \n",
      " 75  secondary_cleaner.state.floatbank3_b_air            14148 non-null  float64       \n",
      " 76  secondary_cleaner.state.floatbank3_b_level          14148 non-null  float64       \n",
      " 77  secondary_cleaner.state.floatbank4_a_air            14143 non-null  float64       \n",
      " 78  secondary_cleaner.state.floatbank4_a_level          14148 non-null  float64       \n",
      " 79  secondary_cleaner.state.floatbank4_b_air            14148 non-null  float64       \n",
      " 80  secondary_cleaner.state.floatbank4_b_level          14148 non-null  float64       \n",
      " 81  secondary_cleaner.state.floatbank5_a_air            14148 non-null  float64       \n",
      " 82  secondary_cleaner.state.floatbank5_a_level          14148 non-null  float64       \n",
      " 83  secondary_cleaner.state.floatbank5_b_air            14148 non-null  float64       \n",
      " 84  secondary_cleaner.state.floatbank5_b_level          14148 non-null  float64       \n",
      " 85  secondary_cleaner.state.floatbank6_a_air            14147 non-null  float64       \n",
      " 86  secondary_cleaner.state.floatbank6_a_level          14148 non-null  float64       \n",
      "dtypes: datetime64[ns](1), float64(86)\n",
      "memory usage: 9.4 MB\n",
      "None\n",
      "\n",
      "Количество явных дубликатов: 0\n"
     ]
    },
    {
     "data": {
      "text/html": [
       "<style  type=\"text/css\" >\n",
       "#T_7add9_row0_col1,#T_7add9_row0_col2{\n",
       "            background-color:  #ff00ff;\n",
       "            color:  #f1f1f1;\n",
       "        }#T_7add9_row1_col1,#T_7add9_row1_col2{\n",
       "            background-color:  #45baff;\n",
       "            color:  #000000;\n",
       "        }#T_7add9_row2_col1,#T_7add9_row2_col2{\n",
       "            background-color:  #44bbff;\n",
       "            color:  #000000;\n",
       "        }#T_7add9_row3_col1,#T_7add9_row3_col2{\n",
       "            background-color:  #2dd2ff;\n",
       "            color:  #000000;\n",
       "        }#T_7add9_row4_col1,#T_7add9_row4_col2{\n",
       "            background-color:  #22ddff;\n",
       "            color:  #000000;\n",
       "        }#T_7add9_row5_col1,#T_7add9_row5_col2{\n",
       "            background-color:  #21deff;\n",
       "            color:  #000000;\n",
       "        }#T_7add9_row6_col1,#T_7add9_row6_col2{\n",
       "            background-color:  #16e9ff;\n",
       "            color:  #000000;\n",
       "        }#T_7add9_row7_col1,#T_7add9_row7_col2,#T_7add9_row8_col1,#T_7add9_row8_col2,#T_7add9_row9_col1,#T_7add9_row9_col2{\n",
       "            background-color:  #0ff0ff;\n",
       "            color:  #000000;\n",
       "        }#T_7add9_row10_col1,#T_7add9_row10_col2{\n",
       "            background-color:  #0df2ff;\n",
       "            color:  #000000;\n",
       "        }#T_7add9_row11_col1,#T_7add9_row11_col2{\n",
       "            background-color:  #0cf3ff;\n",
       "            color:  #000000;\n",
       "        }#T_7add9_row12_col1,#T_7add9_row12_col2{\n",
       "            background-color:  #07f8ff;\n",
       "            color:  #000000;\n",
       "        }#T_7add9_row13_col1,#T_7add9_row13_col2,#T_7add9_row14_col1,#T_7add9_row14_col2{\n",
       "            background-color:  #05faff;\n",
       "            color:  #000000;\n",
       "        }#T_7add9_row15_col1,#T_7add9_row15_col2{\n",
       "            background-color:  #04fbff;\n",
       "            color:  #000000;\n",
       "        }#T_7add9_row16_col1,#T_7add9_row16_col2,#T_7add9_row17_col1,#T_7add9_row17_col2,#T_7add9_row18_col1,#T_7add9_row18_col2{\n",
       "            background-color:  #03fcff;\n",
       "            color:  #000000;\n",
       "        }#T_7add9_row19_col1,#T_7add9_row19_col2{\n",
       "            background-color:  #02fdff;\n",
       "            color:  #000000;\n",
       "        }#T_7add9_row20_col1,#T_7add9_row20_col2,#T_7add9_row21_col1,#T_7add9_row21_col2,#T_7add9_row22_col1,#T_7add9_row22_col2{\n",
       "            background-color:  #01feff;\n",
       "            color:  #000000;\n",
       "        }#T_7add9_row23_col1,#T_7add9_row23_col2,#T_7add9_row24_col1,#T_7add9_row24_col2,#T_7add9_row25_col1,#T_7add9_row25_col2,#T_7add9_row26_col1,#T_7add9_row26_col2,#T_7add9_row27_col1,#T_7add9_row27_col2,#T_7add9_row28_col1,#T_7add9_row28_col2,#T_7add9_row29_col1,#T_7add9_row29_col2,#T_7add9_row30_col1,#T_7add9_row30_col2,#T_7add9_row31_col1,#T_7add9_row31_col2,#T_7add9_row32_col1,#T_7add9_row32_col2,#T_7add9_row33_col1,#T_7add9_row33_col2,#T_7add9_row34_col1,#T_7add9_row34_col2,#T_7add9_row35_col1,#T_7add9_row35_col2,#T_7add9_row36_col1,#T_7add9_row36_col2,#T_7add9_row37_col1,#T_7add9_row37_col2,#T_7add9_row38_col1,#T_7add9_row38_col2,#T_7add9_row39_col1,#T_7add9_row39_col2,#T_7add9_row40_col1,#T_7add9_row40_col2,#T_7add9_row41_col1,#T_7add9_row41_col2,#T_7add9_row42_col1,#T_7add9_row42_col2,#T_7add9_row43_col1,#T_7add9_row43_col2,#T_7add9_row44_col1,#T_7add9_row44_col2,#T_7add9_row45_col1,#T_7add9_row45_col2,#T_7add9_row46_col1,#T_7add9_row46_col2,#T_7add9_row47_col1,#T_7add9_row47_col2,#T_7add9_row48_col1,#T_7add9_row48_col2,#T_7add9_row49_col1,#T_7add9_row49_col2,#T_7add9_row50_col1,#T_7add9_row50_col2,#T_7add9_row51_col1,#T_7add9_row51_col2,#T_7add9_row52_col1,#T_7add9_row52_col2,#T_7add9_row53_col1,#T_7add9_row53_col2,#T_7add9_row54_col1,#T_7add9_row54_col2,#T_7add9_row55_col1,#T_7add9_row55_col2,#T_7add9_row56_col1,#T_7add9_row56_col2,#T_7add9_row57_col1,#T_7add9_row57_col2,#T_7add9_row58_col1,#T_7add9_row58_col2,#T_7add9_row59_col1,#T_7add9_row59_col2,#T_7add9_row60_col1,#T_7add9_row60_col2,#T_7add9_row61_col1,#T_7add9_row61_col2,#T_7add9_row62_col1,#T_7add9_row62_col2,#T_7add9_row63_col1,#T_7add9_row63_col2,#T_7add9_row64_col1,#T_7add9_row64_col2,#T_7add9_row65_col1,#T_7add9_row65_col2,#T_7add9_row66_col1,#T_7add9_row66_col2,#T_7add9_row67_col1,#T_7add9_row67_col2,#T_7add9_row68_col1,#T_7add9_row68_col2,#T_7add9_row69_col1,#T_7add9_row69_col2,#T_7add9_row70_col1,#T_7add9_row70_col2,#T_7add9_row71_col1,#T_7add9_row71_col2,#T_7add9_row72_col1,#T_7add9_row72_col2,#T_7add9_row73_col1,#T_7add9_row73_col2,#T_7add9_row74_col1,#T_7add9_row74_col2,#T_7add9_row75_col1,#T_7add9_row75_col2,#T_7add9_row76_col1,#T_7add9_row76_col2,#T_7add9_row77_col1,#T_7add9_row77_col2,#T_7add9_row78_col1,#T_7add9_row78_col2,#T_7add9_row79_col1,#T_7add9_row79_col2,#T_7add9_row80_col1,#T_7add9_row80_col2,#T_7add9_row81_col1,#T_7add9_row81_col2,#T_7add9_row82_col1,#T_7add9_row82_col2,#T_7add9_row83_col1,#T_7add9_row83_col2,#T_7add9_row84_col1,#T_7add9_row84_col2,#T_7add9_row85_col1,#T_7add9_row85_col2,#T_7add9_row86_col1,#T_7add9_row86_col2{\n",
       "            background-color:  #00ffff;\n",
       "            color:  #000000;\n",
       "        }</style><table id=\"T_7add9_\" ><thead>    <tr>        <th class=\"blank level0\" ></th>        <th class=\"col_heading level0 col0\" >названия столбцов</th>        <th class=\"col_heading level0 col1\" >кол-во пропусков</th>        <th class=\"col_heading level0 col2\" >пропуски в %</th>    </tr></thead><tbody>\n",
       "                <tr>\n",
       "                        <th id=\"T_7add9_level0_row0\" class=\"row_heading level0 row0\" >67</th>\n",
       "                        <td id=\"T_7add9_row0_col0\" class=\"data row0 col0\" >secondary_cleaner.output.tail_sol</td>\n",
       "                        <td id=\"T_7add9_row0_col1\" class=\"data row0 col1\" >1605</td>\n",
       "                        <td id=\"T_7add9_row0_col2\" class=\"data row0 col2\" >11.343558</td>\n",
       "            </tr>\n",
       "            <tr>\n",
       "                        <th id=\"T_7add9_level0_row1\" class=\"row_heading level0 row1\" >61</th>\n",
       "                        <td id=\"T_7add9_row1_col0\" class=\"data row1 col0\" >rougher.state.floatbank10_e_air</td>\n",
       "                        <td id=\"T_7add9_row1_col1\" class=\"data row1 col1\" >436</td>\n",
       "                        <td id=\"T_7add9_row1_col2\" class=\"data row1 col2\" >3.081490</td>\n",
       "            </tr>\n",
       "            <tr>\n",
       "                        <th id=\"T_7add9_level0_row2\" class=\"row_heading level0 row2\" >43</th>\n",
       "                        <td id=\"T_7add9_row2_col0\" class=\"data row2 col0\" >rougher.input.floatbank11_xanthate</td>\n",
       "                        <td id=\"T_7add9_row2_col1\" class=\"data row2 col1\" >428</td>\n",
       "                        <td id=\"T_7add9_row2_col2\" class=\"data row2 col2\" >3.024949</td>\n",
       "            </tr>\n",
       "            <tr>\n",
       "                        <th id=\"T_7add9_level0_row3\" class=\"row_heading level0 row3\" >16</th>\n",
       "                        <td id=\"T_7add9_row3_col0\" class=\"data row3 col0\" >primary_cleaner.output.concentrate_sol</td>\n",
       "                        <td id=\"T_7add9_row3_col1\" class=\"data row3 col1\" >286</td>\n",
       "                        <td id=\"T_7add9_row3_col2\" class=\"data row3 col2\" >2.021344</td>\n",
       "            </tr>\n",
       "            <tr>\n",
       "                        <th id=\"T_7add9_level0_row4\" class=\"row_heading level0 row4\" >69</th>\n",
       "                        <td id=\"T_7add9_row4_col0\" class=\"data row4 col0\" >secondary_cleaner.state.floatbank2_a_air</td>\n",
       "                        <td id=\"T_7add9_row4_col1\" class=\"data row4 col1\" >217</td>\n",
       "                        <td id=\"T_7add9_row4_col2\" class=\"data row4 col2\" >1.533677</td>\n",
       "            </tr>\n",
       "            <tr>\n",
       "                        <th id=\"T_7add9_level0_row5\" class=\"row_heading level0 row5\" >3</th>\n",
       "                        <td id=\"T_7add9_row5_col0\" class=\"data row5 col0\" >final.output.concentrate_sol</td>\n",
       "                        <td id=\"T_7add9_row5_col1\" class=\"data row5 col1\" >211</td>\n",
       "                        <td id=\"T_7add9_row5_col2\" class=\"data row5 col2\" >1.491271</td>\n",
       "            </tr>\n",
       "            <tr>\n",
       "                        <th id=\"T_7add9_level0_row6\" class=\"row_heading level0 row6\" >37</th>\n",
       "                        <td id=\"T_7add9_row6_col0\" class=\"data row6 col0\" >rougher.input.feed_size</td>\n",
       "                        <td id=\"T_7add9_row6_col1\" class=\"data row6 col1\" >144</td>\n",
       "                        <td id=\"T_7add9_row6_col2\" class=\"data row6 col2\" >1.017740</td>\n",
       "            </tr>\n",
       "            <tr>\n",
       "                        <th id=\"T_7add9_level0_row7\" class=\"row_heading level0 row7\" >13</th>\n",
       "                        <td id=\"T_7add9_row7_col0\" class=\"data row7 col0\" >primary_cleaner.input.xanthate</td>\n",
       "                        <td id=\"T_7add9_row7_col1\" class=\"data row7 col1\" >100</td>\n",
       "                        <td id=\"T_7add9_row7_col2\" class=\"data row7 col2\" >0.706764</td>\n",
       "            </tr>\n",
       "            <tr>\n",
       "                        <th id=\"T_7add9_level0_row8\" class=\"row_heading level0 row8\" >35</th>\n",
       "                        <td id=\"T_7add9_row8_col0\" class=\"data row8 col0\" >rougher.input.feed_pb</td>\n",
       "                        <td id=\"T_7add9_row8_col1\" class=\"data row8 col1\" >100</td>\n",
       "                        <td id=\"T_7add9_row8_col2\" class=\"data row8 col2\" >0.706764</td>\n",
       "            </tr>\n",
       "            <tr>\n",
       "                        <th id=\"T_7add9_level0_row9\" class=\"row_heading level0 row9\" >7</th>\n",
       "                        <td id=\"T_7add9_row9_col0\" class=\"data row9 col0\" >final.output.tail_pb</td>\n",
       "                        <td id=\"T_7add9_row9_col1\" class=\"data row9 col1\" >100</td>\n",
       "                        <td id=\"T_7add9_row9_col2\" class=\"data row9 col2\" >0.706764</td>\n",
       "            </tr>\n",
       "            <tr>\n",
       "                        <th id=\"T_7add9_level0_row10\" class=\"row_heading level0 row10\" >15</th>\n",
       "                        <td id=\"T_7add9_row10_col0\" class=\"data row10 col0\" >primary_cleaner.output.concentrate_pb</td>\n",
       "                        <td id=\"T_7add9_row10_col1\" class=\"data row10 col1\" >86</td>\n",
       "                        <td id=\"T_7add9_row10_col2\" class=\"data row10 col2\" >0.607817</td>\n",
       "            </tr>\n",
       "            <tr>\n",
       "                        <th id=\"T_7add9_level0_row11\" class=\"row_heading level0 row11\" >38</th>\n",
       "                        <td id=\"T_7add9_row11_col0\" class=\"data row11 col0\" >rougher.input.feed_sol</td>\n",
       "                        <td id=\"T_7add9_row11_col1\" class=\"data row11 col1\" >78</td>\n",
       "                        <td id=\"T_7add9_row11_col2\" class=\"data row11 col2\" >0.551276</td>\n",
       "            </tr>\n",
       "            <tr>\n",
       "                        <th id=\"T_7add9_level0_row12\" class=\"row_heading level0 row12\" >20</th>\n",
       "                        <td id=\"T_7add9_row12_col0\" class=\"data row12 col0\" >primary_cleaner.output.tail_sol</td>\n",
       "                        <td id=\"T_7add9_row12_col1\" class=\"data row12 col1\" >46</td>\n",
       "                        <td id=\"T_7add9_row12_col2\" class=\"data row12 col2\" >0.325111</td>\n",
       "            </tr>\n",
       "            <tr>\n",
       "                        <th id=\"T_7add9_level0_row13\" class=\"row_heading level0 row13\" >42</th>\n",
       "                        <td id=\"T_7add9_row13_col0\" class=\"data row13 col0\" >rougher.input.floatbank11_sulfate</td>\n",
       "                        <td id=\"T_7add9_row13_col1\" class=\"data row13 col1\" >36</td>\n",
       "                        <td id=\"T_7add9_row13_col2\" class=\"data row13 col2\" >0.254435</td>\n",
       "            </tr>\n",
       "            <tr>\n",
       "                        <th id=\"T_7add9_level0_row14\" class=\"row_heading level0 row14\" >11</th>\n",
       "                        <td id=\"T_7add9_row14_col0\" class=\"data row14 col0\" >primary_cleaner.input.depressant</td>\n",
       "                        <td id=\"T_7add9_row14_col1\" class=\"data row14 col1\" >32</td>\n",
       "                        <td id=\"T_7add9_row14_col2\" class=\"data row14 col2\" >0.226164</td>\n",
       "            </tr>\n",
       "            <tr>\n",
       "                        <th id=\"T_7add9_level0_row15\" class=\"row_heading level0 row15\" >40</th>\n",
       "                        <td id=\"T_7add9_row15_col0\" class=\"data row15 col0\" >rougher.input.floatbank10_sulfate</td>\n",
       "                        <td id=\"T_7add9_row15_col1\" class=\"data row15 col1\" >29</td>\n",
       "                        <td id=\"T_7add9_row15_col2\" class=\"data row15 col2\" >0.204961</td>\n",
       "            </tr>\n",
       "            <tr>\n",
       "                        <th id=\"T_7add9_level0_row16\" class=\"row_heading level0 row16\" >46</th>\n",
       "                        <td id=\"T_7add9_row16_col0\" class=\"data row16 col0\" >rougher.output.concentrate_sol</td>\n",
       "                        <td id=\"T_7add9_row16_col1\" class=\"data row16 col1\" >22</td>\n",
       "                        <td id=\"T_7add9_row16_col2\" class=\"data row16 col2\" >0.155488</td>\n",
       "            </tr>\n",
       "            <tr>\n",
       "                        <th id=\"T_7add9_level0_row17\" class=\"row_heading level0 row17\" >71</th>\n",
       "                        <td id=\"T_7add9_row17_col0\" class=\"data row17 col0\" >secondary_cleaner.state.floatbank2_b_air</td>\n",
       "                        <td id=\"T_7add9_row17_col1\" class=\"data row17 col1\" >21</td>\n",
       "                        <td id=\"T_7add9_row17_col2\" class=\"data row17 col2\" >0.148420</td>\n",
       "            </tr>\n",
       "            <tr>\n",
       "                        <th id=\"T_7add9_level0_row18\" class=\"row_heading level0 row18\" >10</th>\n",
       "                        <td id=\"T_7add9_row18_col0\" class=\"data row18 col0\" >primary_cleaner.input.sulfate</td>\n",
       "                        <td id=\"T_7add9_row18_col1\" class=\"data row18 col1\" >20</td>\n",
       "                        <td id=\"T_7add9_row18_col2\" class=\"data row18 col2\" >0.141353</td>\n",
       "            </tr>\n",
       "            <tr>\n",
       "                        <th id=\"T_7add9_level0_row19\" class=\"row_heading level0 row19\" >19</th>\n",
       "                        <td id=\"T_7add9_row19_col0\" class=\"data row19 col0\" >primary_cleaner.output.tail_pb</td>\n",
       "                        <td id=\"T_7add9_row19_col1\" class=\"data row19 col1\" >15</td>\n",
       "                        <td id=\"T_7add9_row19_col2\" class=\"data row19 col2\" >0.106015</td>\n",
       "            </tr>\n",
       "            <tr>\n",
       "                        <th id=\"T_7add9_level0_row20\" class=\"row_heading level0 row20\" >66</th>\n",
       "                        <td id=\"T_7add9_row20_col0\" class=\"data row20 col0\" >secondary_cleaner.output.tail_pb</td>\n",
       "                        <td id=\"T_7add9_row20_col1\" class=\"data row20 col1\" >10</td>\n",
       "                        <td id=\"T_7add9_row20_col2\" class=\"data row20 col2\" >0.070676</td>\n",
       "            </tr>\n",
       "            <tr>\n",
       "                        <th id=\"T_7add9_level0_row21\" class=\"row_heading level0 row21\" >36</th>\n",
       "                        <td id=\"T_7add9_row21_col0\" class=\"data row21 col0\" >rougher.input.feed_rate</td>\n",
       "                        <td id=\"T_7add9_row21_col1\" class=\"data row21 col1\" >8</td>\n",
       "                        <td id=\"T_7add9_row21_col2\" class=\"data row21 col2\" >0.056541</td>\n",
       "            </tr>\n",
       "            <tr>\n",
       "                        <th id=\"T_7add9_level0_row22\" class=\"row_heading level0 row22\" >41</th>\n",
       "                        <td id=\"T_7add9_row22_col0\" class=\"data row22 col0\" >rougher.input.floatbank10_xanthate</td>\n",
       "                        <td id=\"T_7add9_row22_col1\" class=\"data row22 col1\" >8</td>\n",
       "                        <td id=\"T_7add9_row22_col2\" class=\"data row22 col2\" >0.056541</td>\n",
       "            </tr>\n",
       "            <tr>\n",
       "                        <th id=\"T_7add9_level0_row23\" class=\"row_heading level0 row23\" >77</th>\n",
       "                        <td id=\"T_7add9_row23_col0\" class=\"data row23 col0\" >secondary_cleaner.state.floatbank4_a_air</td>\n",
       "                        <td id=\"T_7add9_row23_col1\" class=\"data row23 col1\" >6</td>\n",
       "                        <td id=\"T_7add9_row23_col2\" class=\"data row23 col2\" >0.042406</td>\n",
       "            </tr>\n",
       "            <tr>\n",
       "                        <th id=\"T_7add9_level0_row24\" class=\"row_heading level0 row24\" >8</th>\n",
       "                        <td id=\"T_7add9_row24_col0\" class=\"data row24 col0\" >final.output.tail_sol</td>\n",
       "                        <td id=\"T_7add9_row24_col1\" class=\"data row24 col1\" >5</td>\n",
       "                        <td id=\"T_7add9_row24_col2\" class=\"data row24 col2\" >0.035338</td>\n",
       "            </tr>\n",
       "            <tr>\n",
       "                        <th id=\"T_7add9_level0_row25\" class=\"row_heading level0 row25\" >73</th>\n",
       "                        <td id=\"T_7add9_row25_col0\" class=\"data row25 col0\" >secondary_cleaner.state.floatbank3_a_air</td>\n",
       "                        <td id=\"T_7add9_row25_col1\" class=\"data row25 col1\" >4</td>\n",
       "                        <td id=\"T_7add9_row25_col2\" class=\"data row25 col2\" >0.028271</td>\n",
       "            </tr>\n",
       "            <tr>\n",
       "                        <th id=\"T_7add9_level0_row26\" class=\"row_heading level0 row26\" >22</th>\n",
       "                        <td id=\"T_7add9_row26_col0\" class=\"data row26 col0\" >primary_cleaner.state.floatbank8_a_air</td>\n",
       "                        <td id=\"T_7add9_row26_col1\" class=\"data row26 col1\" >4</td>\n",
       "                        <td id=\"T_7add9_row26_col2\" class=\"data row26 col2\" >0.028271</td>\n",
       "            </tr>\n",
       "            <tr>\n",
       "                        <th id=\"T_7add9_level0_row27\" class=\"row_heading level0 row27\" >24</th>\n",
       "                        <td id=\"T_7add9_row27_col0\" class=\"data row27 col0\" >primary_cleaner.state.floatbank8_b_air</td>\n",
       "                        <td id=\"T_7add9_row27_col1\" class=\"data row27 col1\" >4</td>\n",
       "                        <td id=\"T_7add9_row27_col2\" class=\"data row27 col2\" >0.028271</td>\n",
       "            </tr>\n",
       "            <tr>\n",
       "                        <th id=\"T_7add9_level0_row28\" class=\"row_heading level0 row28\" >28</th>\n",
       "                        <td id=\"T_7add9_row28_col0\" class=\"data row28 col0\" >primary_cleaner.state.floatbank8_d_air</td>\n",
       "                        <td id=\"T_7add9_row28_col1\" class=\"data row28 col1\" >3</td>\n",
       "                        <td id=\"T_7add9_row28_col2\" class=\"data row28 col2\" >0.021203</td>\n",
       "            </tr>\n",
       "            <tr>\n",
       "                        <th id=\"T_7add9_level0_row29\" class=\"row_heading level0 row29\" >26</th>\n",
       "                        <td id=\"T_7add9_row29_col0\" class=\"data row29 col0\" >primary_cleaner.state.floatbank8_c_air</td>\n",
       "                        <td id=\"T_7add9_row29_col1\" class=\"data row29 col1\" >2</td>\n",
       "                        <td id=\"T_7add9_row29_col2\" class=\"data row29 col2\" >0.014135</td>\n",
       "            </tr>\n",
       "            <tr>\n",
       "                        <th id=\"T_7add9_level0_row30\" class=\"row_heading level0 row30\" >65</th>\n",
       "                        <td id=\"T_7add9_row30_col0\" class=\"data row30 col0\" >secondary_cleaner.output.tail_ag</td>\n",
       "                        <td id=\"T_7add9_row30_col1\" class=\"data row30 col1\" >2</td>\n",
       "                        <td id=\"T_7add9_row30_col2\" class=\"data row30 col2\" >0.014135</td>\n",
       "            </tr>\n",
       "            <tr>\n",
       "                        <th id=\"T_7add9_level0_row31\" class=\"row_heading level0 row31\" >85</th>\n",
       "                        <td id=\"T_7add9_row31_col0\" class=\"data row31 col0\" >secondary_cleaner.state.floatbank6_a_air</td>\n",
       "                        <td id=\"T_7add9_row31_col1\" class=\"data row31 col1\" >2</td>\n",
       "                        <td id=\"T_7add9_row31_col2\" class=\"data row31 col2\" >0.014135</td>\n",
       "            </tr>\n",
       "            <tr>\n",
       "                        <th id=\"T_7add9_level0_row32\" class=\"row_heading level0 row32\" >56</th>\n",
       "                        <td id=\"T_7add9_row32_col0\" class=\"data row32 col0\" >rougher.state.floatbank10_b_level</td>\n",
       "                        <td id=\"T_7add9_row32_col1\" class=\"data row32 col1\" >1</td>\n",
       "                        <td id=\"T_7add9_row32_col2\" class=\"data row32 col2\" >0.007068</td>\n",
       "            </tr>\n",
       "            <tr>\n",
       "                        <th id=\"T_7add9_level0_row33\" class=\"row_heading level0 row33\" >55</th>\n",
       "                        <td id=\"T_7add9_row33_col0\" class=\"data row33 col0\" >rougher.state.floatbank10_b_air</td>\n",
       "                        <td id=\"T_7add9_row33_col1\" class=\"data row33 col1\" >1</td>\n",
       "                        <td id=\"T_7add9_row33_col2\" class=\"data row33 col2\" >0.007068</td>\n",
       "            </tr>\n",
       "            <tr>\n",
       "                        <th id=\"T_7add9_level0_row34\" class=\"row_heading level0 row34\" >58</th>\n",
       "                        <td id=\"T_7add9_row34_col0\" class=\"data row34 col0\" >rougher.state.floatbank10_c_level</td>\n",
       "                        <td id=\"T_7add9_row34_col1\" class=\"data row34 col1\" >1</td>\n",
       "                        <td id=\"T_7add9_row34_col2\" class=\"data row34 col2\" >0.007068</td>\n",
       "            </tr>\n",
       "            <tr>\n",
       "                        <th id=\"T_7add9_level0_row35\" class=\"row_heading level0 row35\" >57</th>\n",
       "                        <td id=\"T_7add9_row35_col0\" class=\"data row35 col0\" >rougher.state.floatbank10_c_air</td>\n",
       "                        <td id=\"T_7add9_row35_col1\" class=\"data row35 col1\" >1</td>\n",
       "                        <td id=\"T_7add9_row35_col2\" class=\"data row35 col2\" >0.007068</td>\n",
       "            </tr>\n",
       "            <tr>\n",
       "                        <th id=\"T_7add9_level0_row36\" class=\"row_heading level0 row36\" >74</th>\n",
       "                        <td id=\"T_7add9_row36_col0\" class=\"data row36 col0\" >secondary_cleaner.state.floatbank3_a_level</td>\n",
       "                        <td id=\"T_7add9_row36_col1\" class=\"data row36 col1\" >1</td>\n",
       "                        <td id=\"T_7add9_row36_col2\" class=\"data row36 col2\" >0.007068</td>\n",
       "            </tr>\n",
       "            <tr>\n",
       "                        <th id=\"T_7add9_level0_row37\" class=\"row_heading level0 row37\" >70</th>\n",
       "                        <td id=\"T_7add9_row37_col0\" class=\"data row37 col0\" >secondary_cleaner.state.floatbank2_a_level</td>\n",
       "                        <td id=\"T_7add9_row37_col1\" class=\"data row37 col1\" >1</td>\n",
       "                        <td id=\"T_7add9_row37_col2\" class=\"data row37 col2\" >0.007068</td>\n",
       "            </tr>\n",
       "            <tr>\n",
       "                        <th id=\"T_7add9_level0_row38\" class=\"row_heading level0 row38\" >72</th>\n",
       "                        <td id=\"T_7add9_row38_col0\" class=\"data row38 col0\" >secondary_cleaner.state.floatbank2_b_level</td>\n",
       "                        <td id=\"T_7add9_row38_col1\" class=\"data row38 col1\" >1</td>\n",
       "                        <td id=\"T_7add9_row38_col2\" class=\"data row38 col2\" >0.007068</td>\n",
       "            </tr>\n",
       "            <tr>\n",
       "                        <th id=\"T_7add9_level0_row39\" class=\"row_heading level0 row39\" >53</th>\n",
       "                        <td id=\"T_7add9_row39_col0\" class=\"data row39 col0\" >rougher.state.floatbank10_a_air</td>\n",
       "                        <td id=\"T_7add9_row39_col1\" class=\"data row39 col1\" >1</td>\n",
       "                        <td id=\"T_7add9_row39_col2\" class=\"data row39 col2\" >0.007068</td>\n",
       "            </tr>\n",
       "            <tr>\n",
       "                        <th id=\"T_7add9_level0_row40\" class=\"row_heading level0 row40\" >75</th>\n",
       "                        <td id=\"T_7add9_row40_col0\" class=\"data row40 col0\" >secondary_cleaner.state.floatbank3_b_air</td>\n",
       "                        <td id=\"T_7add9_row40_col1\" class=\"data row40 col1\" >1</td>\n",
       "                        <td id=\"T_7add9_row40_col2\" class=\"data row40 col2\" >0.007068</td>\n",
       "            </tr>\n",
       "            <tr>\n",
       "                        <th id=\"T_7add9_level0_row41\" class=\"row_heading level0 row41\" >76</th>\n",
       "                        <td id=\"T_7add9_row41_col0\" class=\"data row41 col0\" >secondary_cleaner.state.floatbank3_b_level</td>\n",
       "                        <td id=\"T_7add9_row41_col1\" class=\"data row41 col1\" >1</td>\n",
       "                        <td id=\"T_7add9_row41_col2\" class=\"data row41 col2\" >0.007068</td>\n",
       "            </tr>\n",
       "            <tr>\n",
       "                        <th id=\"T_7add9_level0_row42\" class=\"row_heading level0 row42\" >78</th>\n",
       "                        <td id=\"T_7add9_row42_col0\" class=\"data row42 col0\" >secondary_cleaner.state.floatbank4_a_level</td>\n",
       "                        <td id=\"T_7add9_row42_col1\" class=\"data row42 col1\" >1</td>\n",
       "                        <td id=\"T_7add9_row42_col2\" class=\"data row42 col2\" >0.007068</td>\n",
       "            </tr>\n",
       "            <tr>\n",
       "                        <th id=\"T_7add9_level0_row43\" class=\"row_heading level0 row43\" >79</th>\n",
       "                        <td id=\"T_7add9_row43_col0\" class=\"data row43 col0\" >secondary_cleaner.state.floatbank4_b_air</td>\n",
       "                        <td id=\"T_7add9_row43_col1\" class=\"data row43 col1\" >1</td>\n",
       "                        <td id=\"T_7add9_row43_col2\" class=\"data row43 col2\" >0.007068</td>\n",
       "            </tr>\n",
       "            <tr>\n",
       "                        <th id=\"T_7add9_level0_row44\" class=\"row_heading level0 row44\" >80</th>\n",
       "                        <td id=\"T_7add9_row44_col0\" class=\"data row44 col0\" >secondary_cleaner.state.floatbank4_b_level</td>\n",
       "                        <td id=\"T_7add9_row44_col1\" class=\"data row44 col1\" >1</td>\n",
       "                        <td id=\"T_7add9_row44_col2\" class=\"data row44 col2\" >0.007068</td>\n",
       "            </tr>\n",
       "            <tr>\n",
       "                        <th id=\"T_7add9_level0_row45\" class=\"row_heading level0 row45\" >81</th>\n",
       "                        <td id=\"T_7add9_row45_col0\" class=\"data row45 col0\" >secondary_cleaner.state.floatbank5_a_air</td>\n",
       "                        <td id=\"T_7add9_row45_col1\" class=\"data row45 col1\" >1</td>\n",
       "                        <td id=\"T_7add9_row45_col2\" class=\"data row45 col2\" >0.007068</td>\n",
       "            </tr>\n",
       "            <tr>\n",
       "                        <th id=\"T_7add9_level0_row46\" class=\"row_heading level0 row46\" >82</th>\n",
       "                        <td id=\"T_7add9_row46_col0\" class=\"data row46 col0\" >secondary_cleaner.state.floatbank5_a_level</td>\n",
       "                        <td id=\"T_7add9_row46_col1\" class=\"data row46 col1\" >1</td>\n",
       "                        <td id=\"T_7add9_row46_col2\" class=\"data row46 col2\" >0.007068</td>\n",
       "            </tr>\n",
       "            <tr>\n",
       "                        <th id=\"T_7add9_level0_row47\" class=\"row_heading level0 row47\" >83</th>\n",
       "                        <td id=\"T_7add9_row47_col0\" class=\"data row47 col0\" >secondary_cleaner.state.floatbank5_b_air</td>\n",
       "                        <td id=\"T_7add9_row47_col1\" class=\"data row47 col1\" >1</td>\n",
       "                        <td id=\"T_7add9_row47_col2\" class=\"data row47 col2\" >0.007068</td>\n",
       "            </tr>\n",
       "            <tr>\n",
       "                        <th id=\"T_7add9_level0_row48\" class=\"row_heading level0 row48\" >84</th>\n",
       "                        <td id=\"T_7add9_row48_col0\" class=\"data row48 col0\" >secondary_cleaner.state.floatbank5_b_level</td>\n",
       "                        <td id=\"T_7add9_row48_col1\" class=\"data row48 col1\" >1</td>\n",
       "                        <td id=\"T_7add9_row48_col2\" class=\"data row48 col2\" >0.007068</td>\n",
       "            </tr>\n",
       "            <tr>\n",
       "                        <th id=\"T_7add9_level0_row49\" class=\"row_heading level0 row49\" >54</th>\n",
       "                        <td id=\"T_7add9_row49_col0\" class=\"data row49 col0\" >rougher.state.floatbank10_a_level</td>\n",
       "                        <td id=\"T_7add9_row49_col1\" class=\"data row49 col1\" >1</td>\n",
       "                        <td id=\"T_7add9_row49_col2\" class=\"data row49 col2\" >0.007068</td>\n",
       "            </tr>\n",
       "            <tr>\n",
       "                        <th id=\"T_7add9_level0_row50\" class=\"row_heading level0 row50\" >86</th>\n",
       "                        <td id=\"T_7add9_row50_col0\" class=\"data row50 col0\" >secondary_cleaner.state.floatbank6_a_level</td>\n",
       "                        <td id=\"T_7add9_row50_col1\" class=\"data row50 col1\" >1</td>\n",
       "                        <td id=\"T_7add9_row50_col2\" class=\"data row50 col2\" >0.007068</td>\n",
       "            </tr>\n",
       "            <tr>\n",
       "                        <th id=\"T_7add9_level0_row51\" class=\"row_heading level0 row51\" >32</th>\n",
       "                        <td id=\"T_7add9_row51_col0\" class=\"data row51 col0\" >rougher.calculation.floatbank11_sulfate_to_au_feed</td>\n",
       "                        <td id=\"T_7add9_row51_col1\" class=\"data row51 col1\" >1</td>\n",
       "                        <td id=\"T_7add9_row51_col2\" class=\"data row51 col2\" >0.007068</td>\n",
       "            </tr>\n",
       "            <tr>\n",
       "                        <th id=\"T_7add9_level0_row52\" class=\"row_heading level0 row52\" >31</th>\n",
       "                        <td id=\"T_7add9_row52_col0\" class=\"data row52 col0\" >rougher.calculation.floatbank10_sulfate_to_au_feed</td>\n",
       "                        <td id=\"T_7add9_row52_col1\" class=\"data row52 col1\" >1</td>\n",
       "                        <td id=\"T_7add9_row52_col2\" class=\"data row52 col2\" >0.007068</td>\n",
       "            </tr>\n",
       "            <tr>\n",
       "                        <th id=\"T_7add9_level0_row53\" class=\"row_heading level0 row53\" >29</th>\n",
       "                        <td id=\"T_7add9_row53_col0\" class=\"data row53 col0\" >primary_cleaner.state.floatbank8_d_level</td>\n",
       "                        <td id=\"T_7add9_row53_col1\" class=\"data row53 col1\" >1</td>\n",
       "                        <td id=\"T_7add9_row53_col2\" class=\"data row53 col2\" >0.007068</td>\n",
       "            </tr>\n",
       "            <tr>\n",
       "                        <th id=\"T_7add9_level0_row54\" class=\"row_heading level0 row54\" >27</th>\n",
       "                        <td id=\"T_7add9_row54_col0\" class=\"data row54 col0\" >primary_cleaner.state.floatbank8_c_level</td>\n",
       "                        <td id=\"T_7add9_row54_col1\" class=\"data row54 col1\" >1</td>\n",
       "                        <td id=\"T_7add9_row54_col2\" class=\"data row54 col2\" >0.007068</td>\n",
       "            </tr>\n",
       "            <tr>\n",
       "                        <th id=\"T_7add9_level0_row55\" class=\"row_heading level0 row55\" >25</th>\n",
       "                        <td id=\"T_7add9_row55_col0\" class=\"data row55 col0\" >primary_cleaner.state.floatbank8_b_level</td>\n",
       "                        <td id=\"T_7add9_row55_col1\" class=\"data row55 col1\" >1</td>\n",
       "                        <td id=\"T_7add9_row55_col2\" class=\"data row55 col2\" >0.007068</td>\n",
       "            </tr>\n",
       "            <tr>\n",
       "                        <th id=\"T_7add9_level0_row56\" class=\"row_heading level0 row56\" >23</th>\n",
       "                        <td id=\"T_7add9_row56_col0\" class=\"data row56 col0\" >primary_cleaner.state.floatbank8_a_level</td>\n",
       "                        <td id=\"T_7add9_row56_col1\" class=\"data row56 col1\" >1</td>\n",
       "                        <td id=\"T_7add9_row56_col2\" class=\"data row56 col2\" >0.007068</td>\n",
       "            </tr>\n",
       "            <tr>\n",
       "                        <th id=\"T_7add9_level0_row57\" class=\"row_heading level0 row57\" >18</th>\n",
       "                        <td id=\"T_7add9_row57_col0\" class=\"data row57 col0\" >primary_cleaner.output.tail_ag</td>\n",
       "                        <td id=\"T_7add9_row57_col1\" class=\"data row57 col1\" >1</td>\n",
       "                        <td id=\"T_7add9_row57_col2\" class=\"data row57 col2\" >0.007068</td>\n",
       "            </tr>\n",
       "            <tr>\n",
       "                        <th id=\"T_7add9_level0_row58\" class=\"row_heading level0 row58\" >1</th>\n",
       "                        <td id=\"T_7add9_row58_col0\" class=\"data row58 col0\" >final.output.concentrate_ag</td>\n",
       "                        <td id=\"T_7add9_row58_col1\" class=\"data row58 col1\" >1</td>\n",
       "                        <td id=\"T_7add9_row58_col2\" class=\"data row58 col2\" >0.007068</td>\n",
       "            </tr>\n",
       "            <tr>\n",
       "                        <th id=\"T_7add9_level0_row59\" class=\"row_heading level0 row59\" >30</th>\n",
       "                        <td id=\"T_7add9_row59_col0\" class=\"data row59 col0\" >rougher.calculation.sulfate_to_au_concentrate</td>\n",
       "                        <td id=\"T_7add9_row59_col1\" class=\"data row59 col1\" >1</td>\n",
       "                        <td id=\"T_7add9_row59_col2\" class=\"data row59 col2\" >0.007068</td>\n",
       "            </tr>\n",
       "            <tr>\n",
       "                        <th id=\"T_7add9_level0_row60\" class=\"row_heading level0 row60\" >49</th>\n",
       "                        <td id=\"T_7add9_row60_col0\" class=\"data row60 col0\" >rougher.output.tail_ag</td>\n",
       "                        <td id=\"T_7add9_row60_col1\" class=\"data row60 col1\" >1</td>\n",
       "                        <td id=\"T_7add9_row60_col2\" class=\"data row60 col2\" >0.007068</td>\n",
       "            </tr>\n",
       "            <tr>\n",
       "                        <th id=\"T_7add9_level0_row61\" class=\"row_heading level0 row61\" >2</th>\n",
       "                        <td id=\"T_7add9_row61_col0\" class=\"data row61 col0\" >final.output.concentrate_pb</td>\n",
       "                        <td id=\"T_7add9_row61_col1\" class=\"data row61 col1\" >1</td>\n",
       "                        <td id=\"T_7add9_row61_col2\" class=\"data row61 col2\" >0.007068</td>\n",
       "            </tr>\n",
       "            <tr>\n",
       "                        <th id=\"T_7add9_level0_row62\" class=\"row_heading level0 row62\" >12</th>\n",
       "                        <td id=\"T_7add9_row62_col0\" class=\"data row62 col0\" >primary_cleaner.input.feed_size</td>\n",
       "                        <td id=\"T_7add9_row62_col1\" class=\"data row62 col1\" >0</td>\n",
       "                        <td id=\"T_7add9_row62_col2\" class=\"data row62 col2\" >0.000000</td>\n",
       "            </tr>\n",
       "            <tr>\n",
       "                        <th id=\"T_7add9_level0_row63\" class=\"row_heading level0 row63\" >9</th>\n",
       "                        <td id=\"T_7add9_row63_col0\" class=\"data row63 col0\" >final.output.tail_au</td>\n",
       "                        <td id=\"T_7add9_row63_col1\" class=\"data row63 col1\" >0</td>\n",
       "                        <td id=\"T_7add9_row63_col2\" class=\"data row63 col2\" >0.000000</td>\n",
       "            </tr>\n",
       "            <tr>\n",
       "                        <th id=\"T_7add9_level0_row64\" class=\"row_heading level0 row64\" >17</th>\n",
       "                        <td id=\"T_7add9_row64_col0\" class=\"data row64 col0\" >primary_cleaner.output.concentrate_au</td>\n",
       "                        <td id=\"T_7add9_row64_col1\" class=\"data row64 col1\" >0</td>\n",
       "                        <td id=\"T_7add9_row64_col2\" class=\"data row64 col2\" >0.000000</td>\n",
       "            </tr>\n",
       "            <tr>\n",
       "                        <th id=\"T_7add9_level0_row65\" class=\"row_heading level0 row65\" >6</th>\n",
       "                        <td id=\"T_7add9_row65_col0\" class=\"data row65 col0\" >final.output.tail_ag</td>\n",
       "                        <td id=\"T_7add9_row65_col1\" class=\"data row65 col1\" >0</td>\n",
       "                        <td id=\"T_7add9_row65_col2\" class=\"data row65 col2\" >0.000000</td>\n",
       "            </tr>\n",
       "            <tr>\n",
       "                        <th id=\"T_7add9_level0_row66\" class=\"row_heading level0 row66\" >21</th>\n",
       "                        <td id=\"T_7add9_row66_col0\" class=\"data row66 col0\" >primary_cleaner.output.tail_au</td>\n",
       "                        <td id=\"T_7add9_row66_col1\" class=\"data row66 col1\" >0</td>\n",
       "                        <td id=\"T_7add9_row66_col2\" class=\"data row66 col2\" >0.000000</td>\n",
       "            </tr>\n",
       "            <tr>\n",
       "                        <th id=\"T_7add9_level0_row67\" class=\"row_heading level0 row67\" >5</th>\n",
       "                        <td id=\"T_7add9_row67_col0\" class=\"data row67 col0\" >final.output.recovery</td>\n",
       "                        <td id=\"T_7add9_row67_col1\" class=\"data row67 col1\" >0</td>\n",
       "                        <td id=\"T_7add9_row67_col2\" class=\"data row67 col2\" >0.000000</td>\n",
       "            </tr>\n",
       "            <tr>\n",
       "                        <th id=\"T_7add9_level0_row68\" class=\"row_heading level0 row68\" >4</th>\n",
       "                        <td id=\"T_7add9_row68_col0\" class=\"data row68 col0\" >final.output.concentrate_au</td>\n",
       "                        <td id=\"T_7add9_row68_col1\" class=\"data row68 col1\" >0</td>\n",
       "                        <td id=\"T_7add9_row68_col2\" class=\"data row68 col2\" >0.000000</td>\n",
       "            </tr>\n",
       "            <tr>\n",
       "                        <th id=\"T_7add9_level0_row69\" class=\"row_heading level0 row69\" >14</th>\n",
       "                        <td id=\"T_7add9_row69_col0\" class=\"data row69 col0\" >primary_cleaner.output.concentrate_ag</td>\n",
       "                        <td id=\"T_7add9_row69_col1\" class=\"data row69 col1\" >0</td>\n",
       "                        <td id=\"T_7add9_row69_col2\" class=\"data row69 col2\" >0.000000</td>\n",
       "            </tr>\n",
       "            <tr>\n",
       "                        <th id=\"T_7add9_level0_row70\" class=\"row_heading level0 row70\" >51</th>\n",
       "                        <td id=\"T_7add9_row70_col0\" class=\"data row70 col0\" >rougher.output.tail_sol</td>\n",
       "                        <td id=\"T_7add9_row70_col1\" class=\"data row70 col1\" >0</td>\n",
       "                        <td id=\"T_7add9_row70_col2\" class=\"data row70 col2\" >0.000000</td>\n",
       "            </tr>\n",
       "            <tr>\n",
       "                        <th id=\"T_7add9_level0_row71\" class=\"row_heading level0 row71\" >52</th>\n",
       "                        <td id=\"T_7add9_row71_col0\" class=\"data row71 col0\" >rougher.output.tail_au</td>\n",
       "                        <td id=\"T_7add9_row71_col1\" class=\"data row71 col1\" >0</td>\n",
       "                        <td id=\"T_7add9_row71_col2\" class=\"data row71 col2\" >0.000000</td>\n",
       "            </tr>\n",
       "            <tr>\n",
       "                        <th id=\"T_7add9_level0_row72\" class=\"row_heading level0 row72\" >68</th>\n",
       "                        <td id=\"T_7add9_row72_col0\" class=\"data row72 col0\" >secondary_cleaner.output.tail_au</td>\n",
       "                        <td id=\"T_7add9_row72_col1\" class=\"data row72 col1\" >0</td>\n",
       "                        <td id=\"T_7add9_row72_col2\" class=\"data row72 col2\" >0.000000</td>\n",
       "            </tr>\n",
       "            <tr>\n",
       "                        <th id=\"T_7add9_level0_row73\" class=\"row_heading level0 row73\" >33</th>\n",
       "                        <td id=\"T_7add9_row73_col0\" class=\"data row73 col0\" >rougher.calculation.au_pb_ratio</td>\n",
       "                        <td id=\"T_7add9_row73_col1\" class=\"data row73 col1\" >0</td>\n",
       "                        <td id=\"T_7add9_row73_col2\" class=\"data row73 col2\" >0.000000</td>\n",
       "            </tr>\n",
       "            <tr>\n",
       "                        <th id=\"T_7add9_level0_row74\" class=\"row_heading level0 row74\" >34</th>\n",
       "                        <td id=\"T_7add9_row74_col0\" class=\"data row74 col0\" >rougher.input.feed_ag</td>\n",
       "                        <td id=\"T_7add9_row74_col1\" class=\"data row74 col1\" >0</td>\n",
       "                        <td id=\"T_7add9_row74_col2\" class=\"data row74 col2\" >0.000000</td>\n",
       "            </tr>\n",
       "            <tr>\n",
       "                        <th id=\"T_7add9_level0_row75\" class=\"row_heading level0 row75\" >39</th>\n",
       "                        <td id=\"T_7add9_row75_col0\" class=\"data row75 col0\" >rougher.input.feed_au</td>\n",
       "                        <td id=\"T_7add9_row75_col1\" class=\"data row75 col1\" >0</td>\n",
       "                        <td id=\"T_7add9_row75_col2\" class=\"data row75 col2\" >0.000000</td>\n",
       "            </tr>\n",
       "            <tr>\n",
       "                        <th id=\"T_7add9_level0_row76\" class=\"row_heading level0 row76\" >64</th>\n",
       "                        <td id=\"T_7add9_row76_col0\" class=\"data row76 col0\" >rougher.state.floatbank10_f_level</td>\n",
       "                        <td id=\"T_7add9_row76_col1\" class=\"data row76 col1\" >0</td>\n",
       "                        <td id=\"T_7add9_row76_col2\" class=\"data row76 col2\" >0.000000</td>\n",
       "            </tr>\n",
       "            <tr>\n",
       "                        <th id=\"T_7add9_level0_row77\" class=\"row_heading level0 row77\" >63</th>\n",
       "                        <td id=\"T_7add9_row77_col0\" class=\"data row77 col0\" >rougher.state.floatbank10_f_air</td>\n",
       "                        <td id=\"T_7add9_row77_col1\" class=\"data row77 col1\" >0</td>\n",
       "                        <td id=\"T_7add9_row77_col2\" class=\"data row77 col2\" >0.000000</td>\n",
       "            </tr>\n",
       "            <tr>\n",
       "                        <th id=\"T_7add9_level0_row78\" class=\"row_heading level0 row78\" >62</th>\n",
       "                        <td id=\"T_7add9_row78_col0\" class=\"data row78 col0\" >rougher.state.floatbank10_e_level</td>\n",
       "                        <td id=\"T_7add9_row78_col1\" class=\"data row78 col1\" >0</td>\n",
       "                        <td id=\"T_7add9_row78_col2\" class=\"data row78 col2\" >0.000000</td>\n",
       "            </tr>\n",
       "            <tr>\n",
       "                        <th id=\"T_7add9_level0_row79\" class=\"row_heading level0 row79\" >60</th>\n",
       "                        <td id=\"T_7add9_row79_col0\" class=\"data row79 col0\" >rougher.state.floatbank10_d_level</td>\n",
       "                        <td id=\"T_7add9_row79_col1\" class=\"data row79 col1\" >0</td>\n",
       "                        <td id=\"T_7add9_row79_col2\" class=\"data row79 col2\" >0.000000</td>\n",
       "            </tr>\n",
       "            <tr>\n",
       "                        <th id=\"T_7add9_level0_row80\" class=\"row_heading level0 row80\" >59</th>\n",
       "                        <td id=\"T_7add9_row80_col0\" class=\"data row80 col0\" >rougher.state.floatbank10_d_air</td>\n",
       "                        <td id=\"T_7add9_row80_col1\" class=\"data row80 col1\" >0</td>\n",
       "                        <td id=\"T_7add9_row80_col2\" class=\"data row80 col2\" >0.000000</td>\n",
       "            </tr>\n",
       "            <tr>\n",
       "                        <th id=\"T_7add9_level0_row81\" class=\"row_heading level0 row81\" >44</th>\n",
       "                        <td id=\"T_7add9_row81_col0\" class=\"data row81 col0\" >rougher.output.concentrate_ag</td>\n",
       "                        <td id=\"T_7add9_row81_col1\" class=\"data row81 col1\" >0</td>\n",
       "                        <td id=\"T_7add9_row81_col2\" class=\"data row81 col2\" >0.000000</td>\n",
       "            </tr>\n",
       "            <tr>\n",
       "                        <th id=\"T_7add9_level0_row82\" class=\"row_heading level0 row82\" >45</th>\n",
       "                        <td id=\"T_7add9_row82_col0\" class=\"data row82 col0\" >rougher.output.concentrate_pb</td>\n",
       "                        <td id=\"T_7add9_row82_col1\" class=\"data row82 col1\" >0</td>\n",
       "                        <td id=\"T_7add9_row82_col2\" class=\"data row82 col2\" >0.000000</td>\n",
       "            </tr>\n",
       "            <tr>\n",
       "                        <th id=\"T_7add9_level0_row83\" class=\"row_heading level0 row83\" >47</th>\n",
       "                        <td id=\"T_7add9_row83_col0\" class=\"data row83 col0\" >rougher.output.concentrate_au</td>\n",
       "                        <td id=\"T_7add9_row83_col1\" class=\"data row83 col1\" >0</td>\n",
       "                        <td id=\"T_7add9_row83_col2\" class=\"data row83 col2\" >0.000000</td>\n",
       "            </tr>\n",
       "            <tr>\n",
       "                        <th id=\"T_7add9_level0_row84\" class=\"row_heading level0 row84\" >48</th>\n",
       "                        <td id=\"T_7add9_row84_col0\" class=\"data row84 col0\" >rougher.output.recovery</td>\n",
       "                        <td id=\"T_7add9_row84_col1\" class=\"data row84 col1\" >0</td>\n",
       "                        <td id=\"T_7add9_row84_col2\" class=\"data row84 col2\" >0.000000</td>\n",
       "            </tr>\n",
       "            <tr>\n",
       "                        <th id=\"T_7add9_level0_row85\" class=\"row_heading level0 row85\" >50</th>\n",
       "                        <td id=\"T_7add9_row85_col0\" class=\"data row85 col0\" >rougher.output.tail_pb</td>\n",
       "                        <td id=\"T_7add9_row85_col1\" class=\"data row85 col1\" >0</td>\n",
       "                        <td id=\"T_7add9_row85_col2\" class=\"data row85 col2\" >0.000000</td>\n",
       "            </tr>\n",
       "            <tr>\n",
       "                        <th id=\"T_7add9_level0_row86\" class=\"row_heading level0 row86\" >0</th>\n",
       "                        <td id=\"T_7add9_row86_col0\" class=\"data row86 col0\" >date</td>\n",
       "                        <td id=\"T_7add9_row86_col1\" class=\"data row86 col1\" >0</td>\n",
       "                        <td id=\"T_7add9_row86_col2\" class=\"data row86 col2\" >0.000000</td>\n",
       "            </tr>\n",
       "    </tbody></table>"
      ],
      "text/plain": [
       "<pandas.io.formats.style.Styler at 0x7f536c2a4eb0>"
      ]
     },
     "metadata": {},
     "output_type": "display_data"
    }
   ],
   "source": [
    "get_data_info(data_train)"
   ]
  },
  {
   "cell_type": "markdown",
   "metadata": {},
   "source": [
    "В датасете содержатся 14149 строк, 87 столбцов. Типы данных по столбцам корректны: 86 - вещественные числа, 1 столбец, преобразованный из объекта в дату. Явные дубликаты отсутствуют. Пропуски содержит большая часть столбцов. Максиальное значение в столбце secondary_cleaner.output.tail_sol - более 11%."
   ]
  },
  {
   "cell_type": "code",
   "execution_count": 5,
   "metadata": {
    "ExecuteTime": {
     "end_time": "2023-03-25T08:55:46.829863Z",
     "start_time": "2023-03-25T08:55:46.722088Z"
    },
    "scrolled": false
   },
   "outputs": [
    {
     "name": "stdout",
     "output_type": "stream",
     "text": [
      "\n",
      "Первые 5 строк датафрейма:\n"
     ]
    },
    {
     "data": {
      "text/html": [
       "<div>\n",
       "<style scoped>\n",
       "    .dataframe tbody tr th:only-of-type {\n",
       "        vertical-align: middle;\n",
       "    }\n",
       "\n",
       "    .dataframe tbody tr th {\n",
       "        vertical-align: top;\n",
       "    }\n",
       "\n",
       "    .dataframe thead th {\n",
       "        text-align: right;\n",
       "    }\n",
       "</style>\n",
       "<table border=\"1\" class=\"dataframe\">\n",
       "  <thead>\n",
       "    <tr style=\"text-align: right;\">\n",
       "      <th></th>\n",
       "      <th>date</th>\n",
       "      <th>primary_cleaner.input.sulfate</th>\n",
       "      <th>primary_cleaner.input.depressant</th>\n",
       "      <th>primary_cleaner.input.feed_size</th>\n",
       "      <th>primary_cleaner.input.xanthate</th>\n",
       "      <th>primary_cleaner.state.floatbank8_a_air</th>\n",
       "      <th>primary_cleaner.state.floatbank8_a_level</th>\n",
       "      <th>primary_cleaner.state.floatbank8_b_air</th>\n",
       "      <th>primary_cleaner.state.floatbank8_b_level</th>\n",
       "      <th>primary_cleaner.state.floatbank8_c_air</th>\n",
       "      <th>primary_cleaner.state.floatbank8_c_level</th>\n",
       "      <th>primary_cleaner.state.floatbank8_d_air</th>\n",
       "      <th>primary_cleaner.state.floatbank8_d_level</th>\n",
       "      <th>rougher.input.feed_ag</th>\n",
       "      <th>rougher.input.feed_pb</th>\n",
       "      <th>rougher.input.feed_rate</th>\n",
       "      <th>rougher.input.feed_size</th>\n",
       "      <th>rougher.input.feed_sol</th>\n",
       "      <th>rougher.input.feed_au</th>\n",
       "      <th>rougher.input.floatbank10_sulfate</th>\n",
       "      <th>rougher.input.floatbank10_xanthate</th>\n",
       "      <th>rougher.input.floatbank11_sulfate</th>\n",
       "      <th>rougher.input.floatbank11_xanthate</th>\n",
       "      <th>rougher.state.floatbank10_a_air</th>\n",
       "      <th>rougher.state.floatbank10_a_level</th>\n",
       "      <th>rougher.state.floatbank10_b_air</th>\n",
       "      <th>rougher.state.floatbank10_b_level</th>\n",
       "      <th>rougher.state.floatbank10_c_air</th>\n",
       "      <th>rougher.state.floatbank10_c_level</th>\n",
       "      <th>rougher.state.floatbank10_d_air</th>\n",
       "      <th>rougher.state.floatbank10_d_level</th>\n",
       "      <th>rougher.state.floatbank10_e_air</th>\n",
       "      <th>rougher.state.floatbank10_e_level</th>\n",
       "      <th>rougher.state.floatbank10_f_air</th>\n",
       "      <th>rougher.state.floatbank10_f_level</th>\n",
       "      <th>secondary_cleaner.state.floatbank2_a_air</th>\n",
       "      <th>secondary_cleaner.state.floatbank2_a_level</th>\n",
       "      <th>secondary_cleaner.state.floatbank2_b_air</th>\n",
       "      <th>secondary_cleaner.state.floatbank2_b_level</th>\n",
       "      <th>secondary_cleaner.state.floatbank3_a_air</th>\n",
       "      <th>secondary_cleaner.state.floatbank3_a_level</th>\n",
       "      <th>secondary_cleaner.state.floatbank3_b_air</th>\n",
       "      <th>secondary_cleaner.state.floatbank3_b_level</th>\n",
       "      <th>secondary_cleaner.state.floatbank4_a_air</th>\n",
       "      <th>secondary_cleaner.state.floatbank4_a_level</th>\n",
       "      <th>secondary_cleaner.state.floatbank4_b_air</th>\n",
       "      <th>secondary_cleaner.state.floatbank4_b_level</th>\n",
       "      <th>secondary_cleaner.state.floatbank5_a_air</th>\n",
       "      <th>secondary_cleaner.state.floatbank5_a_level</th>\n",
       "      <th>secondary_cleaner.state.floatbank5_b_air</th>\n",
       "      <th>secondary_cleaner.state.floatbank5_b_level</th>\n",
       "      <th>secondary_cleaner.state.floatbank6_a_air</th>\n",
       "      <th>secondary_cleaner.state.floatbank6_a_level</th>\n",
       "    </tr>\n",
       "  </thead>\n",
       "  <tbody>\n",
       "    <tr>\n",
       "      <th>0</th>\n",
       "      <td>2016-09-01 00:59:59</td>\n",
       "      <td>210.800909</td>\n",
       "      <td>14.993118</td>\n",
       "      <td>8.080000</td>\n",
       "      <td>1.005021</td>\n",
       "      <td>1398.981301</td>\n",
       "      <td>-500.225577</td>\n",
       "      <td>1399.144926</td>\n",
       "      <td>-499.919735</td>\n",
       "      <td>1400.102998</td>\n",
       "      <td>-500.704369</td>\n",
       "      <td>1399.001695</td>\n",
       "      <td>-499.485144</td>\n",
       "      <td>13.128569</td>\n",
       "      <td>5.636710</td>\n",
       "      <td>489.793655</td>\n",
       "      <td>62.710452</td>\n",
       "      <td>42.022440</td>\n",
       "      <td>12.084103</td>\n",
       "      <td>16.922877</td>\n",
       "      <td>6.153479</td>\n",
       "      <td>16.867518</td>\n",
       "      <td>6.150709</td>\n",
       "      <td>1001.849317</td>\n",
       "      <td>-350.301265</td>\n",
       "      <td>1249.738612</td>\n",
       "      <td>-399.107531</td>\n",
       "      <td>1249.750520</td>\n",
       "      <td>-399.396730</td>\n",
       "      <td>1198.287855</td>\n",
       "      <td>-399.488594</td>\n",
       "      <td>999.472250</td>\n",
       "      <td>-399.530962</td>\n",
       "      <td>949.566189</td>\n",
       "      <td>-398.180807</td>\n",
       "      <td>24.938200</td>\n",
       "      <td>-500.490963</td>\n",
       "      <td>14.947607</td>\n",
       "      <td>-500.013837</td>\n",
       "      <td>20.018166</td>\n",
       "      <td>-450.395995</td>\n",
       "      <td>13.987058</td>\n",
       "      <td>-449.831513</td>\n",
       "      <td>12.023554</td>\n",
       "      <td>-497.795834</td>\n",
       "      <td>8.016656</td>\n",
       "      <td>-501.289139</td>\n",
       "      <td>7.946562</td>\n",
       "      <td>-432.317850</td>\n",
       "      <td>4.872511</td>\n",
       "      <td>-500.037437</td>\n",
       "      <td>26.705889</td>\n",
       "      <td>-499.709414</td>\n",
       "    </tr>\n",
       "    <tr>\n",
       "      <th>1</th>\n",
       "      <td>2016-09-01 01:59:59</td>\n",
       "      <td>215.392455</td>\n",
       "      <td>14.987471</td>\n",
       "      <td>8.080000</td>\n",
       "      <td>0.990469</td>\n",
       "      <td>1398.777912</td>\n",
       "      <td>-500.057435</td>\n",
       "      <td>1398.055362</td>\n",
       "      <td>-499.778182</td>\n",
       "      <td>1396.151033</td>\n",
       "      <td>-499.240168</td>\n",
       "      <td>1399.508091</td>\n",
       "      <td>-500.416324</td>\n",
       "      <td>13.036280</td>\n",
       "      <td>5.526065</td>\n",
       "      <td>490.104534</td>\n",
       "      <td>61.961163</td>\n",
       "      <td>41.187903</td>\n",
       "      <td>11.918977</td>\n",
       "      <td>17.002532</td>\n",
       "      <td>5.999043</td>\n",
       "      <td>16.996063</td>\n",
       "      <td>6.002315</td>\n",
       "      <td>998.690785</td>\n",
       "      <td>-350.425704</td>\n",
       "      <td>1248.395457</td>\n",
       "      <td>-399.946025</td>\n",
       "      <td>1249.514451</td>\n",
       "      <td>-399.630810</td>\n",
       "      <td>1200.506459</td>\n",
       "      <td>-399.942434</td>\n",
       "      <td>1000.002114</td>\n",
       "      <td>-399.491528</td>\n",
       "      <td>950.200009</td>\n",
       "      <td>-405.787514</td>\n",
       "      <td>24.923466</td>\n",
       "      <td>-499.813963</td>\n",
       "      <td>14.930873</td>\n",
       "      <td>-500.764452</td>\n",
       "      <td>19.988503</td>\n",
       "      <td>-450.114024</td>\n",
       "      <td>14.092981</td>\n",
       "      <td>-450.059163</td>\n",
       "      <td>12.058140</td>\n",
       "      <td>-498.695773</td>\n",
       "      <td>8.130979</td>\n",
       "      <td>-499.634209</td>\n",
       "      <td>7.958270</td>\n",
       "      <td>-525.839648</td>\n",
       "      <td>4.878850</td>\n",
       "      <td>-500.162375</td>\n",
       "      <td>25.019940</td>\n",
       "      <td>-499.819438</td>\n",
       "    </tr>\n",
       "    <tr>\n",
       "      <th>2</th>\n",
       "      <td>2016-09-01 02:59:59</td>\n",
       "      <td>215.259946</td>\n",
       "      <td>12.884934</td>\n",
       "      <td>7.786667</td>\n",
       "      <td>0.996043</td>\n",
       "      <td>1398.493666</td>\n",
       "      <td>-500.868360</td>\n",
       "      <td>1398.860436</td>\n",
       "      <td>-499.764529</td>\n",
       "      <td>1398.075709</td>\n",
       "      <td>-502.151509</td>\n",
       "      <td>1399.497088</td>\n",
       "      <td>-499.715479</td>\n",
       "      <td>13.138412</td>\n",
       "      <td>5.426561</td>\n",
       "      <td>489.617969</td>\n",
       "      <td>66.903807</td>\n",
       "      <td>42.546294</td>\n",
       "      <td>12.091332</td>\n",
       "      <td>16.992520</td>\n",
       "      <td>5.850632</td>\n",
       "      <td>16.982096</td>\n",
       "      <td>5.853594</td>\n",
       "      <td>998.516720</td>\n",
       "      <td>-349.783538</td>\n",
       "      <td>1247.440748</td>\n",
       "      <td>-400.264330</td>\n",
       "      <td>1248.207204</td>\n",
       "      <td>-401.074405</td>\n",
       "      <td>1199.770026</td>\n",
       "      <td>-400.790582</td>\n",
       "      <td>999.925519</td>\n",
       "      <td>-399.236999</td>\n",
       "      <td>950.320481</td>\n",
       "      <td>-400.864340</td>\n",
       "      <td>24.908732</td>\n",
       "      <td>-500.304035</td>\n",
       "      <td>14.996511</td>\n",
       "      <td>-500.993821</td>\n",
       "      <td>20.039689</td>\n",
       "      <td>-450.263164</td>\n",
       "      <td>14.077881</td>\n",
       "      <td>-449.660997</td>\n",
       "      <td>11.962366</td>\n",
       "      <td>-498.767484</td>\n",
       "      <td>8.096893</td>\n",
       "      <td>-500.827423</td>\n",
       "      <td>8.071056</td>\n",
       "      <td>-500.801673</td>\n",
       "      <td>4.905125</td>\n",
       "      <td>-499.828510</td>\n",
       "      <td>24.994862</td>\n",
       "      <td>-500.622559</td>\n",
       "    </tr>\n",
       "    <tr>\n",
       "      <th>3</th>\n",
       "      <td>2016-09-01 03:59:59</td>\n",
       "      <td>215.336236</td>\n",
       "      <td>12.006805</td>\n",
       "      <td>7.640000</td>\n",
       "      <td>0.863514</td>\n",
       "      <td>1399.618111</td>\n",
       "      <td>-498.863574</td>\n",
       "      <td>1397.440120</td>\n",
       "      <td>-499.211024</td>\n",
       "      <td>1400.129303</td>\n",
       "      <td>-498.355873</td>\n",
       "      <td>1401.065165</td>\n",
       "      <td>-501.038738</td>\n",
       "      <td>12.400507</td>\n",
       "      <td>5.114758</td>\n",
       "      <td>476.618130</td>\n",
       "      <td>59.865919</td>\n",
       "      <td>41.060195</td>\n",
       "      <td>12.181597</td>\n",
       "      <td>16.532144</td>\n",
       "      <td>5.801935</td>\n",
       "      <td>16.515277</td>\n",
       "      <td>5.803657</td>\n",
       "      <td>1000.276604</td>\n",
       "      <td>-350.172597</td>\n",
       "      <td>1251.322675</td>\n",
       "      <td>-398.655289</td>\n",
       "      <td>1250.493702</td>\n",
       "      <td>-399.746728</td>\n",
       "      <td>1199.398691</td>\n",
       "      <td>-397.503052</td>\n",
       "      <td>1001.930679</td>\n",
       "      <td>-400.437573</td>\n",
       "      <td>950.735324</td>\n",
       "      <td>-399.802986</td>\n",
       "      <td>24.893998</td>\n",
       "      <td>-499.382374</td>\n",
       "      <td>14.916674</td>\n",
       "      <td>-499.862299</td>\n",
       "      <td>20.031100</td>\n",
       "      <td>-449.372570</td>\n",
       "      <td>14.013968</td>\n",
       "      <td>-449.526900</td>\n",
       "      <td>12.033091</td>\n",
       "      <td>-498.350935</td>\n",
       "      <td>8.074946</td>\n",
       "      <td>-499.474407</td>\n",
       "      <td>7.897085</td>\n",
       "      <td>-500.868509</td>\n",
       "      <td>4.931400</td>\n",
       "      <td>-499.963623</td>\n",
       "      <td>24.948919</td>\n",
       "      <td>-498.709987</td>\n",
       "    </tr>\n",
       "    <tr>\n",
       "      <th>4</th>\n",
       "      <td>2016-09-01 04:59:59</td>\n",
       "      <td>199.099327</td>\n",
       "      <td>10.682530</td>\n",
       "      <td>7.530000</td>\n",
       "      <td>0.805575</td>\n",
       "      <td>1401.268123</td>\n",
       "      <td>-500.808305</td>\n",
       "      <td>1398.128818</td>\n",
       "      <td>-499.504543</td>\n",
       "      <td>1402.172226</td>\n",
       "      <td>-500.810606</td>\n",
       "      <td>1399.480508</td>\n",
       "      <td>-499.374053</td>\n",
       "      <td>11.327427</td>\n",
       "      <td>4.767383</td>\n",
       "      <td>488.248117</td>\n",
       "      <td>63.315324</td>\n",
       "      <td>41.269161</td>\n",
       "      <td>11.290425</td>\n",
       "      <td>13.607257</td>\n",
       "      <td>5.738081</td>\n",
       "      <td>13.650053</td>\n",
       "      <td>5.739634</td>\n",
       "      <td>996.541302</td>\n",
       "      <td>-350.562517</td>\n",
       "      <td>1304.658848</td>\n",
       "      <td>-399.511519</td>\n",
       "      <td>1306.455515</td>\n",
       "      <td>-399.050685</td>\n",
       "      <td>1248.699349</td>\n",
       "      <td>-400.876894</td>\n",
       "      <td>1058.839106</td>\n",
       "      <td>-398.988239</td>\n",
       "      <td>949.645313</td>\n",
       "      <td>-399.277632</td>\n",
       "      <td>24.886905</td>\n",
       "      <td>-499.357375</td>\n",
       "      <td>14.979233</td>\n",
       "      <td>-500.186804</td>\n",
       "      <td>19.962364</td>\n",
       "      <td>-450.638828</td>\n",
       "      <td>14.009245</td>\n",
       "      <td>-450.022259</td>\n",
       "      <td>12.025367</td>\n",
       "      <td>-500.786497</td>\n",
       "      <td>8.054678</td>\n",
       "      <td>-500.397500</td>\n",
       "      <td>8.107890</td>\n",
       "      <td>-509.526725</td>\n",
       "      <td>4.957674</td>\n",
       "      <td>-500.360026</td>\n",
       "      <td>25.003331</td>\n",
       "      <td>-500.856333</td>\n",
       "    </tr>\n",
       "  </tbody>\n",
       "</table>\n",
       "</div>"
      ],
      "text/plain": [
       "                 date  primary_cleaner.input.sulfate  \\\n",
       "0 2016-09-01 00:59:59                     210.800909   \n",
       "1 2016-09-01 01:59:59                     215.392455   \n",
       "2 2016-09-01 02:59:59                     215.259946   \n",
       "3 2016-09-01 03:59:59                     215.336236   \n",
       "4 2016-09-01 04:59:59                     199.099327   \n",
       "\n",
       "   primary_cleaner.input.depressant  primary_cleaner.input.feed_size  \\\n",
       "0                         14.993118                         8.080000   \n",
       "1                         14.987471                         8.080000   \n",
       "2                         12.884934                         7.786667   \n",
       "3                         12.006805                         7.640000   \n",
       "4                         10.682530                         7.530000   \n",
       "\n",
       "   primary_cleaner.input.xanthate  primary_cleaner.state.floatbank8_a_air  \\\n",
       "0                        1.005021                             1398.981301   \n",
       "1                        0.990469                             1398.777912   \n",
       "2                        0.996043                             1398.493666   \n",
       "3                        0.863514                             1399.618111   \n",
       "4                        0.805575                             1401.268123   \n",
       "\n",
       "   primary_cleaner.state.floatbank8_a_level  \\\n",
       "0                               -500.225577   \n",
       "1                               -500.057435   \n",
       "2                               -500.868360   \n",
       "3                               -498.863574   \n",
       "4                               -500.808305   \n",
       "\n",
       "   primary_cleaner.state.floatbank8_b_air  \\\n",
       "0                             1399.144926   \n",
       "1                             1398.055362   \n",
       "2                             1398.860436   \n",
       "3                             1397.440120   \n",
       "4                             1398.128818   \n",
       "\n",
       "   primary_cleaner.state.floatbank8_b_level  \\\n",
       "0                               -499.919735   \n",
       "1                               -499.778182   \n",
       "2                               -499.764529   \n",
       "3                               -499.211024   \n",
       "4                               -499.504543   \n",
       "\n",
       "   primary_cleaner.state.floatbank8_c_air  \\\n",
       "0                             1400.102998   \n",
       "1                             1396.151033   \n",
       "2                             1398.075709   \n",
       "3                             1400.129303   \n",
       "4                             1402.172226   \n",
       "\n",
       "   primary_cleaner.state.floatbank8_c_level  \\\n",
       "0                               -500.704369   \n",
       "1                               -499.240168   \n",
       "2                               -502.151509   \n",
       "3                               -498.355873   \n",
       "4                               -500.810606   \n",
       "\n",
       "   primary_cleaner.state.floatbank8_d_air  \\\n",
       "0                             1399.001695   \n",
       "1                             1399.508091   \n",
       "2                             1399.497088   \n",
       "3                             1401.065165   \n",
       "4                             1399.480508   \n",
       "\n",
       "   primary_cleaner.state.floatbank8_d_level  rougher.input.feed_ag  \\\n",
       "0                               -499.485144              13.128569   \n",
       "1                               -500.416324              13.036280   \n",
       "2                               -499.715479              13.138412   \n",
       "3                               -501.038738              12.400507   \n",
       "4                               -499.374053              11.327427   \n",
       "\n",
       "   rougher.input.feed_pb  rougher.input.feed_rate  rougher.input.feed_size  \\\n",
       "0               5.636710               489.793655                62.710452   \n",
       "1               5.526065               490.104534                61.961163   \n",
       "2               5.426561               489.617969                66.903807   \n",
       "3               5.114758               476.618130                59.865919   \n",
       "4               4.767383               488.248117                63.315324   \n",
       "\n",
       "   rougher.input.feed_sol  rougher.input.feed_au  \\\n",
       "0               42.022440              12.084103   \n",
       "1               41.187903              11.918977   \n",
       "2               42.546294              12.091332   \n",
       "3               41.060195              12.181597   \n",
       "4               41.269161              11.290425   \n",
       "\n",
       "   rougher.input.floatbank10_sulfate  rougher.input.floatbank10_xanthate  \\\n",
       "0                          16.922877                            6.153479   \n",
       "1                          17.002532                            5.999043   \n",
       "2                          16.992520                            5.850632   \n",
       "3                          16.532144                            5.801935   \n",
       "4                          13.607257                            5.738081   \n",
       "\n",
       "   rougher.input.floatbank11_sulfate  rougher.input.floatbank11_xanthate  \\\n",
       "0                          16.867518                            6.150709   \n",
       "1                          16.996063                            6.002315   \n",
       "2                          16.982096                            5.853594   \n",
       "3                          16.515277                            5.803657   \n",
       "4                          13.650053                            5.739634   \n",
       "\n",
       "   rougher.state.floatbank10_a_air  rougher.state.floatbank10_a_level  \\\n",
       "0                      1001.849317                        -350.301265   \n",
       "1                       998.690785                        -350.425704   \n",
       "2                       998.516720                        -349.783538   \n",
       "3                      1000.276604                        -350.172597   \n",
       "4                       996.541302                        -350.562517   \n",
       "\n",
       "   rougher.state.floatbank10_b_air  rougher.state.floatbank10_b_level  \\\n",
       "0                      1249.738612                        -399.107531   \n",
       "1                      1248.395457                        -399.946025   \n",
       "2                      1247.440748                        -400.264330   \n",
       "3                      1251.322675                        -398.655289   \n",
       "4                      1304.658848                        -399.511519   \n",
       "\n",
       "   rougher.state.floatbank10_c_air  rougher.state.floatbank10_c_level  \\\n",
       "0                      1249.750520                        -399.396730   \n",
       "1                      1249.514451                        -399.630810   \n",
       "2                      1248.207204                        -401.074405   \n",
       "3                      1250.493702                        -399.746728   \n",
       "4                      1306.455515                        -399.050685   \n",
       "\n",
       "   rougher.state.floatbank10_d_air  rougher.state.floatbank10_d_level  \\\n",
       "0                      1198.287855                        -399.488594   \n",
       "1                      1200.506459                        -399.942434   \n",
       "2                      1199.770026                        -400.790582   \n",
       "3                      1199.398691                        -397.503052   \n",
       "4                      1248.699349                        -400.876894   \n",
       "\n",
       "   rougher.state.floatbank10_e_air  rougher.state.floatbank10_e_level  \\\n",
       "0                       999.472250                        -399.530962   \n",
       "1                      1000.002114                        -399.491528   \n",
       "2                       999.925519                        -399.236999   \n",
       "3                      1001.930679                        -400.437573   \n",
       "4                      1058.839106                        -398.988239   \n",
       "\n",
       "   rougher.state.floatbank10_f_air  rougher.state.floatbank10_f_level  \\\n",
       "0                       949.566189                        -398.180807   \n",
       "1                       950.200009                        -405.787514   \n",
       "2                       950.320481                        -400.864340   \n",
       "3                       950.735324                        -399.802986   \n",
       "4                       949.645313                        -399.277632   \n",
       "\n",
       "   secondary_cleaner.state.floatbank2_a_air  \\\n",
       "0                                 24.938200   \n",
       "1                                 24.923466   \n",
       "2                                 24.908732   \n",
       "3                                 24.893998   \n",
       "4                                 24.886905   \n",
       "\n",
       "   secondary_cleaner.state.floatbank2_a_level  \\\n",
       "0                                 -500.490963   \n",
       "1                                 -499.813963   \n",
       "2                                 -500.304035   \n",
       "3                                 -499.382374   \n",
       "4                                 -499.357375   \n",
       "\n",
       "   secondary_cleaner.state.floatbank2_b_air  \\\n",
       "0                                 14.947607   \n",
       "1                                 14.930873   \n",
       "2                                 14.996511   \n",
       "3                                 14.916674   \n",
       "4                                 14.979233   \n",
       "\n",
       "   secondary_cleaner.state.floatbank2_b_level  \\\n",
       "0                                 -500.013837   \n",
       "1                                 -500.764452   \n",
       "2                                 -500.993821   \n",
       "3                                 -499.862299   \n",
       "4                                 -500.186804   \n",
       "\n",
       "   secondary_cleaner.state.floatbank3_a_air  \\\n",
       "0                                 20.018166   \n",
       "1                                 19.988503   \n",
       "2                                 20.039689   \n",
       "3                                 20.031100   \n",
       "4                                 19.962364   \n",
       "\n",
       "   secondary_cleaner.state.floatbank3_a_level  \\\n",
       "0                                 -450.395995   \n",
       "1                                 -450.114024   \n",
       "2                                 -450.263164   \n",
       "3                                 -449.372570   \n",
       "4                                 -450.638828   \n",
       "\n",
       "   secondary_cleaner.state.floatbank3_b_air  \\\n",
       "0                                 13.987058   \n",
       "1                                 14.092981   \n",
       "2                                 14.077881   \n",
       "3                                 14.013968   \n",
       "4                                 14.009245   \n",
       "\n",
       "   secondary_cleaner.state.floatbank3_b_level  \\\n",
       "0                                 -449.831513   \n",
       "1                                 -450.059163   \n",
       "2                                 -449.660997   \n",
       "3                                 -449.526900   \n",
       "4                                 -450.022259   \n",
       "\n",
       "   secondary_cleaner.state.floatbank4_a_air  \\\n",
       "0                                 12.023554   \n",
       "1                                 12.058140   \n",
       "2                                 11.962366   \n",
       "3                                 12.033091   \n",
       "4                                 12.025367   \n",
       "\n",
       "   secondary_cleaner.state.floatbank4_a_level  \\\n",
       "0                                 -497.795834   \n",
       "1                                 -498.695773   \n",
       "2                                 -498.767484   \n",
       "3                                 -498.350935   \n",
       "4                                 -500.786497   \n",
       "\n",
       "   secondary_cleaner.state.floatbank4_b_air  \\\n",
       "0                                  8.016656   \n",
       "1                                  8.130979   \n",
       "2                                  8.096893   \n",
       "3                                  8.074946   \n",
       "4                                  8.054678   \n",
       "\n",
       "   secondary_cleaner.state.floatbank4_b_level  \\\n",
       "0                                 -501.289139   \n",
       "1                                 -499.634209   \n",
       "2                                 -500.827423   \n",
       "3                                 -499.474407   \n",
       "4                                 -500.397500   \n",
       "\n",
       "   secondary_cleaner.state.floatbank5_a_air  \\\n",
       "0                                  7.946562   \n",
       "1                                  7.958270   \n",
       "2                                  8.071056   \n",
       "3                                  7.897085   \n",
       "4                                  8.107890   \n",
       "\n",
       "   secondary_cleaner.state.floatbank5_a_level  \\\n",
       "0                                 -432.317850   \n",
       "1                                 -525.839648   \n",
       "2                                 -500.801673   \n",
       "3                                 -500.868509   \n",
       "4                                 -509.526725   \n",
       "\n",
       "   secondary_cleaner.state.floatbank5_b_air  \\\n",
       "0                                  4.872511   \n",
       "1                                  4.878850   \n",
       "2                                  4.905125   \n",
       "3                                  4.931400   \n",
       "4                                  4.957674   \n",
       "\n",
       "   secondary_cleaner.state.floatbank5_b_level  \\\n",
       "0                                 -500.037437   \n",
       "1                                 -500.162375   \n",
       "2                                 -499.828510   \n",
       "3                                 -499.963623   \n",
       "4                                 -500.360026   \n",
       "\n",
       "   secondary_cleaner.state.floatbank6_a_air  \\\n",
       "0                                 26.705889   \n",
       "1                                 25.019940   \n",
       "2                                 24.994862   \n",
       "3                                 24.948919   \n",
       "4                                 25.003331   \n",
       "\n",
       "   secondary_cleaner.state.floatbank6_a_level  \n",
       "0                                 -499.709414  \n",
       "1                                 -499.819438  \n",
       "2                                 -500.622559  \n",
       "3                                 -498.709987  \n",
       "4                                 -500.856333  "
      ]
     },
     "metadata": {},
     "output_type": "display_data"
    },
    {
     "name": "stdout",
     "output_type": "stream",
     "text": [
      "\n",
      "Основная информация о датафрейме с помощью метода info():\n",
      "\n",
      "<class 'pandas.core.frame.DataFrame'>\n",
      "RangeIndex: 5290 entries, 0 to 5289\n",
      "Data columns (total 53 columns):\n",
      " #   Column                                      Non-Null Count  Dtype         \n",
      "---  ------                                      --------------  -----         \n",
      " 0   date                                        5290 non-null   datetime64[ns]\n",
      " 1   primary_cleaner.input.sulfate               5286 non-null   float64       \n",
      " 2   primary_cleaner.input.depressant            5285 non-null   float64       \n",
      " 3   primary_cleaner.input.feed_size             5290 non-null   float64       \n",
      " 4   primary_cleaner.input.xanthate              5286 non-null   float64       \n",
      " 5   primary_cleaner.state.floatbank8_a_air      5290 non-null   float64       \n",
      " 6   primary_cleaner.state.floatbank8_a_level    5290 non-null   float64       \n",
      " 7   primary_cleaner.state.floatbank8_b_air      5290 non-null   float64       \n",
      " 8   primary_cleaner.state.floatbank8_b_level    5290 non-null   float64       \n",
      " 9   primary_cleaner.state.floatbank8_c_air      5290 non-null   float64       \n",
      " 10  primary_cleaner.state.floatbank8_c_level    5290 non-null   float64       \n",
      " 11  primary_cleaner.state.floatbank8_d_air      5290 non-null   float64       \n",
      " 12  primary_cleaner.state.floatbank8_d_level    5290 non-null   float64       \n",
      " 13  rougher.input.feed_ag                       5290 non-null   float64       \n",
      " 14  rougher.input.feed_pb                       5290 non-null   float64       \n",
      " 15  rougher.input.feed_rate                     5287 non-null   float64       \n",
      " 16  rougher.input.feed_size                     5289 non-null   float64       \n",
      " 17  rougher.input.feed_sol                      5269 non-null   float64       \n",
      " 18  rougher.input.feed_au                       5290 non-null   float64       \n",
      " 19  rougher.input.floatbank10_sulfate           5285 non-null   float64       \n",
      " 20  rougher.input.floatbank10_xanthate          5290 non-null   float64       \n",
      " 21  rougher.input.floatbank11_sulfate           5282 non-null   float64       \n",
      " 22  rougher.input.floatbank11_xanthate          5265 non-null   float64       \n",
      " 23  rougher.state.floatbank10_a_air             5290 non-null   float64       \n",
      " 24  rougher.state.floatbank10_a_level           5290 non-null   float64       \n",
      " 25  rougher.state.floatbank10_b_air             5290 non-null   float64       \n",
      " 26  rougher.state.floatbank10_b_level           5290 non-null   float64       \n",
      " 27  rougher.state.floatbank10_c_air             5290 non-null   float64       \n",
      " 28  rougher.state.floatbank10_c_level           5290 non-null   float64       \n",
      " 29  rougher.state.floatbank10_d_air             5290 non-null   float64       \n",
      " 30  rougher.state.floatbank10_d_level           5290 non-null   float64       \n",
      " 31  rougher.state.floatbank10_e_air             5290 non-null   float64       \n",
      " 32  rougher.state.floatbank10_e_level           5290 non-null   float64       \n",
      " 33  rougher.state.floatbank10_f_air             5290 non-null   float64       \n",
      " 34  rougher.state.floatbank10_f_level           5290 non-null   float64       \n",
      " 35  secondary_cleaner.state.floatbank2_a_air    5287 non-null   float64       \n",
      " 36  secondary_cleaner.state.floatbank2_a_level  5290 non-null   float64       \n",
      " 37  secondary_cleaner.state.floatbank2_b_air    5288 non-null   float64       \n",
      " 38  secondary_cleaner.state.floatbank2_b_level  5290 non-null   float64       \n",
      " 39  secondary_cleaner.state.floatbank3_a_air    5281 non-null   float64       \n",
      " 40  secondary_cleaner.state.floatbank3_a_level  5290 non-null   float64       \n",
      " 41  secondary_cleaner.state.floatbank3_b_air    5290 non-null   float64       \n",
      " 42  secondary_cleaner.state.floatbank3_b_level  5290 non-null   float64       \n",
      " 43  secondary_cleaner.state.floatbank4_a_air    5290 non-null   float64       \n",
      " 44  secondary_cleaner.state.floatbank4_a_level  5290 non-null   float64       \n",
      " 45  secondary_cleaner.state.floatbank4_b_air    5290 non-null   float64       \n",
      " 46  secondary_cleaner.state.floatbank4_b_level  5290 non-null   float64       \n",
      " 47  secondary_cleaner.state.floatbank5_a_air    5290 non-null   float64       \n",
      " 48  secondary_cleaner.state.floatbank5_a_level  5290 non-null   float64       \n",
      " 49  secondary_cleaner.state.floatbank5_b_air    5290 non-null   float64       \n",
      " 50  secondary_cleaner.state.floatbank5_b_level  5290 non-null   float64       \n",
      " 51  secondary_cleaner.state.floatbank6_a_air    5290 non-null   float64       \n",
      " 52  secondary_cleaner.state.floatbank6_a_level  5290 non-null   float64       \n",
      "dtypes: datetime64[ns](1), float64(52)\n",
      "memory usage: 2.1 MB\n",
      "None\n",
      "\n",
      "Количество явных дубликатов: 0\n"
     ]
    },
    {
     "data": {
      "text/html": [
       "<style  type=\"text/css\" >\n",
       "#T_d1768_row0_col1,#T_d1768_row0_col2{\n",
       "            background-color:  #ff00ff;\n",
       "            color:  #f1f1f1;\n",
       "        }#T_d1768_row1_col1,#T_d1768_row1_col2{\n",
       "            background-color:  #d728ff;\n",
       "            color:  #f1f1f1;\n",
       "        }#T_d1768_row2_col1,#T_d1768_row2_col2{\n",
       "            background-color:  #5ca3ff;\n",
       "            color:  #000000;\n",
       "        }#T_d1768_row3_col1,#T_d1768_row3_col2{\n",
       "            background-color:  #51aeff;\n",
       "            color:  #000000;\n",
       "        }#T_d1768_row4_col1,#T_d1768_row4_col2,#T_d1768_row5_col1,#T_d1768_row5_col2{\n",
       "            background-color:  #33ccff;\n",
       "            color:  #000000;\n",
       "        }#T_d1768_row6_col1,#T_d1768_row6_col2,#T_d1768_row7_col1,#T_d1768_row7_col2{\n",
       "            background-color:  #28d7ff;\n",
       "            color:  #000000;\n",
       "        }#T_d1768_row8_col1,#T_d1768_row8_col2,#T_d1768_row9_col1,#T_d1768_row9_col2{\n",
       "            background-color:  #1ee1ff;\n",
       "            color:  #000000;\n",
       "        }#T_d1768_row10_col1,#T_d1768_row10_col2{\n",
       "            background-color:  #14ebff;\n",
       "            color:  #000000;\n",
       "        }#T_d1768_row11_col1,#T_d1768_row11_col2{\n",
       "            background-color:  #0af5ff;\n",
       "            color:  #000000;\n",
       "        }#T_d1768_row12_col1,#T_d1768_row12_col2,#T_d1768_row13_col1,#T_d1768_row13_col2,#T_d1768_row14_col1,#T_d1768_row14_col2,#T_d1768_row15_col1,#T_d1768_row15_col2,#T_d1768_row16_col1,#T_d1768_row16_col2,#T_d1768_row17_col1,#T_d1768_row17_col2,#T_d1768_row18_col1,#T_d1768_row18_col2,#T_d1768_row19_col1,#T_d1768_row19_col2,#T_d1768_row20_col1,#T_d1768_row20_col2,#T_d1768_row21_col1,#T_d1768_row21_col2,#T_d1768_row22_col1,#T_d1768_row22_col2,#T_d1768_row23_col1,#T_d1768_row23_col2,#T_d1768_row24_col1,#T_d1768_row24_col2,#T_d1768_row25_col1,#T_d1768_row25_col2,#T_d1768_row26_col1,#T_d1768_row26_col2,#T_d1768_row27_col1,#T_d1768_row27_col2,#T_d1768_row28_col1,#T_d1768_row28_col2,#T_d1768_row29_col1,#T_d1768_row29_col2,#T_d1768_row30_col1,#T_d1768_row30_col2,#T_d1768_row31_col1,#T_d1768_row31_col2,#T_d1768_row32_col1,#T_d1768_row32_col2,#T_d1768_row33_col1,#T_d1768_row33_col2,#T_d1768_row34_col1,#T_d1768_row34_col2,#T_d1768_row35_col1,#T_d1768_row35_col2,#T_d1768_row36_col1,#T_d1768_row36_col2,#T_d1768_row37_col1,#T_d1768_row37_col2,#T_d1768_row38_col1,#T_d1768_row38_col2,#T_d1768_row39_col1,#T_d1768_row39_col2,#T_d1768_row40_col1,#T_d1768_row40_col2,#T_d1768_row41_col1,#T_d1768_row41_col2,#T_d1768_row42_col1,#T_d1768_row42_col2,#T_d1768_row43_col1,#T_d1768_row43_col2,#T_d1768_row44_col1,#T_d1768_row44_col2,#T_d1768_row45_col1,#T_d1768_row45_col2,#T_d1768_row46_col1,#T_d1768_row46_col2,#T_d1768_row47_col1,#T_d1768_row47_col2,#T_d1768_row48_col1,#T_d1768_row48_col2,#T_d1768_row49_col1,#T_d1768_row49_col2,#T_d1768_row50_col1,#T_d1768_row50_col2,#T_d1768_row51_col1,#T_d1768_row51_col2,#T_d1768_row52_col1,#T_d1768_row52_col2{\n",
       "            background-color:  #00ffff;\n",
       "            color:  #000000;\n",
       "        }</style><table id=\"T_d1768_\" ><thead>    <tr>        <th class=\"blank level0\" ></th>        <th class=\"col_heading level0 col0\" >названия столбцов</th>        <th class=\"col_heading level0 col1\" >кол-во пропусков</th>        <th class=\"col_heading level0 col2\" >пропуски в %</th>    </tr></thead><tbody>\n",
       "                <tr>\n",
       "                        <th id=\"T_d1768_level0_row0\" class=\"row_heading level0 row0\" >22</th>\n",
       "                        <td id=\"T_d1768_row0_col0\" class=\"data row0 col0\" >rougher.input.floatbank11_xanthate</td>\n",
       "                        <td id=\"T_d1768_row0_col1\" class=\"data row0 col1\" >25</td>\n",
       "                        <td id=\"T_d1768_row0_col2\" class=\"data row0 col2\" >0.472590</td>\n",
       "            </tr>\n",
       "            <tr>\n",
       "                        <th id=\"T_d1768_level0_row1\" class=\"row_heading level0 row1\" >17</th>\n",
       "                        <td id=\"T_d1768_row1_col0\" class=\"data row1 col0\" >rougher.input.feed_sol</td>\n",
       "                        <td id=\"T_d1768_row1_col1\" class=\"data row1 col1\" >21</td>\n",
       "                        <td id=\"T_d1768_row1_col2\" class=\"data row1 col2\" >0.396975</td>\n",
       "            </tr>\n",
       "            <tr>\n",
       "                        <th id=\"T_d1768_level0_row2\" class=\"row_heading level0 row2\" >39</th>\n",
       "                        <td id=\"T_d1768_row2_col0\" class=\"data row2 col0\" >secondary_cleaner.state.floatbank3_a_air</td>\n",
       "                        <td id=\"T_d1768_row2_col1\" class=\"data row2 col1\" >9</td>\n",
       "                        <td id=\"T_d1768_row2_col2\" class=\"data row2 col2\" >0.170132</td>\n",
       "            </tr>\n",
       "            <tr>\n",
       "                        <th id=\"T_d1768_level0_row3\" class=\"row_heading level0 row3\" >21</th>\n",
       "                        <td id=\"T_d1768_row3_col0\" class=\"data row3 col0\" >rougher.input.floatbank11_sulfate</td>\n",
       "                        <td id=\"T_d1768_row3_col1\" class=\"data row3 col1\" >8</td>\n",
       "                        <td id=\"T_d1768_row3_col2\" class=\"data row3 col2\" >0.151229</td>\n",
       "            </tr>\n",
       "            <tr>\n",
       "                        <th id=\"T_d1768_level0_row4\" class=\"row_heading level0 row4\" >2</th>\n",
       "                        <td id=\"T_d1768_row4_col0\" class=\"data row4 col0\" >primary_cleaner.input.depressant</td>\n",
       "                        <td id=\"T_d1768_row4_col1\" class=\"data row4 col1\" >5</td>\n",
       "                        <td id=\"T_d1768_row4_col2\" class=\"data row4 col2\" >0.094518</td>\n",
       "            </tr>\n",
       "            <tr>\n",
       "                        <th id=\"T_d1768_level0_row5\" class=\"row_heading level0 row5\" >19</th>\n",
       "                        <td id=\"T_d1768_row5_col0\" class=\"data row5 col0\" >rougher.input.floatbank10_sulfate</td>\n",
       "                        <td id=\"T_d1768_row5_col1\" class=\"data row5 col1\" >5</td>\n",
       "                        <td id=\"T_d1768_row5_col2\" class=\"data row5 col2\" >0.094518</td>\n",
       "            </tr>\n",
       "            <tr>\n",
       "                        <th id=\"T_d1768_level0_row6\" class=\"row_heading level0 row6\" >4</th>\n",
       "                        <td id=\"T_d1768_row6_col0\" class=\"data row6 col0\" >primary_cleaner.input.xanthate</td>\n",
       "                        <td id=\"T_d1768_row6_col1\" class=\"data row6 col1\" >4</td>\n",
       "                        <td id=\"T_d1768_row6_col2\" class=\"data row6 col2\" >0.075614</td>\n",
       "            </tr>\n",
       "            <tr>\n",
       "                        <th id=\"T_d1768_level0_row7\" class=\"row_heading level0 row7\" >1</th>\n",
       "                        <td id=\"T_d1768_row7_col0\" class=\"data row7 col0\" >primary_cleaner.input.sulfate</td>\n",
       "                        <td id=\"T_d1768_row7_col1\" class=\"data row7 col1\" >4</td>\n",
       "                        <td id=\"T_d1768_row7_col2\" class=\"data row7 col2\" >0.075614</td>\n",
       "            </tr>\n",
       "            <tr>\n",
       "                        <th id=\"T_d1768_level0_row8\" class=\"row_heading level0 row8\" >15</th>\n",
       "                        <td id=\"T_d1768_row8_col0\" class=\"data row8 col0\" >rougher.input.feed_rate</td>\n",
       "                        <td id=\"T_d1768_row8_col1\" class=\"data row8 col1\" >3</td>\n",
       "                        <td id=\"T_d1768_row8_col2\" class=\"data row8 col2\" >0.056711</td>\n",
       "            </tr>\n",
       "            <tr>\n",
       "                        <th id=\"T_d1768_level0_row9\" class=\"row_heading level0 row9\" >35</th>\n",
       "                        <td id=\"T_d1768_row9_col0\" class=\"data row9 col0\" >secondary_cleaner.state.floatbank2_a_air</td>\n",
       "                        <td id=\"T_d1768_row9_col1\" class=\"data row9 col1\" >3</td>\n",
       "                        <td id=\"T_d1768_row9_col2\" class=\"data row9 col2\" >0.056711</td>\n",
       "            </tr>\n",
       "            <tr>\n",
       "                        <th id=\"T_d1768_level0_row10\" class=\"row_heading level0 row10\" >37</th>\n",
       "                        <td id=\"T_d1768_row10_col0\" class=\"data row10 col0\" >secondary_cleaner.state.floatbank2_b_air</td>\n",
       "                        <td id=\"T_d1768_row10_col1\" class=\"data row10 col1\" >2</td>\n",
       "                        <td id=\"T_d1768_row10_col2\" class=\"data row10 col2\" >0.037807</td>\n",
       "            </tr>\n",
       "            <tr>\n",
       "                        <th id=\"T_d1768_level0_row11\" class=\"row_heading level0 row11\" >16</th>\n",
       "                        <td id=\"T_d1768_row11_col0\" class=\"data row11 col0\" >rougher.input.feed_size</td>\n",
       "                        <td id=\"T_d1768_row11_col1\" class=\"data row11 col1\" >1</td>\n",
       "                        <td id=\"T_d1768_row11_col2\" class=\"data row11 col2\" >0.018904</td>\n",
       "            </tr>\n",
       "            <tr>\n",
       "                        <th id=\"T_d1768_level0_row12\" class=\"row_heading level0 row12\" >38</th>\n",
       "                        <td id=\"T_d1768_row12_col0\" class=\"data row12 col0\" >secondary_cleaner.state.floatbank2_b_level</td>\n",
       "                        <td id=\"T_d1768_row12_col1\" class=\"data row12 col1\" >0</td>\n",
       "                        <td id=\"T_d1768_row12_col2\" class=\"data row12 col2\" >0.000000</td>\n",
       "            </tr>\n",
       "            <tr>\n",
       "                        <th id=\"T_d1768_level0_row13\" class=\"row_heading level0 row13\" >34</th>\n",
       "                        <td id=\"T_d1768_row13_col0\" class=\"data row13 col0\" >rougher.state.floatbank10_f_level</td>\n",
       "                        <td id=\"T_d1768_row13_col1\" class=\"data row13 col1\" >0</td>\n",
       "                        <td id=\"T_d1768_row13_col2\" class=\"data row13 col2\" >0.000000</td>\n",
       "            </tr>\n",
       "            <tr>\n",
       "                        <th id=\"T_d1768_level0_row14\" class=\"row_heading level0 row14\" >33</th>\n",
       "                        <td id=\"T_d1768_row14_col0\" class=\"data row14 col0\" >rougher.state.floatbank10_f_air</td>\n",
       "                        <td id=\"T_d1768_row14_col1\" class=\"data row14 col1\" >0</td>\n",
       "                        <td id=\"T_d1768_row14_col2\" class=\"data row14 col2\" >0.000000</td>\n",
       "            </tr>\n",
       "            <tr>\n",
       "                        <th id=\"T_d1768_level0_row15\" class=\"row_heading level0 row15\" >40</th>\n",
       "                        <td id=\"T_d1768_row15_col0\" class=\"data row15 col0\" >secondary_cleaner.state.floatbank3_a_level</td>\n",
       "                        <td id=\"T_d1768_row15_col1\" class=\"data row15 col1\" >0</td>\n",
       "                        <td id=\"T_d1768_row15_col2\" class=\"data row15 col2\" >0.000000</td>\n",
       "            </tr>\n",
       "            <tr>\n",
       "                        <th id=\"T_d1768_level0_row16\" class=\"row_heading level0 row16\" >36</th>\n",
       "                        <td id=\"T_d1768_row16_col0\" class=\"data row16 col0\" >secondary_cleaner.state.floatbank2_a_level</td>\n",
       "                        <td id=\"T_d1768_row16_col1\" class=\"data row16 col1\" >0</td>\n",
       "                        <td id=\"T_d1768_row16_col2\" class=\"data row16 col2\" >0.000000</td>\n",
       "            </tr>\n",
       "            <tr>\n",
       "                        <th id=\"T_d1768_level0_row17\" class=\"row_heading level0 row17\" >0</th>\n",
       "                        <td id=\"T_d1768_row17_col0\" class=\"data row17 col0\" >date</td>\n",
       "                        <td id=\"T_d1768_row17_col1\" class=\"data row17 col1\" >0</td>\n",
       "                        <td id=\"T_d1768_row17_col2\" class=\"data row17 col2\" >0.000000</td>\n",
       "            </tr>\n",
       "            <tr>\n",
       "                        <th id=\"T_d1768_level0_row18\" class=\"row_heading level0 row18\" >31</th>\n",
       "                        <td id=\"T_d1768_row18_col0\" class=\"data row18 col0\" >rougher.state.floatbank10_e_air</td>\n",
       "                        <td id=\"T_d1768_row18_col1\" class=\"data row18 col1\" >0</td>\n",
       "                        <td id=\"T_d1768_row18_col2\" class=\"data row18 col2\" >0.000000</td>\n",
       "            </tr>\n",
       "            <tr>\n",
       "                        <th id=\"T_d1768_level0_row19\" class=\"row_heading level0 row19\" >41</th>\n",
       "                        <td id=\"T_d1768_row19_col0\" class=\"data row19 col0\" >secondary_cleaner.state.floatbank3_b_air</td>\n",
       "                        <td id=\"T_d1768_row19_col1\" class=\"data row19 col1\" >0</td>\n",
       "                        <td id=\"T_d1768_row19_col2\" class=\"data row19 col2\" >0.000000</td>\n",
       "            </tr>\n",
       "            <tr>\n",
       "                        <th id=\"T_d1768_level0_row20\" class=\"row_heading level0 row20\" >42</th>\n",
       "                        <td id=\"T_d1768_row20_col0\" class=\"data row20 col0\" >secondary_cleaner.state.floatbank3_b_level</td>\n",
       "                        <td id=\"T_d1768_row20_col1\" class=\"data row20 col1\" >0</td>\n",
       "                        <td id=\"T_d1768_row20_col2\" class=\"data row20 col2\" >0.000000</td>\n",
       "            </tr>\n",
       "            <tr>\n",
       "                        <th id=\"T_d1768_level0_row21\" class=\"row_heading level0 row21\" >43</th>\n",
       "                        <td id=\"T_d1768_row21_col0\" class=\"data row21 col0\" >secondary_cleaner.state.floatbank4_a_air</td>\n",
       "                        <td id=\"T_d1768_row21_col1\" class=\"data row21 col1\" >0</td>\n",
       "                        <td id=\"T_d1768_row21_col2\" class=\"data row21 col2\" >0.000000</td>\n",
       "            </tr>\n",
       "            <tr>\n",
       "                        <th id=\"T_d1768_level0_row22\" class=\"row_heading level0 row22\" >44</th>\n",
       "                        <td id=\"T_d1768_row22_col0\" class=\"data row22 col0\" >secondary_cleaner.state.floatbank4_a_level</td>\n",
       "                        <td id=\"T_d1768_row22_col1\" class=\"data row22 col1\" >0</td>\n",
       "                        <td id=\"T_d1768_row22_col2\" class=\"data row22 col2\" >0.000000</td>\n",
       "            </tr>\n",
       "            <tr>\n",
       "                        <th id=\"T_d1768_level0_row23\" class=\"row_heading level0 row23\" >45</th>\n",
       "                        <td id=\"T_d1768_row23_col0\" class=\"data row23 col0\" >secondary_cleaner.state.floatbank4_b_air</td>\n",
       "                        <td id=\"T_d1768_row23_col1\" class=\"data row23 col1\" >0</td>\n",
       "                        <td id=\"T_d1768_row23_col2\" class=\"data row23 col2\" >0.000000</td>\n",
       "            </tr>\n",
       "            <tr>\n",
       "                        <th id=\"T_d1768_level0_row24\" class=\"row_heading level0 row24\" >46</th>\n",
       "                        <td id=\"T_d1768_row24_col0\" class=\"data row24 col0\" >secondary_cleaner.state.floatbank4_b_level</td>\n",
       "                        <td id=\"T_d1768_row24_col1\" class=\"data row24 col1\" >0</td>\n",
       "                        <td id=\"T_d1768_row24_col2\" class=\"data row24 col2\" >0.000000</td>\n",
       "            </tr>\n",
       "            <tr>\n",
       "                        <th id=\"T_d1768_level0_row25\" class=\"row_heading level0 row25\" >47</th>\n",
       "                        <td id=\"T_d1768_row25_col0\" class=\"data row25 col0\" >secondary_cleaner.state.floatbank5_a_air</td>\n",
       "                        <td id=\"T_d1768_row25_col1\" class=\"data row25 col1\" >0</td>\n",
       "                        <td id=\"T_d1768_row25_col2\" class=\"data row25 col2\" >0.000000</td>\n",
       "            </tr>\n",
       "            <tr>\n",
       "                        <th id=\"T_d1768_level0_row26\" class=\"row_heading level0 row26\" >48</th>\n",
       "                        <td id=\"T_d1768_row26_col0\" class=\"data row26 col0\" >secondary_cleaner.state.floatbank5_a_level</td>\n",
       "                        <td id=\"T_d1768_row26_col1\" class=\"data row26 col1\" >0</td>\n",
       "                        <td id=\"T_d1768_row26_col2\" class=\"data row26 col2\" >0.000000</td>\n",
       "            </tr>\n",
       "            <tr>\n",
       "                        <th id=\"T_d1768_level0_row27\" class=\"row_heading level0 row27\" >49</th>\n",
       "                        <td id=\"T_d1768_row27_col0\" class=\"data row27 col0\" >secondary_cleaner.state.floatbank5_b_air</td>\n",
       "                        <td id=\"T_d1768_row27_col1\" class=\"data row27 col1\" >0</td>\n",
       "                        <td id=\"T_d1768_row27_col2\" class=\"data row27 col2\" >0.000000</td>\n",
       "            </tr>\n",
       "            <tr>\n",
       "                        <th id=\"T_d1768_level0_row28\" class=\"row_heading level0 row28\" >50</th>\n",
       "                        <td id=\"T_d1768_row28_col0\" class=\"data row28 col0\" >secondary_cleaner.state.floatbank5_b_level</td>\n",
       "                        <td id=\"T_d1768_row28_col1\" class=\"data row28 col1\" >0</td>\n",
       "                        <td id=\"T_d1768_row28_col2\" class=\"data row28 col2\" >0.000000</td>\n",
       "            </tr>\n",
       "            <tr>\n",
       "                        <th id=\"T_d1768_level0_row29\" class=\"row_heading level0 row29\" >51</th>\n",
       "                        <td id=\"T_d1768_row29_col0\" class=\"data row29 col0\" >secondary_cleaner.state.floatbank6_a_air</td>\n",
       "                        <td id=\"T_d1768_row29_col1\" class=\"data row29 col1\" >0</td>\n",
       "                        <td id=\"T_d1768_row29_col2\" class=\"data row29 col2\" >0.000000</td>\n",
       "            </tr>\n",
       "            <tr>\n",
       "                        <th id=\"T_d1768_level0_row30\" class=\"row_heading level0 row30\" >32</th>\n",
       "                        <td id=\"T_d1768_row30_col0\" class=\"data row30 col0\" >rougher.state.floatbank10_e_level</td>\n",
       "                        <td id=\"T_d1768_row30_col1\" class=\"data row30 col1\" >0</td>\n",
       "                        <td id=\"T_d1768_row30_col2\" class=\"data row30 col2\" >0.000000</td>\n",
       "            </tr>\n",
       "            <tr>\n",
       "                        <th id=\"T_d1768_level0_row31\" class=\"row_heading level0 row31\" >26</th>\n",
       "                        <td id=\"T_d1768_row31_col0\" class=\"data row31 col0\" >rougher.state.floatbank10_b_level</td>\n",
       "                        <td id=\"T_d1768_row31_col1\" class=\"data row31 col1\" >0</td>\n",
       "                        <td id=\"T_d1768_row31_col2\" class=\"data row31 col2\" >0.000000</td>\n",
       "            </tr>\n",
       "            <tr>\n",
       "                        <th id=\"T_d1768_level0_row32\" class=\"row_heading level0 row32\" >30</th>\n",
       "                        <td id=\"T_d1768_row32_col0\" class=\"data row32 col0\" >rougher.state.floatbank10_d_level</td>\n",
       "                        <td id=\"T_d1768_row32_col1\" class=\"data row32 col1\" >0</td>\n",
       "                        <td id=\"T_d1768_row32_col2\" class=\"data row32 col2\" >0.000000</td>\n",
       "            </tr>\n",
       "            <tr>\n",
       "                        <th id=\"T_d1768_level0_row33\" class=\"row_heading level0 row33\" >12</th>\n",
       "                        <td id=\"T_d1768_row33_col0\" class=\"data row33 col0\" >primary_cleaner.state.floatbank8_d_level</td>\n",
       "                        <td id=\"T_d1768_row33_col1\" class=\"data row33 col1\" >0</td>\n",
       "                        <td id=\"T_d1768_row33_col2\" class=\"data row33 col2\" >0.000000</td>\n",
       "            </tr>\n",
       "            <tr>\n",
       "                        <th id=\"T_d1768_level0_row34\" class=\"row_heading level0 row34\" >3</th>\n",
       "                        <td id=\"T_d1768_row34_col0\" class=\"data row34 col0\" >primary_cleaner.input.feed_size</td>\n",
       "                        <td id=\"T_d1768_row34_col1\" class=\"data row34 col1\" >0</td>\n",
       "                        <td id=\"T_d1768_row34_col2\" class=\"data row34 col2\" >0.000000</td>\n",
       "            </tr>\n",
       "            <tr>\n",
       "                        <th id=\"T_d1768_level0_row35\" class=\"row_heading level0 row35\" >5</th>\n",
       "                        <td id=\"T_d1768_row35_col0\" class=\"data row35 col0\" >primary_cleaner.state.floatbank8_a_air</td>\n",
       "                        <td id=\"T_d1768_row35_col1\" class=\"data row35 col1\" >0</td>\n",
       "                        <td id=\"T_d1768_row35_col2\" class=\"data row35 col2\" >0.000000</td>\n",
       "            </tr>\n",
       "            <tr>\n",
       "                        <th id=\"T_d1768_level0_row36\" class=\"row_heading level0 row36\" >6</th>\n",
       "                        <td id=\"T_d1768_row36_col0\" class=\"data row36 col0\" >primary_cleaner.state.floatbank8_a_level</td>\n",
       "                        <td id=\"T_d1768_row36_col1\" class=\"data row36 col1\" >0</td>\n",
       "                        <td id=\"T_d1768_row36_col2\" class=\"data row36 col2\" >0.000000</td>\n",
       "            </tr>\n",
       "            <tr>\n",
       "                        <th id=\"T_d1768_level0_row37\" class=\"row_heading level0 row37\" >7</th>\n",
       "                        <td id=\"T_d1768_row37_col0\" class=\"data row37 col0\" >primary_cleaner.state.floatbank8_b_air</td>\n",
       "                        <td id=\"T_d1768_row37_col1\" class=\"data row37 col1\" >0</td>\n",
       "                        <td id=\"T_d1768_row37_col2\" class=\"data row37 col2\" >0.000000</td>\n",
       "            </tr>\n",
       "            <tr>\n",
       "                        <th id=\"T_d1768_level0_row38\" class=\"row_heading level0 row38\" >8</th>\n",
       "                        <td id=\"T_d1768_row38_col0\" class=\"data row38 col0\" >primary_cleaner.state.floatbank8_b_level</td>\n",
       "                        <td id=\"T_d1768_row38_col1\" class=\"data row38 col1\" >0</td>\n",
       "                        <td id=\"T_d1768_row38_col2\" class=\"data row38 col2\" >0.000000</td>\n",
       "            </tr>\n",
       "            <tr>\n",
       "                        <th id=\"T_d1768_level0_row39\" class=\"row_heading level0 row39\" >9</th>\n",
       "                        <td id=\"T_d1768_row39_col0\" class=\"data row39 col0\" >primary_cleaner.state.floatbank8_c_air</td>\n",
       "                        <td id=\"T_d1768_row39_col1\" class=\"data row39 col1\" >0</td>\n",
       "                        <td id=\"T_d1768_row39_col2\" class=\"data row39 col2\" >0.000000</td>\n",
       "            </tr>\n",
       "            <tr>\n",
       "                        <th id=\"T_d1768_level0_row40\" class=\"row_heading level0 row40\" >10</th>\n",
       "                        <td id=\"T_d1768_row40_col0\" class=\"data row40 col0\" >primary_cleaner.state.floatbank8_c_level</td>\n",
       "                        <td id=\"T_d1768_row40_col1\" class=\"data row40 col1\" >0</td>\n",
       "                        <td id=\"T_d1768_row40_col2\" class=\"data row40 col2\" >0.000000</td>\n",
       "            </tr>\n",
       "            <tr>\n",
       "                        <th id=\"T_d1768_level0_row41\" class=\"row_heading level0 row41\" >11</th>\n",
       "                        <td id=\"T_d1768_row41_col0\" class=\"data row41 col0\" >primary_cleaner.state.floatbank8_d_air</td>\n",
       "                        <td id=\"T_d1768_row41_col1\" class=\"data row41 col1\" >0</td>\n",
       "                        <td id=\"T_d1768_row41_col2\" class=\"data row41 col2\" >0.000000</td>\n",
       "            </tr>\n",
       "            <tr>\n",
       "                        <th id=\"T_d1768_level0_row42\" class=\"row_heading level0 row42\" >13</th>\n",
       "                        <td id=\"T_d1768_row42_col0\" class=\"data row42 col0\" >rougher.input.feed_ag</td>\n",
       "                        <td id=\"T_d1768_row42_col1\" class=\"data row42 col1\" >0</td>\n",
       "                        <td id=\"T_d1768_row42_col2\" class=\"data row42 col2\" >0.000000</td>\n",
       "            </tr>\n",
       "            <tr>\n",
       "                        <th id=\"T_d1768_level0_row43\" class=\"row_heading level0 row43\" >29</th>\n",
       "                        <td id=\"T_d1768_row43_col0\" class=\"data row43 col0\" >rougher.state.floatbank10_d_air</td>\n",
       "                        <td id=\"T_d1768_row43_col1\" class=\"data row43 col1\" >0</td>\n",
       "                        <td id=\"T_d1768_row43_col2\" class=\"data row43 col2\" >0.000000</td>\n",
       "            </tr>\n",
       "            <tr>\n",
       "                        <th id=\"T_d1768_level0_row44\" class=\"row_heading level0 row44\" >14</th>\n",
       "                        <td id=\"T_d1768_row44_col0\" class=\"data row44 col0\" >rougher.input.feed_pb</td>\n",
       "                        <td id=\"T_d1768_row44_col1\" class=\"data row44 col1\" >0</td>\n",
       "                        <td id=\"T_d1768_row44_col2\" class=\"data row44 col2\" >0.000000</td>\n",
       "            </tr>\n",
       "            <tr>\n",
       "                        <th id=\"T_d1768_level0_row45\" class=\"row_heading level0 row45\" >18</th>\n",
       "                        <td id=\"T_d1768_row45_col0\" class=\"data row45 col0\" >rougher.input.feed_au</td>\n",
       "                        <td id=\"T_d1768_row45_col1\" class=\"data row45 col1\" >0</td>\n",
       "                        <td id=\"T_d1768_row45_col2\" class=\"data row45 col2\" >0.000000</td>\n",
       "            </tr>\n",
       "            <tr>\n",
       "                        <th id=\"T_d1768_level0_row46\" class=\"row_heading level0 row46\" >20</th>\n",
       "                        <td id=\"T_d1768_row46_col0\" class=\"data row46 col0\" >rougher.input.floatbank10_xanthate</td>\n",
       "                        <td id=\"T_d1768_row46_col1\" class=\"data row46 col1\" >0</td>\n",
       "                        <td id=\"T_d1768_row46_col2\" class=\"data row46 col2\" >0.000000</td>\n",
       "            </tr>\n",
       "            <tr>\n",
       "                        <th id=\"T_d1768_level0_row47\" class=\"row_heading level0 row47\" >23</th>\n",
       "                        <td id=\"T_d1768_row47_col0\" class=\"data row47 col0\" >rougher.state.floatbank10_a_air</td>\n",
       "                        <td id=\"T_d1768_row47_col1\" class=\"data row47 col1\" >0</td>\n",
       "                        <td id=\"T_d1768_row47_col2\" class=\"data row47 col2\" >0.000000</td>\n",
       "            </tr>\n",
       "            <tr>\n",
       "                        <th id=\"T_d1768_level0_row48\" class=\"row_heading level0 row48\" >24</th>\n",
       "                        <td id=\"T_d1768_row48_col0\" class=\"data row48 col0\" >rougher.state.floatbank10_a_level</td>\n",
       "                        <td id=\"T_d1768_row48_col1\" class=\"data row48 col1\" >0</td>\n",
       "                        <td id=\"T_d1768_row48_col2\" class=\"data row48 col2\" >0.000000</td>\n",
       "            </tr>\n",
       "            <tr>\n",
       "                        <th id=\"T_d1768_level0_row49\" class=\"row_heading level0 row49\" >25</th>\n",
       "                        <td id=\"T_d1768_row49_col0\" class=\"data row49 col0\" >rougher.state.floatbank10_b_air</td>\n",
       "                        <td id=\"T_d1768_row49_col1\" class=\"data row49 col1\" >0</td>\n",
       "                        <td id=\"T_d1768_row49_col2\" class=\"data row49 col2\" >0.000000</td>\n",
       "            </tr>\n",
       "            <tr>\n",
       "                        <th id=\"T_d1768_level0_row50\" class=\"row_heading level0 row50\" >27</th>\n",
       "                        <td id=\"T_d1768_row50_col0\" class=\"data row50 col0\" >rougher.state.floatbank10_c_air</td>\n",
       "                        <td id=\"T_d1768_row50_col1\" class=\"data row50 col1\" >0</td>\n",
       "                        <td id=\"T_d1768_row50_col2\" class=\"data row50 col2\" >0.000000</td>\n",
       "            </tr>\n",
       "            <tr>\n",
       "                        <th id=\"T_d1768_level0_row51\" class=\"row_heading level0 row51\" >28</th>\n",
       "                        <td id=\"T_d1768_row51_col0\" class=\"data row51 col0\" >rougher.state.floatbank10_c_level</td>\n",
       "                        <td id=\"T_d1768_row51_col1\" class=\"data row51 col1\" >0</td>\n",
       "                        <td id=\"T_d1768_row51_col2\" class=\"data row51 col2\" >0.000000</td>\n",
       "            </tr>\n",
       "            <tr>\n",
       "                        <th id=\"T_d1768_level0_row52\" class=\"row_heading level0 row52\" >52</th>\n",
       "                        <td id=\"T_d1768_row52_col0\" class=\"data row52 col0\" >secondary_cleaner.state.floatbank6_a_level</td>\n",
       "                        <td id=\"T_d1768_row52_col1\" class=\"data row52 col1\" >0</td>\n",
       "                        <td id=\"T_d1768_row52_col2\" class=\"data row52 col2\" >0.000000</td>\n",
       "            </tr>\n",
       "    </tbody></table>"
      ],
      "text/plain": [
       "<pandas.io.formats.style.Styler at 0x7f53681eebb0>"
      ]
     },
     "metadata": {},
     "output_type": "display_data"
    }
   ],
   "source": [
    "get_data_info(data_test)"
   ]
  },
  {
   "cell_type": "markdown",
   "metadata": {},
   "source": [
    "В датасете содержатся 5290 строк, 53 столбца. Типы данных по столбцам корректны: 52 - вещественные числа, 1 столбец, преобразованный из объекта в дату. Явные дубликаты отсутствуют. Пропуски содержат ~22% столбцов и не превышают 0.5% от объёма данных признака."
   ]
  },
  {
   "cell_type": "code",
   "execution_count": 6,
   "metadata": {
    "ExecuteTime": {
     "end_time": "2023-03-25T08:55:47.079505Z",
     "start_time": "2023-03-25T08:55:46.831992Z"
    },
    "scrolled": false
   },
   "outputs": [
    {
     "name": "stdout",
     "output_type": "stream",
     "text": [
      "\n",
      "Первые 5 строк датафрейма:\n"
     ]
    },
    {
     "data": {
      "text/html": [
       "<div>\n",
       "<style scoped>\n",
       "    .dataframe tbody tr th:only-of-type {\n",
       "        vertical-align: middle;\n",
       "    }\n",
       "\n",
       "    .dataframe tbody tr th {\n",
       "        vertical-align: top;\n",
       "    }\n",
       "\n",
       "    .dataframe thead th {\n",
       "        text-align: right;\n",
       "    }\n",
       "</style>\n",
       "<table border=\"1\" class=\"dataframe\">\n",
       "  <thead>\n",
       "    <tr style=\"text-align: right;\">\n",
       "      <th></th>\n",
       "      <th>date</th>\n",
       "      <th>final.output.concentrate_ag</th>\n",
       "      <th>final.output.concentrate_pb</th>\n",
       "      <th>final.output.concentrate_sol</th>\n",
       "      <th>final.output.concentrate_au</th>\n",
       "      <th>final.output.recovery</th>\n",
       "      <th>final.output.tail_ag</th>\n",
       "      <th>final.output.tail_pb</th>\n",
       "      <th>final.output.tail_sol</th>\n",
       "      <th>final.output.tail_au</th>\n",
       "      <th>primary_cleaner.input.sulfate</th>\n",
       "      <th>primary_cleaner.input.depressant</th>\n",
       "      <th>primary_cleaner.input.feed_size</th>\n",
       "      <th>primary_cleaner.input.xanthate</th>\n",
       "      <th>primary_cleaner.output.concentrate_ag</th>\n",
       "      <th>primary_cleaner.output.concentrate_pb</th>\n",
       "      <th>primary_cleaner.output.concentrate_sol</th>\n",
       "      <th>primary_cleaner.output.concentrate_au</th>\n",
       "      <th>primary_cleaner.output.tail_ag</th>\n",
       "      <th>primary_cleaner.output.tail_pb</th>\n",
       "      <th>primary_cleaner.output.tail_sol</th>\n",
       "      <th>primary_cleaner.output.tail_au</th>\n",
       "      <th>primary_cleaner.state.floatbank8_a_air</th>\n",
       "      <th>primary_cleaner.state.floatbank8_a_level</th>\n",
       "      <th>primary_cleaner.state.floatbank8_b_air</th>\n",
       "      <th>primary_cleaner.state.floatbank8_b_level</th>\n",
       "      <th>primary_cleaner.state.floatbank8_c_air</th>\n",
       "      <th>primary_cleaner.state.floatbank8_c_level</th>\n",
       "      <th>primary_cleaner.state.floatbank8_d_air</th>\n",
       "      <th>primary_cleaner.state.floatbank8_d_level</th>\n",
       "      <th>rougher.calculation.sulfate_to_au_concentrate</th>\n",
       "      <th>rougher.calculation.floatbank10_sulfate_to_au_feed</th>\n",
       "      <th>rougher.calculation.floatbank11_sulfate_to_au_feed</th>\n",
       "      <th>rougher.calculation.au_pb_ratio</th>\n",
       "      <th>rougher.input.feed_ag</th>\n",
       "      <th>rougher.input.feed_pb</th>\n",
       "      <th>rougher.input.feed_rate</th>\n",
       "      <th>rougher.input.feed_size</th>\n",
       "      <th>rougher.input.feed_sol</th>\n",
       "      <th>rougher.input.feed_au</th>\n",
       "      <th>rougher.input.floatbank10_sulfate</th>\n",
       "      <th>rougher.input.floatbank10_xanthate</th>\n",
       "      <th>rougher.input.floatbank11_sulfate</th>\n",
       "      <th>rougher.input.floatbank11_xanthate</th>\n",
       "      <th>rougher.output.concentrate_ag</th>\n",
       "      <th>rougher.output.concentrate_pb</th>\n",
       "      <th>rougher.output.concentrate_sol</th>\n",
       "      <th>rougher.output.concentrate_au</th>\n",
       "      <th>rougher.output.recovery</th>\n",
       "      <th>rougher.output.tail_ag</th>\n",
       "      <th>rougher.output.tail_pb</th>\n",
       "      <th>rougher.output.tail_sol</th>\n",
       "      <th>rougher.output.tail_au</th>\n",
       "      <th>rougher.state.floatbank10_a_air</th>\n",
       "      <th>rougher.state.floatbank10_a_level</th>\n",
       "      <th>rougher.state.floatbank10_b_air</th>\n",
       "      <th>rougher.state.floatbank10_b_level</th>\n",
       "      <th>rougher.state.floatbank10_c_air</th>\n",
       "      <th>rougher.state.floatbank10_c_level</th>\n",
       "      <th>rougher.state.floatbank10_d_air</th>\n",
       "      <th>rougher.state.floatbank10_d_level</th>\n",
       "      <th>rougher.state.floatbank10_e_air</th>\n",
       "      <th>rougher.state.floatbank10_e_level</th>\n",
       "      <th>rougher.state.floatbank10_f_air</th>\n",
       "      <th>rougher.state.floatbank10_f_level</th>\n",
       "      <th>secondary_cleaner.output.tail_ag</th>\n",
       "      <th>secondary_cleaner.output.tail_pb</th>\n",
       "      <th>secondary_cleaner.output.tail_sol</th>\n",
       "      <th>secondary_cleaner.output.tail_au</th>\n",
       "      <th>secondary_cleaner.state.floatbank2_a_air</th>\n",
       "      <th>secondary_cleaner.state.floatbank2_a_level</th>\n",
       "      <th>secondary_cleaner.state.floatbank2_b_air</th>\n",
       "      <th>secondary_cleaner.state.floatbank2_b_level</th>\n",
       "      <th>secondary_cleaner.state.floatbank3_a_air</th>\n",
       "      <th>secondary_cleaner.state.floatbank3_a_level</th>\n",
       "      <th>secondary_cleaner.state.floatbank3_b_air</th>\n",
       "      <th>secondary_cleaner.state.floatbank3_b_level</th>\n",
       "      <th>secondary_cleaner.state.floatbank4_a_air</th>\n",
       "      <th>secondary_cleaner.state.floatbank4_a_level</th>\n",
       "      <th>secondary_cleaner.state.floatbank4_b_air</th>\n",
       "      <th>secondary_cleaner.state.floatbank4_b_level</th>\n",
       "      <th>secondary_cleaner.state.floatbank5_a_air</th>\n",
       "      <th>secondary_cleaner.state.floatbank5_a_level</th>\n",
       "      <th>secondary_cleaner.state.floatbank5_b_air</th>\n",
       "      <th>secondary_cleaner.state.floatbank5_b_level</th>\n",
       "      <th>secondary_cleaner.state.floatbank6_a_air</th>\n",
       "      <th>secondary_cleaner.state.floatbank6_a_level</th>\n",
       "    </tr>\n",
       "  </thead>\n",
       "  <tbody>\n",
       "    <tr>\n",
       "      <th>0</th>\n",
       "      <td>2016-01-15 00:00:00</td>\n",
       "      <td>6.055403</td>\n",
       "      <td>9.889648</td>\n",
       "      <td>5.507324</td>\n",
       "      <td>42.192020</td>\n",
       "      <td>70.541216</td>\n",
       "      <td>10.411962</td>\n",
       "      <td>0.895447</td>\n",
       "      <td>16.904297</td>\n",
       "      <td>2.143149</td>\n",
       "      <td>127.092003</td>\n",
       "      <td>10.128295</td>\n",
       "      <td>7.25</td>\n",
       "      <td>0.988759</td>\n",
       "      <td>8.547551</td>\n",
       "      <td>10.389648</td>\n",
       "      <td>19.529297</td>\n",
       "      <td>34.174427</td>\n",
       "      <td>14.936526</td>\n",
       "      <td>2.534912</td>\n",
       "      <td>7.476074</td>\n",
       "      <td>2.106679</td>\n",
       "      <td>1549.775757</td>\n",
       "      <td>-498.912140</td>\n",
       "      <td>1551.434204</td>\n",
       "      <td>-516.403442</td>\n",
       "      <td>1549.873901</td>\n",
       "      <td>-498.666595</td>\n",
       "      <td>1554.367432</td>\n",
       "      <td>-493.428131</td>\n",
       "      <td>41885.707031</td>\n",
       "      <td>3481.779053</td>\n",
       "      <td>3520.337158</td>\n",
       "      <td>2.838687</td>\n",
       "      <td>6.100378</td>\n",
       "      <td>2.284912</td>\n",
       "      <td>523.546326</td>\n",
       "      <td>55.486599</td>\n",
       "      <td>36.808594</td>\n",
       "      <td>6.486150</td>\n",
       "      <td>11.986616</td>\n",
       "      <td>6.007990</td>\n",
       "      <td>11.836743</td>\n",
       "      <td>6.005818</td>\n",
       "      <td>11.500771</td>\n",
       "      <td>7.101074</td>\n",
       "      <td>28.029297</td>\n",
       "      <td>19.793808</td>\n",
       "      <td>87.107763</td>\n",
       "      <td>5.008018</td>\n",
       "      <td>0.508728</td>\n",
       "      <td>19.154297</td>\n",
       "      <td>1.170244</td>\n",
       "      <td>999.706909</td>\n",
       "      <td>-404.066986</td>\n",
       "      <td>1603.011353</td>\n",
       "      <td>-434.715027</td>\n",
       "      <td>1602.375000</td>\n",
       "      <td>-442.204468</td>\n",
       "      <td>1598.937256</td>\n",
       "      <td>-451.294128</td>\n",
       "      <td>1404.472046</td>\n",
       "      <td>-455.462982</td>\n",
       "      <td>1416.354980</td>\n",
       "      <td>-451.939636</td>\n",
       "      <td>14.500184</td>\n",
       "      <td>4.694824</td>\n",
       "      <td>8.764648</td>\n",
       "      <td>2.606185</td>\n",
       "      <td>25.853109</td>\n",
       "      <td>-498.526489</td>\n",
       "      <td>23.893660</td>\n",
       "      <td>-501.406281</td>\n",
       "      <td>23.961798</td>\n",
       "      <td>-495.262817</td>\n",
       "      <td>21.940409</td>\n",
       "      <td>-499.340973</td>\n",
       "      <td>14.016835</td>\n",
       "      <td>-502.488007</td>\n",
       "      <td>12.099931</td>\n",
       "      <td>-504.715942</td>\n",
       "      <td>9.925633</td>\n",
       "      <td>-498.310211</td>\n",
       "      <td>8.079666</td>\n",
       "      <td>-500.470978</td>\n",
       "      <td>14.151341</td>\n",
       "      <td>-605.841980</td>\n",
       "    </tr>\n",
       "    <tr>\n",
       "      <th>1</th>\n",
       "      <td>2016-01-15 01:00:00</td>\n",
       "      <td>6.029369</td>\n",
       "      <td>9.968944</td>\n",
       "      <td>5.257781</td>\n",
       "      <td>42.701629</td>\n",
       "      <td>69.266198</td>\n",
       "      <td>10.462676</td>\n",
       "      <td>0.927452</td>\n",
       "      <td>16.634514</td>\n",
       "      <td>2.224930</td>\n",
       "      <td>125.629232</td>\n",
       "      <td>10.296251</td>\n",
       "      <td>7.25</td>\n",
       "      <td>1.002663</td>\n",
       "      <td>8.558743</td>\n",
       "      <td>10.497069</td>\n",
       "      <td>19.369147</td>\n",
       "      <td>34.118526</td>\n",
       "      <td>16.250511</td>\n",
       "      <td>3.049646</td>\n",
       "      <td>6.733907</td>\n",
       "      <td>2.353017</td>\n",
       "      <td>1576.166671</td>\n",
       "      <td>-500.904965</td>\n",
       "      <td>1575.950626</td>\n",
       "      <td>-499.865889</td>\n",
       "      <td>1575.994189</td>\n",
       "      <td>-499.315107</td>\n",
       "      <td>1574.479259</td>\n",
       "      <td>-498.931665</td>\n",
       "      <td>42050.861809</td>\n",
       "      <td>3498.370979</td>\n",
       "      <td>3489.981857</td>\n",
       "      <td>2.858998</td>\n",
       "      <td>6.161113</td>\n",
       "      <td>2.266033</td>\n",
       "      <td>525.290581</td>\n",
       "      <td>57.278666</td>\n",
       "      <td>35.753385</td>\n",
       "      <td>6.478583</td>\n",
       "      <td>11.971193</td>\n",
       "      <td>6.005766</td>\n",
       "      <td>11.996163</td>\n",
       "      <td>6.012594</td>\n",
       "      <td>11.615865</td>\n",
       "      <td>7.278807</td>\n",
       "      <td>28.067063</td>\n",
       "      <td>20.050975</td>\n",
       "      <td>86.843261</td>\n",
       "      <td>4.955378</td>\n",
       "      <td>0.536689</td>\n",
       "      <td>18.965234</td>\n",
       "      <td>1.184827</td>\n",
       "      <td>1000.286398</td>\n",
       "      <td>-400.065196</td>\n",
       "      <td>1600.754587</td>\n",
       "      <td>-449.953435</td>\n",
       "      <td>1600.479580</td>\n",
       "      <td>-449.830646</td>\n",
       "      <td>1600.527589</td>\n",
       "      <td>-449.953649</td>\n",
       "      <td>1399.227084</td>\n",
       "      <td>-450.869848</td>\n",
       "      <td>1399.719514</td>\n",
       "      <td>-450.119001</td>\n",
       "      <td>14.265474</td>\n",
       "      <td>4.592547</td>\n",
       "      <td>9.001494</td>\n",
       "      <td>2.488248</td>\n",
       "      <td>25.880539</td>\n",
       "      <td>-499.989656</td>\n",
       "      <td>23.889530</td>\n",
       "      <td>-500.372428</td>\n",
       "      <td>23.970550</td>\n",
       "      <td>-500.085473</td>\n",
       "      <td>22.085714</td>\n",
       "      <td>-499.446897</td>\n",
       "      <td>13.992281</td>\n",
       "      <td>-505.503262</td>\n",
       "      <td>11.950531</td>\n",
       "      <td>-501.331529</td>\n",
       "      <td>10.039245</td>\n",
       "      <td>-500.169983</td>\n",
       "      <td>7.984757</td>\n",
       "      <td>-500.582168</td>\n",
       "      <td>13.998353</td>\n",
       "      <td>-599.787184</td>\n",
       "    </tr>\n",
       "    <tr>\n",
       "      <th>2</th>\n",
       "      <td>2016-01-15 02:00:00</td>\n",
       "      <td>6.055926</td>\n",
       "      <td>10.213995</td>\n",
       "      <td>5.383759</td>\n",
       "      <td>42.657501</td>\n",
       "      <td>68.116445</td>\n",
       "      <td>10.507046</td>\n",
       "      <td>0.953716</td>\n",
       "      <td>16.208849</td>\n",
       "      <td>2.257889</td>\n",
       "      <td>123.819808</td>\n",
       "      <td>11.316280</td>\n",
       "      <td>7.25</td>\n",
       "      <td>0.991265</td>\n",
       "      <td>8.603505</td>\n",
       "      <td>10.354494</td>\n",
       "      <td>19.167579</td>\n",
       "      <td>33.969464</td>\n",
       "      <td>16.491823</td>\n",
       "      <td>3.124664</td>\n",
       "      <td>6.471768</td>\n",
       "      <td>2.416800</td>\n",
       "      <td>1601.556163</td>\n",
       "      <td>-499.997791</td>\n",
       "      <td>1600.386685</td>\n",
       "      <td>-500.607762</td>\n",
       "      <td>1602.003542</td>\n",
       "      <td>-500.870069</td>\n",
       "      <td>1599.541515</td>\n",
       "      <td>-499.827444</td>\n",
       "      <td>42018.101184</td>\n",
       "      <td>3495.348910</td>\n",
       "      <td>3502.359819</td>\n",
       "      <td>2.945989</td>\n",
       "      <td>6.116455</td>\n",
       "      <td>2.159622</td>\n",
       "      <td>530.026610</td>\n",
       "      <td>57.510649</td>\n",
       "      <td>35.971630</td>\n",
       "      <td>6.362222</td>\n",
       "      <td>11.920603</td>\n",
       "      <td>6.197377</td>\n",
       "      <td>11.920305</td>\n",
       "      <td>6.204633</td>\n",
       "      <td>11.695753</td>\n",
       "      <td>7.216833</td>\n",
       "      <td>27.454037</td>\n",
       "      <td>19.737170</td>\n",
       "      <td>86.842308</td>\n",
       "      <td>4.843460</td>\n",
       "      <td>0.546416</td>\n",
       "      <td>18.808533</td>\n",
       "      <td>1.162562</td>\n",
       "      <td>999.719565</td>\n",
       "      <td>-400.074028</td>\n",
       "      <td>1599.337330</td>\n",
       "      <td>-450.008530</td>\n",
       "      <td>1599.672797</td>\n",
       "      <td>-449.954491</td>\n",
       "      <td>1599.849325</td>\n",
       "      <td>-449.954185</td>\n",
       "      <td>1399.180945</td>\n",
       "      <td>-449.937588</td>\n",
       "      <td>1400.316682</td>\n",
       "      <td>-450.527147</td>\n",
       "      <td>14.115662</td>\n",
       "      <td>4.624775</td>\n",
       "      <td>8.842896</td>\n",
       "      <td>2.458187</td>\n",
       "      <td>26.005245</td>\n",
       "      <td>-499.929616</td>\n",
       "      <td>23.886657</td>\n",
       "      <td>-499.951928</td>\n",
       "      <td>23.913535</td>\n",
       "      <td>-499.442343</td>\n",
       "      <td>23.957717</td>\n",
       "      <td>-499.901982</td>\n",
       "      <td>14.015015</td>\n",
       "      <td>-502.520901</td>\n",
       "      <td>11.912783</td>\n",
       "      <td>-501.133383</td>\n",
       "      <td>10.070913</td>\n",
       "      <td>-500.129135</td>\n",
       "      <td>8.013877</td>\n",
       "      <td>-500.517572</td>\n",
       "      <td>14.028663</td>\n",
       "      <td>-601.427363</td>\n",
       "    </tr>\n",
       "    <tr>\n",
       "      <th>3</th>\n",
       "      <td>2016-01-15 03:00:00</td>\n",
       "      <td>6.047977</td>\n",
       "      <td>9.977019</td>\n",
       "      <td>4.858634</td>\n",
       "      <td>42.689819</td>\n",
       "      <td>68.347543</td>\n",
       "      <td>10.422762</td>\n",
       "      <td>0.883763</td>\n",
       "      <td>16.532835</td>\n",
       "      <td>2.146849</td>\n",
       "      <td>122.270188</td>\n",
       "      <td>11.322140</td>\n",
       "      <td>7.25</td>\n",
       "      <td>0.996739</td>\n",
       "      <td>7.221879</td>\n",
       "      <td>8.496563</td>\n",
       "      <td>15.978538</td>\n",
       "      <td>28.260743</td>\n",
       "      <td>16.024359</td>\n",
       "      <td>2.960362</td>\n",
       "      <td>6.843791</td>\n",
       "      <td>2.262051</td>\n",
       "      <td>1599.968720</td>\n",
       "      <td>-500.951778</td>\n",
       "      <td>1600.659236</td>\n",
       "      <td>-499.677094</td>\n",
       "      <td>1600.304144</td>\n",
       "      <td>-500.727997</td>\n",
       "      <td>1600.449520</td>\n",
       "      <td>-500.052575</td>\n",
       "      <td>42029.447991</td>\n",
       "      <td>3498.578313</td>\n",
       "      <td>3499.162912</td>\n",
       "      <td>3.002340</td>\n",
       "      <td>6.043309</td>\n",
       "      <td>2.037807</td>\n",
       "      <td>542.590390</td>\n",
       "      <td>57.792734</td>\n",
       "      <td>36.862241</td>\n",
       "      <td>6.118189</td>\n",
       "      <td>11.630094</td>\n",
       "      <td>6.203177</td>\n",
       "      <td>11.692450</td>\n",
       "      <td>6.196578</td>\n",
       "      <td>11.915047</td>\n",
       "      <td>7.175616</td>\n",
       "      <td>27.341277</td>\n",
       "      <td>19.320810</td>\n",
       "      <td>87.226430</td>\n",
       "      <td>4.655288</td>\n",
       "      <td>0.542525</td>\n",
       "      <td>19.330200</td>\n",
       "      <td>1.079755</td>\n",
       "      <td>999.814770</td>\n",
       "      <td>-400.200179</td>\n",
       "      <td>1600.059442</td>\n",
       "      <td>-450.619948</td>\n",
       "      <td>1600.012842</td>\n",
       "      <td>-449.910497</td>\n",
       "      <td>1597.725177</td>\n",
       "      <td>-450.130127</td>\n",
       "      <td>1400.943157</td>\n",
       "      <td>-450.030142</td>\n",
       "      <td>1400.234743</td>\n",
       "      <td>-449.790835</td>\n",
       "      <td>13.732071</td>\n",
       "      <td>4.482453</td>\n",
       "      <td>9.122857</td>\n",
       "      <td>2.322062</td>\n",
       "      <td>25.942508</td>\n",
       "      <td>-499.176749</td>\n",
       "      <td>23.955516</td>\n",
       "      <td>-499.848796</td>\n",
       "      <td>23.966838</td>\n",
       "      <td>-500.008812</td>\n",
       "      <td>23.954443</td>\n",
       "      <td>-499.944710</td>\n",
       "      <td>14.036510</td>\n",
       "      <td>-500.857308</td>\n",
       "      <td>11.999550</td>\n",
       "      <td>-501.193686</td>\n",
       "      <td>9.970366</td>\n",
       "      <td>-499.201640</td>\n",
       "      <td>7.977324</td>\n",
       "      <td>-500.255908</td>\n",
       "      <td>14.005551</td>\n",
       "      <td>-599.996129</td>\n",
       "    </tr>\n",
       "    <tr>\n",
       "      <th>4</th>\n",
       "      <td>2016-01-15 04:00:00</td>\n",
       "      <td>6.148599</td>\n",
       "      <td>10.142511</td>\n",
       "      <td>4.939416</td>\n",
       "      <td>42.774141</td>\n",
       "      <td>66.927016</td>\n",
       "      <td>10.360302</td>\n",
       "      <td>0.792826</td>\n",
       "      <td>16.525686</td>\n",
       "      <td>2.055292</td>\n",
       "      <td>117.988169</td>\n",
       "      <td>11.913613</td>\n",
       "      <td>7.25</td>\n",
       "      <td>1.009869</td>\n",
       "      <td>9.089428</td>\n",
       "      <td>9.986786</td>\n",
       "      <td>19.199864</td>\n",
       "      <td>33.044932</td>\n",
       "      <td>16.480185</td>\n",
       "      <td>3.112100</td>\n",
       "      <td>6.550154</td>\n",
       "      <td>2.277073</td>\n",
       "      <td>1601.339707</td>\n",
       "      <td>-498.975456</td>\n",
       "      <td>1601.437854</td>\n",
       "      <td>-500.323246</td>\n",
       "      <td>1599.581894</td>\n",
       "      <td>-500.888152</td>\n",
       "      <td>1602.649541</td>\n",
       "      <td>-500.593010</td>\n",
       "      <td>42125.354245</td>\n",
       "      <td>3494.800771</td>\n",
       "      <td>3506.679315</td>\n",
       "      <td>3.169615</td>\n",
       "      <td>6.060915</td>\n",
       "      <td>1.786875</td>\n",
       "      <td>540.531893</td>\n",
       "      <td>56.047189</td>\n",
       "      <td>34.347666</td>\n",
       "      <td>5.663707</td>\n",
       "      <td>10.957755</td>\n",
       "      <td>6.198826</td>\n",
       "      <td>10.960521</td>\n",
       "      <td>6.194897</td>\n",
       "      <td>12.411054</td>\n",
       "      <td>7.240205</td>\n",
       "      <td>27.041023</td>\n",
       "      <td>19.216101</td>\n",
       "      <td>86.688794</td>\n",
       "      <td>4.552800</td>\n",
       "      <td>0.515438</td>\n",
       "      <td>19.267422</td>\n",
       "      <td>1.012642</td>\n",
       "      <td>999.678690</td>\n",
       "      <td>-399.752729</td>\n",
       "      <td>1600.208824</td>\n",
       "      <td>-449.599614</td>\n",
       "      <td>1600.357732</td>\n",
       "      <td>-450.034364</td>\n",
       "      <td>1599.759049</td>\n",
       "      <td>-449.909799</td>\n",
       "      <td>1401.560902</td>\n",
       "      <td>-448.877187</td>\n",
       "      <td>1401.160227</td>\n",
       "      <td>-450.407128</td>\n",
       "      <td>14.079996</td>\n",
       "      <td>4.470737</td>\n",
       "      <td>8.871028</td>\n",
       "      <td>2.330448</td>\n",
       "      <td>26.024787</td>\n",
       "      <td>-500.279091</td>\n",
       "      <td>23.955345</td>\n",
       "      <td>-500.593614</td>\n",
       "      <td>23.985703</td>\n",
       "      <td>-500.083811</td>\n",
       "      <td>23.958945</td>\n",
       "      <td>-499.990309</td>\n",
       "      <td>14.027298</td>\n",
       "      <td>-499.838632</td>\n",
       "      <td>11.953070</td>\n",
       "      <td>-501.053894</td>\n",
       "      <td>9.925709</td>\n",
       "      <td>-501.686727</td>\n",
       "      <td>7.894242</td>\n",
       "      <td>-500.356035</td>\n",
       "      <td>13.996647</td>\n",
       "      <td>-601.496691</td>\n",
       "    </tr>\n",
       "  </tbody>\n",
       "</table>\n",
       "</div>"
      ],
      "text/plain": [
       "                 date  final.output.concentrate_ag  \\\n",
       "0 2016-01-15 00:00:00                     6.055403   \n",
       "1 2016-01-15 01:00:00                     6.029369   \n",
       "2 2016-01-15 02:00:00                     6.055926   \n",
       "3 2016-01-15 03:00:00                     6.047977   \n",
       "4 2016-01-15 04:00:00                     6.148599   \n",
       "\n",
       "   final.output.concentrate_pb  final.output.concentrate_sol  \\\n",
       "0                     9.889648                      5.507324   \n",
       "1                     9.968944                      5.257781   \n",
       "2                    10.213995                      5.383759   \n",
       "3                     9.977019                      4.858634   \n",
       "4                    10.142511                      4.939416   \n",
       "\n",
       "   final.output.concentrate_au  final.output.recovery  final.output.tail_ag  \\\n",
       "0                    42.192020              70.541216             10.411962   \n",
       "1                    42.701629              69.266198             10.462676   \n",
       "2                    42.657501              68.116445             10.507046   \n",
       "3                    42.689819              68.347543             10.422762   \n",
       "4                    42.774141              66.927016             10.360302   \n",
       "\n",
       "   final.output.tail_pb  final.output.tail_sol  final.output.tail_au  \\\n",
       "0              0.895447              16.904297              2.143149   \n",
       "1              0.927452              16.634514              2.224930   \n",
       "2              0.953716              16.208849              2.257889   \n",
       "3              0.883763              16.532835              2.146849   \n",
       "4              0.792826              16.525686              2.055292   \n",
       "\n",
       "   primary_cleaner.input.sulfate  primary_cleaner.input.depressant  \\\n",
       "0                     127.092003                         10.128295   \n",
       "1                     125.629232                         10.296251   \n",
       "2                     123.819808                         11.316280   \n",
       "3                     122.270188                         11.322140   \n",
       "4                     117.988169                         11.913613   \n",
       "\n",
       "   primary_cleaner.input.feed_size  primary_cleaner.input.xanthate  \\\n",
       "0                             7.25                        0.988759   \n",
       "1                             7.25                        1.002663   \n",
       "2                             7.25                        0.991265   \n",
       "3                             7.25                        0.996739   \n",
       "4                             7.25                        1.009869   \n",
       "\n",
       "   primary_cleaner.output.concentrate_ag  \\\n",
       "0                               8.547551   \n",
       "1                               8.558743   \n",
       "2                               8.603505   \n",
       "3                               7.221879   \n",
       "4                               9.089428   \n",
       "\n",
       "   primary_cleaner.output.concentrate_pb  \\\n",
       "0                              10.389648   \n",
       "1                              10.497069   \n",
       "2                              10.354494   \n",
       "3                               8.496563   \n",
       "4                               9.986786   \n",
       "\n",
       "   primary_cleaner.output.concentrate_sol  \\\n",
       "0                               19.529297   \n",
       "1                               19.369147   \n",
       "2                               19.167579   \n",
       "3                               15.978538   \n",
       "4                               19.199864   \n",
       "\n",
       "   primary_cleaner.output.concentrate_au  primary_cleaner.output.tail_ag  \\\n",
       "0                              34.174427                       14.936526   \n",
       "1                              34.118526                       16.250511   \n",
       "2                              33.969464                       16.491823   \n",
       "3                              28.260743                       16.024359   \n",
       "4                              33.044932                       16.480185   \n",
       "\n",
       "   primary_cleaner.output.tail_pb  primary_cleaner.output.tail_sol  \\\n",
       "0                        2.534912                         7.476074   \n",
       "1                        3.049646                         6.733907   \n",
       "2                        3.124664                         6.471768   \n",
       "3                        2.960362                         6.843791   \n",
       "4                        3.112100                         6.550154   \n",
       "\n",
       "   primary_cleaner.output.tail_au  primary_cleaner.state.floatbank8_a_air  \\\n",
       "0                        2.106679                             1549.775757   \n",
       "1                        2.353017                             1576.166671   \n",
       "2                        2.416800                             1601.556163   \n",
       "3                        2.262051                             1599.968720   \n",
       "4                        2.277073                             1601.339707   \n",
       "\n",
       "   primary_cleaner.state.floatbank8_a_level  \\\n",
       "0                               -498.912140   \n",
       "1                               -500.904965   \n",
       "2                               -499.997791   \n",
       "3                               -500.951778   \n",
       "4                               -498.975456   \n",
       "\n",
       "   primary_cleaner.state.floatbank8_b_air  \\\n",
       "0                             1551.434204   \n",
       "1                             1575.950626   \n",
       "2                             1600.386685   \n",
       "3                             1600.659236   \n",
       "4                             1601.437854   \n",
       "\n",
       "   primary_cleaner.state.floatbank8_b_level  \\\n",
       "0                               -516.403442   \n",
       "1                               -499.865889   \n",
       "2                               -500.607762   \n",
       "3                               -499.677094   \n",
       "4                               -500.323246   \n",
       "\n",
       "   primary_cleaner.state.floatbank8_c_air  \\\n",
       "0                             1549.873901   \n",
       "1                             1575.994189   \n",
       "2                             1602.003542   \n",
       "3                             1600.304144   \n",
       "4                             1599.581894   \n",
       "\n",
       "   primary_cleaner.state.floatbank8_c_level  \\\n",
       "0                               -498.666595   \n",
       "1                               -499.315107   \n",
       "2                               -500.870069   \n",
       "3                               -500.727997   \n",
       "4                               -500.888152   \n",
       "\n",
       "   primary_cleaner.state.floatbank8_d_air  \\\n",
       "0                             1554.367432   \n",
       "1                             1574.479259   \n",
       "2                             1599.541515   \n",
       "3                             1600.449520   \n",
       "4                             1602.649541   \n",
       "\n",
       "   primary_cleaner.state.floatbank8_d_level  \\\n",
       "0                               -493.428131   \n",
       "1                               -498.931665   \n",
       "2                               -499.827444   \n",
       "3                               -500.052575   \n",
       "4                               -500.593010   \n",
       "\n",
       "   rougher.calculation.sulfate_to_au_concentrate  \\\n",
       "0                                   41885.707031   \n",
       "1                                   42050.861809   \n",
       "2                                   42018.101184   \n",
       "3                                   42029.447991   \n",
       "4                                   42125.354245   \n",
       "\n",
       "   rougher.calculation.floatbank10_sulfate_to_au_feed  \\\n",
       "0                                        3481.779053    \n",
       "1                                        3498.370979    \n",
       "2                                        3495.348910    \n",
       "3                                        3498.578313    \n",
       "4                                        3494.800771    \n",
       "\n",
       "   rougher.calculation.floatbank11_sulfate_to_au_feed  \\\n",
       "0                                        3520.337158    \n",
       "1                                        3489.981857    \n",
       "2                                        3502.359819    \n",
       "3                                        3499.162912    \n",
       "4                                        3506.679315    \n",
       "\n",
       "   rougher.calculation.au_pb_ratio  rougher.input.feed_ag  \\\n",
       "0                         2.838687               6.100378   \n",
       "1                         2.858998               6.161113   \n",
       "2                         2.945989               6.116455   \n",
       "3                         3.002340               6.043309   \n",
       "4                         3.169615               6.060915   \n",
       "\n",
       "   rougher.input.feed_pb  rougher.input.feed_rate  rougher.input.feed_size  \\\n",
       "0               2.284912               523.546326                55.486599   \n",
       "1               2.266033               525.290581                57.278666   \n",
       "2               2.159622               530.026610                57.510649   \n",
       "3               2.037807               542.590390                57.792734   \n",
       "4               1.786875               540.531893                56.047189   \n",
       "\n",
       "   rougher.input.feed_sol  rougher.input.feed_au  \\\n",
       "0               36.808594               6.486150   \n",
       "1               35.753385               6.478583   \n",
       "2               35.971630               6.362222   \n",
       "3               36.862241               6.118189   \n",
       "4               34.347666               5.663707   \n",
       "\n",
       "   rougher.input.floatbank10_sulfate  rougher.input.floatbank10_xanthate  \\\n",
       "0                          11.986616                            6.007990   \n",
       "1                          11.971193                            6.005766   \n",
       "2                          11.920603                            6.197377   \n",
       "3                          11.630094                            6.203177   \n",
       "4                          10.957755                            6.198826   \n",
       "\n",
       "   rougher.input.floatbank11_sulfate  rougher.input.floatbank11_xanthate  \\\n",
       "0                          11.836743                            6.005818   \n",
       "1                          11.996163                            6.012594   \n",
       "2                          11.920305                            6.204633   \n",
       "3                          11.692450                            6.196578   \n",
       "4                          10.960521                            6.194897   \n",
       "\n",
       "   rougher.output.concentrate_ag  rougher.output.concentrate_pb  \\\n",
       "0                      11.500771                       7.101074   \n",
       "1                      11.615865                       7.278807   \n",
       "2                      11.695753                       7.216833   \n",
       "3                      11.915047                       7.175616   \n",
       "4                      12.411054                       7.240205   \n",
       "\n",
       "   rougher.output.concentrate_sol  rougher.output.concentrate_au  \\\n",
       "0                       28.029297                      19.793808   \n",
       "1                       28.067063                      20.050975   \n",
       "2                       27.454037                      19.737170   \n",
       "3                       27.341277                      19.320810   \n",
       "4                       27.041023                      19.216101   \n",
       "\n",
       "   rougher.output.recovery  rougher.output.tail_ag  rougher.output.tail_pb  \\\n",
       "0                87.107763                5.008018                0.508728   \n",
       "1                86.843261                4.955378                0.536689   \n",
       "2                86.842308                4.843460                0.546416   \n",
       "3                87.226430                4.655288                0.542525   \n",
       "4                86.688794                4.552800                0.515438   \n",
       "\n",
       "   rougher.output.tail_sol  rougher.output.tail_au  \\\n",
       "0                19.154297                1.170244   \n",
       "1                18.965234                1.184827   \n",
       "2                18.808533                1.162562   \n",
       "3                19.330200                1.079755   \n",
       "4                19.267422                1.012642   \n",
       "\n",
       "   rougher.state.floatbank10_a_air  rougher.state.floatbank10_a_level  \\\n",
       "0                       999.706909                        -404.066986   \n",
       "1                      1000.286398                        -400.065196   \n",
       "2                       999.719565                        -400.074028   \n",
       "3                       999.814770                        -400.200179   \n",
       "4                       999.678690                        -399.752729   \n",
       "\n",
       "   rougher.state.floatbank10_b_air  rougher.state.floatbank10_b_level  \\\n",
       "0                      1603.011353                        -434.715027   \n",
       "1                      1600.754587                        -449.953435   \n",
       "2                      1599.337330                        -450.008530   \n",
       "3                      1600.059442                        -450.619948   \n",
       "4                      1600.208824                        -449.599614   \n",
       "\n",
       "   rougher.state.floatbank10_c_air  rougher.state.floatbank10_c_level  \\\n",
       "0                      1602.375000                        -442.204468   \n",
       "1                      1600.479580                        -449.830646   \n",
       "2                      1599.672797                        -449.954491   \n",
       "3                      1600.012842                        -449.910497   \n",
       "4                      1600.357732                        -450.034364   \n",
       "\n",
       "   rougher.state.floatbank10_d_air  rougher.state.floatbank10_d_level  \\\n",
       "0                      1598.937256                        -451.294128   \n",
       "1                      1600.527589                        -449.953649   \n",
       "2                      1599.849325                        -449.954185   \n",
       "3                      1597.725177                        -450.130127   \n",
       "4                      1599.759049                        -449.909799   \n",
       "\n",
       "   rougher.state.floatbank10_e_air  rougher.state.floatbank10_e_level  \\\n",
       "0                      1404.472046                        -455.462982   \n",
       "1                      1399.227084                        -450.869848   \n",
       "2                      1399.180945                        -449.937588   \n",
       "3                      1400.943157                        -450.030142   \n",
       "4                      1401.560902                        -448.877187   \n",
       "\n",
       "   rougher.state.floatbank10_f_air  rougher.state.floatbank10_f_level  \\\n",
       "0                      1416.354980                        -451.939636   \n",
       "1                      1399.719514                        -450.119001   \n",
       "2                      1400.316682                        -450.527147   \n",
       "3                      1400.234743                        -449.790835   \n",
       "4                      1401.160227                        -450.407128   \n",
       "\n",
       "   secondary_cleaner.output.tail_ag  secondary_cleaner.output.tail_pb  \\\n",
       "0                         14.500184                          4.694824   \n",
       "1                         14.265474                          4.592547   \n",
       "2                         14.115662                          4.624775   \n",
       "3                         13.732071                          4.482453   \n",
       "4                         14.079996                          4.470737   \n",
       "\n",
       "   secondary_cleaner.output.tail_sol  secondary_cleaner.output.tail_au  \\\n",
       "0                           8.764648                          2.606185   \n",
       "1                           9.001494                          2.488248   \n",
       "2                           8.842896                          2.458187   \n",
       "3                           9.122857                          2.322062   \n",
       "4                           8.871028                          2.330448   \n",
       "\n",
       "   secondary_cleaner.state.floatbank2_a_air  \\\n",
       "0                                 25.853109   \n",
       "1                                 25.880539   \n",
       "2                                 26.005245   \n",
       "3                                 25.942508   \n",
       "4                                 26.024787   \n",
       "\n",
       "   secondary_cleaner.state.floatbank2_a_level  \\\n",
       "0                                 -498.526489   \n",
       "1                                 -499.989656   \n",
       "2                                 -499.929616   \n",
       "3                                 -499.176749   \n",
       "4                                 -500.279091   \n",
       "\n",
       "   secondary_cleaner.state.floatbank2_b_air  \\\n",
       "0                                 23.893660   \n",
       "1                                 23.889530   \n",
       "2                                 23.886657   \n",
       "3                                 23.955516   \n",
       "4                                 23.955345   \n",
       "\n",
       "   secondary_cleaner.state.floatbank2_b_level  \\\n",
       "0                                 -501.406281   \n",
       "1                                 -500.372428   \n",
       "2                                 -499.951928   \n",
       "3                                 -499.848796   \n",
       "4                                 -500.593614   \n",
       "\n",
       "   secondary_cleaner.state.floatbank3_a_air  \\\n",
       "0                                 23.961798   \n",
       "1                                 23.970550   \n",
       "2                                 23.913535   \n",
       "3                                 23.966838   \n",
       "4                                 23.985703   \n",
       "\n",
       "   secondary_cleaner.state.floatbank3_a_level  \\\n",
       "0                                 -495.262817   \n",
       "1                                 -500.085473   \n",
       "2                                 -499.442343   \n",
       "3                                 -500.008812   \n",
       "4                                 -500.083811   \n",
       "\n",
       "   secondary_cleaner.state.floatbank3_b_air  \\\n",
       "0                                 21.940409   \n",
       "1                                 22.085714   \n",
       "2                                 23.957717   \n",
       "3                                 23.954443   \n",
       "4                                 23.958945   \n",
       "\n",
       "   secondary_cleaner.state.floatbank3_b_level  \\\n",
       "0                                 -499.340973   \n",
       "1                                 -499.446897   \n",
       "2                                 -499.901982   \n",
       "3                                 -499.944710   \n",
       "4                                 -499.990309   \n",
       "\n",
       "   secondary_cleaner.state.floatbank4_a_air  \\\n",
       "0                                 14.016835   \n",
       "1                                 13.992281   \n",
       "2                                 14.015015   \n",
       "3                                 14.036510   \n",
       "4                                 14.027298   \n",
       "\n",
       "   secondary_cleaner.state.floatbank4_a_level  \\\n",
       "0                                 -502.488007   \n",
       "1                                 -505.503262   \n",
       "2                                 -502.520901   \n",
       "3                                 -500.857308   \n",
       "4                                 -499.838632   \n",
       "\n",
       "   secondary_cleaner.state.floatbank4_b_air  \\\n",
       "0                                 12.099931   \n",
       "1                                 11.950531   \n",
       "2                                 11.912783   \n",
       "3                                 11.999550   \n",
       "4                                 11.953070   \n",
       "\n",
       "   secondary_cleaner.state.floatbank4_b_level  \\\n",
       "0                                 -504.715942   \n",
       "1                                 -501.331529   \n",
       "2                                 -501.133383   \n",
       "3                                 -501.193686   \n",
       "4                                 -501.053894   \n",
       "\n",
       "   secondary_cleaner.state.floatbank5_a_air  \\\n",
       "0                                  9.925633   \n",
       "1                                 10.039245   \n",
       "2                                 10.070913   \n",
       "3                                  9.970366   \n",
       "4                                  9.925709   \n",
       "\n",
       "   secondary_cleaner.state.floatbank5_a_level  \\\n",
       "0                                 -498.310211   \n",
       "1                                 -500.169983   \n",
       "2                                 -500.129135   \n",
       "3                                 -499.201640   \n",
       "4                                 -501.686727   \n",
       "\n",
       "   secondary_cleaner.state.floatbank5_b_air  \\\n",
       "0                                  8.079666   \n",
       "1                                  7.984757   \n",
       "2                                  8.013877   \n",
       "3                                  7.977324   \n",
       "4                                  7.894242   \n",
       "\n",
       "   secondary_cleaner.state.floatbank5_b_level  \\\n",
       "0                                 -500.470978   \n",
       "1                                 -500.582168   \n",
       "2                                 -500.517572   \n",
       "3                                 -500.255908   \n",
       "4                                 -500.356035   \n",
       "\n",
       "   secondary_cleaner.state.floatbank6_a_air  \\\n",
       "0                                 14.151341   \n",
       "1                                 13.998353   \n",
       "2                                 14.028663   \n",
       "3                                 14.005551   \n",
       "4                                 13.996647   \n",
       "\n",
       "   secondary_cleaner.state.floatbank6_a_level  \n",
       "0                                 -605.841980  \n",
       "1                                 -599.787184  \n",
       "2                                 -601.427363  \n",
       "3                                 -599.996129  \n",
       "4                                 -601.496691  "
      ]
     },
     "metadata": {},
     "output_type": "display_data"
    },
    {
     "name": "stdout",
     "output_type": "stream",
     "text": [
      "\n",
      "Основная информация о датафрейме с помощью метода info():\n",
      "\n",
      "<class 'pandas.core.frame.DataFrame'>\n",
      "RangeIndex: 19439 entries, 0 to 19438\n",
      "Data columns (total 87 columns):\n",
      " #   Column                                              Non-Null Count  Dtype         \n",
      "---  ------                                              --------------  -----         \n",
      " 0   date                                                19439 non-null  datetime64[ns]\n",
      " 1   final.output.concentrate_ag                         19438 non-null  float64       \n",
      " 2   final.output.concentrate_pb                         19438 non-null  float64       \n",
      " 3   final.output.concentrate_sol                        19228 non-null  float64       \n",
      " 4   final.output.concentrate_au                         19439 non-null  float64       \n",
      " 5   final.output.recovery                               19439 non-null  float64       \n",
      " 6   final.output.tail_ag                                19438 non-null  float64       \n",
      " 7   final.output.tail_pb                                19338 non-null  float64       \n",
      " 8   final.output.tail_sol                               19433 non-null  float64       \n",
      " 9   final.output.tail_au                                19439 non-null  float64       \n",
      " 10  primary_cleaner.input.sulfate                       19415 non-null  float64       \n",
      " 11  primary_cleaner.input.depressant                    19402 non-null  float64       \n",
      " 12  primary_cleaner.input.feed_size                     19439 non-null  float64       \n",
      " 13  primary_cleaner.input.xanthate                      19335 non-null  float64       \n",
      " 14  primary_cleaner.output.concentrate_ag               19439 non-null  float64       \n",
      " 15  primary_cleaner.output.concentrate_pb               19323 non-null  float64       \n",
      " 16  primary_cleaner.output.concentrate_sol              19069 non-null  float64       \n",
      " 17  primary_cleaner.output.concentrate_au               19439 non-null  float64       \n",
      " 18  primary_cleaner.output.tail_ag                      19435 non-null  float64       \n",
      " 19  primary_cleaner.output.tail_pb                      19418 non-null  float64       \n",
      " 20  primary_cleaner.output.tail_sol                     19377 non-null  float64       \n",
      " 21  primary_cleaner.output.tail_au                      19439 non-null  float64       \n",
      " 22  primary_cleaner.state.floatbank8_a_air              19435 non-null  float64       \n",
      " 23  primary_cleaner.state.floatbank8_a_level            19438 non-null  float64       \n",
      " 24  primary_cleaner.state.floatbank8_b_air              19435 non-null  float64       \n",
      " 25  primary_cleaner.state.floatbank8_b_level            19438 non-null  float64       \n",
      " 26  primary_cleaner.state.floatbank8_c_air              19437 non-null  float64       \n",
      " 27  primary_cleaner.state.floatbank8_c_level            19438 non-null  float64       \n",
      " 28  primary_cleaner.state.floatbank8_d_air              19436 non-null  float64       \n",
      " 29  primary_cleaner.state.floatbank8_d_level            19438 non-null  float64       \n",
      " 30  rougher.calculation.sulfate_to_au_concentrate       19437 non-null  float64       \n",
      " 31  rougher.calculation.floatbank10_sulfate_to_au_feed  19437 non-null  float64       \n",
      " 32  rougher.calculation.floatbank11_sulfate_to_au_feed  19437 non-null  float64       \n",
      " 33  rougher.calculation.au_pb_ratio                     19439 non-null  float64       \n",
      " 34  rougher.input.feed_ag                               19439 non-null  float64       \n",
      " 35  rougher.input.feed_pb                               19339 non-null  float64       \n",
      " 36  rougher.input.feed_rate                             19428 non-null  float64       \n",
      " 37  rougher.input.feed_size                             19294 non-null  float64       \n",
      " 38  rougher.input.feed_sol                              19340 non-null  float64       \n",
      " 39  rougher.input.feed_au                               19439 non-null  float64       \n",
      " 40  rougher.input.floatbank10_sulfate                   19405 non-null  float64       \n",
      " 41  rougher.input.floatbank10_xanthate                  19431 non-null  float64       \n",
      " 42  rougher.input.floatbank11_sulfate                   19395 non-null  float64       \n",
      " 43  rougher.input.floatbank11_xanthate                  18986 non-null  float64       \n",
      " 44  rougher.output.concentrate_ag                       19439 non-null  float64       \n",
      " 45  rougher.output.concentrate_pb                       19439 non-null  float64       \n",
      " 46  rougher.output.concentrate_sol                      19416 non-null  float64       \n",
      " 47  rougher.output.concentrate_au                       19439 non-null  float64       \n",
      " 48  rougher.output.recovery                             19439 non-null  float64       \n",
      " 49  rougher.output.tail_ag                              19438 non-null  float64       \n",
      " 50  rougher.output.tail_pb                              19439 non-null  float64       \n",
      " 51  rougher.output.tail_sol                             19439 non-null  float64       \n",
      " 52  rougher.output.tail_au                              19439 non-null  float64       \n",
      " 53  rougher.state.floatbank10_a_air                     19438 non-null  float64       \n",
      " 54  rougher.state.floatbank10_a_level                   19438 non-null  float64       \n",
      " 55  rougher.state.floatbank10_b_air                     19438 non-null  float64       \n",
      " 56  rougher.state.floatbank10_b_level                   19438 non-null  float64       \n",
      " 57  rougher.state.floatbank10_c_air                     19438 non-null  float64       \n",
      " 58  rougher.state.floatbank10_c_level                   19438 non-null  float64       \n",
      " 59  rougher.state.floatbank10_d_air                     19439 non-null  float64       \n",
      " 60  rougher.state.floatbank10_d_level                   19439 non-null  float64       \n",
      " 61  rougher.state.floatbank10_e_air                     19003 non-null  float64       \n",
      " 62  rougher.state.floatbank10_e_level                   19439 non-null  float64       \n",
      " 63  rougher.state.floatbank10_f_air                     19439 non-null  float64       \n",
      " 64  rougher.state.floatbank10_f_level                   19439 non-null  float64       \n",
      " 65  secondary_cleaner.output.tail_ag                    19437 non-null  float64       \n",
      " 66  secondary_cleaner.output.tail_pb                    19427 non-null  float64       \n",
      " 67  secondary_cleaner.output.tail_sol                   17691 non-null  float64       \n",
      " 68  secondary_cleaner.output.tail_au                    19439 non-null  float64       \n",
      " 69  secondary_cleaner.state.floatbank2_a_air            19219 non-null  float64       \n",
      " 70  secondary_cleaner.state.floatbank2_a_level          19438 non-null  float64       \n",
      " 71  secondary_cleaner.state.floatbank2_b_air            19416 non-null  float64       \n",
      " 72  secondary_cleaner.state.floatbank2_b_level          19438 non-null  float64       \n",
      " 73  secondary_cleaner.state.floatbank3_a_air            19426 non-null  float64       \n",
      " 74  secondary_cleaner.state.floatbank3_a_level          19438 non-null  float64       \n",
      " 75  secondary_cleaner.state.floatbank3_b_air            19438 non-null  float64       \n",
      " 76  secondary_cleaner.state.floatbank3_b_level          19438 non-null  float64       \n",
      " 77  secondary_cleaner.state.floatbank4_a_air            19433 non-null  float64       \n",
      " 78  secondary_cleaner.state.floatbank4_a_level          19438 non-null  float64       \n",
      " 79  secondary_cleaner.state.floatbank4_b_air            19438 non-null  float64       \n",
      " 80  secondary_cleaner.state.floatbank4_b_level          19438 non-null  float64       \n",
      " 81  secondary_cleaner.state.floatbank5_a_air            19438 non-null  float64       \n",
      " 82  secondary_cleaner.state.floatbank5_a_level          19438 non-null  float64       \n",
      " 83  secondary_cleaner.state.floatbank5_b_air            19438 non-null  float64       \n",
      " 84  secondary_cleaner.state.floatbank5_b_level          19438 non-null  float64       \n",
      " 85  secondary_cleaner.state.floatbank6_a_air            19437 non-null  float64       \n",
      " 86  secondary_cleaner.state.floatbank6_a_level          19438 non-null  float64       \n",
      "dtypes: datetime64[ns](1), float64(86)\n",
      "memory usage: 12.9 MB\n",
      "None\n",
      "\n",
      "Количество явных дубликатов: 0\n"
     ]
    },
    {
     "data": {
      "text/html": [
       "<style  type=\"text/css\" >\n",
       "#T_23e7a_row0_col1,#T_23e7a_row0_col2{\n",
       "            background-color:  #ff00ff;\n",
       "            color:  #f1f1f1;\n",
       "        }#T_23e7a_row1_col1,#T_23e7a_row1_col2{\n",
       "            background-color:  #42bdff;\n",
       "            color:  #000000;\n",
       "        }#T_23e7a_row2_col1,#T_23e7a_row2_col2{\n",
       "            background-color:  #3fc0ff;\n",
       "            color:  #000000;\n",
       "        }#T_23e7a_row3_col1,#T_23e7a_row3_col2{\n",
       "            background-color:  #36c9ff;\n",
       "            color:  #000000;\n",
       "        }#T_23e7a_row4_col1,#T_23e7a_row4_col2{\n",
       "            background-color:  #20dfff;\n",
       "            color:  #000000;\n",
       "        }#T_23e7a_row5_col1,#T_23e7a_row5_col2{\n",
       "            background-color:  #1ee1ff;\n",
       "            color:  #000000;\n",
       "        }#T_23e7a_row6_col1,#T_23e7a_row6_col2{\n",
       "            background-color:  #15eaff;\n",
       "            color:  #000000;\n",
       "        }#T_23e7a_row7_col1,#T_23e7a_row7_col2{\n",
       "            background-color:  #10efff;\n",
       "            color:  #000000;\n",
       "        }#T_23e7a_row8_col1,#T_23e7a_row8_col2{\n",
       "            background-color:  #0ff0ff;\n",
       "            color:  #000000;\n",
       "        }#T_23e7a_row9_col1,#T_23e7a_row9_col2,#T_23e7a_row10_col1,#T_23e7a_row10_col2,#T_23e7a_row11_col1,#T_23e7a_row11_col2{\n",
       "            background-color:  #0ef1ff;\n",
       "            color:  #000000;\n",
       "        }#T_23e7a_row12_col1,#T_23e7a_row12_col2{\n",
       "            background-color:  #09f6ff;\n",
       "            color:  #000000;\n",
       "        }#T_23e7a_row13_col1,#T_23e7a_row13_col2{\n",
       "            background-color:  #06f9ff;\n",
       "            color:  #000000;\n",
       "        }#T_23e7a_row14_col1,#T_23e7a_row14_col2{\n",
       "            background-color:  #05faff;\n",
       "            color:  #000000;\n",
       "        }#T_23e7a_row15_col1,#T_23e7a_row15_col2{\n",
       "            background-color:  #04fbff;\n",
       "            color:  #000000;\n",
       "        }#T_23e7a_row16_col1,#T_23e7a_row16_col2,#T_23e7a_row17_col1,#T_23e7a_row17_col2,#T_23e7a_row18_col1,#T_23e7a_row18_col2,#T_23e7a_row19_col1,#T_23e7a_row19_col2{\n",
       "            background-color:  #03fcff;\n",
       "            color:  #000000;\n",
       "        }#T_23e7a_row20_col1,#T_23e7a_row20_col2,#T_23e7a_row21_col1,#T_23e7a_row21_col2,#T_23e7a_row22_col1,#T_23e7a_row22_col2,#T_23e7a_row23_col1,#T_23e7a_row23_col2{\n",
       "            background-color:  #01feff;\n",
       "            color:  #000000;\n",
       "        }#T_23e7a_row24_col1,#T_23e7a_row24_col2,#T_23e7a_row25_col1,#T_23e7a_row25_col2,#T_23e7a_row26_col1,#T_23e7a_row26_col2,#T_23e7a_row27_col1,#T_23e7a_row27_col2,#T_23e7a_row28_col1,#T_23e7a_row28_col2,#T_23e7a_row29_col1,#T_23e7a_row29_col2,#T_23e7a_row30_col1,#T_23e7a_row30_col2,#T_23e7a_row31_col1,#T_23e7a_row31_col2,#T_23e7a_row32_col1,#T_23e7a_row32_col2,#T_23e7a_row33_col1,#T_23e7a_row33_col2,#T_23e7a_row34_col1,#T_23e7a_row34_col2,#T_23e7a_row35_col1,#T_23e7a_row35_col2,#T_23e7a_row36_col1,#T_23e7a_row36_col2,#T_23e7a_row37_col1,#T_23e7a_row37_col2,#T_23e7a_row38_col1,#T_23e7a_row38_col2,#T_23e7a_row39_col1,#T_23e7a_row39_col2,#T_23e7a_row40_col1,#T_23e7a_row40_col2,#T_23e7a_row41_col1,#T_23e7a_row41_col2,#T_23e7a_row42_col1,#T_23e7a_row42_col2,#T_23e7a_row43_col1,#T_23e7a_row43_col2,#T_23e7a_row44_col1,#T_23e7a_row44_col2,#T_23e7a_row45_col1,#T_23e7a_row45_col2,#T_23e7a_row46_col1,#T_23e7a_row46_col2,#T_23e7a_row47_col1,#T_23e7a_row47_col2,#T_23e7a_row48_col1,#T_23e7a_row48_col2,#T_23e7a_row49_col1,#T_23e7a_row49_col2,#T_23e7a_row50_col1,#T_23e7a_row50_col2,#T_23e7a_row51_col1,#T_23e7a_row51_col2,#T_23e7a_row52_col1,#T_23e7a_row52_col2,#T_23e7a_row53_col1,#T_23e7a_row53_col2,#T_23e7a_row54_col1,#T_23e7a_row54_col2,#T_23e7a_row55_col1,#T_23e7a_row55_col2,#T_23e7a_row56_col1,#T_23e7a_row56_col2,#T_23e7a_row57_col1,#T_23e7a_row57_col2,#T_23e7a_row58_col1,#T_23e7a_row58_col2,#T_23e7a_row59_col1,#T_23e7a_row59_col2,#T_23e7a_row60_col1,#T_23e7a_row60_col2,#T_23e7a_row61_col1,#T_23e7a_row61_col2,#T_23e7a_row62_col1,#T_23e7a_row62_col2,#T_23e7a_row63_col1,#T_23e7a_row63_col2,#T_23e7a_row64_col1,#T_23e7a_row64_col2,#T_23e7a_row65_col1,#T_23e7a_row65_col2,#T_23e7a_row66_col1,#T_23e7a_row66_col2,#T_23e7a_row67_col1,#T_23e7a_row67_col2,#T_23e7a_row68_col1,#T_23e7a_row68_col2,#T_23e7a_row69_col1,#T_23e7a_row69_col2,#T_23e7a_row70_col1,#T_23e7a_row70_col2,#T_23e7a_row71_col1,#T_23e7a_row71_col2,#T_23e7a_row72_col1,#T_23e7a_row72_col2,#T_23e7a_row73_col1,#T_23e7a_row73_col2,#T_23e7a_row74_col1,#T_23e7a_row74_col2,#T_23e7a_row75_col1,#T_23e7a_row75_col2,#T_23e7a_row76_col1,#T_23e7a_row76_col2,#T_23e7a_row77_col1,#T_23e7a_row77_col2,#T_23e7a_row78_col1,#T_23e7a_row78_col2,#T_23e7a_row79_col1,#T_23e7a_row79_col2,#T_23e7a_row80_col1,#T_23e7a_row80_col2,#T_23e7a_row81_col1,#T_23e7a_row81_col2,#T_23e7a_row82_col1,#T_23e7a_row82_col2,#T_23e7a_row83_col1,#T_23e7a_row83_col2,#T_23e7a_row84_col1,#T_23e7a_row84_col2,#T_23e7a_row85_col1,#T_23e7a_row85_col2,#T_23e7a_row86_col1,#T_23e7a_row86_col2{\n",
       "            background-color:  #00ffff;\n",
       "            color:  #000000;\n",
       "        }</style><table id=\"T_23e7a_\" ><thead>    <tr>        <th class=\"blank level0\" ></th>        <th class=\"col_heading level0 col0\" >названия столбцов</th>        <th class=\"col_heading level0 col1\" >кол-во пропусков</th>        <th class=\"col_heading level0 col2\" >пропуски в %</th>    </tr></thead><tbody>\n",
       "                <tr>\n",
       "                        <th id=\"T_23e7a_level0_row0\" class=\"row_heading level0 row0\" >67</th>\n",
       "                        <td id=\"T_23e7a_row0_col0\" class=\"data row0 col0\" >secondary_cleaner.output.tail_sol</td>\n",
       "                        <td id=\"T_23e7a_row0_col1\" class=\"data row0 col1\" >1748</td>\n",
       "                        <td id=\"T_23e7a_row0_col2\" class=\"data row0 col2\" >8.992232</td>\n",
       "            </tr>\n",
       "            <tr>\n",
       "                        <th id=\"T_23e7a_level0_row1\" class=\"row_heading level0 row1\" >43</th>\n",
       "                        <td id=\"T_23e7a_row1_col0\" class=\"data row1 col0\" >rougher.input.floatbank11_xanthate</td>\n",
       "                        <td id=\"T_23e7a_row1_col1\" class=\"data row1 col1\" >453</td>\n",
       "                        <td id=\"T_23e7a_row1_col2\" class=\"data row1 col2\" >2.330367</td>\n",
       "            </tr>\n",
       "            <tr>\n",
       "                        <th id=\"T_23e7a_level0_row2\" class=\"row_heading level0 row2\" >61</th>\n",
       "                        <td id=\"T_23e7a_row2_col0\" class=\"data row2 col0\" >rougher.state.floatbank10_e_air</td>\n",
       "                        <td id=\"T_23e7a_row2_col1\" class=\"data row2 col1\" >436</td>\n",
       "                        <td id=\"T_23e7a_row2_col2\" class=\"data row2 col2\" >2.242914</td>\n",
       "            </tr>\n",
       "            <tr>\n",
       "                        <th id=\"T_23e7a_level0_row3\" class=\"row_heading level0 row3\" >16</th>\n",
       "                        <td id=\"T_23e7a_row3_col0\" class=\"data row3 col0\" >primary_cleaner.output.concentrate_sol</td>\n",
       "                        <td id=\"T_23e7a_row3_col1\" class=\"data row3 col1\" >370</td>\n",
       "                        <td id=\"T_23e7a_row3_col2\" class=\"data row3 col2\" >1.903390</td>\n",
       "            </tr>\n",
       "            <tr>\n",
       "                        <th id=\"T_23e7a_level0_row4\" class=\"row_heading level0 row4\" >69</th>\n",
       "                        <td id=\"T_23e7a_row4_col0\" class=\"data row4 col0\" >secondary_cleaner.state.floatbank2_a_air</td>\n",
       "                        <td id=\"T_23e7a_row4_col1\" class=\"data row4 col1\" >220</td>\n",
       "                        <td id=\"T_23e7a_row4_col2\" class=\"data row4 col2\" >1.131745</td>\n",
       "            </tr>\n",
       "            <tr>\n",
       "                        <th id=\"T_23e7a_level0_row5\" class=\"row_heading level0 row5\" >3</th>\n",
       "                        <td id=\"T_23e7a_row5_col0\" class=\"data row5 col0\" >final.output.concentrate_sol</td>\n",
       "                        <td id=\"T_23e7a_row5_col1\" class=\"data row5 col1\" >211</td>\n",
       "                        <td id=\"T_23e7a_row5_col2\" class=\"data row5 col2\" >1.085447</td>\n",
       "            </tr>\n",
       "            <tr>\n",
       "                        <th id=\"T_23e7a_level0_row6\" class=\"row_heading level0 row6\" >37</th>\n",
       "                        <td id=\"T_23e7a_row6_col0\" class=\"data row6 col0\" >rougher.input.feed_size</td>\n",
       "                        <td id=\"T_23e7a_row6_col1\" class=\"data row6 col1\" >145</td>\n",
       "                        <td id=\"T_23e7a_row6_col2\" class=\"data row6 col2\" >0.745923</td>\n",
       "            </tr>\n",
       "            <tr>\n",
       "                        <th id=\"T_23e7a_level0_row7\" class=\"row_heading level0 row7\" >15</th>\n",
       "                        <td id=\"T_23e7a_row7_col0\" class=\"data row7 col0\" >primary_cleaner.output.concentrate_pb</td>\n",
       "                        <td id=\"T_23e7a_row7_col1\" class=\"data row7 col1\" >116</td>\n",
       "                        <td id=\"T_23e7a_row7_col2\" class=\"data row7 col2\" >0.596739</td>\n",
       "            </tr>\n",
       "            <tr>\n",
       "                        <th id=\"T_23e7a_level0_row8\" class=\"row_heading level0 row8\" >13</th>\n",
       "                        <td id=\"T_23e7a_row8_col0\" class=\"data row8 col0\" >primary_cleaner.input.xanthate</td>\n",
       "                        <td id=\"T_23e7a_row8_col1\" class=\"data row8 col1\" >104</td>\n",
       "                        <td id=\"T_23e7a_row8_col2\" class=\"data row8 col2\" >0.535007</td>\n",
       "            </tr>\n",
       "            <tr>\n",
       "                        <th id=\"T_23e7a_level0_row9\" class=\"row_heading level0 row9\" >7</th>\n",
       "                        <td id=\"T_23e7a_row9_col0\" class=\"data row9 col0\" >final.output.tail_pb</td>\n",
       "                        <td id=\"T_23e7a_row9_col1\" class=\"data row9 col1\" >101</td>\n",
       "                        <td id=\"T_23e7a_row9_col2\" class=\"data row9 col2\" >0.519574</td>\n",
       "            </tr>\n",
       "            <tr>\n",
       "                        <th id=\"T_23e7a_level0_row10\" class=\"row_heading level0 row10\" >35</th>\n",
       "                        <td id=\"T_23e7a_row10_col0\" class=\"data row10 col0\" >rougher.input.feed_pb</td>\n",
       "                        <td id=\"T_23e7a_row10_col1\" class=\"data row10 col1\" >100</td>\n",
       "                        <td id=\"T_23e7a_row10_col2\" class=\"data row10 col2\" >0.514430</td>\n",
       "            </tr>\n",
       "            <tr>\n",
       "                        <th id=\"T_23e7a_level0_row11\" class=\"row_heading level0 row11\" >38</th>\n",
       "                        <td id=\"T_23e7a_row11_col0\" class=\"data row11 col0\" >rougher.input.feed_sol</td>\n",
       "                        <td id=\"T_23e7a_row11_col1\" class=\"data row11 col1\" >99</td>\n",
       "                        <td id=\"T_23e7a_row11_col2\" class=\"data row11 col2\" >0.509285</td>\n",
       "            </tr>\n",
       "            <tr>\n",
       "                        <th id=\"T_23e7a_level0_row12\" class=\"row_heading level0 row12\" >20</th>\n",
       "                        <td id=\"T_23e7a_row12_col0\" class=\"data row12 col0\" >primary_cleaner.output.tail_sol</td>\n",
       "                        <td id=\"T_23e7a_row12_col1\" class=\"data row12 col1\" >62</td>\n",
       "                        <td id=\"T_23e7a_row12_col2\" class=\"data row12 col2\" >0.318946</td>\n",
       "            </tr>\n",
       "            <tr>\n",
       "                        <th id=\"T_23e7a_level0_row13\" class=\"row_heading level0 row13\" >42</th>\n",
       "                        <td id=\"T_23e7a_row13_col0\" class=\"data row13 col0\" >rougher.input.floatbank11_sulfate</td>\n",
       "                        <td id=\"T_23e7a_row13_col1\" class=\"data row13 col1\" >44</td>\n",
       "                        <td id=\"T_23e7a_row13_col2\" class=\"data row13 col2\" >0.226349</td>\n",
       "            </tr>\n",
       "            <tr>\n",
       "                        <th id=\"T_23e7a_level0_row14\" class=\"row_heading level0 row14\" >11</th>\n",
       "                        <td id=\"T_23e7a_row14_col0\" class=\"data row14 col0\" >primary_cleaner.input.depressant</td>\n",
       "                        <td id=\"T_23e7a_row14_col1\" class=\"data row14 col1\" >37</td>\n",
       "                        <td id=\"T_23e7a_row14_col2\" class=\"data row14 col2\" >0.190339</td>\n",
       "            </tr>\n",
       "            <tr>\n",
       "                        <th id=\"T_23e7a_level0_row15\" class=\"row_heading level0 row15\" >40</th>\n",
       "                        <td id=\"T_23e7a_row15_col0\" class=\"data row15 col0\" >rougher.input.floatbank10_sulfate</td>\n",
       "                        <td id=\"T_23e7a_row15_col1\" class=\"data row15 col1\" >34</td>\n",
       "                        <td id=\"T_23e7a_row15_col2\" class=\"data row15 col2\" >0.174906</td>\n",
       "            </tr>\n",
       "            <tr>\n",
       "                        <th id=\"T_23e7a_level0_row16\" class=\"row_heading level0 row16\" >10</th>\n",
       "                        <td id=\"T_23e7a_row16_col0\" class=\"data row16 col0\" >primary_cleaner.input.sulfate</td>\n",
       "                        <td id=\"T_23e7a_row16_col1\" class=\"data row16 col1\" >24</td>\n",
       "                        <td id=\"T_23e7a_row16_col2\" class=\"data row16 col2\" >0.123463</td>\n",
       "            </tr>\n",
       "            <tr>\n",
       "                        <th id=\"T_23e7a_level0_row17\" class=\"row_heading level0 row17\" >46</th>\n",
       "                        <td id=\"T_23e7a_row17_col0\" class=\"data row17 col0\" >rougher.output.concentrate_sol</td>\n",
       "                        <td id=\"T_23e7a_row17_col1\" class=\"data row17 col1\" >23</td>\n",
       "                        <td id=\"T_23e7a_row17_col2\" class=\"data row17 col2\" >0.118319</td>\n",
       "            </tr>\n",
       "            <tr>\n",
       "                        <th id=\"T_23e7a_level0_row18\" class=\"row_heading level0 row18\" >71</th>\n",
       "                        <td id=\"T_23e7a_row18_col0\" class=\"data row18 col0\" >secondary_cleaner.state.floatbank2_b_air</td>\n",
       "                        <td id=\"T_23e7a_row18_col1\" class=\"data row18 col1\" >23</td>\n",
       "                        <td id=\"T_23e7a_row18_col2\" class=\"data row18 col2\" >0.118319</td>\n",
       "            </tr>\n",
       "            <tr>\n",
       "                        <th id=\"T_23e7a_level0_row19\" class=\"row_heading level0 row19\" >19</th>\n",
       "                        <td id=\"T_23e7a_row19_col0\" class=\"data row19 col0\" >primary_cleaner.output.tail_pb</td>\n",
       "                        <td id=\"T_23e7a_row19_col1\" class=\"data row19 col1\" >21</td>\n",
       "                        <td id=\"T_23e7a_row19_col2\" class=\"data row19 col2\" >0.108030</td>\n",
       "            </tr>\n",
       "            <tr>\n",
       "                        <th id=\"T_23e7a_level0_row20\" class=\"row_heading level0 row20\" >73</th>\n",
       "                        <td id=\"T_23e7a_row20_col0\" class=\"data row20 col0\" >secondary_cleaner.state.floatbank3_a_air</td>\n",
       "                        <td id=\"T_23e7a_row20_col1\" class=\"data row20 col1\" >13</td>\n",
       "                        <td id=\"T_23e7a_row20_col2\" class=\"data row20 col2\" >0.066876</td>\n",
       "            </tr>\n",
       "            <tr>\n",
       "                        <th id=\"T_23e7a_level0_row21\" class=\"row_heading level0 row21\" >66</th>\n",
       "                        <td id=\"T_23e7a_row21_col0\" class=\"data row21 col0\" >secondary_cleaner.output.tail_pb</td>\n",
       "                        <td id=\"T_23e7a_row21_col1\" class=\"data row21 col1\" >12</td>\n",
       "                        <td id=\"T_23e7a_row21_col2\" class=\"data row21 col2\" >0.061732</td>\n",
       "            </tr>\n",
       "            <tr>\n",
       "                        <th id=\"T_23e7a_level0_row22\" class=\"row_heading level0 row22\" >36</th>\n",
       "                        <td id=\"T_23e7a_row22_col0\" class=\"data row22 col0\" >rougher.input.feed_rate</td>\n",
       "                        <td id=\"T_23e7a_row22_col1\" class=\"data row22 col1\" >11</td>\n",
       "                        <td id=\"T_23e7a_row22_col2\" class=\"data row22 col2\" >0.056587</td>\n",
       "            </tr>\n",
       "            <tr>\n",
       "                        <th id=\"T_23e7a_level0_row23\" class=\"row_heading level0 row23\" >41</th>\n",
       "                        <td id=\"T_23e7a_row23_col0\" class=\"data row23 col0\" >rougher.input.floatbank10_xanthate</td>\n",
       "                        <td id=\"T_23e7a_row23_col1\" class=\"data row23 col1\" >8</td>\n",
       "                        <td id=\"T_23e7a_row23_col2\" class=\"data row23 col2\" >0.041154</td>\n",
       "            </tr>\n",
       "            <tr>\n",
       "                        <th id=\"T_23e7a_level0_row24\" class=\"row_heading level0 row24\" >8</th>\n",
       "                        <td id=\"T_23e7a_row24_col0\" class=\"data row24 col0\" >final.output.tail_sol</td>\n",
       "                        <td id=\"T_23e7a_row24_col1\" class=\"data row24 col1\" >6</td>\n",
       "                        <td id=\"T_23e7a_row24_col2\" class=\"data row24 col2\" >0.030866</td>\n",
       "            </tr>\n",
       "            <tr>\n",
       "                        <th id=\"T_23e7a_level0_row25\" class=\"row_heading level0 row25\" >77</th>\n",
       "                        <td id=\"T_23e7a_row25_col0\" class=\"data row25 col0\" >secondary_cleaner.state.floatbank4_a_air</td>\n",
       "                        <td id=\"T_23e7a_row25_col1\" class=\"data row25 col1\" >6</td>\n",
       "                        <td id=\"T_23e7a_row25_col2\" class=\"data row25 col2\" >0.030866</td>\n",
       "            </tr>\n",
       "            <tr>\n",
       "                        <th id=\"T_23e7a_level0_row26\" class=\"row_heading level0 row26\" >18</th>\n",
       "                        <td id=\"T_23e7a_row26_col0\" class=\"data row26 col0\" >primary_cleaner.output.tail_ag</td>\n",
       "                        <td id=\"T_23e7a_row26_col1\" class=\"data row26 col1\" >4</td>\n",
       "                        <td id=\"T_23e7a_row26_col2\" class=\"data row26 col2\" >0.020577</td>\n",
       "            </tr>\n",
       "            <tr>\n",
       "                        <th id=\"T_23e7a_level0_row27\" class=\"row_heading level0 row27\" >24</th>\n",
       "                        <td id=\"T_23e7a_row27_col0\" class=\"data row27 col0\" >primary_cleaner.state.floatbank8_b_air</td>\n",
       "                        <td id=\"T_23e7a_row27_col1\" class=\"data row27 col1\" >4</td>\n",
       "                        <td id=\"T_23e7a_row27_col2\" class=\"data row27 col2\" >0.020577</td>\n",
       "            </tr>\n",
       "            <tr>\n",
       "                        <th id=\"T_23e7a_level0_row28\" class=\"row_heading level0 row28\" >22</th>\n",
       "                        <td id=\"T_23e7a_row28_col0\" class=\"data row28 col0\" >primary_cleaner.state.floatbank8_a_air</td>\n",
       "                        <td id=\"T_23e7a_row28_col1\" class=\"data row28 col1\" >4</td>\n",
       "                        <td id=\"T_23e7a_row28_col2\" class=\"data row28 col2\" >0.020577</td>\n",
       "            </tr>\n",
       "            <tr>\n",
       "                        <th id=\"T_23e7a_level0_row29\" class=\"row_heading level0 row29\" >28</th>\n",
       "                        <td id=\"T_23e7a_row29_col0\" class=\"data row29 col0\" >primary_cleaner.state.floatbank8_d_air</td>\n",
       "                        <td id=\"T_23e7a_row29_col1\" class=\"data row29 col1\" >3</td>\n",
       "                        <td id=\"T_23e7a_row29_col2\" class=\"data row29 col2\" >0.015433</td>\n",
       "            </tr>\n",
       "            <tr>\n",
       "                        <th id=\"T_23e7a_level0_row30\" class=\"row_heading level0 row30\" >32</th>\n",
       "                        <td id=\"T_23e7a_row30_col0\" class=\"data row30 col0\" >rougher.calculation.floatbank11_sulfate_to_au_feed</td>\n",
       "                        <td id=\"T_23e7a_row30_col1\" class=\"data row30 col1\" >2</td>\n",
       "                        <td id=\"T_23e7a_row30_col2\" class=\"data row30 col2\" >0.010289</td>\n",
       "            </tr>\n",
       "            <tr>\n",
       "                        <th id=\"T_23e7a_level0_row31\" class=\"row_heading level0 row31\" >65</th>\n",
       "                        <td id=\"T_23e7a_row31_col0\" class=\"data row31 col0\" >secondary_cleaner.output.tail_ag</td>\n",
       "                        <td id=\"T_23e7a_row31_col1\" class=\"data row31 col1\" >2</td>\n",
       "                        <td id=\"T_23e7a_row31_col2\" class=\"data row31 col2\" >0.010289</td>\n",
       "            </tr>\n",
       "            <tr>\n",
       "                        <th id=\"T_23e7a_level0_row32\" class=\"row_heading level0 row32\" >26</th>\n",
       "                        <td id=\"T_23e7a_row32_col0\" class=\"data row32 col0\" >primary_cleaner.state.floatbank8_c_air</td>\n",
       "                        <td id=\"T_23e7a_row32_col1\" class=\"data row32 col1\" >2</td>\n",
       "                        <td id=\"T_23e7a_row32_col2\" class=\"data row32 col2\" >0.010289</td>\n",
       "            </tr>\n",
       "            <tr>\n",
       "                        <th id=\"T_23e7a_level0_row33\" class=\"row_heading level0 row33\" >30</th>\n",
       "                        <td id=\"T_23e7a_row33_col0\" class=\"data row33 col0\" >rougher.calculation.sulfate_to_au_concentrate</td>\n",
       "                        <td id=\"T_23e7a_row33_col1\" class=\"data row33 col1\" >2</td>\n",
       "                        <td id=\"T_23e7a_row33_col2\" class=\"data row33 col2\" >0.010289</td>\n",
       "            </tr>\n",
       "            <tr>\n",
       "                        <th id=\"T_23e7a_level0_row34\" class=\"row_heading level0 row34\" >85</th>\n",
       "                        <td id=\"T_23e7a_row34_col0\" class=\"data row34 col0\" >secondary_cleaner.state.floatbank6_a_air</td>\n",
       "                        <td id=\"T_23e7a_row34_col1\" class=\"data row34 col1\" >2</td>\n",
       "                        <td id=\"T_23e7a_row34_col2\" class=\"data row34 col2\" >0.010289</td>\n",
       "            </tr>\n",
       "            <tr>\n",
       "                        <th id=\"T_23e7a_level0_row35\" class=\"row_heading level0 row35\" >31</th>\n",
       "                        <td id=\"T_23e7a_row35_col0\" class=\"data row35 col0\" >rougher.calculation.floatbank10_sulfate_to_au_feed</td>\n",
       "                        <td id=\"T_23e7a_row35_col1\" class=\"data row35 col1\" >2</td>\n",
       "                        <td id=\"T_23e7a_row35_col2\" class=\"data row35 col2\" >0.010289</td>\n",
       "            </tr>\n",
       "            <tr>\n",
       "                        <th id=\"T_23e7a_level0_row36\" class=\"row_heading level0 row36\" >72</th>\n",
       "                        <td id=\"T_23e7a_row36_col0\" class=\"data row36 col0\" >secondary_cleaner.state.floatbank2_b_level</td>\n",
       "                        <td id=\"T_23e7a_row36_col1\" class=\"data row36 col1\" >1</td>\n",
       "                        <td id=\"T_23e7a_row36_col2\" class=\"data row36 col2\" >0.005144</td>\n",
       "            </tr>\n",
       "            <tr>\n",
       "                        <th id=\"T_23e7a_level0_row37\" class=\"row_heading level0 row37\" >81</th>\n",
       "                        <td id=\"T_23e7a_row37_col0\" class=\"data row37 col0\" >secondary_cleaner.state.floatbank5_a_air</td>\n",
       "                        <td id=\"T_23e7a_row37_col1\" class=\"data row37 col1\" >1</td>\n",
       "                        <td id=\"T_23e7a_row37_col2\" class=\"data row37 col2\" >0.005144</td>\n",
       "            </tr>\n",
       "            <tr>\n",
       "                        <th id=\"T_23e7a_level0_row38\" class=\"row_heading level0 row38\" >56</th>\n",
       "                        <td id=\"T_23e7a_row38_col0\" class=\"data row38 col0\" >rougher.state.floatbank10_b_level</td>\n",
       "                        <td id=\"T_23e7a_row38_col1\" class=\"data row38 col1\" >1</td>\n",
       "                        <td id=\"T_23e7a_row38_col2\" class=\"data row38 col2\" >0.005144</td>\n",
       "            </tr>\n",
       "            <tr>\n",
       "                        <th id=\"T_23e7a_level0_row39\" class=\"row_heading level0 row39\" >57</th>\n",
       "                        <td id=\"T_23e7a_row39_col0\" class=\"data row39 col0\" >rougher.state.floatbank10_c_air</td>\n",
       "                        <td id=\"T_23e7a_row39_col1\" class=\"data row39 col1\" >1</td>\n",
       "                        <td id=\"T_23e7a_row39_col2\" class=\"data row39 col2\" >0.005144</td>\n",
       "            </tr>\n",
       "            <tr>\n",
       "                        <th id=\"T_23e7a_level0_row40\" class=\"row_heading level0 row40\" >58</th>\n",
       "                        <td id=\"T_23e7a_row40_col0\" class=\"data row40 col0\" >rougher.state.floatbank10_c_level</td>\n",
       "                        <td id=\"T_23e7a_row40_col1\" class=\"data row40 col1\" >1</td>\n",
       "                        <td id=\"T_23e7a_row40_col2\" class=\"data row40 col2\" >0.005144</td>\n",
       "            </tr>\n",
       "            <tr>\n",
       "                        <th id=\"T_23e7a_level0_row41\" class=\"row_heading level0 row41\" >84</th>\n",
       "                        <td id=\"T_23e7a_row41_col0\" class=\"data row41 col0\" >secondary_cleaner.state.floatbank5_b_level</td>\n",
       "                        <td id=\"T_23e7a_row41_col1\" class=\"data row41 col1\" >1</td>\n",
       "                        <td id=\"T_23e7a_row41_col2\" class=\"data row41 col2\" >0.005144</td>\n",
       "            </tr>\n",
       "            <tr>\n",
       "                        <th id=\"T_23e7a_level0_row42\" class=\"row_heading level0 row42\" >83</th>\n",
       "                        <td id=\"T_23e7a_row42_col0\" class=\"data row42 col0\" >secondary_cleaner.state.floatbank5_b_air</td>\n",
       "                        <td id=\"T_23e7a_row42_col1\" class=\"data row42 col1\" >1</td>\n",
       "                        <td id=\"T_23e7a_row42_col2\" class=\"data row42 col2\" >0.005144</td>\n",
       "            </tr>\n",
       "            <tr>\n",
       "                        <th id=\"T_23e7a_level0_row43\" class=\"row_heading level0 row43\" >82</th>\n",
       "                        <td id=\"T_23e7a_row43_col0\" class=\"data row43 col0\" >secondary_cleaner.state.floatbank5_a_level</td>\n",
       "                        <td id=\"T_23e7a_row43_col1\" class=\"data row43 col1\" >1</td>\n",
       "                        <td id=\"T_23e7a_row43_col2\" class=\"data row43 col2\" >0.005144</td>\n",
       "            </tr>\n",
       "            <tr>\n",
       "                        <th id=\"T_23e7a_level0_row44\" class=\"row_heading level0 row44\" >80</th>\n",
       "                        <td id=\"T_23e7a_row44_col0\" class=\"data row44 col0\" >secondary_cleaner.state.floatbank4_b_level</td>\n",
       "                        <td id=\"T_23e7a_row44_col1\" class=\"data row44 col1\" >1</td>\n",
       "                        <td id=\"T_23e7a_row44_col2\" class=\"data row44 col2\" >0.005144</td>\n",
       "            </tr>\n",
       "            <tr>\n",
       "                        <th id=\"T_23e7a_level0_row45\" class=\"row_heading level0 row45\" >79</th>\n",
       "                        <td id=\"T_23e7a_row45_col0\" class=\"data row45 col0\" >secondary_cleaner.state.floatbank4_b_air</td>\n",
       "                        <td id=\"T_23e7a_row45_col1\" class=\"data row45 col1\" >1</td>\n",
       "                        <td id=\"T_23e7a_row45_col2\" class=\"data row45 col2\" >0.005144</td>\n",
       "            </tr>\n",
       "            <tr>\n",
       "                        <th id=\"T_23e7a_level0_row46\" class=\"row_heading level0 row46\" >78</th>\n",
       "                        <td id=\"T_23e7a_row46_col0\" class=\"data row46 col0\" >secondary_cleaner.state.floatbank4_a_level</td>\n",
       "                        <td id=\"T_23e7a_row46_col1\" class=\"data row46 col1\" >1</td>\n",
       "                        <td id=\"T_23e7a_row46_col2\" class=\"data row46 col2\" >0.005144</td>\n",
       "            </tr>\n",
       "            <tr>\n",
       "                        <th id=\"T_23e7a_level0_row47\" class=\"row_heading level0 row47\" >76</th>\n",
       "                        <td id=\"T_23e7a_row47_col0\" class=\"data row47 col0\" >secondary_cleaner.state.floatbank3_b_level</td>\n",
       "                        <td id=\"T_23e7a_row47_col1\" class=\"data row47 col1\" >1</td>\n",
       "                        <td id=\"T_23e7a_row47_col2\" class=\"data row47 col2\" >0.005144</td>\n",
       "            </tr>\n",
       "            <tr>\n",
       "                        <th id=\"T_23e7a_level0_row48\" class=\"row_heading level0 row48\" >70</th>\n",
       "                        <td id=\"T_23e7a_row48_col0\" class=\"data row48 col0\" >secondary_cleaner.state.floatbank2_a_level</td>\n",
       "                        <td id=\"T_23e7a_row48_col1\" class=\"data row48 col1\" >1</td>\n",
       "                        <td id=\"T_23e7a_row48_col2\" class=\"data row48 col2\" >0.005144</td>\n",
       "            </tr>\n",
       "            <tr>\n",
       "                        <th id=\"T_23e7a_level0_row49\" class=\"row_heading level0 row49\" >75</th>\n",
       "                        <td id=\"T_23e7a_row49_col0\" class=\"data row49 col0\" >secondary_cleaner.state.floatbank3_b_air</td>\n",
       "                        <td id=\"T_23e7a_row49_col1\" class=\"data row49 col1\" >1</td>\n",
       "                        <td id=\"T_23e7a_row49_col2\" class=\"data row49 col2\" >0.005144</td>\n",
       "            </tr>\n",
       "            <tr>\n",
       "                        <th id=\"T_23e7a_level0_row50\" class=\"row_heading level0 row50\" >54</th>\n",
       "                        <td id=\"T_23e7a_row50_col0\" class=\"data row50 col0\" >rougher.state.floatbank10_a_level</td>\n",
       "                        <td id=\"T_23e7a_row50_col1\" class=\"data row50 col1\" >1</td>\n",
       "                        <td id=\"T_23e7a_row50_col2\" class=\"data row50 col2\" >0.005144</td>\n",
       "            </tr>\n",
       "            <tr>\n",
       "                        <th id=\"T_23e7a_level0_row51\" class=\"row_heading level0 row51\" >74</th>\n",
       "                        <td id=\"T_23e7a_row51_col0\" class=\"data row51 col0\" >secondary_cleaner.state.floatbank3_a_level</td>\n",
       "                        <td id=\"T_23e7a_row51_col1\" class=\"data row51 col1\" >1</td>\n",
       "                        <td id=\"T_23e7a_row51_col2\" class=\"data row51 col2\" >0.005144</td>\n",
       "            </tr>\n",
       "            <tr>\n",
       "                        <th id=\"T_23e7a_level0_row52\" class=\"row_heading level0 row52\" >55</th>\n",
       "                        <td id=\"T_23e7a_row52_col0\" class=\"data row52 col0\" >rougher.state.floatbank10_b_air</td>\n",
       "                        <td id=\"T_23e7a_row52_col1\" class=\"data row52 col1\" >1</td>\n",
       "                        <td id=\"T_23e7a_row52_col2\" class=\"data row52 col2\" >0.005144</td>\n",
       "            </tr>\n",
       "            <tr>\n",
       "                        <th id=\"T_23e7a_level0_row53\" class=\"row_heading level0 row53\" >86</th>\n",
       "                        <td id=\"T_23e7a_row53_col0\" class=\"data row53 col0\" >secondary_cleaner.state.floatbank6_a_level</td>\n",
       "                        <td id=\"T_23e7a_row53_col1\" class=\"data row53 col1\" >1</td>\n",
       "                        <td id=\"T_23e7a_row53_col2\" class=\"data row53 col2\" >0.005144</td>\n",
       "            </tr>\n",
       "            <tr>\n",
       "                        <th id=\"T_23e7a_level0_row54\" class=\"row_heading level0 row54\" >53</th>\n",
       "                        <td id=\"T_23e7a_row54_col0\" class=\"data row54 col0\" >rougher.state.floatbank10_a_air</td>\n",
       "                        <td id=\"T_23e7a_row54_col1\" class=\"data row54 col1\" >1</td>\n",
       "                        <td id=\"T_23e7a_row54_col2\" class=\"data row54 col2\" >0.005144</td>\n",
       "            </tr>\n",
       "            <tr>\n",
       "                        <th id=\"T_23e7a_level0_row55\" class=\"row_heading level0 row55\" >6</th>\n",
       "                        <td id=\"T_23e7a_row55_col0\" class=\"data row55 col0\" >final.output.tail_ag</td>\n",
       "                        <td id=\"T_23e7a_row55_col1\" class=\"data row55 col1\" >1</td>\n",
       "                        <td id=\"T_23e7a_row55_col2\" class=\"data row55 col2\" >0.005144</td>\n",
       "            </tr>\n",
       "            <tr>\n",
       "                        <th id=\"T_23e7a_level0_row56\" class=\"row_heading level0 row56\" >1</th>\n",
       "                        <td id=\"T_23e7a_row56_col0\" class=\"data row56 col0\" >final.output.concentrate_ag</td>\n",
       "                        <td id=\"T_23e7a_row56_col1\" class=\"data row56 col1\" >1</td>\n",
       "                        <td id=\"T_23e7a_row56_col2\" class=\"data row56 col2\" >0.005144</td>\n",
       "            </tr>\n",
       "            <tr>\n",
       "                        <th id=\"T_23e7a_level0_row57\" class=\"row_heading level0 row57\" >27</th>\n",
       "                        <td id=\"T_23e7a_row57_col0\" class=\"data row57 col0\" >primary_cleaner.state.floatbank8_c_level</td>\n",
       "                        <td id=\"T_23e7a_row57_col1\" class=\"data row57 col1\" >1</td>\n",
       "                        <td id=\"T_23e7a_row57_col2\" class=\"data row57 col2\" >0.005144</td>\n",
       "            </tr>\n",
       "            <tr>\n",
       "                        <th id=\"T_23e7a_level0_row58\" class=\"row_heading level0 row58\" >25</th>\n",
       "                        <td id=\"T_23e7a_row58_col0\" class=\"data row58 col0\" >primary_cleaner.state.floatbank8_b_level</td>\n",
       "                        <td id=\"T_23e7a_row58_col1\" class=\"data row58 col1\" >1</td>\n",
       "                        <td id=\"T_23e7a_row58_col2\" class=\"data row58 col2\" >0.005144</td>\n",
       "            </tr>\n",
       "            <tr>\n",
       "                        <th id=\"T_23e7a_level0_row59\" class=\"row_heading level0 row59\" >23</th>\n",
       "                        <td id=\"T_23e7a_row59_col0\" class=\"data row59 col0\" >primary_cleaner.state.floatbank8_a_level</td>\n",
       "                        <td id=\"T_23e7a_row59_col1\" class=\"data row59 col1\" >1</td>\n",
       "                        <td id=\"T_23e7a_row59_col2\" class=\"data row59 col2\" >0.005144</td>\n",
       "            </tr>\n",
       "            <tr>\n",
       "                        <th id=\"T_23e7a_level0_row60\" class=\"row_heading level0 row60\" >29</th>\n",
       "                        <td id=\"T_23e7a_row60_col0\" class=\"data row60 col0\" >primary_cleaner.state.floatbank8_d_level</td>\n",
       "                        <td id=\"T_23e7a_row60_col1\" class=\"data row60 col1\" >1</td>\n",
       "                        <td id=\"T_23e7a_row60_col2\" class=\"data row60 col2\" >0.005144</td>\n",
       "            </tr>\n",
       "            <tr>\n",
       "                        <th id=\"T_23e7a_level0_row61\" class=\"row_heading level0 row61\" >49</th>\n",
       "                        <td id=\"T_23e7a_row61_col0\" class=\"data row61 col0\" >rougher.output.tail_ag</td>\n",
       "                        <td id=\"T_23e7a_row61_col1\" class=\"data row61 col1\" >1</td>\n",
       "                        <td id=\"T_23e7a_row61_col2\" class=\"data row61 col2\" >0.005144</td>\n",
       "            </tr>\n",
       "            <tr>\n",
       "                        <th id=\"T_23e7a_level0_row62\" class=\"row_heading level0 row62\" >2</th>\n",
       "                        <td id=\"T_23e7a_row62_col0\" class=\"data row62 col0\" >final.output.concentrate_pb</td>\n",
       "                        <td id=\"T_23e7a_row62_col1\" class=\"data row62 col1\" >1</td>\n",
       "                        <td id=\"T_23e7a_row62_col2\" class=\"data row62 col2\" >0.005144</td>\n",
       "            </tr>\n",
       "            <tr>\n",
       "                        <th id=\"T_23e7a_level0_row63\" class=\"row_heading level0 row63\" >9</th>\n",
       "                        <td id=\"T_23e7a_row63_col0\" class=\"data row63 col0\" >final.output.tail_au</td>\n",
       "                        <td id=\"T_23e7a_row63_col1\" class=\"data row63 col1\" >0</td>\n",
       "                        <td id=\"T_23e7a_row63_col2\" class=\"data row63 col2\" >0.000000</td>\n",
       "            </tr>\n",
       "            <tr>\n",
       "                        <th id=\"T_23e7a_level0_row64\" class=\"row_heading level0 row64\" >33</th>\n",
       "                        <td id=\"T_23e7a_row64_col0\" class=\"data row64 col0\" >rougher.calculation.au_pb_ratio</td>\n",
       "                        <td id=\"T_23e7a_row64_col1\" class=\"data row64 col1\" >0</td>\n",
       "                        <td id=\"T_23e7a_row64_col2\" class=\"data row64 col2\" >0.000000</td>\n",
       "            </tr>\n",
       "            <tr>\n",
       "                        <th id=\"T_23e7a_level0_row65\" class=\"row_heading level0 row65\" >14</th>\n",
       "                        <td id=\"T_23e7a_row65_col0\" class=\"data row65 col0\" >primary_cleaner.output.concentrate_ag</td>\n",
       "                        <td id=\"T_23e7a_row65_col1\" class=\"data row65 col1\" >0</td>\n",
       "                        <td id=\"T_23e7a_row65_col2\" class=\"data row65 col2\" >0.000000</td>\n",
       "            </tr>\n",
       "            <tr>\n",
       "                        <th id=\"T_23e7a_level0_row66\" class=\"row_heading level0 row66\" >17</th>\n",
       "                        <td id=\"T_23e7a_row66_col0\" class=\"data row66 col0\" >primary_cleaner.output.concentrate_au</td>\n",
       "                        <td id=\"T_23e7a_row66_col1\" class=\"data row66 col1\" >0</td>\n",
       "                        <td id=\"T_23e7a_row66_col2\" class=\"data row66 col2\" >0.000000</td>\n",
       "            </tr>\n",
       "            <tr>\n",
       "                        <th id=\"T_23e7a_level0_row67\" class=\"row_heading level0 row67\" >21</th>\n",
       "                        <td id=\"T_23e7a_row67_col0\" class=\"data row67 col0\" >primary_cleaner.output.tail_au</td>\n",
       "                        <td id=\"T_23e7a_row67_col1\" class=\"data row67 col1\" >0</td>\n",
       "                        <td id=\"T_23e7a_row67_col2\" class=\"data row67 col2\" >0.000000</td>\n",
       "            </tr>\n",
       "            <tr>\n",
       "                        <th id=\"T_23e7a_level0_row68\" class=\"row_heading level0 row68\" >5</th>\n",
       "                        <td id=\"T_23e7a_row68_col0\" class=\"data row68 col0\" >final.output.recovery</td>\n",
       "                        <td id=\"T_23e7a_row68_col1\" class=\"data row68 col1\" >0</td>\n",
       "                        <td id=\"T_23e7a_row68_col2\" class=\"data row68 col2\" >0.000000</td>\n",
       "            </tr>\n",
       "            <tr>\n",
       "                        <th id=\"T_23e7a_level0_row69\" class=\"row_heading level0 row69\" >4</th>\n",
       "                        <td id=\"T_23e7a_row69_col0\" class=\"data row69 col0\" >final.output.concentrate_au</td>\n",
       "                        <td id=\"T_23e7a_row69_col1\" class=\"data row69 col1\" >0</td>\n",
       "                        <td id=\"T_23e7a_row69_col2\" class=\"data row69 col2\" >0.000000</td>\n",
       "            </tr>\n",
       "            <tr>\n",
       "                        <th id=\"T_23e7a_level0_row70\" class=\"row_heading level0 row70\" >12</th>\n",
       "                        <td id=\"T_23e7a_row70_col0\" class=\"data row70 col0\" >primary_cleaner.input.feed_size</td>\n",
       "                        <td id=\"T_23e7a_row70_col1\" class=\"data row70 col1\" >0</td>\n",
       "                        <td id=\"T_23e7a_row70_col2\" class=\"data row70 col2\" >0.000000</td>\n",
       "            </tr>\n",
       "            <tr>\n",
       "                        <th id=\"T_23e7a_level0_row71\" class=\"row_heading level0 row71\" >39</th>\n",
       "                        <td id=\"T_23e7a_row71_col0\" class=\"data row71 col0\" >rougher.input.feed_au</td>\n",
       "                        <td id=\"T_23e7a_row71_col1\" class=\"data row71 col1\" >0</td>\n",
       "                        <td id=\"T_23e7a_row71_col2\" class=\"data row71 col2\" >0.000000</td>\n",
       "            </tr>\n",
       "            <tr>\n",
       "                        <th id=\"T_23e7a_level0_row72\" class=\"row_heading level0 row72\" >34</th>\n",
       "                        <td id=\"T_23e7a_row72_col0\" class=\"data row72 col0\" >rougher.input.feed_ag</td>\n",
       "                        <td id=\"T_23e7a_row72_col1\" class=\"data row72 col1\" >0</td>\n",
       "                        <td id=\"T_23e7a_row72_col2\" class=\"data row72 col2\" >0.000000</td>\n",
       "            </tr>\n",
       "            <tr>\n",
       "                        <th id=\"T_23e7a_level0_row73\" class=\"row_heading level0 row73\" >52</th>\n",
       "                        <td id=\"T_23e7a_row73_col0\" class=\"data row73 col0\" >rougher.output.tail_au</td>\n",
       "                        <td id=\"T_23e7a_row73_col1\" class=\"data row73 col1\" >0</td>\n",
       "                        <td id=\"T_23e7a_row73_col2\" class=\"data row73 col2\" >0.000000</td>\n",
       "            </tr>\n",
       "            <tr>\n",
       "                        <th id=\"T_23e7a_level0_row74\" class=\"row_heading level0 row74\" >68</th>\n",
       "                        <td id=\"T_23e7a_row74_col0\" class=\"data row74 col0\" >secondary_cleaner.output.tail_au</td>\n",
       "                        <td id=\"T_23e7a_row74_col1\" class=\"data row74 col1\" >0</td>\n",
       "                        <td id=\"T_23e7a_row74_col2\" class=\"data row74 col2\" >0.000000</td>\n",
       "            </tr>\n",
       "            <tr>\n",
       "                        <th id=\"T_23e7a_level0_row75\" class=\"row_heading level0 row75\" >44</th>\n",
       "                        <td id=\"T_23e7a_row75_col0\" class=\"data row75 col0\" >rougher.output.concentrate_ag</td>\n",
       "                        <td id=\"T_23e7a_row75_col1\" class=\"data row75 col1\" >0</td>\n",
       "                        <td id=\"T_23e7a_row75_col2\" class=\"data row75 col2\" >0.000000</td>\n",
       "            </tr>\n",
       "            <tr>\n",
       "                        <th id=\"T_23e7a_level0_row76\" class=\"row_heading level0 row76\" >45</th>\n",
       "                        <td id=\"T_23e7a_row76_col0\" class=\"data row76 col0\" >rougher.output.concentrate_pb</td>\n",
       "                        <td id=\"T_23e7a_row76_col1\" class=\"data row76 col1\" >0</td>\n",
       "                        <td id=\"T_23e7a_row76_col2\" class=\"data row76 col2\" >0.000000</td>\n",
       "            </tr>\n",
       "            <tr>\n",
       "                        <th id=\"T_23e7a_level0_row77\" class=\"row_heading level0 row77\" >47</th>\n",
       "                        <td id=\"T_23e7a_row77_col0\" class=\"data row77 col0\" >rougher.output.concentrate_au</td>\n",
       "                        <td id=\"T_23e7a_row77_col1\" class=\"data row77 col1\" >0</td>\n",
       "                        <td id=\"T_23e7a_row77_col2\" class=\"data row77 col2\" >0.000000</td>\n",
       "            </tr>\n",
       "            <tr>\n",
       "                        <th id=\"T_23e7a_level0_row78\" class=\"row_heading level0 row78\" >64</th>\n",
       "                        <td id=\"T_23e7a_row78_col0\" class=\"data row78 col0\" >rougher.state.floatbank10_f_level</td>\n",
       "                        <td id=\"T_23e7a_row78_col1\" class=\"data row78 col1\" >0</td>\n",
       "                        <td id=\"T_23e7a_row78_col2\" class=\"data row78 col2\" >0.000000</td>\n",
       "            </tr>\n",
       "            <tr>\n",
       "                        <th id=\"T_23e7a_level0_row79\" class=\"row_heading level0 row79\" >63</th>\n",
       "                        <td id=\"T_23e7a_row79_col0\" class=\"data row79 col0\" >rougher.state.floatbank10_f_air</td>\n",
       "                        <td id=\"T_23e7a_row79_col1\" class=\"data row79 col1\" >0</td>\n",
       "                        <td id=\"T_23e7a_row79_col2\" class=\"data row79 col2\" >0.000000</td>\n",
       "            </tr>\n",
       "            <tr>\n",
       "                        <th id=\"T_23e7a_level0_row80\" class=\"row_heading level0 row80\" >62</th>\n",
       "                        <td id=\"T_23e7a_row80_col0\" class=\"data row80 col0\" >rougher.state.floatbank10_e_level</td>\n",
       "                        <td id=\"T_23e7a_row80_col1\" class=\"data row80 col1\" >0</td>\n",
       "                        <td id=\"T_23e7a_row80_col2\" class=\"data row80 col2\" >0.000000</td>\n",
       "            </tr>\n",
       "            <tr>\n",
       "                        <th id=\"T_23e7a_level0_row81\" class=\"row_heading level0 row81\" >48</th>\n",
       "                        <td id=\"T_23e7a_row81_col0\" class=\"data row81 col0\" >rougher.output.recovery</td>\n",
       "                        <td id=\"T_23e7a_row81_col1\" class=\"data row81 col1\" >0</td>\n",
       "                        <td id=\"T_23e7a_row81_col2\" class=\"data row81 col2\" >0.000000</td>\n",
       "            </tr>\n",
       "            <tr>\n",
       "                        <th id=\"T_23e7a_level0_row82\" class=\"row_heading level0 row82\" >60</th>\n",
       "                        <td id=\"T_23e7a_row82_col0\" class=\"data row82 col0\" >rougher.state.floatbank10_d_level</td>\n",
       "                        <td id=\"T_23e7a_row82_col1\" class=\"data row82 col1\" >0</td>\n",
       "                        <td id=\"T_23e7a_row82_col2\" class=\"data row82 col2\" >0.000000</td>\n",
       "            </tr>\n",
       "            <tr>\n",
       "                        <th id=\"T_23e7a_level0_row83\" class=\"row_heading level0 row83\" >59</th>\n",
       "                        <td id=\"T_23e7a_row83_col0\" class=\"data row83 col0\" >rougher.state.floatbank10_d_air</td>\n",
       "                        <td id=\"T_23e7a_row83_col1\" class=\"data row83 col1\" >0</td>\n",
       "                        <td id=\"T_23e7a_row83_col2\" class=\"data row83 col2\" >0.000000</td>\n",
       "            </tr>\n",
       "            <tr>\n",
       "                        <th id=\"T_23e7a_level0_row84\" class=\"row_heading level0 row84\" >50</th>\n",
       "                        <td id=\"T_23e7a_row84_col0\" class=\"data row84 col0\" >rougher.output.tail_pb</td>\n",
       "                        <td id=\"T_23e7a_row84_col1\" class=\"data row84 col1\" >0</td>\n",
       "                        <td id=\"T_23e7a_row84_col2\" class=\"data row84 col2\" >0.000000</td>\n",
       "            </tr>\n",
       "            <tr>\n",
       "                        <th id=\"T_23e7a_level0_row85\" class=\"row_heading level0 row85\" >51</th>\n",
       "                        <td id=\"T_23e7a_row85_col0\" class=\"data row85 col0\" >rougher.output.tail_sol</td>\n",
       "                        <td id=\"T_23e7a_row85_col1\" class=\"data row85 col1\" >0</td>\n",
       "                        <td id=\"T_23e7a_row85_col2\" class=\"data row85 col2\" >0.000000</td>\n",
       "            </tr>\n",
       "            <tr>\n",
       "                        <th id=\"T_23e7a_level0_row86\" class=\"row_heading level0 row86\" >0</th>\n",
       "                        <td id=\"T_23e7a_row86_col0\" class=\"data row86 col0\" >date</td>\n",
       "                        <td id=\"T_23e7a_row86_col1\" class=\"data row86 col1\" >0</td>\n",
       "                        <td id=\"T_23e7a_row86_col2\" class=\"data row86 col2\" >0.000000</td>\n",
       "            </tr>\n",
       "    </tbody></table>"
      ],
      "text/plain": [
       "<pandas.io.formats.style.Styler at 0x7f53681ba1c0>"
      ]
     },
     "metadata": {},
     "output_type": "display_data"
    }
   ],
   "source": [
    "get_data_info(data_full)"
   ]
  },
  {
   "cell_type": "markdown",
   "metadata": {},
   "source": [
    "В датасете содержатся 19439 строк, 87 столбцов. Типы данных по столбцам корректны: 86 - вещественные числа, 1 столбец, преобразованный из объекта в дату. Явные дубликаты отсутствуют. Пропуски содержит большая часть столбцов. Максиальное значение в столбце secondary_cleaner.output.tail_sol ~ 9%."
   ]
  },
  {
   "cell_type": "markdown",
   "metadata": {},
   "source": [
    "### Проверка расчёта эффективности обогащения "
   ]
  },
  {
   "attachments": {
    "image.png": {
     "image/png": "[encoded data removed]"
    }
   },
   "cell_type": "markdown",
   "metadata": {},
   "source": [
    "Эффективность обогащения смеси золотоносной руды вычисляется по следующей формуле:\n",
    "![image.png](attachment:image.png)\n",
    "где:\n",
    "- C — доля золота в концентрате после флотации/очистки;\n",
    "- F — доля золота в сырье/концентрате до флотации/очистки;\n",
    "- T — доля золота в отвальных хвостах после флотации/очистки"
   ]
  },
  {
   "cell_type": "markdown",
   "metadata": {},
   "source": [
    "Требуется проверить эффективность обогащения чернового концентрата rougher.output.recovery. Соответственно, подставим в формулу наши параметры: долю золота в сырье до флотации, долю золота в концентрате после флотации и долю золота в отвальных хвостах после флотации."
   ]
  },
  {
   "cell_type": "code",
   "execution_count": 7,
   "metadata": {
    "ExecuteTime": {
     "end_time": "2023-03-25T08:55:47.110664Z",
     "start_time": "2023-03-25T08:55:47.088785Z"
    }
   },
   "outputs": [],
   "source": [
    "C = data_train['rougher.output.concentrate_au']\n",
    "F = data_train['rougher.input.feed_au']\n",
    "T = data_train['rougher.output.tail_au']\n",
    "recovery = ((C * (F - T)) / (F * (C - T))) * 100"
   ]
  },
  {
   "cell_type": "markdown",
   "metadata": {},
   "source": [
    "Для проверки точности рассчитаем среднюю абсолютную ошибку между полученными вычислениями и значением признака"
   ]
  },
  {
   "cell_type": "code",
   "execution_count": 8,
   "metadata": {
    "ExecuteTime": {
     "end_time": "2023-03-25T08:55:47.125889Z",
     "start_time": "2023-03-25T08:55:47.114131Z"
    }
   },
   "outputs": [
    {
     "name": "stdout",
     "output_type": "stream",
     "text": [
      "Среднее абсолютная ошибка: 9.73512347450521e-15\n"
     ]
    }
   ],
   "source": [
    "print('Среднее абсолютная ошибка:', mean_absolute_error(data_train['rougher.output.recovery'], recovery))"
   ]
  },
  {
   "cell_type": "markdown",
   "metadata": {
    "ExecuteTime": {
     "end_time": "2023-03-22T08:42:17.548622Z",
     "start_time": "2023-03-22T08:42:17.533292Z"
    }
   },
   "source": [
    "MAE, стремящееся к нулю, свидетельствует о верности расчётов"
   ]
  },
  {
   "cell_type": "markdown",
   "metadata": {},
   "source": [
    "### Анализ признаков, недоступных в тестовой выборке "
   ]
  },
  {
   "cell_type": "markdown",
   "metadata": {},
   "source": [
    "Чтобы проанализировать признаки присутствующие в тренировочной выборке, но недоступные в тестовой, создадим таблицу, где пересекающиеся фичи будут отмечены \"1\" и не пересекающиеся - \"0\""
   ]
  },
  {
   "cell_type": "code",
   "execution_count": 9,
   "metadata": {
    "ExecuteTime": {
     "end_time": "2023-03-25T08:55:47.163930Z",
     "start_time": "2023-03-25T08:55:47.129491Z"
    },
    "scrolled": false
   },
   "outputs": [
    {
     "data": {
      "text/html": [
       "<style  type=\"text/css\" >\n",
       "#T_28a91_row0_col1,#T_28a91_row10_col1,#T_28a91_row11_col1,#T_28a91_row12_col1,#T_28a91_row13_col1,#T_28a91_row22_col1,#T_28a91_row23_col1,#T_28a91_row24_col1,#T_28a91_row25_col1,#T_28a91_row26_col1,#T_28a91_row27_col1,#T_28a91_row28_col1,#T_28a91_row29_col1,#T_28a91_row34_col1,#T_28a91_row35_col1,#T_28a91_row36_col1,#T_28a91_row37_col1,#T_28a91_row38_col1,#T_28a91_row39_col1,#T_28a91_row40_col1,#T_28a91_row41_col1,#T_28a91_row42_col1,#T_28a91_row43_col1,#T_28a91_row53_col1,#T_28a91_row54_col1,#T_28a91_row55_col1,#T_28a91_row56_col1,#T_28a91_row57_col1,#T_28a91_row58_col1,#T_28a91_row59_col1,#T_28a91_row60_col1,#T_28a91_row61_col1,#T_28a91_row62_col1,#T_28a91_row63_col1,#T_28a91_row64_col1,#T_28a91_row69_col1,#T_28a91_row70_col1,#T_28a91_row71_col1,#T_28a91_row72_col1,#T_28a91_row73_col1,#T_28a91_row74_col1,#T_28a91_row75_col1,#T_28a91_row76_col1,#T_28a91_row77_col1,#T_28a91_row78_col1,#T_28a91_row79_col1,#T_28a91_row80_col1,#T_28a91_row81_col1,#T_28a91_row82_col1,#T_28a91_row83_col1,#T_28a91_row84_col1,#T_28a91_row85_col1,#T_28a91_row86_col1{\n",
       "            background-color:  #ff00ff;\n",
       "            color:  #f1f1f1;\n",
       "        }#T_28a91_row1_col1,#T_28a91_row2_col1,#T_28a91_row3_col1,#T_28a91_row4_col1,#T_28a91_row5_col1,#T_28a91_row6_col1,#T_28a91_row7_col1,#T_28a91_row8_col1,#T_28a91_row9_col1,#T_28a91_row14_col1,#T_28a91_row15_col1,#T_28a91_row16_col1,#T_28a91_row17_col1,#T_28a91_row18_col1,#T_28a91_row19_col1,#T_28a91_row20_col1,#T_28a91_row21_col1,#T_28a91_row30_col1,#T_28a91_row31_col1,#T_28a91_row32_col1,#T_28a91_row33_col1,#T_28a91_row44_col1,#T_28a91_row45_col1,#T_28a91_row46_col1,#T_28a91_row47_col1,#T_28a91_row48_col1,#T_28a91_row49_col1,#T_28a91_row50_col1,#T_28a91_row51_col1,#T_28a91_row52_col1,#T_28a91_row65_col1,#T_28a91_row66_col1,#T_28a91_row67_col1,#T_28a91_row68_col1{\n",
       "            background-color:  #00ffff;\n",
       "            color:  #000000;\n",
       "        }</style><table id=\"T_28a91_\" ><thead>    <tr>        <th class=\"blank level0\" ></th>        <th class=\"col_heading level0 col0\" >features</th>        <th class=\"col_heading level0 col1\" >features_in_test</th>    </tr></thead><tbody>\n",
       "                <tr>\n",
       "                        <th id=\"T_28a91_level0_row0\" class=\"row_heading level0 row0\" >0</th>\n",
       "                        <td id=\"T_28a91_row0_col0\" class=\"data row0 col0\" >date</td>\n",
       "                        <td id=\"T_28a91_row0_col1\" class=\"data row0 col1\" >1</td>\n",
       "            </tr>\n",
       "            <tr>\n",
       "                        <th id=\"T_28a91_level0_row1\" class=\"row_heading level0 row1\" >1</th>\n",
       "                        <td id=\"T_28a91_row1_col0\" class=\"data row1 col0\" >final.output.concentrate_ag</td>\n",
       "                        <td id=\"T_28a91_row1_col1\" class=\"data row1 col1\" >0</td>\n",
       "            </tr>\n",
       "            <tr>\n",
       "                        <th id=\"T_28a91_level0_row2\" class=\"row_heading level0 row2\" >2</th>\n",
       "                        <td id=\"T_28a91_row2_col0\" class=\"data row2 col0\" >final.output.concentrate_au</td>\n",
       "                        <td id=\"T_28a91_row2_col1\" class=\"data row2 col1\" >0</td>\n",
       "            </tr>\n",
       "            <tr>\n",
       "                        <th id=\"T_28a91_level0_row3\" class=\"row_heading level0 row3\" >3</th>\n",
       "                        <td id=\"T_28a91_row3_col0\" class=\"data row3 col0\" >final.output.concentrate_pb</td>\n",
       "                        <td id=\"T_28a91_row3_col1\" class=\"data row3 col1\" >0</td>\n",
       "            </tr>\n",
       "            <tr>\n",
       "                        <th id=\"T_28a91_level0_row4\" class=\"row_heading level0 row4\" >4</th>\n",
       "                        <td id=\"T_28a91_row4_col0\" class=\"data row4 col0\" >final.output.concentrate_sol</td>\n",
       "                        <td id=\"T_28a91_row4_col1\" class=\"data row4 col1\" >0</td>\n",
       "            </tr>\n",
       "            <tr>\n",
       "                        <th id=\"T_28a91_level0_row5\" class=\"row_heading level0 row5\" >5</th>\n",
       "                        <td id=\"T_28a91_row5_col0\" class=\"data row5 col0\" >final.output.recovery</td>\n",
       "                        <td id=\"T_28a91_row5_col1\" class=\"data row5 col1\" >0</td>\n",
       "            </tr>\n",
       "            <tr>\n",
       "                        <th id=\"T_28a91_level0_row6\" class=\"row_heading level0 row6\" >6</th>\n",
       "                        <td id=\"T_28a91_row6_col0\" class=\"data row6 col0\" >final.output.tail_ag</td>\n",
       "                        <td id=\"T_28a91_row6_col1\" class=\"data row6 col1\" >0</td>\n",
       "            </tr>\n",
       "            <tr>\n",
       "                        <th id=\"T_28a91_level0_row7\" class=\"row_heading level0 row7\" >7</th>\n",
       "                        <td id=\"T_28a91_row7_col0\" class=\"data row7 col0\" >final.output.tail_au</td>\n",
       "                        <td id=\"T_28a91_row7_col1\" class=\"data row7 col1\" >0</td>\n",
       "            </tr>\n",
       "            <tr>\n",
       "                        <th id=\"T_28a91_level0_row8\" class=\"row_heading level0 row8\" >8</th>\n",
       "                        <td id=\"T_28a91_row8_col0\" class=\"data row8 col0\" >final.output.tail_pb</td>\n",
       "                        <td id=\"T_28a91_row8_col1\" class=\"data row8 col1\" >0</td>\n",
       "            </tr>\n",
       "            <tr>\n",
       "                        <th id=\"T_28a91_level0_row9\" class=\"row_heading level0 row9\" >9</th>\n",
       "                        <td id=\"T_28a91_row9_col0\" class=\"data row9 col0\" >final.output.tail_sol</td>\n",
       "                        <td id=\"T_28a91_row9_col1\" class=\"data row9 col1\" >0</td>\n",
       "            </tr>\n",
       "            <tr>\n",
       "                        <th id=\"T_28a91_level0_row10\" class=\"row_heading level0 row10\" >10</th>\n",
       "                        <td id=\"T_28a91_row10_col0\" class=\"data row10 col0\" >primary_cleaner.input.depressant</td>\n",
       "                        <td id=\"T_28a91_row10_col1\" class=\"data row10 col1\" >1</td>\n",
       "            </tr>\n",
       "            <tr>\n",
       "                        <th id=\"T_28a91_level0_row11\" class=\"row_heading level0 row11\" >11</th>\n",
       "                        <td id=\"T_28a91_row11_col0\" class=\"data row11 col0\" >primary_cleaner.input.feed_size</td>\n",
       "                        <td id=\"T_28a91_row11_col1\" class=\"data row11 col1\" >1</td>\n",
       "            </tr>\n",
       "            <tr>\n",
       "                        <th id=\"T_28a91_level0_row12\" class=\"row_heading level0 row12\" >12</th>\n",
       "                        <td id=\"T_28a91_row12_col0\" class=\"data row12 col0\" >primary_cleaner.input.sulfate</td>\n",
       "                        <td id=\"T_28a91_row12_col1\" class=\"data row12 col1\" >1</td>\n",
       "            </tr>\n",
       "            <tr>\n",
       "                        <th id=\"T_28a91_level0_row13\" class=\"row_heading level0 row13\" >13</th>\n",
       "                        <td id=\"T_28a91_row13_col0\" class=\"data row13 col0\" >primary_cleaner.input.xanthate</td>\n",
       "                        <td id=\"T_28a91_row13_col1\" class=\"data row13 col1\" >1</td>\n",
       "            </tr>\n",
       "            <tr>\n",
       "                        <th id=\"T_28a91_level0_row14\" class=\"row_heading level0 row14\" >14</th>\n",
       "                        <td id=\"T_28a91_row14_col0\" class=\"data row14 col0\" >primary_cleaner.output.concentrate_ag</td>\n",
       "                        <td id=\"T_28a91_row14_col1\" class=\"data row14 col1\" >0</td>\n",
       "            </tr>\n",
       "            <tr>\n",
       "                        <th id=\"T_28a91_level0_row15\" class=\"row_heading level0 row15\" >15</th>\n",
       "                        <td id=\"T_28a91_row15_col0\" class=\"data row15 col0\" >primary_cleaner.output.concentrate_au</td>\n",
       "                        <td id=\"T_28a91_row15_col1\" class=\"data row15 col1\" >0</td>\n",
       "            </tr>\n",
       "            <tr>\n",
       "                        <th id=\"T_28a91_level0_row16\" class=\"row_heading level0 row16\" >16</th>\n",
       "                        <td id=\"T_28a91_row16_col0\" class=\"data row16 col0\" >primary_cleaner.output.concentrate_pb</td>\n",
       "                        <td id=\"T_28a91_row16_col1\" class=\"data row16 col1\" >0</td>\n",
       "            </tr>\n",
       "            <tr>\n",
       "                        <th id=\"T_28a91_level0_row17\" class=\"row_heading level0 row17\" >17</th>\n",
       "                        <td id=\"T_28a91_row17_col0\" class=\"data row17 col0\" >primary_cleaner.output.concentrate_sol</td>\n",
       "                        <td id=\"T_28a91_row17_col1\" class=\"data row17 col1\" >0</td>\n",
       "            </tr>\n",
       "            <tr>\n",
       "                        <th id=\"T_28a91_level0_row18\" class=\"row_heading level0 row18\" >18</th>\n",
       "                        <td id=\"T_28a91_row18_col0\" class=\"data row18 col0\" >primary_cleaner.output.tail_ag</td>\n",
       "                        <td id=\"T_28a91_row18_col1\" class=\"data row18 col1\" >0</td>\n",
       "            </tr>\n",
       "            <tr>\n",
       "                        <th id=\"T_28a91_level0_row19\" class=\"row_heading level0 row19\" >19</th>\n",
       "                        <td id=\"T_28a91_row19_col0\" class=\"data row19 col0\" >primary_cleaner.output.tail_au</td>\n",
       "                        <td id=\"T_28a91_row19_col1\" class=\"data row19 col1\" >0</td>\n",
       "            </tr>\n",
       "            <tr>\n",
       "                        <th id=\"T_28a91_level0_row20\" class=\"row_heading level0 row20\" >20</th>\n",
       "                        <td id=\"T_28a91_row20_col0\" class=\"data row20 col0\" >primary_cleaner.output.tail_pb</td>\n",
       "                        <td id=\"T_28a91_row20_col1\" class=\"data row20 col1\" >0</td>\n",
       "            </tr>\n",
       "            <tr>\n",
       "                        <th id=\"T_28a91_level0_row21\" class=\"row_heading level0 row21\" >21</th>\n",
       "                        <td id=\"T_28a91_row21_col0\" class=\"data row21 col0\" >primary_cleaner.output.tail_sol</td>\n",
       "                        <td id=\"T_28a91_row21_col1\" class=\"data row21 col1\" >0</td>\n",
       "            </tr>\n",
       "            <tr>\n",
       "                        <th id=\"T_28a91_level0_row22\" class=\"row_heading level0 row22\" >22</th>\n",
       "                        <td id=\"T_28a91_row22_col0\" class=\"data row22 col0\" >primary_cleaner.state.floatbank8_a_air</td>\n",
       "                        <td id=\"T_28a91_row22_col1\" class=\"data row22 col1\" >1</td>\n",
       "            </tr>\n",
       "            <tr>\n",
       "                        <th id=\"T_28a91_level0_row23\" class=\"row_heading level0 row23\" >23</th>\n",
       "                        <td id=\"T_28a91_row23_col0\" class=\"data row23 col0\" >primary_cleaner.state.floatbank8_a_level</td>\n",
       "                        <td id=\"T_28a91_row23_col1\" class=\"data row23 col1\" >1</td>\n",
       "            </tr>\n",
       "            <tr>\n",
       "                        <th id=\"T_28a91_level0_row24\" class=\"row_heading level0 row24\" >24</th>\n",
       "                        <td id=\"T_28a91_row24_col0\" class=\"data row24 col0\" >primary_cleaner.state.floatbank8_b_air</td>\n",
       "                        <td id=\"T_28a91_row24_col1\" class=\"data row24 col1\" >1</td>\n",
       "            </tr>\n",
       "            <tr>\n",
       "                        <th id=\"T_28a91_level0_row25\" class=\"row_heading level0 row25\" >25</th>\n",
       "                        <td id=\"T_28a91_row25_col0\" class=\"data row25 col0\" >primary_cleaner.state.floatbank8_b_level</td>\n",
       "                        <td id=\"T_28a91_row25_col1\" class=\"data row25 col1\" >1</td>\n",
       "            </tr>\n",
       "            <tr>\n",
       "                        <th id=\"T_28a91_level0_row26\" class=\"row_heading level0 row26\" >26</th>\n",
       "                        <td id=\"T_28a91_row26_col0\" class=\"data row26 col0\" >primary_cleaner.state.floatbank8_c_air</td>\n",
       "                        <td id=\"T_28a91_row26_col1\" class=\"data row26 col1\" >1</td>\n",
       "            </tr>\n",
       "            <tr>\n",
       "                        <th id=\"T_28a91_level0_row27\" class=\"row_heading level0 row27\" >27</th>\n",
       "                        <td id=\"T_28a91_row27_col0\" class=\"data row27 col0\" >primary_cleaner.state.floatbank8_c_level</td>\n",
       "                        <td id=\"T_28a91_row27_col1\" class=\"data row27 col1\" >1</td>\n",
       "            </tr>\n",
       "            <tr>\n",
       "                        <th id=\"T_28a91_level0_row28\" class=\"row_heading level0 row28\" >28</th>\n",
       "                        <td id=\"T_28a91_row28_col0\" class=\"data row28 col0\" >primary_cleaner.state.floatbank8_d_air</td>\n",
       "                        <td id=\"T_28a91_row28_col1\" class=\"data row28 col1\" >1</td>\n",
       "            </tr>\n",
       "            <tr>\n",
       "                        <th id=\"T_28a91_level0_row29\" class=\"row_heading level0 row29\" >29</th>\n",
       "                        <td id=\"T_28a91_row29_col0\" class=\"data row29 col0\" >primary_cleaner.state.floatbank8_d_level</td>\n",
       "                        <td id=\"T_28a91_row29_col1\" class=\"data row29 col1\" >1</td>\n",
       "            </tr>\n",
       "            <tr>\n",
       "                        <th id=\"T_28a91_level0_row30\" class=\"row_heading level0 row30\" >30</th>\n",
       "                        <td id=\"T_28a91_row30_col0\" class=\"data row30 col0\" >rougher.calculation.au_pb_ratio</td>\n",
       "                        <td id=\"T_28a91_row30_col1\" class=\"data row30 col1\" >0</td>\n",
       "            </tr>\n",
       "            <tr>\n",
       "                        <th id=\"T_28a91_level0_row31\" class=\"row_heading level0 row31\" >31</th>\n",
       "                        <td id=\"T_28a91_row31_col0\" class=\"data row31 col0\" >rougher.calculation.floatbank10_sulfate_to_au_feed</td>\n",
       "                        <td id=\"T_28a91_row31_col1\" class=\"data row31 col1\" >0</td>\n",
       "            </tr>\n",
       "            <tr>\n",
       "                        <th id=\"T_28a91_level0_row32\" class=\"row_heading level0 row32\" >32</th>\n",
       "                        <td id=\"T_28a91_row32_col0\" class=\"data row32 col0\" >rougher.calculation.floatbank11_sulfate_to_au_feed</td>\n",
       "                        <td id=\"T_28a91_row32_col1\" class=\"data row32 col1\" >0</td>\n",
       "            </tr>\n",
       "            <tr>\n",
       "                        <th id=\"T_28a91_level0_row33\" class=\"row_heading level0 row33\" >33</th>\n",
       "                        <td id=\"T_28a91_row33_col0\" class=\"data row33 col0\" >rougher.calculation.sulfate_to_au_concentrate</td>\n",
       "                        <td id=\"T_28a91_row33_col1\" class=\"data row33 col1\" >0</td>\n",
       "            </tr>\n",
       "            <tr>\n",
       "                        <th id=\"T_28a91_level0_row34\" class=\"row_heading level0 row34\" >34</th>\n",
       "                        <td id=\"T_28a91_row34_col0\" class=\"data row34 col0\" >rougher.input.feed_ag</td>\n",
       "                        <td id=\"T_28a91_row34_col1\" class=\"data row34 col1\" >1</td>\n",
       "            </tr>\n",
       "            <tr>\n",
       "                        <th id=\"T_28a91_level0_row35\" class=\"row_heading level0 row35\" >35</th>\n",
       "                        <td id=\"T_28a91_row35_col0\" class=\"data row35 col0\" >rougher.input.feed_au</td>\n",
       "                        <td id=\"T_28a91_row35_col1\" class=\"data row35 col1\" >1</td>\n",
       "            </tr>\n",
       "            <tr>\n",
       "                        <th id=\"T_28a91_level0_row36\" class=\"row_heading level0 row36\" >36</th>\n",
       "                        <td id=\"T_28a91_row36_col0\" class=\"data row36 col0\" >rougher.input.feed_pb</td>\n",
       "                        <td id=\"T_28a91_row36_col1\" class=\"data row36 col1\" >1</td>\n",
       "            </tr>\n",
       "            <tr>\n",
       "                        <th id=\"T_28a91_level0_row37\" class=\"row_heading level0 row37\" >37</th>\n",
       "                        <td id=\"T_28a91_row37_col0\" class=\"data row37 col0\" >rougher.input.feed_rate</td>\n",
       "                        <td id=\"T_28a91_row37_col1\" class=\"data row37 col1\" >1</td>\n",
       "            </tr>\n",
       "            <tr>\n",
       "                        <th id=\"T_28a91_level0_row38\" class=\"row_heading level0 row38\" >38</th>\n",
       "                        <td id=\"T_28a91_row38_col0\" class=\"data row38 col0\" >rougher.input.feed_size</td>\n",
       "                        <td id=\"T_28a91_row38_col1\" class=\"data row38 col1\" >1</td>\n",
       "            </tr>\n",
       "            <tr>\n",
       "                        <th id=\"T_28a91_level0_row39\" class=\"row_heading level0 row39\" >39</th>\n",
       "                        <td id=\"T_28a91_row39_col0\" class=\"data row39 col0\" >rougher.input.feed_sol</td>\n",
       "                        <td id=\"T_28a91_row39_col1\" class=\"data row39 col1\" >1</td>\n",
       "            </tr>\n",
       "            <tr>\n",
       "                        <th id=\"T_28a91_level0_row40\" class=\"row_heading level0 row40\" >40</th>\n",
       "                        <td id=\"T_28a91_row40_col0\" class=\"data row40 col0\" >rougher.input.floatbank10_sulfate</td>\n",
       "                        <td id=\"T_28a91_row40_col1\" class=\"data row40 col1\" >1</td>\n",
       "            </tr>\n",
       "            <tr>\n",
       "                        <th id=\"T_28a91_level0_row41\" class=\"row_heading level0 row41\" >41</th>\n",
       "                        <td id=\"T_28a91_row41_col0\" class=\"data row41 col0\" >rougher.input.floatbank10_xanthate</td>\n",
       "                        <td id=\"T_28a91_row41_col1\" class=\"data row41 col1\" >1</td>\n",
       "            </tr>\n",
       "            <tr>\n",
       "                        <th id=\"T_28a91_level0_row42\" class=\"row_heading level0 row42\" >42</th>\n",
       "                        <td id=\"T_28a91_row42_col0\" class=\"data row42 col0\" >rougher.input.floatbank11_sulfate</td>\n",
       "                        <td id=\"T_28a91_row42_col1\" class=\"data row42 col1\" >1</td>\n",
       "            </tr>\n",
       "            <tr>\n",
       "                        <th id=\"T_28a91_level0_row43\" class=\"row_heading level0 row43\" >43</th>\n",
       "                        <td id=\"T_28a91_row43_col0\" class=\"data row43 col0\" >rougher.input.floatbank11_xanthate</td>\n",
       "                        <td id=\"T_28a91_row43_col1\" class=\"data row43 col1\" >1</td>\n",
       "            </tr>\n",
       "            <tr>\n",
       "                        <th id=\"T_28a91_level0_row44\" class=\"row_heading level0 row44\" >44</th>\n",
       "                        <td id=\"T_28a91_row44_col0\" class=\"data row44 col0\" >rougher.output.concentrate_ag</td>\n",
       "                        <td id=\"T_28a91_row44_col1\" class=\"data row44 col1\" >0</td>\n",
       "            </tr>\n",
       "            <tr>\n",
       "                        <th id=\"T_28a91_level0_row45\" class=\"row_heading level0 row45\" >45</th>\n",
       "                        <td id=\"T_28a91_row45_col0\" class=\"data row45 col0\" >rougher.output.concentrate_au</td>\n",
       "                        <td id=\"T_28a91_row45_col1\" class=\"data row45 col1\" >0</td>\n",
       "            </tr>\n",
       "            <tr>\n",
       "                        <th id=\"T_28a91_level0_row46\" class=\"row_heading level0 row46\" >46</th>\n",
       "                        <td id=\"T_28a91_row46_col0\" class=\"data row46 col0\" >rougher.output.concentrate_pb</td>\n",
       "                        <td id=\"T_28a91_row46_col1\" class=\"data row46 col1\" >0</td>\n",
       "            </tr>\n",
       "            <tr>\n",
       "                        <th id=\"T_28a91_level0_row47\" class=\"row_heading level0 row47\" >47</th>\n",
       "                        <td id=\"T_28a91_row47_col0\" class=\"data row47 col0\" >rougher.output.concentrate_sol</td>\n",
       "                        <td id=\"T_28a91_row47_col1\" class=\"data row47 col1\" >0</td>\n",
       "            </tr>\n",
       "            <tr>\n",
       "                        <th id=\"T_28a91_level0_row48\" class=\"row_heading level0 row48\" >48</th>\n",
       "                        <td id=\"T_28a91_row48_col0\" class=\"data row48 col0\" >rougher.output.recovery</td>\n",
       "                        <td id=\"T_28a91_row48_col1\" class=\"data row48 col1\" >0</td>\n",
       "            </tr>\n",
       "            <tr>\n",
       "                        <th id=\"T_28a91_level0_row49\" class=\"row_heading level0 row49\" >49</th>\n",
       "                        <td id=\"T_28a91_row49_col0\" class=\"data row49 col0\" >rougher.output.tail_ag</td>\n",
       "                        <td id=\"T_28a91_row49_col1\" class=\"data row49 col1\" >0</td>\n",
       "            </tr>\n",
       "            <tr>\n",
       "                        <th id=\"T_28a91_level0_row50\" class=\"row_heading level0 row50\" >50</th>\n",
       "                        <td id=\"T_28a91_row50_col0\" class=\"data row50 col0\" >rougher.output.tail_au</td>\n",
       "                        <td id=\"T_28a91_row50_col1\" class=\"data row50 col1\" >0</td>\n",
       "            </tr>\n",
       "            <tr>\n",
       "                        <th id=\"T_28a91_level0_row51\" class=\"row_heading level0 row51\" >51</th>\n",
       "                        <td id=\"T_28a91_row51_col0\" class=\"data row51 col0\" >rougher.output.tail_pb</td>\n",
       "                        <td id=\"T_28a91_row51_col1\" class=\"data row51 col1\" >0</td>\n",
       "            </tr>\n",
       "            <tr>\n",
       "                        <th id=\"T_28a91_level0_row52\" class=\"row_heading level0 row52\" >52</th>\n",
       "                        <td id=\"T_28a91_row52_col0\" class=\"data row52 col0\" >rougher.output.tail_sol</td>\n",
       "                        <td id=\"T_28a91_row52_col1\" class=\"data row52 col1\" >0</td>\n",
       "            </tr>\n",
       "            <tr>\n",
       "                        <th id=\"T_28a91_level0_row53\" class=\"row_heading level0 row53\" >53</th>\n",
       "                        <td id=\"T_28a91_row53_col0\" class=\"data row53 col0\" >rougher.state.floatbank10_a_air</td>\n",
       "                        <td id=\"T_28a91_row53_col1\" class=\"data row53 col1\" >1</td>\n",
       "            </tr>\n",
       "            <tr>\n",
       "                        <th id=\"T_28a91_level0_row54\" class=\"row_heading level0 row54\" >54</th>\n",
       "                        <td id=\"T_28a91_row54_col0\" class=\"data row54 col0\" >rougher.state.floatbank10_a_level</td>\n",
       "                        <td id=\"T_28a91_row54_col1\" class=\"data row54 col1\" >1</td>\n",
       "            </tr>\n",
       "            <tr>\n",
       "                        <th id=\"T_28a91_level0_row55\" class=\"row_heading level0 row55\" >55</th>\n",
       "                        <td id=\"T_28a91_row55_col0\" class=\"data row55 col0\" >rougher.state.floatbank10_b_air</td>\n",
       "                        <td id=\"T_28a91_row55_col1\" class=\"data row55 col1\" >1</td>\n",
       "            </tr>\n",
       "            <tr>\n",
       "                        <th id=\"T_28a91_level0_row56\" class=\"row_heading level0 row56\" >56</th>\n",
       "                        <td id=\"T_28a91_row56_col0\" class=\"data row56 col0\" >rougher.state.floatbank10_b_level</td>\n",
       "                        <td id=\"T_28a91_row56_col1\" class=\"data row56 col1\" >1</td>\n",
       "            </tr>\n",
       "            <tr>\n",
       "                        <th id=\"T_28a91_level0_row57\" class=\"row_heading level0 row57\" >57</th>\n",
       "                        <td id=\"T_28a91_row57_col0\" class=\"data row57 col0\" >rougher.state.floatbank10_c_air</td>\n",
       "                        <td id=\"T_28a91_row57_col1\" class=\"data row57 col1\" >1</td>\n",
       "            </tr>\n",
       "            <tr>\n",
       "                        <th id=\"T_28a91_level0_row58\" class=\"row_heading level0 row58\" >58</th>\n",
       "                        <td id=\"T_28a91_row58_col0\" class=\"data row58 col0\" >rougher.state.floatbank10_c_level</td>\n",
       "                        <td id=\"T_28a91_row58_col1\" class=\"data row58 col1\" >1</td>\n",
       "            </tr>\n",
       "            <tr>\n",
       "                        <th id=\"T_28a91_level0_row59\" class=\"row_heading level0 row59\" >59</th>\n",
       "                        <td id=\"T_28a91_row59_col0\" class=\"data row59 col0\" >rougher.state.floatbank10_d_air</td>\n",
       "                        <td id=\"T_28a91_row59_col1\" class=\"data row59 col1\" >1</td>\n",
       "            </tr>\n",
       "            <tr>\n",
       "                        <th id=\"T_28a91_level0_row60\" class=\"row_heading level0 row60\" >60</th>\n",
       "                        <td id=\"T_28a91_row60_col0\" class=\"data row60 col0\" >rougher.state.floatbank10_d_level</td>\n",
       "                        <td id=\"T_28a91_row60_col1\" class=\"data row60 col1\" >1</td>\n",
       "            </tr>\n",
       "            <tr>\n",
       "                        <th id=\"T_28a91_level0_row61\" class=\"row_heading level0 row61\" >61</th>\n",
       "                        <td id=\"T_28a91_row61_col0\" class=\"data row61 col0\" >rougher.state.floatbank10_e_air</td>\n",
       "                        <td id=\"T_28a91_row61_col1\" class=\"data row61 col1\" >1</td>\n",
       "            </tr>\n",
       "            <tr>\n",
       "                        <th id=\"T_28a91_level0_row62\" class=\"row_heading level0 row62\" >62</th>\n",
       "                        <td id=\"T_28a91_row62_col0\" class=\"data row62 col0\" >rougher.state.floatbank10_e_level</td>\n",
       "                        <td id=\"T_28a91_row62_col1\" class=\"data row62 col1\" >1</td>\n",
       "            </tr>\n",
       "            <tr>\n",
       "                        <th id=\"T_28a91_level0_row63\" class=\"row_heading level0 row63\" >63</th>\n",
       "                        <td id=\"T_28a91_row63_col0\" class=\"data row63 col0\" >rougher.state.floatbank10_f_air</td>\n",
       "                        <td id=\"T_28a91_row63_col1\" class=\"data row63 col1\" >1</td>\n",
       "            </tr>\n",
       "            <tr>\n",
       "                        <th id=\"T_28a91_level0_row64\" class=\"row_heading level0 row64\" >64</th>\n",
       "                        <td id=\"T_28a91_row64_col0\" class=\"data row64 col0\" >rougher.state.floatbank10_f_level</td>\n",
       "                        <td id=\"T_28a91_row64_col1\" class=\"data row64 col1\" >1</td>\n",
       "            </tr>\n",
       "            <tr>\n",
       "                        <th id=\"T_28a91_level0_row65\" class=\"row_heading level0 row65\" >65</th>\n",
       "                        <td id=\"T_28a91_row65_col0\" class=\"data row65 col0\" >secondary_cleaner.output.tail_ag</td>\n",
       "                        <td id=\"T_28a91_row65_col1\" class=\"data row65 col1\" >0</td>\n",
       "            </tr>\n",
       "            <tr>\n",
       "                        <th id=\"T_28a91_level0_row66\" class=\"row_heading level0 row66\" >66</th>\n",
       "                        <td id=\"T_28a91_row66_col0\" class=\"data row66 col0\" >secondary_cleaner.output.tail_au</td>\n",
       "                        <td id=\"T_28a91_row66_col1\" class=\"data row66 col1\" >0</td>\n",
       "            </tr>\n",
       "            <tr>\n",
       "                        <th id=\"T_28a91_level0_row67\" class=\"row_heading level0 row67\" >67</th>\n",
       "                        <td id=\"T_28a91_row67_col0\" class=\"data row67 col0\" >secondary_cleaner.output.tail_pb</td>\n",
       "                        <td id=\"T_28a91_row67_col1\" class=\"data row67 col1\" >0</td>\n",
       "            </tr>\n",
       "            <tr>\n",
       "                        <th id=\"T_28a91_level0_row68\" class=\"row_heading level0 row68\" >68</th>\n",
       "                        <td id=\"T_28a91_row68_col0\" class=\"data row68 col0\" >secondary_cleaner.output.tail_sol</td>\n",
       "                        <td id=\"T_28a91_row68_col1\" class=\"data row68 col1\" >0</td>\n",
       "            </tr>\n",
       "            <tr>\n",
       "                        <th id=\"T_28a91_level0_row69\" class=\"row_heading level0 row69\" >69</th>\n",
       "                        <td id=\"T_28a91_row69_col0\" class=\"data row69 col0\" >secondary_cleaner.state.floatbank2_a_air</td>\n",
       "                        <td id=\"T_28a91_row69_col1\" class=\"data row69 col1\" >1</td>\n",
       "            </tr>\n",
       "            <tr>\n",
       "                        <th id=\"T_28a91_level0_row70\" class=\"row_heading level0 row70\" >70</th>\n",
       "                        <td id=\"T_28a91_row70_col0\" class=\"data row70 col0\" >secondary_cleaner.state.floatbank2_a_level</td>\n",
       "                        <td id=\"T_28a91_row70_col1\" class=\"data row70 col1\" >1</td>\n",
       "            </tr>\n",
       "            <tr>\n",
       "                        <th id=\"T_28a91_level0_row71\" class=\"row_heading level0 row71\" >71</th>\n",
       "                        <td id=\"T_28a91_row71_col0\" class=\"data row71 col0\" >secondary_cleaner.state.floatbank2_b_air</td>\n",
       "                        <td id=\"T_28a91_row71_col1\" class=\"data row71 col1\" >1</td>\n",
       "            </tr>\n",
       "            <tr>\n",
       "                        <th id=\"T_28a91_level0_row72\" class=\"row_heading level0 row72\" >72</th>\n",
       "                        <td id=\"T_28a91_row72_col0\" class=\"data row72 col0\" >secondary_cleaner.state.floatbank2_b_level</td>\n",
       "                        <td id=\"T_28a91_row72_col1\" class=\"data row72 col1\" >1</td>\n",
       "            </tr>\n",
       "            <tr>\n",
       "                        <th id=\"T_28a91_level0_row73\" class=\"row_heading level0 row73\" >73</th>\n",
       "                        <td id=\"T_28a91_row73_col0\" class=\"data row73 col0\" >secondary_cleaner.state.floatbank3_a_air</td>\n",
       "                        <td id=\"T_28a91_row73_col1\" class=\"data row73 col1\" >1</td>\n",
       "            </tr>\n",
       "            <tr>\n",
       "                        <th id=\"T_28a91_level0_row74\" class=\"row_heading level0 row74\" >74</th>\n",
       "                        <td id=\"T_28a91_row74_col0\" class=\"data row74 col0\" >secondary_cleaner.state.floatbank3_a_level</td>\n",
       "                        <td id=\"T_28a91_row74_col1\" class=\"data row74 col1\" >1</td>\n",
       "            </tr>\n",
       "            <tr>\n",
       "                        <th id=\"T_28a91_level0_row75\" class=\"row_heading level0 row75\" >75</th>\n",
       "                        <td id=\"T_28a91_row75_col0\" class=\"data row75 col0\" >secondary_cleaner.state.floatbank3_b_air</td>\n",
       "                        <td id=\"T_28a91_row75_col1\" class=\"data row75 col1\" >1</td>\n",
       "            </tr>\n",
       "            <tr>\n",
       "                        <th id=\"T_28a91_level0_row76\" class=\"row_heading level0 row76\" >76</th>\n",
       "                        <td id=\"T_28a91_row76_col0\" class=\"data row76 col0\" >secondary_cleaner.state.floatbank3_b_level</td>\n",
       "                        <td id=\"T_28a91_row76_col1\" class=\"data row76 col1\" >1</td>\n",
       "            </tr>\n",
       "            <tr>\n",
       "                        <th id=\"T_28a91_level0_row77\" class=\"row_heading level0 row77\" >77</th>\n",
       "                        <td id=\"T_28a91_row77_col0\" class=\"data row77 col0\" >secondary_cleaner.state.floatbank4_a_air</td>\n",
       "                        <td id=\"T_28a91_row77_col1\" class=\"data row77 col1\" >1</td>\n",
       "            </tr>\n",
       "            <tr>\n",
       "                        <th id=\"T_28a91_level0_row78\" class=\"row_heading level0 row78\" >78</th>\n",
       "                        <td id=\"T_28a91_row78_col0\" class=\"data row78 col0\" >secondary_cleaner.state.floatbank4_a_level</td>\n",
       "                        <td id=\"T_28a91_row78_col1\" class=\"data row78 col1\" >1</td>\n",
       "            </tr>\n",
       "            <tr>\n",
       "                        <th id=\"T_28a91_level0_row79\" class=\"row_heading level0 row79\" >79</th>\n",
       "                        <td id=\"T_28a91_row79_col0\" class=\"data row79 col0\" >secondary_cleaner.state.floatbank4_b_air</td>\n",
       "                        <td id=\"T_28a91_row79_col1\" class=\"data row79 col1\" >1</td>\n",
       "            </tr>\n",
       "            <tr>\n",
       "                        <th id=\"T_28a91_level0_row80\" class=\"row_heading level0 row80\" >80</th>\n",
       "                        <td id=\"T_28a91_row80_col0\" class=\"data row80 col0\" >secondary_cleaner.state.floatbank4_b_level</td>\n",
       "                        <td id=\"T_28a91_row80_col1\" class=\"data row80 col1\" >1</td>\n",
       "            </tr>\n",
       "            <tr>\n",
       "                        <th id=\"T_28a91_level0_row81\" class=\"row_heading level0 row81\" >81</th>\n",
       "                        <td id=\"T_28a91_row81_col0\" class=\"data row81 col0\" >secondary_cleaner.state.floatbank5_a_air</td>\n",
       "                        <td id=\"T_28a91_row81_col1\" class=\"data row81 col1\" >1</td>\n",
       "            </tr>\n",
       "            <tr>\n",
       "                        <th id=\"T_28a91_level0_row82\" class=\"row_heading level0 row82\" >82</th>\n",
       "                        <td id=\"T_28a91_row82_col0\" class=\"data row82 col0\" >secondary_cleaner.state.floatbank5_a_level</td>\n",
       "                        <td id=\"T_28a91_row82_col1\" class=\"data row82 col1\" >1</td>\n",
       "            </tr>\n",
       "            <tr>\n",
       "                        <th id=\"T_28a91_level0_row83\" class=\"row_heading level0 row83\" >83</th>\n",
       "                        <td id=\"T_28a91_row83_col0\" class=\"data row83 col0\" >secondary_cleaner.state.floatbank5_b_air</td>\n",
       "                        <td id=\"T_28a91_row83_col1\" class=\"data row83 col1\" >1</td>\n",
       "            </tr>\n",
       "            <tr>\n",
       "                        <th id=\"T_28a91_level0_row84\" class=\"row_heading level0 row84\" >84</th>\n",
       "                        <td id=\"T_28a91_row84_col0\" class=\"data row84 col0\" >secondary_cleaner.state.floatbank5_b_level</td>\n",
       "                        <td id=\"T_28a91_row84_col1\" class=\"data row84 col1\" >1</td>\n",
       "            </tr>\n",
       "            <tr>\n",
       "                        <th id=\"T_28a91_level0_row85\" class=\"row_heading level0 row85\" >85</th>\n",
       "                        <td id=\"T_28a91_row85_col0\" class=\"data row85 col0\" >secondary_cleaner.state.floatbank6_a_air</td>\n",
       "                        <td id=\"T_28a91_row85_col1\" class=\"data row85 col1\" >1</td>\n",
       "            </tr>\n",
       "            <tr>\n",
       "                        <th id=\"T_28a91_level0_row86\" class=\"row_heading level0 row86\" >86</th>\n",
       "                        <td id=\"T_28a91_row86_col0\" class=\"data row86 col0\" >secondary_cleaner.state.floatbank6_a_level</td>\n",
       "                        <td id=\"T_28a91_row86_col1\" class=\"data row86 col1\" >1</td>\n",
       "            </tr>\n",
       "    </tbody></table>"
      ],
      "text/plain": [
       "<pandas.io.formats.style.Styler at 0x7f52e4d1b130>"
      ]
     },
     "execution_count": 9,
     "metadata": {},
     "output_type": "execute_result"
    }
   ],
   "source": [
    "difference = pd.DataFrame(data=data_train.columns.difference(data_test.columns), columns=['features'])\n",
    "difference['features_in_test'] = 0\n",
    "intersection = pd.DataFrame(data=data_train.columns.intersection(data_test.columns), columns=['features'])\n",
    "intersection['features_in_test'] = 1\n",
    "concat = pd.concat([difference, intersection]).sort_values(by='features').reset_index(drop=True)\n",
    "concat.style.background_gradient('cool')"
   ]
  },
  {
   "cell_type": "markdown",
   "metadata": {},
   "source": [
    "Проанализировав таблицу, можем сделать вывод, что в тестовой выборке отсутствуют оба целевых признака, а также результаты output  — параметры продукта и calculation — расчётные характеристики, т.е. те данные, которые замеряются и/или рассчитываются значительно позже."
   ]
  },
  {
   "cell_type": "markdown",
   "metadata": {},
   "source": [
    "### Предобработка данных"
   ]
  },
  {
   "cell_type": "markdown",
   "metadata": {},
   "source": [
    "Поскольку нам известны следующие факты: \"Данные индексируются датой и временем получения информации (признак date). Соседние по времени параметры часто похожи.\" Для заполнения пропусков используем метод 'ffill', по умолчанию axis=0, что означает: нулевые значения заменяются данными из предыдущей строки."
   ]
  },
  {
   "cell_type": "code",
   "execution_count": 10,
   "metadata": {
    "ExecuteTime": {
     "end_time": "2023-03-25T08:55:47.188658Z",
     "start_time": "2023-03-25T08:55:47.167504Z"
    }
   },
   "outputs": [],
   "source": [
    "data_train.fillna(method='ffill', inplace=True)"
   ]
  },
  {
   "cell_type": "code",
   "execution_count": 11,
   "metadata": {
    "ExecuteTime": {
     "end_time": "2023-03-25T08:55:47.204058Z",
     "start_time": "2023-03-25T08:55:47.190656Z"
    }
   },
   "outputs": [],
   "source": [
    "data_test.fillna(method='ffill', inplace=True)"
   ]
  },
  {
   "cell_type": "code",
   "execution_count": 12,
   "metadata": {
    "ExecuteTime": {
     "end_time": "2023-03-25T08:55:47.220057Z",
     "start_time": "2023-03-25T08:55:47.209058Z"
    }
   },
   "outputs": [],
   "source": [
    "data_full.fillna(method='ffill', inplace=True)"
   ]
  },
  {
   "cell_type": "code",
   "execution_count": 13,
   "metadata": {},
   "outputs": [
    {
     "data": {
      "text/plain": [
       "rougher.output.recovery    0\n",
       "final.output.recovery      0\n",
       "dtype: int64"
      ]
     },
     "execution_count": 13,
     "metadata": {},
     "output_type": "execute_result"
    }
   ],
   "source": [
    "# Подтягиваем в тестовую выборку таргеты из полного датасета и проверяем, все ли подтнулись\n",
    "data_test = data_test.merge(data_full[['date', 'rougher.output.recovery', 'final.output.recovery']], how='left', on='date')\n",
    "data_test[['rougher.output.recovery', 'final.output.recovery']].isna().sum()"
   ]
  },
  {
   "cell_type": "markdown",
   "metadata": {},
   "source": [
    "## Анализ данных"
   ]
  },
  {
   "cell_type": "markdown",
   "metadata": {},
   "source": [
    "### Анализ изменения концентрации металла на различных этапах очистки"
   ]
  },
  {
   "cell_type": "code",
   "execution_count": 14,
   "metadata": {
    "ExecuteTime": {
     "end_time": "2023-03-25T08:55:50.499000Z",
     "start_time": "2023-03-25T08:55:47.222057Z"
    },
    "scrolled": false
   },
   "outputs": [
    {
     "name": "stdout",
     "output_type": "stream",
     "text": [
      "                                               Серебро                                                \n"
     ]
    },
    {
     "data": {
      "text/html": [
       "<div>\n",
       "<style scoped>\n",
       "    .dataframe tbody tr th:only-of-type {\n",
       "        vertical-align: middle;\n",
       "    }\n",
       "\n",
       "    .dataframe tbody tr th {\n",
       "        vertical-align: top;\n",
       "    }\n",
       "\n",
       "    .dataframe thead th {\n",
       "        text-align: right;\n",
       "    }\n",
       "</style>\n",
       "<table border=\"1\" class=\"dataframe\">\n",
       "  <thead>\n",
       "    <tr style=\"text-align: right;\">\n",
       "      <th></th>\n",
       "      <th>rougher.input.feed_ag</th>\n",
       "      <th>rougher.output.concentrate_ag</th>\n",
       "      <th>primary_cleaner.output.concentrate_ag</th>\n",
       "      <th>final.output.concentrate_ag</th>\n",
       "    </tr>\n",
       "  </thead>\n",
       "  <tbody>\n",
       "    <tr>\n",
       "      <th>count</th>\n",
       "      <td>19439.000000</td>\n",
       "      <td>19439.000000</td>\n",
       "      <td>19439.000000</td>\n",
       "      <td>19439.000000</td>\n",
       "    </tr>\n",
       "    <tr>\n",
       "      <th>mean</th>\n",
       "      <td>8.794927</td>\n",
       "      <td>11.994759</td>\n",
       "      <td>8.442408</td>\n",
       "      <td>5.168387</td>\n",
       "    </tr>\n",
       "    <tr>\n",
       "      <th>std</th>\n",
       "      <td>1.936847</td>\n",
       "      <td>2.733862</td>\n",
       "      <td>2.054465</td>\n",
       "      <td>1.372362</td>\n",
       "    </tr>\n",
       "    <tr>\n",
       "      <th>min</th>\n",
       "      <td>0.010000</td>\n",
       "      <td>0.000000</td>\n",
       "      <td>0.000000</td>\n",
       "      <td>0.000000</td>\n",
       "    </tr>\n",
       "    <tr>\n",
       "      <th>25%</th>\n",
       "      <td>7.237967</td>\n",
       "      <td>10.628337</td>\n",
       "      <td>7.263288</td>\n",
       "      <td>4.251000</td>\n",
       "    </tr>\n",
       "    <tr>\n",
       "      <th>50%</th>\n",
       "      <td>8.593574</td>\n",
       "      <td>12.098115</td>\n",
       "      <td>8.507298</td>\n",
       "      <td>5.066039</td>\n",
       "    </tr>\n",
       "    <tr>\n",
       "      <th>75%</th>\n",
       "      <td>10.213771</td>\n",
       "      <td>13.736996</td>\n",
       "      <td>9.809001</td>\n",
       "      <td>5.895401</td>\n",
       "    </tr>\n",
       "    <tr>\n",
       "      <th>max</th>\n",
       "      <td>14.596026</td>\n",
       "      <td>24.480271</td>\n",
       "      <td>16.081632</td>\n",
       "      <td>16.001945</td>\n",
       "    </tr>\n",
       "  </tbody>\n",
       "</table>\n",
       "</div>"
      ],
      "text/plain": [
       "       rougher.input.feed_ag  rougher.output.concentrate_ag  \\\n",
       "count           19439.000000                   19439.000000   \n",
       "mean                8.794927                      11.994759   \n",
       "std                 1.936847                       2.733862   \n",
       "min                 0.010000                       0.000000   \n",
       "25%                 7.237967                      10.628337   \n",
       "50%                 8.593574                      12.098115   \n",
       "75%                10.213771                      13.736996   \n",
       "max                14.596026                      24.480271   \n",
       "\n",
       "       primary_cleaner.output.concentrate_ag  final.output.concentrate_ag  \n",
       "count                           19439.000000                 19439.000000  \n",
       "mean                                8.442408                     5.168387  \n",
       "std                                 2.054465                     1.372362  \n",
       "min                                 0.000000                     0.000000  \n",
       "25%                                 7.263288                     4.251000  \n",
       "50%                                 8.507298                     5.066039  \n",
       "75%                                 9.809001                     5.895401  \n",
       "max                                16.081632                    16.001945  "
      ]
     },
     "metadata": {},
     "output_type": "display_data"
    },
    {
     "name": "stdout",
     "output_type": "stream",
     "text": [
      "                                               Свинец                                                \n"
     ]
    },
    {
     "data": {
      "text/html": [
       "<div>\n",
       "<style scoped>\n",
       "    .dataframe tbody tr th:only-of-type {\n",
       "        vertical-align: middle;\n",
       "    }\n",
       "\n",
       "    .dataframe tbody tr th {\n",
       "        vertical-align: top;\n",
       "    }\n",
       "\n",
       "    .dataframe thead th {\n",
       "        text-align: right;\n",
       "    }\n",
       "</style>\n",
       "<table border=\"1\" class=\"dataframe\">\n",
       "  <thead>\n",
       "    <tr style=\"text-align: right;\">\n",
       "      <th></th>\n",
       "      <th>rougher.input.feed_pb</th>\n",
       "      <th>rougher.output.concentrate_pb</th>\n",
       "      <th>primary_cleaner.output.concentrate_pb</th>\n",
       "      <th>final.output.concentrate_pb</th>\n",
       "    </tr>\n",
       "  </thead>\n",
       "  <tbody>\n",
       "    <tr>\n",
       "      <th>count</th>\n",
       "      <td>19439.000000</td>\n",
       "      <td>19439.000000</td>\n",
       "      <td>19439.000000</td>\n",
       "      <td>19439.000000</td>\n",
       "    </tr>\n",
       "    <tr>\n",
       "      <th>mean</th>\n",
       "      <td>3.585096</td>\n",
       "      <td>7.606272</td>\n",
       "      <td>9.810317</td>\n",
       "      <td>9.978821</td>\n",
       "    </tr>\n",
       "    <tr>\n",
       "      <th>std</th>\n",
       "      <td>1.062972</td>\n",
       "      <td>1.796757</td>\n",
       "      <td>2.572253</td>\n",
       "      <td>1.669228</td>\n",
       "    </tr>\n",
       "    <tr>\n",
       "      <th>min</th>\n",
       "      <td>0.010000</td>\n",
       "      <td>0.000000</td>\n",
       "      <td>0.000000</td>\n",
       "      <td>0.000000</td>\n",
       "    </tr>\n",
       "    <tr>\n",
       "      <th>25%</th>\n",
       "      <td>2.872178</td>\n",
       "      <td>6.725987</td>\n",
       "      <td>8.676500</td>\n",
       "      <td>9.137225</td>\n",
       "    </tr>\n",
       "    <tr>\n",
       "      <th>50%</th>\n",
       "      <td>3.528235</td>\n",
       "      <td>7.742580</td>\n",
       "      <td>10.142270</td>\n",
       "      <td>10.102264</td>\n",
       "    </tr>\n",
       "    <tr>\n",
       "      <th>75%</th>\n",
       "      <td>4.241005</td>\n",
       "      <td>8.565199</td>\n",
       "      <td>11.416298</td>\n",
       "      <td>11.035644</td>\n",
       "    </tr>\n",
       "    <tr>\n",
       "      <th>max</th>\n",
       "      <td>7.142594</td>\n",
       "      <td>13.617072</td>\n",
       "      <td>17.081278</td>\n",
       "      <td>17.031899</td>\n",
       "    </tr>\n",
       "  </tbody>\n",
       "</table>\n",
       "</div>"
      ],
      "text/plain": [
       "       rougher.input.feed_pb  rougher.output.concentrate_pb  \\\n",
       "count           19439.000000                   19439.000000   \n",
       "mean                3.585096                       7.606272   \n",
       "std                 1.062972                       1.796757   \n",
       "min                 0.010000                       0.000000   \n",
       "25%                 2.872178                       6.725987   \n",
       "50%                 3.528235                       7.742580   \n",
       "75%                 4.241005                       8.565199   \n",
       "max                 7.142594                      13.617072   \n",
       "\n",
       "       primary_cleaner.output.concentrate_pb  final.output.concentrate_pb  \n",
       "count                           19439.000000                 19439.000000  \n",
       "mean                                9.810317                     9.978821  \n",
       "std                                 2.572253                     1.669228  \n",
       "min                                 0.000000                     0.000000  \n",
       "25%                                 8.676500                     9.137225  \n",
       "50%                                10.142270                    10.102264  \n",
       "75%                                11.416298                    11.035644  \n",
       "max                                17.081278                    17.031899  "
      ]
     },
     "metadata": {},
     "output_type": "display_data"
    },
    {
     "name": "stdout",
     "output_type": "stream",
     "text": [
      "                                               Золото                                                \n"
     ]
    },
    {
     "data": {
      "text/html": [
       "<div>\n",
       "<style scoped>\n",
       "    .dataframe tbody tr th:only-of-type {\n",
       "        vertical-align: middle;\n",
       "    }\n",
       "\n",
       "    .dataframe tbody tr th {\n",
       "        vertical-align: top;\n",
       "    }\n",
       "\n",
       "    .dataframe thead th {\n",
       "        text-align: right;\n",
       "    }\n",
       "</style>\n",
       "<table border=\"1\" class=\"dataframe\">\n",
       "  <thead>\n",
       "    <tr style=\"text-align: right;\">\n",
       "      <th></th>\n",
       "      <th>rougher.input.feed_au</th>\n",
       "      <th>rougher.output.concentrate_au</th>\n",
       "      <th>primary_cleaner.output.concentrate_au</th>\n",
       "      <th>final.output.concentrate_au</th>\n",
       "    </tr>\n",
       "  </thead>\n",
       "  <tbody>\n",
       "    <tr>\n",
       "      <th>count</th>\n",
       "      <td>19439.000000</td>\n",
       "      <td>19439.000000</td>\n",
       "      <td>19439.000000</td>\n",
       "      <td>19439.000000</td>\n",
       "    </tr>\n",
       "    <tr>\n",
       "      <th>mean</th>\n",
       "      <td>8.266097</td>\n",
       "      <td>19.772000</td>\n",
       "      <td>32.119400</td>\n",
       "      <td>44.076513</td>\n",
       "    </tr>\n",
       "    <tr>\n",
       "      <th>std</th>\n",
       "      <td>1.955092</td>\n",
       "      <td>3.753600</td>\n",
       "      <td>5.627611</td>\n",
       "      <td>5.129784</td>\n",
       "    </tr>\n",
       "    <tr>\n",
       "      <th>min</th>\n",
       "      <td>0.010000</td>\n",
       "      <td>0.000000</td>\n",
       "      <td>0.000000</td>\n",
       "      <td>0.000000</td>\n",
       "    </tr>\n",
       "    <tr>\n",
       "      <th>25%</th>\n",
       "      <td>6.854384</td>\n",
       "      <td>18.802523</td>\n",
       "      <td>30.463140</td>\n",
       "      <td>43.402215</td>\n",
       "    </tr>\n",
       "    <tr>\n",
       "      <th>50%</th>\n",
       "      <td>8.125839</td>\n",
       "      <td>20.280214</td>\n",
       "      <td>32.841295</td>\n",
       "      <td>45.011244</td>\n",
       "    </tr>\n",
       "    <tr>\n",
       "      <th>75%</th>\n",
       "      <td>9.769917</td>\n",
       "      <td>21.717843</td>\n",
       "      <td>35.048006</td>\n",
       "      <td>46.275313</td>\n",
       "    </tr>\n",
       "    <tr>\n",
       "      <th>max</th>\n",
       "      <td>13.731330</td>\n",
       "      <td>28.824507</td>\n",
       "      <td>45.933934</td>\n",
       "      <td>52.756638</td>\n",
       "    </tr>\n",
       "  </tbody>\n",
       "</table>\n",
       "</div>"
      ],
      "text/plain": [
       "       rougher.input.feed_au  rougher.output.concentrate_au  \\\n",
       "count           19439.000000                   19439.000000   \n",
       "mean                8.266097                      19.772000   \n",
       "std                 1.955092                       3.753600   \n",
       "min                 0.010000                       0.000000   \n",
       "25%                 6.854384                      18.802523   \n",
       "50%                 8.125839                      20.280214   \n",
       "75%                 9.769917                      21.717843   \n",
       "max                13.731330                      28.824507   \n",
       "\n",
       "       primary_cleaner.output.concentrate_au  final.output.concentrate_au  \n",
       "count                           19439.000000                 19439.000000  \n",
       "mean                               32.119400                    44.076513  \n",
       "std                                 5.627611                     5.129784  \n",
       "min                                 0.000000                     0.000000  \n",
       "25%                                30.463140                    43.402215  \n",
       "50%                                32.841295                    45.011244  \n",
       "75%                                35.048006                    46.275313  \n",
       "max                                45.933934                    52.756638  "
      ]
     },
     "metadata": {},
     "output_type": "display_data"
    },
    {
     "data": {
      "image/png": "[encoded data removed]",
      "text/plain": [
       "<Figure size 1440x576 with 1 Axes>"
      ]
     },
     "metadata": {},
     "output_type": "display_data"
    },
    {
     "data": {
      "image/png": "[encoded data removed]",
      "text/plain": [
       "<Figure size 1440x576 with 1 Axes>"
      ]
     },
     "metadata": {},
     "output_type": "display_data"
    },
    {
     "data": {
      "image/png": "[encoded data removed]",
      "text/plain": [
       "<Figure size 1440x576 with 1 Axes>"
      ]
     },
     "metadata": {},
     "output_type": "display_data"
    }
   ],
   "source": [
    "name_metall = {'ag': 'Серебро', 'pb': 'Свинец', 'au': 'Золото'}\n",
    "\n",
    "for key, name in name_metall.items():\n",
    "    data_full[['rougher.input.feed_' + str(key), 'rougher.output.concentrate_' + str(key), \\\n",
    "            'primary_cleaner.output.concentrate_' + str(key), 'final.output.concentrate_' + str(key)]] \\\n",
    "    .plot(kind='hist', bins=100, alpha=0.6, figsize=(20,8), cmap='cool')\n",
    "    plt.title(f'{name} - изменение концентрации металла на различных этапах очистки', fontsize=16)\n",
    "    plt.ylabel('Количество измерений', fontsize=14)\n",
    "    plt.xlabel('Концентрация', fontsize=14)\n",
    "    plt.xticks(fontsize=12)\n",
    "    plt.yticks(fontsize=12)\n",
    "    plt.legend(bbox_to_anchor = (0.75, 0.7, 0.25, 0.25),fontsize=12)\n",
    "    plt.show\n",
    "    print('{0:^}'.center(100).format(name))\n",
    "    display(data_full[['rougher.input.feed_' + str(key), 'rougher.output.concentrate_' + str(key), \\\n",
    "            'primary_cleaner.output.concentrate_' + str(key), 'final.output.concentrate_' + str(key)]].describe())"
   ]
  },
  {
   "cell_type": "markdown",
   "metadata": {},
   "source": [
    "Анализ изменения концентрации металла на различных этапах очистки показал следующие особенности:  \n",
    "- Концентрация серебра на этапе флотации возрастает, на этапе первичной очистки возвращается примерно к начальным значениям и на выходе снижается на ~ 40%;  \n",
    "- Концентрация свинца на этапе флотации возрастает более, чем в 2 раза, продолжает расти на этапе первичной очистки на > 20% и на выходе остаётся приблизительно в тех же значениях;  \n",
    "- Концентрация золота линейно растёт на каждом этапе и на выходе достигает увеличения более, чем в 5 раз.\n",
    "- На всех графиках присутствуют аномальные околонулевые выбросы"
   ]
  },
  {
   "cell_type": "markdown",
   "metadata": {},
   "source": [
    "Посмотрим детальнее на выбросы - металлы с концентрацией < 1"
   ]
  },
  {
   "cell_type": "code",
   "execution_count": 15,
   "metadata": {
    "ExecuteTime": {
     "end_time": "2023-03-25T08:55:50.561815Z",
     "start_time": "2023-03-25T08:55:50.500950Z"
    },
    "scrolled": false
   },
   "outputs": [
    {
     "data": {
      "text/html": [
       "<div>\n",
       "<style scoped>\n",
       "    .dataframe tbody tr th:only-of-type {\n",
       "        vertical-align: middle;\n",
       "    }\n",
       "\n",
       "    .dataframe tbody tr th {\n",
       "        vertical-align: top;\n",
       "    }\n",
       "\n",
       "    .dataframe thead th {\n",
       "        text-align: right;\n",
       "    }\n",
       "</style>\n",
       "<table border=\"1\" class=\"dataframe\">\n",
       "  <thead>\n",
       "    <tr style=\"text-align: right;\">\n",
       "      <th></th>\n",
       "      <th>rougher.input.feed_ag</th>\n",
       "      <th>rougher.output.concentrate_ag</th>\n",
       "      <th>primary_cleaner.output.concentrate_ag</th>\n",
       "      <th>final.output.concentrate_ag</th>\n",
       "    </tr>\n",
       "  </thead>\n",
       "  <tbody>\n",
       "    <tr>\n",
       "      <th>19</th>\n",
       "      <td>6.046063</td>\n",
       "      <td>10.788951</td>\n",
       "      <td>0.000000</td>\n",
       "      <td>5.658943</td>\n",
       "    </tr>\n",
       "    <tr>\n",
       "      <th>21</th>\n",
       "      <td>6.043093</td>\n",
       "      <td>11.118780</td>\n",
       "      <td>0.954876</td>\n",
       "      <td>5.935933</td>\n",
       "    </tr>\n",
       "    <tr>\n",
       "      <th>22</th>\n",
       "      <td>5.599324</td>\n",
       "      <td>10.958096</td>\n",
       "      <td>0.000000</td>\n",
       "      <td>6.118749</td>\n",
       "    </tr>\n",
       "    <tr>\n",
       "      <th>30</th>\n",
       "      <td>5.689557</td>\n",
       "      <td>11.574823</td>\n",
       "      <td>0.000000</td>\n",
       "      <td>5.322681</td>\n",
       "    </tr>\n",
       "    <tr>\n",
       "      <th>45</th>\n",
       "      <td>7.521974</td>\n",
       "      <td>0.000000</td>\n",
       "      <td>8.513177</td>\n",
       "      <td>4.566664</td>\n",
       "    </tr>\n",
       "    <tr>\n",
       "      <th>...</th>\n",
       "      <td>...</td>\n",
       "      <td>...</td>\n",
       "      <td>...</td>\n",
       "      <td>...</td>\n",
       "    </tr>\n",
       "    <tr>\n",
       "      <th>19254</th>\n",
       "      <td>11.879119</td>\n",
       "      <td>15.234636</td>\n",
       "      <td>0.010000</td>\n",
       "      <td>4.916341</td>\n",
       "    </tr>\n",
       "    <tr>\n",
       "      <th>19255</th>\n",
       "      <td>11.407120</td>\n",
       "      <td>14.731266</td>\n",
       "      <td>0.010000</td>\n",
       "      <td>5.134035</td>\n",
       "    </tr>\n",
       "    <tr>\n",
       "      <th>19256</th>\n",
       "      <td>8.270800</td>\n",
       "      <td>8.349079</td>\n",
       "      <td>0.010000</td>\n",
       "      <td>4.503756</td>\n",
       "    </tr>\n",
       "    <tr>\n",
       "      <th>19257</th>\n",
       "      <td>11.821139</td>\n",
       "      <td>14.599793</td>\n",
       "      <td>0.010000</td>\n",
       "      <td>3.334243</td>\n",
       "    </tr>\n",
       "    <tr>\n",
       "      <th>19258</th>\n",
       "      <td>9.233744</td>\n",
       "      <td>15.876314</td>\n",
       "      <td>9.739096</td>\n",
       "      <td>0.897455</td>\n",
       "    </tr>\n",
       "  </tbody>\n",
       "</table>\n",
       "<p>761 rows × 4 columns</p>\n",
       "</div>"
      ],
      "text/plain": [
       "       rougher.input.feed_ag  rougher.output.concentrate_ag  \\\n",
       "19                  6.046063                      10.788951   \n",
       "21                  6.043093                      11.118780   \n",
       "22                  5.599324                      10.958096   \n",
       "30                  5.689557                      11.574823   \n",
       "45                  7.521974                       0.000000   \n",
       "...                      ...                            ...   \n",
       "19254              11.879119                      15.234636   \n",
       "19255              11.407120                      14.731266   \n",
       "19256               8.270800                       8.349079   \n",
       "19257              11.821139                      14.599793   \n",
       "19258               9.233744                      15.876314   \n",
       "\n",
       "       primary_cleaner.output.concentrate_ag  final.output.concentrate_ag  \n",
       "19                                  0.000000                     5.658943  \n",
       "21                                  0.954876                     5.935933  \n",
       "22                                  0.000000                     6.118749  \n",
       "30                                  0.000000                     5.322681  \n",
       "45                                  8.513177                     4.566664  \n",
       "...                                      ...                          ...  \n",
       "19254                               0.010000                     4.916341  \n",
       "19255                               0.010000                     5.134035  \n",
       "19256                               0.010000                     4.503756  \n",
       "19257                               0.010000                     3.334243  \n",
       "19258                               9.739096                     0.897455  \n",
       "\n",
       "[761 rows x 4 columns]"
      ]
     },
     "metadata": {},
     "output_type": "display_data"
    },
    {
     "data": {
      "text/html": [
       "<div>\n",
       "<style scoped>\n",
       "    .dataframe tbody tr th:only-of-type {\n",
       "        vertical-align: middle;\n",
       "    }\n",
       "\n",
       "    .dataframe tbody tr th {\n",
       "        vertical-align: top;\n",
       "    }\n",
       "\n",
       "    .dataframe thead th {\n",
       "        text-align: right;\n",
       "    }\n",
       "</style>\n",
       "<table border=\"1\" class=\"dataframe\">\n",
       "  <thead>\n",
       "    <tr style=\"text-align: right;\">\n",
       "      <th></th>\n",
       "      <th>rougher.input.feed_pb</th>\n",
       "      <th>rougher.output.concentrate_pb</th>\n",
       "      <th>primary_cleaner.output.concentrate_pb</th>\n",
       "      <th>final.output.concentrate_pb</th>\n",
       "    </tr>\n",
       "  </thead>\n",
       "  <tbody>\n",
       "    <tr>\n",
       "      <th>19</th>\n",
       "      <td>2.777324</td>\n",
       "      <td>7.537074</td>\n",
       "      <td>0.000000</td>\n",
       "      <td>10.436002</td>\n",
       "    </tr>\n",
       "    <tr>\n",
       "      <th>22</th>\n",
       "      <td>2.525838</td>\n",
       "      <td>7.267608</td>\n",
       "      <td>0.000000</td>\n",
       "      <td>10.483007</td>\n",
       "    </tr>\n",
       "    <tr>\n",
       "      <th>30</th>\n",
       "      <td>2.508414</td>\n",
       "      <td>7.384216</td>\n",
       "      <td>0.000000</td>\n",
       "      <td>9.577672</td>\n",
       "    </tr>\n",
       "    <tr>\n",
       "      <th>45</th>\n",
       "      <td>2.811569</td>\n",
       "      <td>0.000000</td>\n",
       "      <td>9.724797</td>\n",
       "      <td>10.406178</td>\n",
       "    </tr>\n",
       "    <tr>\n",
       "      <th>46</th>\n",
       "      <td>2.973841</td>\n",
       "      <td>0.000000</td>\n",
       "      <td>9.780929</td>\n",
       "      <td>10.691605</td>\n",
       "    </tr>\n",
       "    <tr>\n",
       "      <th>...</th>\n",
       "      <td>...</td>\n",
       "      <td>...</td>\n",
       "      <td>...</td>\n",
       "      <td>...</td>\n",
       "    </tr>\n",
       "    <tr>\n",
       "      <th>19253</th>\n",
       "      <td>5.802394</td>\n",
       "      <td>8.999071</td>\n",
       "      <td>0.010000</td>\n",
       "      <td>9.238301</td>\n",
       "    </tr>\n",
       "    <tr>\n",
       "      <th>19254</th>\n",
       "      <td>5.916240</td>\n",
       "      <td>9.126429</td>\n",
       "      <td>0.010000</td>\n",
       "      <td>9.644849</td>\n",
       "    </tr>\n",
       "    <tr>\n",
       "      <th>19255</th>\n",
       "      <td>6.154015</td>\n",
       "      <td>9.299917</td>\n",
       "      <td>0.010000</td>\n",
       "      <td>9.683889</td>\n",
       "    </tr>\n",
       "    <tr>\n",
       "      <th>19256</th>\n",
       "      <td>4.492912</td>\n",
       "      <td>5.466212</td>\n",
       "      <td>0.010000</td>\n",
       "      <td>8.387537</td>\n",
       "    </tr>\n",
       "    <tr>\n",
       "      <th>19257</th>\n",
       "      <td>6.380604</td>\n",
       "      <td>9.584739</td>\n",
       "      <td>0.010000</td>\n",
       "      <td>4.064308</td>\n",
       "    </tr>\n",
       "  </tbody>\n",
       "</table>\n",
       "<p>888 rows × 4 columns</p>\n",
       "</div>"
      ],
      "text/plain": [
       "       rougher.input.feed_pb  rougher.output.concentrate_pb  \\\n",
       "19                  2.777324                       7.537074   \n",
       "22                  2.525838                       7.267608   \n",
       "30                  2.508414                       7.384216   \n",
       "45                  2.811569                       0.000000   \n",
       "46                  2.973841                       0.000000   \n",
       "...                      ...                            ...   \n",
       "19253               5.802394                       8.999071   \n",
       "19254               5.916240                       9.126429   \n",
       "19255               6.154015                       9.299917   \n",
       "19256               4.492912                       5.466212   \n",
       "19257               6.380604                       9.584739   \n",
       "\n",
       "       primary_cleaner.output.concentrate_pb  final.output.concentrate_pb  \n",
       "19                                  0.000000                    10.436002  \n",
       "22                                  0.000000                    10.483007  \n",
       "30                                  0.000000                     9.577672  \n",
       "45                                  9.724797                    10.406178  \n",
       "46                                  9.780929                    10.691605  \n",
       "...                                      ...                          ...  \n",
       "19253                               0.010000                     9.238301  \n",
       "19254                               0.010000                     9.644849  \n",
       "19255                               0.010000                     9.683889  \n",
       "19256                               0.010000                     8.387537  \n",
       "19257                               0.010000                     4.064308  \n",
       "\n",
       "[888 rows x 4 columns]"
      ]
     },
     "metadata": {},
     "output_type": "display_data"
    },
    {
     "data": {
      "text/html": [
       "<div>\n",
       "<style scoped>\n",
       "    .dataframe tbody tr th:only-of-type {\n",
       "        vertical-align: middle;\n",
       "    }\n",
       "\n",
       "    .dataframe tbody tr th {\n",
       "        vertical-align: top;\n",
       "    }\n",
       "\n",
       "    .dataframe thead th {\n",
       "        text-align: right;\n",
       "    }\n",
       "</style>\n",
       "<table border=\"1\" class=\"dataframe\">\n",
       "  <thead>\n",
       "    <tr style=\"text-align: right;\">\n",
       "      <th></th>\n",
       "      <th>rougher.input.feed_au</th>\n",
       "      <th>rougher.output.concentrate_au</th>\n",
       "      <th>primary_cleaner.output.concentrate_au</th>\n",
       "      <th>final.output.concentrate_au</th>\n",
       "    </tr>\n",
       "  </thead>\n",
       "  <tbody>\n",
       "    <tr>\n",
       "      <th>19</th>\n",
       "      <td>6.801254</td>\n",
       "      <td>18.511902</td>\n",
       "      <td>0.000000</td>\n",
       "      <td>42.509402</td>\n",
       "    </tr>\n",
       "    <tr>\n",
       "      <th>22</th>\n",
       "      <td>6.610732</td>\n",
       "      <td>18.089134</td>\n",
       "      <td>0.000000</td>\n",
       "      <td>41.406172</td>\n",
       "    </tr>\n",
       "    <tr>\n",
       "      <th>30</th>\n",
       "      <td>6.524249</td>\n",
       "      <td>17.583602</td>\n",
       "      <td>0.000000</td>\n",
       "      <td>44.059908</td>\n",
       "    </tr>\n",
       "    <tr>\n",
       "      <th>45</th>\n",
       "      <td>7.114065</td>\n",
       "      <td>0.000000</td>\n",
       "      <td>37.633572</td>\n",
       "      <td>46.614456</td>\n",
       "    </tr>\n",
       "    <tr>\n",
       "      <th>46</th>\n",
       "      <td>7.651522</td>\n",
       "      <td>0.000000</td>\n",
       "      <td>37.718947</td>\n",
       "      <td>46.250638</td>\n",
       "    </tr>\n",
       "    <tr>\n",
       "      <th>...</th>\n",
       "      <td>...</td>\n",
       "      <td>...</td>\n",
       "      <td>...</td>\n",
       "      <td>...</td>\n",
       "    </tr>\n",
       "    <tr>\n",
       "      <th>19253</th>\n",
       "      <td>10.611729</td>\n",
       "      <td>19.286963</td>\n",
       "      <td>0.010000</td>\n",
       "      <td>46.335757</td>\n",
       "    </tr>\n",
       "    <tr>\n",
       "      <th>19254</th>\n",
       "      <td>10.538937</td>\n",
       "      <td>19.694488</td>\n",
       "      <td>0.010000</td>\n",
       "      <td>44.961086</td>\n",
       "    </tr>\n",
       "    <tr>\n",
       "      <th>19255</th>\n",
       "      <td>10.379927</td>\n",
       "      <td>19.411162</td>\n",
       "      <td>0.010000</td>\n",
       "      <td>44.519141</td>\n",
       "    </tr>\n",
       "    <tr>\n",
       "      <th>19256</th>\n",
       "      <td>7.549261</td>\n",
       "      <td>11.142676</td>\n",
       "      <td>0.010000</td>\n",
       "      <td>35.313266</td>\n",
       "    </tr>\n",
       "    <tr>\n",
       "      <th>19257</th>\n",
       "      <td>10.955976</td>\n",
       "      <td>20.053625</td>\n",
       "      <td>0.010000</td>\n",
       "      <td>15.685009</td>\n",
       "    </tr>\n",
       "  </tbody>\n",
       "</table>\n",
       "<p>725 rows × 4 columns</p>\n",
       "</div>"
      ],
      "text/plain": [
       "       rougher.input.feed_au  rougher.output.concentrate_au  \\\n",
       "19                  6.801254                      18.511902   \n",
       "22                  6.610732                      18.089134   \n",
       "30                  6.524249                      17.583602   \n",
       "45                  7.114065                       0.000000   \n",
       "46                  7.651522                       0.000000   \n",
       "...                      ...                            ...   \n",
       "19253              10.611729                      19.286963   \n",
       "19254              10.538937                      19.694488   \n",
       "19255              10.379927                      19.411162   \n",
       "19256               7.549261                      11.142676   \n",
       "19257              10.955976                      20.053625   \n",
       "\n",
       "       primary_cleaner.output.concentrate_au  final.output.concentrate_au  \n",
       "19                                  0.000000                    42.509402  \n",
       "22                                  0.000000                    41.406172  \n",
       "30                                  0.000000                    44.059908  \n",
       "45                                 37.633572                    46.614456  \n",
       "46                                 37.718947                    46.250638  \n",
       "...                                      ...                          ...  \n",
       "19253                               0.010000                    46.335757  \n",
       "19254                               0.010000                    44.961086  \n",
       "19255                               0.010000                    44.519141  \n",
       "19256                               0.010000                    35.313266  \n",
       "19257                               0.010000                    15.685009  \n",
       "\n",
       "[725 rows x 4 columns]"
      ]
     },
     "metadata": {},
     "output_type": "display_data"
    }
   ],
   "source": [
    "for metall in ['ag', 'pb', 'au']:\n",
    "    display(data_full.loc[(data_full[f'rougher.input.feed_{metall}'] < 1) | \\\n",
    "                   (data_full[f'rougher.output.concentrate_{metall}'] < 1) | \\\n",
    "                   (data_full[f'primary_cleaner.output.concentrate_{metall}'] < 1) | \\\n",
    "                   (data_full[f'final.output.concentrate_{metall}'] < 1), \\\n",
    "    [f'rougher.input.feed_{metall}', f'rougher.output.concentrate_{metall}', \\\n",
    "    f'primary_cleaner.output.concentrate_{metall}', f'final.output.concentrate_{metall}']])"
   ]
  },
  {
   "cell_type": "markdown",
   "metadata": {},
   "source": [
    "Аномалий в наших данных немало, однако, по инексам можно заметить, что в основном они пересекающиеся - удалим их из выборок, чтобы получить на обучении качественную модель."
   ]
  },
  {
   "cell_type": "code",
   "execution_count": 16,
   "metadata": {
    "ExecuteTime": {
     "end_time": "2023-03-25T08:55:50.577898Z",
     "start_time": "2023-03-25T08:55:50.563811Z"
    }
   },
   "outputs": [],
   "source": [
    "def drop_anomalies(data, metal1, metal2, metal3):\n",
    "    metals = [metal1, metal2, metal3]\n",
    "    \n",
    "    for metal in metals:\n",
    "        data_new = data.loc[(data[f'rougher.input.feed_{metal}'] >= 1) & \\\n",
    "                       (data[f'rougher.output.concentrate_{metal}'] >= 1) & \\\n",
    "                       (data[f'primary_cleaner.output.concentrate_{metal}'] >= 1) & \\\n",
    "                       (data[f'final.output.concentrate_{metal}'] >= 1)]\n",
    "    return data_new"
   ]
  },
  {
   "cell_type": "code",
   "execution_count": 17,
   "metadata": {
    "ExecuteTime": {
     "end_time": "2023-03-25T08:55:50.654511Z",
     "start_time": "2023-03-25T08:55:50.579880Z"
    }
   },
   "outputs": [
    {
     "name": "stdout",
     "output_type": "stream",
     "text": [
      "Размер выборки data_train: (13593, 87)\n",
      "Размер выборки data_full: (18714, 87)\n"
     ]
    }
   ],
   "source": [
    "# Удаляем выбросы из тренировочной и полной выборок\n",
    "\n",
    "for i in ['train', 'full']:\n",
    "    \n",
    "    globals()[f'data_{i}'] = drop_anomalies(globals()[f'data_{i}'], 'ag', 'pb', 'au')\n",
    "    print(f'Размер выборки data_{i}:', globals()[f'data_{i}'].shape)"
   ]
  },
  {
   "cell_type": "code",
   "execution_count": 18,
   "metadata": {
    "ExecuteTime": {
     "end_time": "2023-03-25T08:55:50.670262Z",
     "start_time": "2023-03-25T08:55:50.659951Z"
    }
   },
   "outputs": [
    {
     "name": "stdout",
     "output_type": "stream",
     "text": [
      "Размер выборки data_test: (5290, 55)\n"
     ]
    }
   ],
   "source": [
    "print(f'Размер выборки data_test:', data_test.shape)"
   ]
  },
  {
   "cell_type": "markdown",
   "metadata": {},
   "source": [
    "### Сравнение распределения размеров гранул сырья на обучающей и тестовой выборках"
   ]
  },
  {
   "cell_type": "code",
   "execution_count": 19,
   "metadata": {
    "ExecuteTime": {
     "end_time": "2023-03-25T08:55:51.761917Z",
     "start_time": "2023-03-25T08:55:50.672235Z"
    },
    "scrolled": false
   },
   "outputs": [
    {
     "name": "stdout",
     "output_type": "stream",
     "text": [
      "                                               rougher                                                \n"
     ]
    },
    {
     "data": {
      "text/html": [
       "<div>\n",
       "<style scoped>\n",
       "    .dataframe tbody tr th:only-of-type {\n",
       "        vertical-align: middle;\n",
       "    }\n",
       "\n",
       "    .dataframe tbody tr th {\n",
       "        vertical-align: top;\n",
       "    }\n",
       "\n",
       "    .dataframe thead th {\n",
       "        text-align: right;\n",
       "    }\n",
       "</style>\n",
       "<table border=\"1\" class=\"dataframe\">\n",
       "  <thead>\n",
       "    <tr style=\"text-align: right;\">\n",
       "      <th></th>\n",
       "      <th>count</th>\n",
       "      <th>mean</th>\n",
       "      <th>std</th>\n",
       "      <th>min</th>\n",
       "      <th>25%</th>\n",
       "      <th>50%</th>\n",
       "      <th>75%</th>\n",
       "      <th>max</th>\n",
       "    </tr>\n",
       "  </thead>\n",
       "  <tbody>\n",
       "    <tr>\n",
       "      <th>rougher.input.feed_size</th>\n",
       "      <td>13593.0</td>\n",
       "      <td>60.227314</td>\n",
       "      <td>23.184702</td>\n",
       "      <td>9.659576</td>\n",
       "      <td>48.981755</td>\n",
       "      <td>55.265443</td>\n",
       "      <td>65.831221</td>\n",
       "      <td>484.967466</td>\n",
       "    </tr>\n",
       "  </tbody>\n",
       "</table>\n",
       "</div>"
      ],
      "text/plain": [
       "                           count       mean        std       min        25%  \\\n",
       "rougher.input.feed_size  13593.0  60.227314  23.184702  9.659576  48.981755   \n",
       "\n",
       "                               50%        75%         max  \n",
       "rougher.input.feed_size  55.265443  65.831221  484.967466  "
      ]
     },
     "metadata": {},
     "output_type": "display_data"
    },
    {
     "data": {
      "text/html": [
       "<div>\n",
       "<style scoped>\n",
       "    .dataframe tbody tr th:only-of-type {\n",
       "        vertical-align: middle;\n",
       "    }\n",
       "\n",
       "    .dataframe tbody tr th {\n",
       "        vertical-align: top;\n",
       "    }\n",
       "\n",
       "    .dataframe thead th {\n",
       "        text-align: right;\n",
       "    }\n",
       "</style>\n",
       "<table border=\"1\" class=\"dataframe\">\n",
       "  <thead>\n",
       "    <tr style=\"text-align: right;\">\n",
       "      <th></th>\n",
       "      <th>count</th>\n",
       "      <th>mean</th>\n",
       "      <th>std</th>\n",
       "      <th>min</th>\n",
       "      <th>25%</th>\n",
       "      <th>50%</th>\n",
       "      <th>75%</th>\n",
       "      <th>max</th>\n",
       "    </tr>\n",
       "  </thead>\n",
       "  <tbody>\n",
       "    <tr>\n",
       "      <th>rougher.input.feed_size</th>\n",
       "      <td>5290.0</td>\n",
       "      <td>55.952754</td>\n",
       "      <td>19.080334</td>\n",
       "      <td>0.046369</td>\n",
       "      <td>43.906504</td>\n",
       "      <td>50.846843</td>\n",
       "      <td>62.451165</td>\n",
       "      <td>392.49404</td>\n",
       "    </tr>\n",
       "  </tbody>\n",
       "</table>\n",
       "</div>"
      ],
      "text/plain": [
       "                          count       mean        std       min        25%  \\\n",
       "rougher.input.feed_size  5290.0  55.952754  19.080334  0.046369  43.906504   \n",
       "\n",
       "                               50%        75%        max  \n",
       "rougher.input.feed_size  50.846843  62.451165  392.49404  "
      ]
     },
     "metadata": {},
     "output_type": "display_data"
    },
    {
     "name": "stdout",
     "output_type": "stream",
     "text": [
      "                                               primary_cleaner                                                \n"
     ]
    },
    {
     "data": {
      "text/html": [
       "<div>\n",
       "<style scoped>\n",
       "    .dataframe tbody tr th:only-of-type {\n",
       "        vertical-align: middle;\n",
       "    }\n",
       "\n",
       "    .dataframe tbody tr th {\n",
       "        vertical-align: top;\n",
       "    }\n",
       "\n",
       "    .dataframe thead th {\n",
       "        text-align: right;\n",
       "    }\n",
       "</style>\n",
       "<table border=\"1\" class=\"dataframe\">\n",
       "  <thead>\n",
       "    <tr style=\"text-align: right;\">\n",
       "      <th></th>\n",
       "      <th>count</th>\n",
       "      <th>mean</th>\n",
       "      <th>std</th>\n",
       "      <th>min</th>\n",
       "      <th>25%</th>\n",
       "      <th>50%</th>\n",
       "      <th>75%</th>\n",
       "      <th>max</th>\n",
       "    </tr>\n",
       "  </thead>\n",
       "  <tbody>\n",
       "    <tr>\n",
       "      <th>primary_cleaner.input.feed_size</th>\n",
       "      <td>13593.0</td>\n",
       "      <td>7.329087</td>\n",
       "      <td>0.614754</td>\n",
       "      <td>1.08</td>\n",
       "      <td>6.97</td>\n",
       "      <td>7.3</td>\n",
       "      <td>7.7</td>\n",
       "      <td>10.47</td>\n",
       "    </tr>\n",
       "  </tbody>\n",
       "</table>\n",
       "</div>"
      ],
      "text/plain": [
       "                                   count      mean       std   min   25%  50%  \\\n",
       "primary_cleaner.input.feed_size  13593.0  7.329087  0.614754  1.08  6.97  7.3   \n",
       "\n",
       "                                 75%    max  \n",
       "primary_cleaner.input.feed_size  7.7  10.47  "
      ]
     },
     "metadata": {},
     "output_type": "display_data"
    },
    {
     "data": {
      "text/html": [
       "<div>\n",
       "<style scoped>\n",
       "    .dataframe tbody tr th:only-of-type {\n",
       "        vertical-align: middle;\n",
       "    }\n",
       "\n",
       "    .dataframe tbody tr th {\n",
       "        vertical-align: top;\n",
       "    }\n",
       "\n",
       "    .dataframe thead th {\n",
       "        text-align: right;\n",
       "    }\n",
       "</style>\n",
       "<table border=\"1\" class=\"dataframe\">\n",
       "  <thead>\n",
       "    <tr style=\"text-align: right;\">\n",
       "      <th></th>\n",
       "      <th>count</th>\n",
       "      <th>mean</th>\n",
       "      <th>std</th>\n",
       "      <th>min</th>\n",
       "      <th>25%</th>\n",
       "      <th>50%</th>\n",
       "      <th>75%</th>\n",
       "      <th>max</th>\n",
       "    </tr>\n",
       "  </thead>\n",
       "  <tbody>\n",
       "    <tr>\n",
       "      <th>primary_cleaner.input.feed_size</th>\n",
       "      <td>5290.0</td>\n",
       "      <td>7.266339</td>\n",
       "      <td>0.610219</td>\n",
       "      <td>5.65</td>\n",
       "      <td>6.89</td>\n",
       "      <td>7.25</td>\n",
       "      <td>7.6</td>\n",
       "      <td>15.5</td>\n",
       "    </tr>\n",
       "  </tbody>\n",
       "</table>\n",
       "</div>"
      ],
      "text/plain": [
       "                                  count      mean       std   min   25%   50%  \\\n",
       "primary_cleaner.input.feed_size  5290.0  7.266339  0.610219  5.65  6.89  7.25   \n",
       "\n",
       "                                 75%   max  \n",
       "primary_cleaner.input.feed_size  7.6  15.5  "
      ]
     },
     "metadata": {},
     "output_type": "display_data"
    },
    {
     "data": {
      "image/png": "[encoded data removed]",
      "text/plain": [
       "<Figure size 1440x576 with 1 Axes>"
      ]
     },
     "metadata": {},
     "output_type": "display_data"
    },
    {
     "data": {
      "image/png": "[encoded data removed]",
      "text/plain": [
       "<Figure size 1440x576 with 1 Axes>"
      ]
     },
     "metadata": {},
     "output_type": "display_data"
    }
   ],
   "source": [
    "phases ={'rougher': 'флотация', 'primary_cleaner': 'первичная очистка'}\n",
    "for phase in phases:\n",
    "    plt.figure(figsize=(20,8))\n",
    "    sns.kdeplot(data_train[str(phase) + '.input.feed_size'], alpha=0.8, color='fuchsia', label=f'train-{phase}.input.feed_size', shade=True) \n",
    "    sns.kdeplot(data_test[str(phase) + '.input.feed_size'], alpha=0.5, color='cyan', label=f'test-{phase}.input.feed_size', shade=True)\n",
    "    plt.legend(bbox_to_anchor = (0.75, 0.7, 0.25, 0.25), fontsize=12)\n",
    "    plt.title(f'Распределения размеров гранул сырья на обучающей и тестовой выборках - этап {phases[phase]}', fontsize=16)\n",
    "    plt.ylabel('Плотность частоты измерений', fontsize=14)\n",
    "    plt.xlabel('Размер гранул сырья', fontsize=14)\n",
    "    plt.xticks(fontsize=12)\n",
    "    plt.yticks(fontsize=12)\n",
    "    print('{0:^}'.center(100).format(phase))\n",
    "    display(pd.DataFrame(data_train[str(phase) + '.input.feed_size']).describe().T)\n",
    "    display(pd.DataFrame(data_test[str(phase) + '.input.feed_size']).describe().T)    "
   ]
  },
  {
   "cell_type": "markdown",
   "metadata": {},
   "source": [
    "Распределения размеров гранул сырья на обучающей и тестовой выборках на этапе флотации имеют положительную ассиметрию и очень схожи, значения немного ниже на тестовой выборке. Распределения размеров гранул сырья на обучающей и тестовой выборках на этапе первичной очистки близки к номальному и имеют лишь незначительные отличия, а значит оценка модели не будет искажена.  "
   ]
  },
  {
   "cell_type": "markdown",
   "metadata": {},
   "source": [
    "###  Исследование суммарной концентрации всех веществ на разных стадиях"
   ]
  },
  {
   "cell_type": "code",
   "execution_count": 42,
   "metadata": {
    "ExecuteTime": {
     "end_time": "2023-03-25T08:55:54.423168Z",
     "start_time": "2023-03-25T08:55:51.768236Z"
    }
   },
   "outputs": [
    {
     "data": {
      "image/png": "[encoded data removed]",
      "text/plain": [
       "<Figure size 1440x576 with 1 Axes>"
      ]
     },
     "metadata": {},
     "output_type": "display_data"
    }
   ],
   "source": [
    "# В цикле суммируем концентрации всех веществ на каждой стадии\n",
    "sum_rougher_input_feed = 0\n",
    "sum_rougher_output_concentrate = 0\n",
    "sum_primary_cleaner_output_concentrate = 0\n",
    "sum_final_output_concentrate = 0\n",
    "for full_name_metall in ['ag', 'pb', 'au', 'sol']:\n",
    "    sum_rougher_input_feed += data_full[f'rougher.input.feed_{full_name_metall}']\n",
    "    sum_rougher_output_concentrate += data_full[f'rougher.output.concentrate_{full_name_metall}']\n",
    "    sum_primary_cleaner_output_concentrate += data_full[f'primary_cleaner.output.concentrate_{full_name_metall}']\n",
    "    sum_final_output_concentrate += data_full[f'final.output.concentrate_{full_name_metall}']\n",
    "    \n",
    "# Строим гистограммы по суммарным концентрациям    \n",
    "plt.figure(figsize=(20,8))\n",
    "turquoise, violet = sns.color_palette(\"hls\", 8)[4], sns.color_palette(\"hls\", 8)[6]\n",
    "dict_sum = {turquoise: sum_rougher_input_feed, 'cyan': sum_rougher_output_concentrate, \\\n",
    "            'fuchsia': sum_primary_cleaner_output_concentrate, violet: sum_final_output_concentrate}\n",
    "for concentrate_on_phase in dict_sum:\n",
    "    sns.histplot(dict_sum[concentrate_on_phase], alpha=0.9, color=concentrate_on_phase, label='')     \n",
    "plt.legend(['исходное сырье', 'флотация', 'первичная очистка', 'финальные характеристики'], loc='upper right', fontsize=12)\n",
    "plt.title(f'Суммарная концентрация всех веществ на разных стадиях', fontsize=16)\n",
    "plt.ylabel('Количество измерений', fontsize=14)\n",
    "plt.xlabel('Суммарная концентрация', fontsize=14)\n",
    "plt.xticks(fontsize=12)\n",
    "plt.yticks(fontsize=12);"
   ]
  },
  {
   "cell_type": "markdown",
   "metadata": {},
   "source": [
    "После этапа флотации суммарная концентрация веществ увеличилась на ~ 17%, после первичной очистки сократилась на ~ 10% и на выходе вернулась примерно к значениям, полученным после этапа флотации, но не достигнув её максимальных показателей.  "
   ]
  },
  {
   "cell_type": "markdown",
   "metadata": {},
   "source": [
    "## Модель"
   ]
  },
  {
   "cell_type": "markdown",
   "metadata": {},
   "source": [
    "### Написание функции для вычисления итоговой sMAPE"
   ]
  },
  {
   "attachments": {
    "image-2.png": {
     "image/png": "[encoded data removed]"
    },
    "image.png": {
     "image/png": "[encoded data removed]"
    }
   },
   "cell_type": "markdown",
   "metadata": {},
   "source": [
    "![image.png](attachment:image.png)\n",
    "![image-2.png](attachment:image-2.png)"
   ]
  },
  {
   "cell_type": "code",
   "execution_count": 24,
   "metadata": {
    "ExecuteTime": {
     "end_time": "2023-03-25T08:55:54.484367Z",
     "start_time": "2023-03-25T08:55:54.469723Z"
    }
   },
   "outputs": [],
   "source": [
    "def smape(target, predict):\n",
    "    return np.mean((abs(target - predict) / ((abs(target) + abs(predict)) / 2))* 100)    "
   ]
  },
  {
   "cell_type": "code",
   "execution_count": 25,
   "metadata": {
    "ExecuteTime": {
     "end_time": "2023-03-25T08:55:54.499602Z",
     "start_time": "2023-03-25T08:55:54.486356Z"
    }
   },
   "outputs": [],
   "source": [
    "def final_smape(smape_rouger, smape_final):\n",
    "    return 0.25 * smape_rouger + 0.75 * smape_final"
   ]
  },
  {
   "cell_type": "markdown",
   "metadata": {},
   "source": [
    "### Обучение моделей"
   ]
  },
  {
   "cell_type": "code",
   "execution_count": 26,
   "metadata": {
    "ExecuteTime": {
     "end_time": "2023-03-25T08:55:54.514773Z",
     "start_time": "2023-03-25T08:55:54.501764Z"
    }
   },
   "outputs": [],
   "source": [
    "# Выделяем для тренировочной выборки целевые переменные и оставляем в фичах только признаки из тестовой выборки\n",
    "features_train = data_train[data_test.columns].drop(['rougher.output.recovery', 'final.output.recovery'], axis=1) \n",
    "target_train = data_train[['rougher.output.recovery', 'final.output.recovery']]"
   ]
  },
  {
   "cell_type": "code",
   "execution_count": 29,
   "metadata": {
    "ExecuteTime": {
     "end_time": "2023-03-25T08:55:54.623132Z",
     "start_time": "2023-03-25T08:55:54.604464Z"
    }
   },
   "outputs": [],
   "source": [
    "# Делим тестовую выборку на фичи и таргеты\n",
    "target_test = data_test[['rougher.output.recovery', 'final.output.recovery']]\n",
    "features_test = data_test.drop(['rougher.output.recovery', 'final.output.recovery'], axis=1)"
   ]
  },
  {
   "cell_type": "code",
   "execution_count": 30,
   "metadata": {
    "ExecuteTime": {
     "end_time": "2023-03-25T08:55:54.654311Z",
     "start_time": "2023-03-25T08:55:54.626988Z"
    }
   },
   "outputs": [],
   "source": [
    "# Удаляем дату\n",
    "features_train, features_test = features_train.drop('date', axis=1), features_test.drop('date', axis=1)"
   ]
  },
  {
   "cell_type": "code",
   "execution_count": 32,
   "metadata": {
    "ExecuteTime": {
     "end_time": "2023-03-25T08:55:54.716353Z",
     "start_time": "2023-03-25T08:55:54.671486Z"
    }
   },
   "outputs": [],
   "source": [
    "# Масштабируем численные признаки\n",
    "scaler = StandardScaler()\n",
    "scaler.fit(features_train)\n",
    "features_train = scaler.transform(features_train)\n",
    "features_test = scaler.transform(features_test)"
   ]
  },
  {
   "cell_type": "code",
   "execution_count": 33,
   "metadata": {
    "ExecuteTime": {
     "end_time": "2023-03-25T08:55:54.748384Z",
     "start_time": "2023-03-25T08:55:54.722352Z"
    }
   },
   "outputs": [],
   "source": [
    "# Создаём пользовательскую функцию, игнорирующую объект счетчика\n",
    "smape_scorer = make_scorer(smape, greater_is_better = False)"
   ]
  },
  {
   "cell_type": "markdown",
   "metadata": {},
   "source": [
    "#### Случайный лес"
   ]
  },
  {
   "cell_type": "code",
   "execution_count": 34,
   "metadata": {
    "ExecuteTime": {
     "end_time": "2023-03-25T09:11:09.338289Z",
     "start_time": "2023-03-25T08:55:54.756174Z"
    },
    "scrolled": false
   },
   "outputs": [
    {
     "name": "stdout",
     "output_type": "stream",
     "text": [
      "Fitting 5 folds for each of 4 candidates, totalling 20 fits\n",
      "[CV] END ..max_depth=5, min_samples_leaf=3, n_estimators=150; total time=  26.7s\n",
      "[CV] END ..max_depth=5, min_samples_leaf=3, n_estimators=150; total time=  25.0s\n",
      "[CV] END ..max_depth=5, min_samples_leaf=3, n_estimators=150; total time=  25.0s\n",
      "[CV] END ..max_depth=5, min_samples_leaf=3, n_estimators=150; total time=  24.7s\n",
      "[CV] END ..max_depth=5, min_samples_leaf=3, n_estimators=150; total time=  25.3s\n",
      "[CV] END .max_depth=15, min_samples_leaf=4, n_estimators=150; total time=  54.7s\n",
      "[CV] END .max_depth=15, min_samples_leaf=4, n_estimators=150; total time=  55.3s\n",
      "[CV] END .max_depth=15, min_samples_leaf=4, n_estimators=150; total time=  53.2s\n",
      "[CV] END .max_depth=15, min_samples_leaf=4, n_estimators=150; total time=  53.5s\n",
      "[CV] END .max_depth=15, min_samples_leaf=4, n_estimators=150; total time=  55.0s\n",
      "[CV] END ..max_depth=13, min_samples_leaf=4, n_estimators=50; total time=  17.0s\n",
      "[CV] END ..max_depth=13, min_samples_leaf=4, n_estimators=50; total time=  17.2s\n",
      "[CV] END ..max_depth=13, min_samples_leaf=4, n_estimators=50; total time=  16.6s\n",
      "[CV] END ..max_depth=13, min_samples_leaf=4, n_estimators=50; total time=  17.1s\n",
      "[CV] END ..max_depth=13, min_samples_leaf=4, n_estimators=50; total time=  17.2s\n",
      "[CV] END ..max_depth=15, min_samples_leaf=1, n_estimators=50; total time=  19.6s\n",
      "[CV] END ..max_depth=15, min_samples_leaf=1, n_estimators=50; total time=  19.7s\n",
      "[CV] END ..max_depth=15, min_samples_leaf=1, n_estimators=50; total time=  19.1s\n",
      "[CV] END ..max_depth=15, min_samples_leaf=1, n_estimators=50; total time=  19.1s\n",
      "[CV] END ..max_depth=15, min_samples_leaf=1, n_estimators=50; total time=  19.5s\n",
      "Fitting 5 folds for each of 4 candidates, totalling 20 fits\n",
      "[CV] END ..max_depth=5, min_samples_leaf=3, n_estimators=150; total time=  25.1s\n",
      "[CV] END ..max_depth=5, min_samples_leaf=3, n_estimators=150; total time=  25.3s\n",
      "[CV] END ..max_depth=5, min_samples_leaf=3, n_estimators=150; total time=  24.9s\n",
      "[CV] END ..max_depth=5, min_samples_leaf=3, n_estimators=150; total time=  25.4s\n",
      "[CV] END ..max_depth=5, min_samples_leaf=3, n_estimators=150; total time=  25.3s\n",
      "[CV] END .max_depth=15, min_samples_leaf=4, n_estimators=150; total time=  58.0s\n",
      "[CV] END .max_depth=15, min_samples_leaf=4, n_estimators=150; total time=  58.3s\n",
      "[CV] END .max_depth=15, min_samples_leaf=4, n_estimators=150; total time=  56.2s\n",
      "[CV] END .max_depth=15, min_samples_leaf=4, n_estimators=150; total time=  57.5s\n",
      "[CV] END .max_depth=15, min_samples_leaf=4, n_estimators=150; total time=  57.6s\n",
      "[CV] END ..max_depth=13, min_samples_leaf=4, n_estimators=50; total time=  18.0s\n",
      "[CV] END ..max_depth=13, min_samples_leaf=4, n_estimators=50; total time=  18.0s\n",
      "[CV] END ..max_depth=13, min_samples_leaf=4, n_estimators=50; total time=  17.6s\n",
      "[CV] END ..max_depth=13, min_samples_leaf=4, n_estimators=50; total time=  17.7s\n",
      "[CV] END ..max_depth=13, min_samples_leaf=4, n_estimators=50; total time=  17.7s\n",
      "[CV] END ..max_depth=15, min_samples_leaf=1, n_estimators=50; total time=  20.5s\n",
      "[CV] END ..max_depth=15, min_samples_leaf=1, n_estimators=50; total time=  20.8s\n",
      "[CV] END ..max_depth=15, min_samples_leaf=1, n_estimators=50; total time=  19.9s\n",
      "[CV] END ..max_depth=15, min_samples_leaf=1, n_estimators=50; total time=  20.5s\n",
      "[CV] END ..max_depth=15, min_samples_leaf=1, n_estimators=50; total time=  20.4s\n",
      "Лучшие гиперпараметры RandomForestRegressor rougher {'n_estimators': 150, 'min_samples_leaf': 3, 'max_depth': 5}\n",
      "sMAPE RandomForestRegressor rougher: 6.2976602832640545\n",
      "Лучшие гиперпараметры RandomForestRegressor final {'n_estimators': 150, 'min_samples_leaf': 3, 'max_depth': 5}\n",
      "sMAPE RandomForestRegressor final: 9.053494623547007\n"
     ]
    }
   ],
   "source": [
    "# Строим модель RandomForestRegressor с подбором гиперпараметров при помощи RandomizedSearchCV \n",
    "# и оцениваем качество кросс-валидацией\n",
    "\n",
    "model_rf = RandomForestRegressor(random_state=RANDOM_STATE, n_jobs=-1)\n",
    "\n",
    "param_rscv = { \n",
    "    'max_depth': range(1, 20, 2), \n",
    "    'min_samples_leaf': range(1, 5), \n",
    "    'n_estimators': range(50, 251, 50)\n",
    "}\n",
    "\n",
    "rscv_rougher = RandomizedSearchCV(model_rf, param_rscv, random_state=RANDOM_STATE, scoring=smape_scorer, cv=5, n_iter=4, verbose=2) # был n_iter 8\n",
    "best_model_rf_rougher = rscv_rougher.fit(features_train, target_train['rougher.output.recovery'])\n",
    "\n",
    "rscv_final = RandomizedSearchCV(model_rf, param_rscv, random_state=RANDOM_STATE, scoring=smape_scorer, cv=5, n_iter=4, verbose=2) # был n_iter 8\n",
    "best_model_rf_final = rscv_final.fit(features_train, target_train['final.output.recovery'])\n",
    "\n",
    "print('Лучшие гиперпараметры RandomForestRegressor rougher', best_model_rf_rougher.best_params_)\n",
    "print('sMAPE RandomForestRegressor rougher:', abs(best_model_rf_rougher.best_score_))\n",
    "print('Лучшие гиперпараметры RandomForestRegressor final', best_model_rf_final.best_params_)\n",
    "print('sMAPE RandomForestRegressor final:', abs(best_model_rf_final.best_score_))"
   ]
  },
  {
   "cell_type": "markdown",
   "metadata": {},
   "source": [
    "#### Дерево решений"
   ]
  },
  {
   "cell_type": "code",
   "execution_count": 35,
   "metadata": {
    "ExecuteTime": {
     "end_time": "2023-03-25T09:12:23.541863Z",
     "start_time": "2023-03-25T09:11:09.343277Z"
    }
   },
   "outputs": [
    {
     "name": "stdout",
     "output_type": "stream",
     "text": [
      "Fitting 5 folds for each of 6 candidates, totalling 30 fits\n",
      "[CV] END ...................max_depth=23, min_samples_leaf=1; total time=   0.8s\n",
      "[CV] END ...................max_depth=23, min_samples_leaf=1; total time=   0.8s\n",
      "[CV] END ...................max_depth=23, min_samples_leaf=1; total time=   0.8s\n",
      "[CV] END ...................max_depth=23, min_samples_leaf=1; total time=   0.8s\n",
      "[CV] END ...................max_depth=23, min_samples_leaf=1; total time=   0.9s\n",
      "[CV] END ...................max_depth=15, min_samples_leaf=1; total time=   0.7s\n",
      "[CV] END ...................max_depth=15, min_samples_leaf=1; total time=   0.7s\n",
      "[CV] END ...................max_depth=15, min_samples_leaf=1; total time=   0.7s\n",
      "[CV] END ...................max_depth=15, min_samples_leaf=1; total time=   0.7s\n",
      "[CV] END ...................max_depth=15, min_samples_leaf=1; total time=   0.7s\n",
      "[CV] END ....................max_depth=9, min_samples_leaf=1; total time=   0.5s\n",
      "[CV] END ....................max_depth=9, min_samples_leaf=1; total time=   0.5s\n",
      "[CV] END ....................max_depth=9, min_samples_leaf=1; total time=   0.5s\n",
      "[CV] END ....................max_depth=9, min_samples_leaf=1; total time=   0.5s\n",
      "[CV] END ....................max_depth=9, min_samples_leaf=1; total time=   0.5s\n",
      "[CV] END ...................max_depth=17, min_samples_leaf=3; total time=   0.7s\n",
      "[CV] END ...................max_depth=17, min_samples_leaf=3; total time=   0.7s\n",
      "[CV] END ...................max_depth=17, min_samples_leaf=3; total time=   0.7s\n",
      "[CV] END ...................max_depth=17, min_samples_leaf=3; total time=   0.7s\n",
      "[CV] END ...................max_depth=17, min_samples_leaf=3; total time=   0.7s\n",
      "[CV] END ...................max_depth=21, min_samples_leaf=3; total time=   0.8s\n",
      "[CV] END ...................max_depth=21, min_samples_leaf=3; total time=   0.7s\n",
      "[CV] END ...................max_depth=21, min_samples_leaf=3; total time=   0.7s\n",
      "[CV] END ...................max_depth=21, min_samples_leaf=3; total time=   0.7s\n",
      "[CV] END ...................max_depth=21, min_samples_leaf=3; total time=   0.7s\n",
      "[CV] END ....................max_depth=5, min_samples_leaf=3; total time=   0.3s\n",
      "[CV] END ....................max_depth=5, min_samples_leaf=3; total time=   0.3s\n",
      "[CV] END ....................max_depth=5, min_samples_leaf=3; total time=   0.3s\n",
      "[CV] END ....................max_depth=5, min_samples_leaf=3; total time=   0.3s\n",
      "[CV] END ....................max_depth=5, min_samples_leaf=3; total time=   0.3s\n",
      "Fitting 5 folds for each of 6 candidates, totalling 30 fits\n",
      "[CV] END ...................max_depth=23, min_samples_leaf=1; total time=   0.9s\n",
      "[CV] END ...................max_depth=23, min_samples_leaf=1; total time=   0.9s\n",
      "[CV] END ...................max_depth=23, min_samples_leaf=1; total time=   0.9s\n",
      "[CV] END ...................max_depth=23, min_samples_leaf=1; total time=   0.9s\n",
      "[CV] END ...................max_depth=23, min_samples_leaf=1; total time=   0.9s\n",
      "[CV] END ...................max_depth=15, min_samples_leaf=1; total time=   0.8s\n",
      "[CV] END ...................max_depth=15, min_samples_leaf=1; total time=   0.8s\n",
      "[CV] END ...................max_depth=15, min_samples_leaf=1; total time=   0.7s\n",
      "[CV] END ...................max_depth=15, min_samples_leaf=1; total time=   0.7s\n",
      "[CV] END ...................max_depth=15, min_samples_leaf=1; total time=   0.7s\n",
      "[CV] END ....................max_depth=9, min_samples_leaf=1; total time=   0.5s\n",
      "[CV] END ....................max_depth=9, min_samples_leaf=1; total time=   0.5s\n",
      "[CV] END ....................max_depth=9, min_samples_leaf=1; total time=   0.5s\n",
      "[CV] END ....................max_depth=9, min_samples_leaf=1; total time=   0.5s\n",
      "[CV] END ....................max_depth=9, min_samples_leaf=1; total time=   0.5s\n",
      "[CV] END ...................max_depth=17, min_samples_leaf=3; total time=   0.7s\n",
      "[CV] END ...................max_depth=17, min_samples_leaf=3; total time=   0.7s\n",
      "[CV] END ...................max_depth=17, min_samples_leaf=3; total time=   0.7s\n",
      "[CV] END ...................max_depth=17, min_samples_leaf=3; total time=   0.7s\n",
      "[CV] END ...................max_depth=17, min_samples_leaf=3; total time=   0.7s\n",
      "[CV] END ...................max_depth=21, min_samples_leaf=3; total time=   0.8s\n",
      "[CV] END ...................max_depth=21, min_samples_leaf=3; total time=   0.8s\n",
      "[CV] END ...................max_depth=21, min_samples_leaf=3; total time=   0.8s\n",
      "[CV] END ...................max_depth=21, min_samples_leaf=3; total time=   0.8s\n",
      "[CV] END ...................max_depth=21, min_samples_leaf=3; total time=   0.8s\n",
      "[CV] END ....................max_depth=5, min_samples_leaf=3; total time=   0.3s\n",
      "[CV] END ....................max_depth=5, min_samples_leaf=3; total time=   0.3s\n",
      "[CV] END ....................max_depth=5, min_samples_leaf=3; total time=   0.3s\n",
      "[CV] END ....................max_depth=5, min_samples_leaf=3; total time=   0.3s\n",
      "[CV] END ....................max_depth=5, min_samples_leaf=3; total time=   0.3s\n",
      "Лучшие гиперпараметры DecisionTreeRegressor rougher {'min_samples_leaf': 3, 'max_depth': 5}\n",
      "sMAPE DecisionTreeRegressor rougher: 6.931713043269298\n",
      "Лучшие гиперпараметры DecisionTreeRegressor final {'min_samples_leaf': 3, 'max_depth': 5}\n",
      "sMAPE DecisionTreeRegressor final: 10.43064679924895\n"
     ]
    }
   ],
   "source": [
    "# Строим модель DecisionTreeRegressor с подбором гиперпараметров при помощи RandomizedSearchCV \n",
    "# и оцениваем качество кросс-валидацией\n",
    "\n",
    "model_dt = DecisionTreeRegressor(random_state=RANDOM_STATE)\n",
    "param_dt_rscv = { \n",
    "    'max_depth': range(1, 30, 2), \n",
    "    'min_samples_leaf': range(1, 4) \n",
    " }\n",
    "rscv_dt_rougher = RandomizedSearchCV(model_dt, param_dt_rscv, random_state=RANDOM_STATE, scoring=smape_scorer, cv=5, n_iter=6, verbose=2)\n",
    "best_model_dt_rougher = rscv_dt_rougher.fit(features_train, target_train['rougher.output.recovery'])\n",
    "\n",
    "rscv_dt_final = RandomizedSearchCV(model_dt, param_dt_rscv, random_state=RANDOM_STATE, scoring=smape_scorer, cv=5, n_iter=6, verbose=2)\n",
    "best_model_dt_final = rscv_dt_final.fit(features_train, target_train['final.output.recovery'])\n",
    "\n",
    "print('Лучшие гиперпараметры DecisionTreeRegressor rougher', best_model_dt_rougher.best_params_)\n",
    "print('sMAPE DecisionTreeRegressor rougher:', abs(best_model_dt_rougher.best_score_))\n",
    "print('Лучшие гиперпараметры DecisionTreeRegressor final', best_model_dt_final.best_params_)\n",
    "print('sMAPE DecisionTreeRegressor final:', abs(best_model_dt_final.best_score_))"
   ]
  },
  {
   "cell_type": "code",
   "execution_count": 36,
   "metadata": {
    "ExecuteTime": {
     "end_time": "2023-03-25T09:12:23.918833Z",
     "start_time": "2023-03-25T09:12:23.544875Z"
    }
   },
   "outputs": [
    {
     "name": "stdout",
     "output_type": "stream",
     "text": [
      "sMAPE LinearRegression rougher: 7.289335600899975\n",
      "sMAPE LinearRegression final: 11.009460508529054\n"
     ]
    }
   ],
   "source": [
    "# Строим модель LinearRegression и оцениваем качество кросс-валидацией\n",
    "\n",
    "model_lr = LinearRegression()\n",
    "smape_lr_rougher = cross_val_score(model_lr, features_train, target_train['rougher.output.recovery'], scoring=smape_scorer, cv=5).mean()\n",
    "smape_lr_final = cross_val_score(model_lr, features_train, target_train['final.output.recovery'], scoring=smape_scorer, cv=5).mean()\n",
    "print('sMAPE LinearRegression rougher:', abs(smape_lr_rougher))\n",
    "print('sMAPE LinearRegression final:', abs(smape_lr_final))"
   ]
  },
  {
   "cell_type": "markdown",
   "metadata": {},
   "source": [
    "#### Случайная модель"
   ]
  },
  {
   "cell_type": "code",
   "execution_count": 37,
   "metadata": {
    "ExecuteTime": {
     "end_time": "2023-03-25T09:12:24.013781Z",
     "start_time": "2023-03-25T09:12:23.920819Z"
    }
   },
   "outputs": [
    {
     "name": "stdout",
     "output_type": "stream",
     "text": [
      "sMAPE rougher константной модели: 7.7529520790224735\n",
      "sMAPE final константной модели: 10.258921903524795\n"
     ]
    }
   ],
   "source": [
    "dummy_model = DummyRegressor(strategy = 'median')\n",
    "smape_dummy_rougher = cross_val_score(dummy_model, features_train, target_train['rougher.output.recovery'], scoring=smape_scorer, cv=5).mean()\n",
    "smape_dummy_final = cross_val_score(dummy_model, features_train, target_train['final.output.recovery'], scoring=smape_scorer, cv=5).mean()\n",
    "print('sMAPE rougher константной модели:', abs(smape_dummy_rougher))\n",
    "print('sMAPE final константной модели:', abs(smape_dummy_final))"
   ]
  },
  {
   "cell_type": "markdown",
   "metadata": {},
   "source": [
    "#### Проверка на тестовой выборке"
   ]
  },
  {
   "cell_type": "code",
   "execution_count": 38,
   "metadata": {
    "ExecuteTime": {
     "end_time": "2023-03-25T09:12:24.077068Z",
     "start_time": "2023-03-25T09:12:24.015288Z"
    }
   },
   "outputs": [
    {
     "name": "stdout",
     "output_type": "stream",
     "text": [
      "8.108466797462777\n",
      "9.72173915391804\n",
      "sMAPE лучшей модели: 9.318421064804225\n"
     ]
    }
   ],
   "source": [
    "predict_rougher = best_model_rf_rougher.predict(features_test)\n",
    "smape_rougher = smape(target_test['rougher.output.recovery'], predict_rougher)\n",
    "print(smape_rougher)\n",
    "predict_final = best_model_rf_final.predict(features_test)\n",
    "smape_final = smape(target_test['final.output.recovery'], predict_final)\n",
    "print(smape_final)\n",
    "print('sMAPE лучшей модели:', final_smape(smape_rougher, smape_final))"
   ]
  },
  {
   "cell_type": "markdown",
   "metadata": {},
   "source": [
    "##  Вывод  \n",
    "\n",
    "- Рассмотрели датасеты `train`, `test`, `full`\n",
    "- Обработали пропуски и аномалии в данных\n",
    "- Подтвердили корректность расчётов эффективности обогащения золотоносной руды\n",
    "- Построили графики концентраций веществ на различных этапах технологического процесса\n",
    "- Написали функцию для вычисления итоговой sMAPE\n",
    "\n",
    "При помощи RandomizedSearchCV определили гиперпараметры для \"деревянных\" алгоритмов, применили масштабирование StandardScaler для численных признаков, построили  модели: Дерево решений, Случайный лес, Линейная регрессия - оценено их качество кросс-валидацией.  \n",
    "\n",
    "Лучшими моделями на тренировочной выборке показали себя:\n",
    "- RandomForestRegressor rougher {'n_estimators': 150, 'min_samples_leaf': 3, 'max_depth': 5} с результатом sMAPE RandomForestRegressor rougher: 6.2976602832640545\n",
    "- RandomForestRegressor final {'n_estimators': 150, 'min_samples_leaf': 3, 'max_depth': 5} с результатом sMAPE RandomForestRegressor final: 9.053494623547007  \n",
    "\n",
    "Проведена проверка адекватности моделей. Результаты случайной модели:\n",
    "- sMAPE rougher DummyRegressor: 7.7529520790224735\n",
    "- sMAPE final DummyRegressor: 10.258921903524795\n",
    "Обе модели подтвердили адекватность.\n",
    "\n",
    "**На тестовой выборке итоговое sMAPE лучшей модели: 9.318421064804225** "
   ]
  }
 ],
 "metadata": {
  "ExecuteTimeLog": [
   {
    "duration": 1699,
    "start_time": "2023-03-18T20:32:56.507Z"
   },
   {
    "duration": 2179,
    "start_time": "2023-03-18T20:36:37.464Z"
   },
   {
    "duration": 1843,
    "start_time": "2023-03-24T05:33:27.362Z"
   },
   {
    "duration": 2506,
    "start_time": "2023-03-24T05:33:29.208Z"
   },
   {
    "duration": 5,
    "start_time": "2023-03-24T05:33:31.716Z"
   },
   {
    "duration": 371,
    "start_time": "2023-03-24T05:33:31.723Z"
   },
   {
    "duration": 127,
    "start_time": "2023-03-24T05:33:32.096Z"
   },
   {
    "duration": 267,
    "start_time": "2023-03-24T05:33:32.225Z"
   },
   {
    "duration": 7,
    "start_time": "2023-03-24T05:33:32.494Z"
   },
   {
    "duration": 10,
    "start_time": "2023-03-24T05:33:32.503Z"
   },
   {
    "duration": 66,
    "start_time": "2023-03-24T05:33:32.515Z"
   },
   {
    "duration": 7,
    "start_time": "2023-03-24T05:33:32.585Z"
   },
   {
    "duration": 5,
    "start_time": "2023-03-24T05:33:32.594Z"
   },
   {
    "duration": 9,
    "start_time": "2023-03-24T05:33:32.601Z"
   },
   {
    "duration": 3674,
    "start_time": "2023-03-24T05:33:32.612Z"
   },
   {
    "duration": 90,
    "start_time": "2023-03-24T05:35:23.718Z"
   },
   {
    "duration": 79,
    "start_time": "2023-03-24T05:37:03.362Z"
   },
   {
    "duration": 99,
    "start_time": "2023-03-24T05:41:05.190Z"
   },
   {
    "duration": 93,
    "start_time": "2023-03-24T05:44:58.623Z"
   },
   {
    "duration": 622,
    "start_time": "2023-03-24T05:51:36.293Z"
   },
   {
    "duration": 586,
    "start_time": "2023-03-24T05:52:20.465Z"
   },
   {
    "duration": 57,
    "start_time": "2023-03-24T05:55:23.687Z"
   },
   {
    "duration": 49,
    "start_time": "2023-03-24T05:57:50.146Z"
   },
   {
    "duration": 47,
    "start_time": "2023-03-24T05:58:42.783Z"
   },
   {
    "duration": 66,
    "start_time": "2023-03-24T05:59:54.427Z"
   },
   {
    "duration": 55,
    "start_time": "2023-03-24T06:01:44.524Z"
   },
   {
    "duration": 48,
    "start_time": "2023-03-24T06:03:17.517Z"
   },
   {
    "duration": 46,
    "start_time": "2023-03-24T06:04:47.137Z"
   },
   {
    "duration": 55,
    "start_time": "2023-03-24T06:05:47.049Z"
   },
   {
    "duration": 82,
    "start_time": "2023-03-24T06:06:10.515Z"
   },
   {
    "duration": 175,
    "start_time": "2023-03-24T06:06:31.607Z"
   },
   {
    "duration": 94,
    "start_time": "2023-03-24T06:07:57.236Z"
   },
   {
    "duration": 62,
    "start_time": "2023-03-24T06:08:58.097Z"
   },
   {
    "duration": 52,
    "start_time": "2023-03-24T06:09:14.231Z"
   },
   {
    "duration": 78,
    "start_time": "2023-03-24T06:09:19.753Z"
   },
   {
    "duration": 77,
    "start_time": "2023-03-24T06:09:55.451Z"
   },
   {
    "duration": 210,
    "start_time": "2023-03-24T06:10:02.926Z"
   },
   {
    "duration": 93,
    "start_time": "2023-03-24T06:10:11.967Z"
   },
   {
    "duration": 101,
    "start_time": "2023-03-24T06:13:37.926Z"
   },
   {
    "duration": 164,
    "start_time": "2023-03-24T06:14:58.333Z"
   },
   {
    "duration": 234,
    "start_time": "2023-03-24T06:16:06.938Z"
   },
   {
    "duration": 71,
    "start_time": "2023-03-24T06:17:48.636Z"
   },
   {
    "duration": 54,
    "start_time": "2023-03-24T06:17:57.972Z"
   },
   {
    "duration": 5,
    "start_time": "2023-03-24T06:18:43.100Z"
   },
   {
    "duration": 4,
    "start_time": "2023-03-24T06:18:51.238Z"
   },
   {
    "duration": 7,
    "start_time": "2023-03-24T06:19:11.190Z"
   },
   {
    "duration": 5,
    "start_time": "2023-03-24T06:19:25.489Z"
   },
   {
    "duration": 5,
    "start_time": "2023-03-24T06:20:07.404Z"
   },
   {
    "duration": 4,
    "start_time": "2023-03-24T06:20:19.903Z"
   },
   {
    "duration": 4,
    "start_time": "2023-03-24T06:21:11.645Z"
   },
   {
    "duration": 239,
    "start_time": "2023-03-24T06:21:23.056Z"
   },
   {
    "duration": 4,
    "start_time": "2023-03-24T06:22:53.586Z"
   },
   {
    "duration": 5,
    "start_time": "2023-03-24T06:23:04.934Z"
   },
   {
    "duration": 266,
    "start_time": "2023-03-24T06:24:22.418Z"
   },
   {
    "duration": 5,
    "start_time": "2023-03-24T06:24:39.187Z"
   },
   {
    "duration": 52,
    "start_time": "2023-03-24T06:25:26.495Z"
   },
   {
    "duration": 4,
    "start_time": "2023-03-24T06:25:37.337Z"
   },
   {
    "duration": 4,
    "start_time": "2023-03-24T06:25:50.383Z"
   },
   {
    "duration": 4,
    "start_time": "2023-03-24T06:26:04.453Z"
   },
   {
    "duration": 368,
    "start_time": "2023-03-24T06:26:18.994Z"
   },
   {
    "duration": 4,
    "start_time": "2023-03-24T06:26:43.150Z"
   },
   {
    "duration": 375,
    "start_time": "2023-03-24T06:26:50.186Z"
   },
   {
    "duration": 415,
    "start_time": "2023-03-24T06:27:05.204Z"
   },
   {
    "duration": 369,
    "start_time": "2023-03-24T06:27:45.799Z"
   },
   {
    "duration": 429,
    "start_time": "2023-03-24T06:28:22.563Z"
   },
   {
    "duration": 5,
    "start_time": "2023-03-24T06:28:44.988Z"
   },
   {
    "duration": 230,
    "start_time": "2023-03-24T06:29:06.814Z"
   },
   {
    "duration": 400,
    "start_time": "2023-03-24T06:29:57.814Z"
   },
   {
    "duration": 46,
    "start_time": "2023-03-24T06:30:30.332Z"
   },
   {
    "duration": 401,
    "start_time": "2023-03-24T06:31:16.334Z"
   },
   {
    "duration": 16,
    "start_time": "2023-03-24T06:34:30.698Z"
   },
   {
    "duration": 4,
    "start_time": "2023-03-24T06:35:58.981Z"
   },
   {
    "duration": 45,
    "start_time": "2023-03-24T06:36:31.289Z"
   },
   {
    "duration": 37,
    "start_time": "2023-03-24T06:43:55.337Z"
   },
   {
    "duration": 21,
    "start_time": "2023-03-24T06:56:40.328Z"
   },
   {
    "duration": 37,
    "start_time": "2023-03-24T06:57:17.624Z"
   },
   {
    "duration": 9,
    "start_time": "2023-03-24T06:58:13.897Z"
   },
   {
    "duration": 4,
    "start_time": "2023-03-24T06:58:25.845Z"
   },
   {
    "duration": 1634,
    "start_time": "2023-03-24T06:59:32.203Z"
   },
   {
    "duration": 0,
    "start_time": "2023-03-24T06:59:33.840Z"
   },
   {
    "duration": 826,
    "start_time": "2023-03-24T07:02:05.226Z"
   },
   {
    "duration": 1505,
    "start_time": "2023-03-24T07:04:22.730Z"
   },
   {
    "duration": 721,
    "start_time": "2023-03-24T07:04:24.240Z"
   },
   {
    "duration": 5,
    "start_time": "2023-03-24T07:04:24.963Z"
   },
   {
    "duration": 327,
    "start_time": "2023-03-24T07:04:24.969Z"
   },
   {
    "duration": 121,
    "start_time": "2023-03-24T07:04:25.299Z"
   },
   {
    "duration": 397,
    "start_time": "2023-03-24T07:04:25.422Z"
   },
   {
    "duration": 7,
    "start_time": "2023-03-24T07:04:25.822Z"
   },
   {
    "duration": 31,
    "start_time": "2023-03-24T07:04:25.831Z"
   },
   {
    "duration": 25,
    "start_time": "2023-03-24T07:04:25.864Z"
   },
   {
    "duration": 7,
    "start_time": "2023-03-24T07:04:25.891Z"
   },
   {
    "duration": 4,
    "start_time": "2023-03-24T07:04:25.899Z"
   },
   {
    "duration": 58,
    "start_time": "2023-03-24T07:04:25.905Z"
   },
   {
    "duration": 3099,
    "start_time": "2023-03-24T07:04:25.966Z"
   },
   {
    "duration": 5,
    "start_time": "2023-03-24T07:04:29.069Z"
   },
   {
    "duration": 47,
    "start_time": "2023-03-24T07:04:29.075Z"
   },
   {
    "duration": 15,
    "start_time": "2023-03-24T07:04:35.977Z"
   },
   {
    "duration": 4,
    "start_time": "2023-03-24T07:04:41.491Z"
   },
   {
    "duration": 1451,
    "start_time": "2023-03-24T07:05:39.961Z"
   },
   {
    "duration": 674,
    "start_time": "2023-03-24T07:05:41.415Z"
   },
   {
    "duration": 4,
    "start_time": "2023-03-24T07:05:42.091Z"
   },
   {
    "duration": 306,
    "start_time": "2023-03-24T07:05:42.097Z"
   },
   {
    "duration": 103,
    "start_time": "2023-03-24T07:05:42.405Z"
   },
   {
    "duration": 261,
    "start_time": "2023-03-24T07:05:42.509Z"
   },
   {
    "duration": 6,
    "start_time": "2023-03-24T07:05:42.772Z"
   },
   {
    "duration": 10,
    "start_time": "2023-03-24T07:05:42.780Z"
   },
   {
    "duration": 36,
    "start_time": "2023-03-24T07:05:42.792Z"
   },
   {
    "duration": 6,
    "start_time": "2023-03-24T07:05:42.863Z"
   },
   {
    "duration": 6,
    "start_time": "2023-03-24T07:05:42.871Z"
   },
   {
    "duration": 10,
    "start_time": "2023-03-24T07:05:42.879Z"
   },
   {
    "duration": 3271,
    "start_time": "2023-03-24T07:05:42.891Z"
   },
   {
    "duration": 4,
    "start_time": "2023-03-24T07:05:46.164Z"
   },
   {
    "duration": 43,
    "start_time": "2023-03-24T07:05:46.170Z"
   },
   {
    "duration": 4,
    "start_time": "2023-03-24T07:06:06.171Z"
   },
   {
    "duration": 25,
    "start_time": "2023-03-24T07:06:16.458Z"
   },
   {
    "duration": 5,
    "start_time": "2023-03-24T07:06:18.825Z"
   },
   {
    "duration": 19,
    "start_time": "2023-03-24T07:07:32.742Z"
   },
   {
    "duration": 5,
    "start_time": "2023-03-24T07:07:33.811Z"
   },
   {
    "duration": 18,
    "start_time": "2023-03-24T07:09:35.417Z"
   },
   {
    "duration": 4,
    "start_time": "2023-03-24T07:09:37.049Z"
   },
   {
    "duration": 12,
    "start_time": "2023-03-24T07:12:52.979Z"
   },
   {
    "duration": 13,
    "start_time": "2023-03-24T07:13:24.962Z"
   },
   {
    "duration": 16,
    "start_time": "2023-03-24T07:14:27.790Z"
   },
   {
    "duration": 1596,
    "start_time": "2023-03-24T07:15:08.132Z"
   },
   {
    "duration": 763,
    "start_time": "2023-03-24T07:15:09.732Z"
   },
   {
    "duration": 5,
    "start_time": "2023-03-24T07:15:10.497Z"
   },
   {
    "duration": 342,
    "start_time": "2023-03-24T07:15:10.505Z"
   },
   {
    "duration": 137,
    "start_time": "2023-03-24T07:15:10.849Z"
   },
   {
    "duration": 266,
    "start_time": "2023-03-24T07:15:10.988Z"
   },
   {
    "duration": 12,
    "start_time": "2023-03-24T07:15:11.256Z"
   },
   {
    "duration": 10,
    "start_time": "2023-03-24T07:15:11.270Z"
   },
   {
    "duration": 28,
    "start_time": "2023-03-24T07:15:11.282Z"
   },
   {
    "duration": 6,
    "start_time": "2023-03-24T07:15:11.312Z"
   },
   {
    "duration": 50,
    "start_time": "2023-03-24T07:15:11.320Z"
   },
   {
    "duration": 13,
    "start_time": "2023-03-24T07:15:11.374Z"
   },
   {
    "duration": 3731,
    "start_time": "2023-03-24T07:15:11.389Z"
   },
   {
    "duration": 4,
    "start_time": "2023-03-24T07:15:15.122Z"
   },
   {
    "duration": 77,
    "start_time": "2023-03-24T07:15:15.128Z"
   },
   {
    "duration": 12,
    "start_time": "2023-03-24T07:15:27.455Z"
   },
   {
    "duration": 11,
    "start_time": "2023-03-24T07:15:57.323Z"
   },
   {
    "duration": 19,
    "start_time": "2023-03-24T07:17:35.561Z"
   },
   {
    "duration": 17,
    "start_time": "2023-03-24T07:18:25.335Z"
   },
   {
    "duration": 20,
    "start_time": "2023-03-24T07:18:31.037Z"
   },
   {
    "duration": 24,
    "start_time": "2023-03-24T07:18:47.043Z"
   },
   {
    "duration": 26,
    "start_time": "2023-03-24T07:23:50.674Z"
   },
   {
    "duration": 5,
    "start_time": "2023-03-24T07:23:52.016Z"
   },
   {
    "duration": 12,
    "start_time": "2023-03-24T07:25:33.609Z"
   },
   {
    "duration": 1482,
    "start_time": "2023-03-24T07:25:53.248Z"
   },
   {
    "duration": 1018,
    "start_time": "2023-03-24T07:25:54.732Z"
   },
   {
    "duration": 5,
    "start_time": "2023-03-24T07:25:55.752Z"
   },
   {
    "duration": 307,
    "start_time": "2023-03-24T07:25:55.758Z"
   },
   {
    "duration": 124,
    "start_time": "2023-03-24T07:25:56.067Z"
   },
   {
    "duration": 233,
    "start_time": "2023-03-24T07:25:56.193Z"
   },
   {
    "duration": 5,
    "start_time": "2023-03-24T07:25:56.427Z"
   },
   {
    "duration": 28,
    "start_time": "2023-03-24T07:25:56.434Z"
   },
   {
    "duration": 28,
    "start_time": "2023-03-24T07:25:56.464Z"
   },
   {
    "duration": 11,
    "start_time": "2023-03-24T07:25:56.494Z"
   },
   {
    "duration": 7,
    "start_time": "2023-03-24T07:25:56.506Z"
   },
   {
    "duration": 48,
    "start_time": "2023-03-24T07:25:56.515Z"
   },
   {
    "duration": 3204,
    "start_time": "2023-03-24T07:25:56.565Z"
   },
   {
    "duration": 4,
    "start_time": "2023-03-24T07:25:59.772Z"
   },
   {
    "duration": 37,
    "start_time": "2023-03-24T07:25:59.778Z"
   },
   {
    "duration": 26,
    "start_time": "2023-03-24T07:26:19.360Z"
   },
   {
    "duration": 3129,
    "start_time": "2023-03-24T07:28:30.322Z"
   },
   {
    "duration": 3333,
    "start_time": "2023-03-24T07:28:55.697Z"
   },
   {
    "duration": 3243,
    "start_time": "2023-03-24T07:29:13.796Z"
   },
   {
    "duration": 3277,
    "start_time": "2023-03-24T07:29:38.379Z"
   },
   {
    "duration": 5,
    "start_time": "2023-03-24T08:11:47.310Z"
   },
   {
    "duration": 32,
    "start_time": "2023-03-24T08:11:48.419Z"
   },
   {
    "duration": 119,
    "start_time": "2023-03-24T08:11:49.206Z"
   },
   {
    "duration": 10,
    "start_time": "2023-03-24T08:12:01.662Z"
   },
   {
    "duration": 9,
    "start_time": "2023-03-24T08:12:10.163Z"
   },
   {
    "duration": 3,
    "start_time": "2023-03-24T08:12:45.049Z"
   },
   {
    "duration": 10,
    "start_time": "2023-03-24T08:12:54.439Z"
   },
   {
    "duration": 1481,
    "start_time": "2023-03-24T08:14:00.024Z"
   },
   {
    "duration": 778,
    "start_time": "2023-03-24T08:14:01.507Z"
   },
   {
    "duration": 5,
    "start_time": "2023-03-24T08:14:02.286Z"
   },
   {
    "duration": 326,
    "start_time": "2023-03-24T08:14:02.293Z"
   },
   {
    "duration": 187,
    "start_time": "2023-03-24T08:14:02.623Z"
   },
   {
    "duration": 286,
    "start_time": "2023-03-24T08:14:02.812Z"
   },
   {
    "duration": 6,
    "start_time": "2023-03-24T08:14:03.100Z"
   },
   {
    "duration": 6,
    "start_time": "2023-03-24T08:14:03.107Z"
   },
   {
    "duration": 71,
    "start_time": "2023-03-24T08:14:03.115Z"
   },
   {
    "duration": 7,
    "start_time": "2023-03-24T08:14:03.188Z"
   },
   {
    "duration": 6,
    "start_time": "2023-03-24T08:14:03.197Z"
   },
   {
    "duration": 61,
    "start_time": "2023-03-24T08:14:03.206Z"
   },
   {
    "duration": 3634,
    "start_time": "2023-03-24T08:14:03.269Z"
   },
   {
    "duration": 6,
    "start_time": "2023-03-24T08:14:06.906Z"
   },
   {
    "duration": 81,
    "start_time": "2023-03-24T08:14:06.914Z"
   },
   {
    "duration": 29,
    "start_time": "2023-03-24T08:14:06.997Z"
   },
   {
    "duration": 4,
    "start_time": "2023-03-24T08:14:17.077Z"
   },
   {
    "duration": 26,
    "start_time": "2023-03-24T08:14:18.273Z"
   },
   {
    "duration": 126,
    "start_time": "2023-03-24T08:14:18.994Z"
   },
   {
    "duration": 14,
    "start_time": "2023-03-24T08:16:14.204Z"
   },
   {
    "duration": 1563,
    "start_time": "2023-03-24T08:16:33.973Z"
   },
   {
    "duration": 787,
    "start_time": "2023-03-24T08:16:35.538Z"
   },
   {
    "duration": 5,
    "start_time": "2023-03-24T08:16:36.326Z"
   },
   {
    "duration": 314,
    "start_time": "2023-03-24T08:16:36.334Z"
   },
   {
    "duration": 130,
    "start_time": "2023-03-24T08:16:36.650Z"
   },
   {
    "duration": 258,
    "start_time": "2023-03-24T08:16:36.783Z"
   },
   {
    "duration": 24,
    "start_time": "2023-03-24T08:16:37.043Z"
   },
   {
    "duration": 5,
    "start_time": "2023-03-24T08:16:37.077Z"
   },
   {
    "duration": 26,
    "start_time": "2023-03-24T08:16:37.084Z"
   },
   {
    "duration": 7,
    "start_time": "2023-03-24T08:16:37.112Z"
   },
   {
    "duration": 45,
    "start_time": "2023-03-24T08:16:37.120Z"
   },
   {
    "duration": 13,
    "start_time": "2023-03-24T08:16:37.168Z"
   },
   {
    "duration": 3317,
    "start_time": "2023-03-24T08:16:37.183Z"
   },
   {
    "duration": 4,
    "start_time": "2023-03-24T08:16:40.501Z"
   },
   {
    "duration": 77,
    "start_time": "2023-03-24T08:16:40.507Z"
   },
   {
    "duration": 21,
    "start_time": "2023-03-24T08:16:40.586Z"
   },
   {
    "duration": 4,
    "start_time": "2023-03-24T08:16:48.677Z"
   },
   {
    "duration": 150,
    "start_time": "2023-03-24T08:16:51.783Z"
   },
   {
    "duration": 88,
    "start_time": "2023-03-24T08:17:28.804Z"
   },
   {
    "duration": 23,
    "start_time": "2023-03-24T08:18:15.556Z"
   },
   {
    "duration": 9,
    "start_time": "2023-03-24T08:18:16.378Z"
   },
   {
    "duration": 15,
    "start_time": "2023-03-24T08:18:31.694Z"
   },
   {
    "duration": 1506,
    "start_time": "2023-03-24T08:20:46.009Z"
   },
   {
    "duration": 817,
    "start_time": "2023-03-24T08:20:47.518Z"
   },
   {
    "duration": 6,
    "start_time": "2023-03-24T08:20:48.337Z"
   },
   {
    "duration": 367,
    "start_time": "2023-03-24T08:20:48.346Z"
   },
   {
    "duration": 118,
    "start_time": "2023-03-24T08:20:48.715Z"
   },
   {
    "duration": 254,
    "start_time": "2023-03-24T08:20:48.835Z"
   },
   {
    "duration": 5,
    "start_time": "2023-03-24T08:20:49.090Z"
   },
   {
    "duration": 7,
    "start_time": "2023-03-24T08:20:49.097Z"
   },
   {
    "duration": 24,
    "start_time": "2023-03-24T08:20:49.106Z"
   },
   {
    "duration": 11,
    "start_time": "2023-03-24T08:20:49.163Z"
   },
   {
    "duration": 6,
    "start_time": "2023-03-24T08:20:49.177Z"
   },
   {
    "duration": 7,
    "start_time": "2023-03-24T08:20:49.185Z"
   },
   {
    "duration": 3259,
    "start_time": "2023-03-24T08:20:49.193Z"
   },
   {
    "duration": 22,
    "start_time": "2023-03-24T08:20:52.454Z"
   },
   {
    "duration": 39,
    "start_time": "2023-03-24T08:20:52.477Z"
   },
   {
    "duration": 18,
    "start_time": "2023-03-24T08:20:52.518Z"
   },
   {
    "duration": 103,
    "start_time": "2023-03-24T08:22:42.477Z"
   },
   {
    "duration": 11,
    "start_time": "2023-03-24T08:23:05.499Z"
   },
   {
    "duration": 121,
    "start_time": "2023-03-24T08:23:39.943Z"
   },
   {
    "duration": 4,
    "start_time": "2023-03-24T08:23:45.238Z"
   },
   {
    "duration": 25,
    "start_time": "2023-03-24T08:23:48.317Z"
   },
   {
    "duration": 9,
    "start_time": "2023-03-24T08:23:56.179Z"
   },
   {
    "duration": 1494,
    "start_time": "2023-03-24T08:24:45.903Z"
   },
   {
    "duration": 777,
    "start_time": "2023-03-24T08:24:47.400Z"
   },
   {
    "duration": 5,
    "start_time": "2023-03-24T08:24:48.179Z"
   },
   {
    "duration": 308,
    "start_time": "2023-03-24T08:24:48.186Z"
   },
   {
    "duration": 135,
    "start_time": "2023-03-24T08:24:48.497Z"
   },
   {
    "duration": 289,
    "start_time": "2023-03-24T08:24:48.634Z"
   },
   {
    "duration": 7,
    "start_time": "2023-03-24T08:24:48.925Z"
   },
   {
    "duration": 30,
    "start_time": "2023-03-24T08:24:48.934Z"
   },
   {
    "duration": 27,
    "start_time": "2023-03-24T08:24:48.972Z"
   },
   {
    "duration": 6,
    "start_time": "2023-03-24T08:24:49.001Z"
   },
   {
    "duration": 4,
    "start_time": "2023-03-24T08:24:49.008Z"
   },
   {
    "duration": 11,
    "start_time": "2023-03-24T08:24:49.013Z"
   },
   {
    "duration": 3380,
    "start_time": "2023-03-24T08:24:49.025Z"
   },
   {
    "duration": 4,
    "start_time": "2023-03-24T08:24:52.407Z"
   },
   {
    "duration": 83,
    "start_time": "2023-03-24T08:24:52.412Z"
   },
   {
    "duration": 20,
    "start_time": "2023-03-24T08:24:52.498Z"
   },
   {
    "duration": 4,
    "start_time": "2023-03-24T08:25:10.744Z"
   },
   {
    "duration": 37,
    "start_time": "2023-03-24T08:25:20.734Z"
   },
   {
    "duration": 60,
    "start_time": "2023-03-24T08:25:26.769Z"
   },
   {
    "duration": 5,
    "start_time": "2023-03-24T08:25:35.798Z"
   },
   {
    "duration": 1611,
    "start_time": "2023-03-24T08:31:57.403Z"
   },
   {
    "duration": 804,
    "start_time": "2023-03-24T08:31:59.016Z"
   },
   {
    "duration": 4,
    "start_time": "2023-03-24T08:31:59.822Z"
   },
   {
    "duration": 348,
    "start_time": "2023-03-24T08:31:59.828Z"
   },
   {
    "duration": 120,
    "start_time": "2023-03-24T08:32:00.178Z"
   },
   {
    "duration": 258,
    "start_time": "2023-03-24T08:32:00.299Z"
   },
   {
    "duration": 17,
    "start_time": "2023-03-24T08:32:00.563Z"
   },
   {
    "duration": 23,
    "start_time": "2023-03-24T08:32:00.582Z"
   },
   {
    "duration": 86,
    "start_time": "2023-03-24T08:32:00.607Z"
   },
   {
    "duration": 32,
    "start_time": "2023-03-24T08:32:00.697Z"
   },
   {
    "duration": 29,
    "start_time": "2023-03-24T08:32:00.731Z"
   },
   {
    "duration": 27,
    "start_time": "2023-03-24T08:32:00.764Z"
   },
   {
    "duration": 3420,
    "start_time": "2023-03-24T08:32:00.793Z"
   },
   {
    "duration": 6,
    "start_time": "2023-03-24T08:32:04.216Z"
   },
   {
    "duration": 88,
    "start_time": "2023-03-24T08:32:04.224Z"
   },
   {
    "duration": 54,
    "start_time": "2023-03-24T08:32:04.314Z"
   },
   {
    "duration": 6,
    "start_time": "2023-03-24T08:32:04.376Z"
   },
   {
    "duration": 16,
    "start_time": "2023-03-24T08:32:04.385Z"
   },
   {
    "duration": 3,
    "start_time": "2023-03-24T08:32:04.403Z"
   },
   {
    "duration": 5,
    "start_time": "2023-03-24T08:32:04.409Z"
   },
   {
    "duration": 1294,
    "start_time": "2023-03-24T08:32:04.416Z"
   },
   {
    "duration": 1989,
    "start_time": "2023-03-24T08:32:05.712Z"
   },
   {
    "duration": 5,
    "start_time": "2023-03-24T08:32:07.703Z"
   },
   {
    "duration": 55,
    "start_time": "2023-03-24T08:32:07.709Z"
   },
   {
    "duration": 7,
    "start_time": "2023-03-24T08:32:07.766Z"
   },
   {
    "duration": 15,
    "start_time": "2023-03-24T08:32:07.774Z"
   },
   {
    "duration": 17,
    "start_time": "2023-03-24T08:32:07.791Z"
   },
   {
    "duration": 5,
    "start_time": "2023-03-24T08:32:07.813Z"
   },
   {
    "duration": 13,
    "start_time": "2023-03-24T08:32:07.820Z"
   },
   {
    "duration": 8,
    "start_time": "2023-03-24T08:32:07.867Z"
   },
   {
    "duration": 23,
    "start_time": "2023-03-24T08:32:07.878Z"
   },
   {
    "duration": 3,
    "start_time": "2023-03-24T08:32:07.903Z"
   },
   {
    "duration": 70651,
    "start_time": "2023-03-24T08:32:07.907Z"
   },
   {
    "duration": 12038,
    "start_time": "2023-03-24T08:33:18.560Z"
   },
   {
    "duration": 2276,
    "start_time": "2023-03-24T08:33:30.600Z"
   },
   {
    "duration": 90,
    "start_time": "2023-03-24T08:33:32.879Z"
   },
   {
    "duration": 8,
    "start_time": "2023-03-24T08:33:32.971Z"
   },
   {
    "duration": 117,
    "start_time": "2023-03-24T08:42:14.378Z"
   },
   {
    "duration": 4,
    "start_time": "2023-03-24T08:42:22.679Z"
   },
   {
    "duration": 15,
    "start_time": "2023-03-24T08:42:27.237Z"
   },
   {
    "duration": 20,
    "start_time": "2023-03-24T08:44:13.297Z"
   },
   {
    "duration": 14,
    "start_time": "2023-03-24T08:44:17.257Z"
   },
   {
    "duration": 892,
    "start_time": "2023-03-24T08:45:59.752Z"
   },
   {
    "duration": 1467,
    "start_time": "2023-03-24T08:47:26.516Z"
   },
   {
    "duration": 766,
    "start_time": "2023-03-24T08:47:27.985Z"
   },
   {
    "duration": 15,
    "start_time": "2023-03-24T08:47:28.753Z"
   },
   {
    "duration": 312,
    "start_time": "2023-03-24T08:47:28.770Z"
   },
   {
    "duration": 114,
    "start_time": "2023-03-24T08:47:29.084Z"
   },
   {
    "duration": 240,
    "start_time": "2023-03-24T08:47:29.200Z"
   },
   {
    "duration": 6,
    "start_time": "2023-03-24T08:47:29.442Z"
   },
   {
    "duration": 10,
    "start_time": "2023-03-24T08:47:29.468Z"
   },
   {
    "duration": 29,
    "start_time": "2023-03-24T08:47:29.480Z"
   },
   {
    "duration": 14,
    "start_time": "2023-03-24T08:47:29.510Z"
   },
   {
    "duration": 22,
    "start_time": "2023-03-24T08:47:29.525Z"
   },
   {
    "duration": 23,
    "start_time": "2023-03-24T08:47:29.550Z"
   },
   {
    "duration": 3454,
    "start_time": "2023-03-24T08:47:29.574Z"
   },
   {
    "duration": 4,
    "start_time": "2023-03-24T08:47:33.031Z"
   },
   {
    "duration": 64,
    "start_time": "2023-03-24T08:47:33.037Z"
   },
   {
    "duration": 21,
    "start_time": "2023-03-24T08:47:33.103Z"
   },
   {
    "duration": 41,
    "start_time": "2023-03-24T08:47:33.126Z"
   },
   {
    "duration": 12,
    "start_time": "2023-03-24T08:47:33.177Z"
   },
   {
    "duration": 927,
    "start_time": "2023-03-24T08:47:44.585Z"
   },
   {
    "duration": 38,
    "start_time": "2023-03-24T08:48:35.552Z"
   },
   {
    "duration": 51,
    "start_time": "2023-03-24T08:49:24.361Z"
   },
   {
    "duration": 1711,
    "start_time": "2023-03-24T08:53:53.456Z"
   },
   {
    "duration": 833,
    "start_time": "2023-03-24T08:53:55.169Z"
   },
   {
    "duration": 6,
    "start_time": "2023-03-24T08:53:56.007Z"
   },
   {
    "duration": 402,
    "start_time": "2023-03-24T08:53:56.016Z"
   },
   {
    "duration": 162,
    "start_time": "2023-03-24T08:53:56.421Z"
   },
   {
    "duration": 314,
    "start_time": "2023-03-24T08:53:56.585Z"
   },
   {
    "duration": 6,
    "start_time": "2023-03-24T08:53:56.901Z"
   },
   {
    "duration": 6,
    "start_time": "2023-03-24T08:53:56.909Z"
   },
   {
    "duration": 64,
    "start_time": "2023-03-24T08:53:56.917Z"
   },
   {
    "duration": 7,
    "start_time": "2023-03-24T08:53:56.984Z"
   },
   {
    "duration": 5,
    "start_time": "2023-03-24T08:53:56.994Z"
   },
   {
    "duration": 8,
    "start_time": "2023-03-24T08:53:57.001Z"
   },
   {
    "duration": 3354,
    "start_time": "2023-03-24T08:53:57.013Z"
   },
   {
    "duration": 55,
    "start_time": "2023-03-24T08:54:00.370Z"
   },
   {
    "duration": 36,
    "start_time": "2023-03-24T08:54:00.427Z"
   },
   {
    "duration": 98,
    "start_time": "2023-03-24T08:54:00.466Z"
   },
   {
    "duration": 1343,
    "start_time": "2023-03-24T08:54:00.566Z"
   },
   {
    "duration": 1855,
    "start_time": "2023-03-24T08:54:01.911Z"
   },
   {
    "duration": 4,
    "start_time": "2023-03-24T08:54:03.768Z"
   },
   {
    "duration": 31,
    "start_time": "2023-03-24T08:54:03.773Z"
   },
   {
    "duration": 4,
    "start_time": "2023-03-24T08:54:03.806Z"
   },
   {
    "duration": 7,
    "start_time": "2023-03-24T08:54:03.813Z"
   },
   {
    "duration": 16,
    "start_time": "2023-03-24T08:54:03.861Z"
   },
   {
    "duration": 5,
    "start_time": "2023-03-24T08:54:03.879Z"
   },
   {
    "duration": 22,
    "start_time": "2023-03-24T08:54:03.886Z"
   },
   {
    "duration": 6,
    "start_time": "2023-03-24T08:54:03.911Z"
   },
   {
    "duration": 65,
    "start_time": "2023-03-24T08:54:03.919Z"
   },
   {
    "duration": 3,
    "start_time": "2023-03-24T08:54:03.986Z"
   },
   {
    "duration": 65875,
    "start_time": "2023-03-24T08:54:03.991Z"
   },
   {
    "duration": 10813,
    "start_time": "2023-03-24T08:55:09.867Z"
   },
   {
    "duration": 991,
    "start_time": "2023-03-24T08:55:20.682Z"
   },
   {
    "duration": 97,
    "start_time": "2023-03-24T08:55:21.675Z"
   },
   {
    "duration": 89,
    "start_time": "2023-03-24T08:55:21.775Z"
   },
   {
    "duration": 929,
    "start_time": "2023-03-24T09:03:04.953Z"
   },
   {
    "duration": 856,
    "start_time": "2023-03-24T09:03:51.578Z"
   },
   {
    "duration": 852,
    "start_time": "2023-03-24T09:04:10.050Z"
   },
   {
    "duration": 17,
    "start_time": "2023-03-24T09:04:43.376Z"
   },
   {
    "duration": 9,
    "start_time": "2023-03-24T09:05:40.618Z"
   },
   {
    "duration": 10,
    "start_time": "2023-03-24T09:06:17.719Z"
   },
   {
    "duration": 8,
    "start_time": "2023-03-24T09:07:58.538Z"
   },
   {
    "duration": 19,
    "start_time": "2023-03-24T09:09:09.253Z"
   },
   {
    "duration": 14,
    "start_time": "2023-03-24T09:09:27.046Z"
   },
   {
    "duration": 5,
    "start_time": "2023-03-24T09:10:55.511Z"
   },
   {
    "duration": 8,
    "start_time": "2023-03-24T09:12:31.238Z"
   },
   {
    "duration": 4,
    "start_time": "2023-03-24T09:12:37.921Z"
   },
   {
    "duration": 6,
    "start_time": "2023-03-24T09:13:47.488Z"
   },
   {
    "duration": 5,
    "start_time": "2023-03-24T09:13:51.230Z"
   },
   {
    "duration": 34,
    "start_time": "2023-03-24T09:15:26.023Z"
   },
   {
    "duration": 1575,
    "start_time": "2023-03-24T09:15:40.994Z"
   },
   {
    "duration": 805,
    "start_time": "2023-03-24T09:15:42.572Z"
   },
   {
    "duration": 6,
    "start_time": "2023-03-24T09:15:43.379Z"
   },
   {
    "duration": 341,
    "start_time": "2023-03-24T09:15:43.387Z"
   },
   {
    "duration": 132,
    "start_time": "2023-03-24T09:15:43.731Z"
   },
   {
    "duration": 337,
    "start_time": "2023-03-24T09:15:43.866Z"
   },
   {
    "duration": 6,
    "start_time": "2023-03-24T09:15:44.205Z"
   },
   {
    "duration": 6,
    "start_time": "2023-03-24T09:15:44.214Z"
   },
   {
    "duration": 63,
    "start_time": "2023-03-24T09:15:44.222Z"
   },
   {
    "duration": 7,
    "start_time": "2023-03-24T09:15:44.288Z"
   },
   {
    "duration": 8,
    "start_time": "2023-03-24T09:15:44.298Z"
   },
   {
    "duration": 58,
    "start_time": "2023-03-24T09:15:44.308Z"
   },
   {
    "duration": 3428,
    "start_time": "2023-03-24T09:15:44.369Z"
   },
   {
    "duration": 89,
    "start_time": "2023-03-24T09:15:47.801Z"
   },
   {
    "duration": 6,
    "start_time": "2023-03-24T09:15:47.892Z"
   },
   {
    "duration": 89,
    "start_time": "2023-03-24T09:15:47.900Z"
   },
   {
    "duration": 6,
    "start_time": "2023-03-24T09:15:47.991Z"
   },
   {
    "duration": 70,
    "start_time": "2023-03-24T09:16:17.071Z"
   },
   {
    "duration": 5,
    "start_time": "2023-03-24T09:17:01.621Z"
   },
   {
    "duration": 4,
    "start_time": "2023-03-24T09:17:05.807Z"
   },
   {
    "duration": 1255,
    "start_time": "2023-03-24T09:17:13.950Z"
   },
   {
    "duration": 1839,
    "start_time": "2023-03-24T09:17:15.207Z"
   },
   {
    "duration": 4,
    "start_time": "2023-03-24T09:17:17.048Z"
   },
   {
    "duration": 29,
    "start_time": "2023-03-24T09:17:17.061Z"
   },
   {
    "duration": 4,
    "start_time": "2023-03-24T09:17:17.092Z"
   },
   {
    "duration": 10,
    "start_time": "2023-03-24T09:17:17.098Z"
   },
   {
    "duration": 15,
    "start_time": "2023-03-24T09:17:17.109Z"
   },
   {
    "duration": 45,
    "start_time": "2023-03-24T09:17:17.126Z"
   },
   {
    "duration": 16,
    "start_time": "2023-03-24T09:17:17.174Z"
   },
   {
    "duration": 6,
    "start_time": "2023-03-24T09:17:17.194Z"
   },
   {
    "duration": 20,
    "start_time": "2023-03-24T09:17:17.202Z"
   },
   {
    "duration": 3,
    "start_time": "2023-03-24T09:17:17.225Z"
   },
   {
    "duration": 67122,
    "start_time": "2023-03-24T09:17:17.229Z"
   },
   {
    "duration": 11862,
    "start_time": "2023-03-24T09:18:24.353Z"
   },
   {
    "duration": 3449,
    "start_time": "2023-03-24T09:18:36.217Z"
   },
   {
    "duration": 14,
    "start_time": "2023-03-24T09:18:39.667Z"
   },
   {
    "duration": 9,
    "start_time": "2023-03-24T09:18:39.683Z"
   },
   {
    "duration": 87,
    "start_time": "2023-03-24T09:23:04.341Z"
   },
   {
    "duration": 128,
    "start_time": "2023-03-24T09:23:14.866Z"
   },
   {
    "duration": 4,
    "start_time": "2023-03-24T09:23:33.538Z"
   },
   {
    "duration": 52,
    "start_time": "2023-03-24T09:23:34.790Z"
   },
   {
    "duration": 47,
    "start_time": "2023-03-24T09:24:13.218Z"
   },
   {
    "duration": 43,
    "start_time": "2023-03-24T09:24:53.954Z"
   },
   {
    "duration": 4,
    "start_time": "2023-03-24T09:26:16.786Z"
   },
   {
    "duration": 30,
    "start_time": "2023-03-24T09:26:21.282Z"
   },
   {
    "duration": 8,
    "start_time": "2023-03-24T09:29:29.199Z"
   },
   {
    "duration": 5,
    "start_time": "2023-03-24T09:29:41.791Z"
   },
   {
    "duration": 31,
    "start_time": "2023-03-24T09:29:43.149Z"
   },
   {
    "duration": 15,
    "start_time": "2023-03-24T09:29:53.549Z"
   },
   {
    "duration": 6,
    "start_time": "2023-03-24T09:30:14.236Z"
   },
   {
    "duration": 43,
    "start_time": "2023-03-24T09:30:15.490Z"
   },
   {
    "duration": 4,
    "start_time": "2023-03-24T09:30:46.945Z"
   },
   {
    "duration": 1009,
    "start_time": "2023-03-24T09:30:48.719Z"
   },
   {
    "duration": 26,
    "start_time": "2023-03-24T09:31:10.806Z"
   },
   {
    "duration": 15,
    "start_time": "2023-03-24T09:31:22.343Z"
   },
   {
    "duration": 4,
    "start_time": "2023-03-24T09:31:26.440Z"
   },
   {
    "duration": 35,
    "start_time": "2023-03-24T09:31:27.109Z"
   },
   {
    "duration": 21,
    "start_time": "2023-03-24T09:37:02.149Z"
   },
   {
    "duration": 177,
    "start_time": "2023-03-24T09:37:27.716Z"
   },
   {
    "duration": 17,
    "start_time": "2023-03-24T09:38:05.852Z"
   },
   {
    "duration": 142,
    "start_time": "2023-03-24T09:38:53.508Z"
   },
   {
    "duration": 272,
    "start_time": "2023-03-24T09:39:20.879Z"
   },
   {
    "duration": 4,
    "start_time": "2023-03-24T09:40:46.082Z"
   },
   {
    "duration": 3433,
    "start_time": "2023-03-24T09:42:12.501Z"
   },
   {
    "duration": 1505,
    "start_time": "2023-03-24T10:55:16.382Z"
   },
   {
    "duration": 821,
    "start_time": "2023-03-24T10:55:17.889Z"
   },
   {
    "duration": 5,
    "start_time": "2023-03-24T10:55:18.712Z"
   },
   {
    "duration": 364,
    "start_time": "2023-03-24T10:55:18.719Z"
   },
   {
    "duration": 131,
    "start_time": "2023-03-24T10:55:19.085Z"
   },
   {
    "duration": 263,
    "start_time": "2023-03-24T10:55:19.218Z"
   },
   {
    "duration": 7,
    "start_time": "2023-03-24T10:55:19.483Z"
   },
   {
    "duration": 5,
    "start_time": "2023-03-24T10:55:19.493Z"
   },
   {
    "duration": 80,
    "start_time": "2023-03-24T10:55:19.501Z"
   },
   {
    "duration": 8,
    "start_time": "2023-03-24T10:55:19.585Z"
   },
   {
    "duration": 5,
    "start_time": "2023-03-24T10:55:19.595Z"
   },
   {
    "duration": 10,
    "start_time": "2023-03-24T10:55:19.602Z"
   },
   {
    "duration": 3479,
    "start_time": "2023-03-24T10:55:19.614Z"
   },
   {
    "duration": 41,
    "start_time": "2023-03-24T10:55:23.096Z"
   },
   {
    "duration": 5,
    "start_time": "2023-03-24T10:55:23.164Z"
   },
   {
    "duration": 56,
    "start_time": "2023-03-24T10:55:23.174Z"
   },
   {
    "duration": 41,
    "start_time": "2023-03-24T10:55:23.233Z"
   },
   {
    "duration": 1353,
    "start_time": "2023-03-24T10:55:23.282Z"
   },
   {
    "duration": 1990,
    "start_time": "2023-03-24T10:55:24.637Z"
   },
   {
    "duration": 3,
    "start_time": "2023-03-24T10:55:26.630Z"
   },
   {
    "duration": 30,
    "start_time": "2023-03-24T10:55:26.635Z"
   },
   {
    "duration": 11,
    "start_time": "2023-03-24T10:55:26.667Z"
   },
   {
    "duration": 4,
    "start_time": "2023-03-24T10:55:26.682Z"
   },
   {
    "duration": 6,
    "start_time": "2023-03-24T10:55:26.688Z"
   },
   {
    "duration": 8,
    "start_time": "2023-03-24T10:55:26.697Z"
   },
   {
    "duration": 24,
    "start_time": "2023-03-24T10:55:26.707Z"
   },
   {
    "duration": 9,
    "start_time": "2023-03-24T10:55:26.762Z"
   },
   {
    "duration": 10,
    "start_time": "2023-03-24T10:55:26.778Z"
   },
   {
    "duration": 6,
    "start_time": "2023-03-24T10:55:26.790Z"
   },
   {
    "duration": 65,
    "start_time": "2023-03-24T10:55:26.798Z"
   },
   {
    "duration": 5,
    "start_time": "2023-03-24T10:55:26.869Z"
   },
   {
    "duration": 71856,
    "start_time": "2023-03-24T10:55:26.877Z"
   },
   {
    "duration": 11886,
    "start_time": "2023-03-24T10:56:38.735Z"
   },
   {
    "duration": 2951,
    "start_time": "2023-03-24T10:56:50.623Z"
   },
   {
    "duration": 283,
    "start_time": "2023-03-24T10:56:53.581Z"
   },
   {
    "duration": 0,
    "start_time": "2023-03-24T10:56:53.866Z"
   },
   {
    "duration": 16,
    "start_time": "2023-03-24T10:57:44.209Z"
   },
   {
    "duration": 7,
    "start_time": "2023-03-24T10:58:07.028Z"
   },
   {
    "duration": 858,
    "start_time": "2023-03-24T11:01:30.951Z"
   },
   {
    "duration": 403,
    "start_time": "2023-03-24T11:02:11.389Z"
   },
   {
    "duration": 406,
    "start_time": "2023-03-24T11:02:35.192Z"
   },
   {
    "duration": 22,
    "start_time": "2023-03-24T11:08:41.128Z"
   },
   {
    "duration": 16,
    "start_time": "2023-03-24T11:09:02.378Z"
   },
   {
    "duration": 6,
    "start_time": "2023-03-24T11:29:04.894Z"
   },
   {
    "duration": 3645,
    "start_time": "2023-03-24T11:29:47.318Z"
   },
   {
    "duration": 10349,
    "start_time": "2023-03-24T11:31:47.652Z"
   },
   {
    "duration": 10099,
    "start_time": "2023-03-24T11:33:00.241Z"
   },
   {
    "duration": 88944,
    "start_time": "2023-03-24T11:39:03.591Z"
   },
   {
    "duration": 89049,
    "start_time": "2023-03-24T11:41:59.488Z"
   },
   {
    "duration": 1447,
    "start_time": "2023-03-24T11:49:51.822Z"
   },
   {
    "duration": 1576,
    "start_time": "2023-03-24T11:49:57.189Z"
   },
   {
    "duration": 35,
    "start_time": "2023-03-24T11:52:00.897Z"
   },
   {
    "duration": 34,
    "start_time": "2023-03-24T11:52:40.874Z"
   },
   {
    "duration": 42,
    "start_time": "2023-03-24T11:53:39.386Z"
   },
   {
    "duration": 24,
    "start_time": "2023-03-24T11:55:14.742Z"
   },
   {
    "duration": 1536,
    "start_time": "2023-03-24T11:55:35.330Z"
   },
   {
    "duration": 799,
    "start_time": "2023-03-24T11:55:36.868Z"
   },
   {
    "duration": 6,
    "start_time": "2023-03-24T11:55:37.669Z"
   },
   {
    "duration": 304,
    "start_time": "2023-03-24T11:55:37.676Z"
   },
   {
    "duration": 122,
    "start_time": "2023-03-24T11:55:37.982Z"
   },
   {
    "duration": 256,
    "start_time": "2023-03-24T11:55:38.106Z"
   },
   {
    "duration": 5,
    "start_time": "2023-03-24T11:55:38.364Z"
   },
   {
    "duration": 18,
    "start_time": "2023-03-24T11:55:38.371Z"
   },
   {
    "duration": 34,
    "start_time": "2023-03-24T11:55:38.390Z"
   },
   {
    "duration": 37,
    "start_time": "2023-03-24T11:55:38.427Z"
   },
   {
    "duration": 5,
    "start_time": "2023-03-24T11:55:38.466Z"
   },
   {
    "duration": 11,
    "start_time": "2023-03-24T11:55:38.473Z"
   },
   {
    "duration": 3271,
    "start_time": "2023-03-24T11:55:38.486Z"
   },
   {
    "duration": 40,
    "start_time": "2023-03-24T11:55:41.761Z"
   },
   {
    "duration": 5,
    "start_time": "2023-03-24T11:55:41.804Z"
   },
   {
    "duration": 114,
    "start_time": "2023-03-24T11:55:41.811Z"
   },
   {
    "duration": 8,
    "start_time": "2023-03-24T11:55:41.926Z"
   },
   {
    "duration": 1264,
    "start_time": "2023-03-24T11:55:41.936Z"
   },
   {
    "duration": 1895,
    "start_time": "2023-03-24T11:55:43.203Z"
   },
   {
    "duration": 3,
    "start_time": "2023-03-24T11:55:45.101Z"
   },
   {
    "duration": 6,
    "start_time": "2023-03-24T11:55:45.107Z"
   },
   {
    "duration": 6,
    "start_time": "2023-03-24T11:55:45.115Z"
   },
   {
    "duration": 4,
    "start_time": "2023-03-24T11:55:45.123Z"
   },
   {
    "duration": 35,
    "start_time": "2023-03-24T11:55:45.129Z"
   },
   {
    "duration": 10,
    "start_time": "2023-03-24T11:55:45.166Z"
   },
   {
    "duration": 17,
    "start_time": "2023-03-24T11:55:45.177Z"
   },
   {
    "duration": 8,
    "start_time": "2023-03-24T11:55:45.196Z"
   },
   {
    "duration": 56,
    "start_time": "2023-03-24T11:55:45.206Z"
   },
   {
    "duration": 6,
    "start_time": "2023-03-24T11:56:31.082Z"
   },
   {
    "duration": 23,
    "start_time": "2023-03-24T11:56:32.756Z"
   },
   {
    "duration": 3,
    "start_time": "2023-03-24T11:56:34.298Z"
   },
   {
    "duration": 125887,
    "start_time": "2023-03-24T12:46:06.061Z"
   },
   {
    "duration": 8,
    "start_time": "2023-03-24T12:48:52.537Z"
   },
   {
    "duration": 11,
    "start_time": "2023-03-24T12:50:58.776Z"
   },
   {
    "duration": 124300,
    "start_time": "2023-03-24T12:52:02.248Z"
   },
   {
    "duration": 12,
    "start_time": "2023-03-24T13:00:07.794Z"
   },
   {
    "duration": 147,
    "start_time": "2023-03-24T13:06:37.350Z"
   },
   {
    "duration": 2469,
    "start_time": "2023-03-24T13:07:54.744Z"
   },
   {
    "duration": 1040,
    "start_time": "2023-03-24T13:07:57.215Z"
   },
   {
    "duration": 12,
    "start_time": "2023-03-24T13:07:58.256Z"
   },
   {
    "duration": 327,
    "start_time": "2023-03-24T13:07:58.273Z"
   },
   {
    "duration": 114,
    "start_time": "2023-03-24T13:07:58.602Z"
   },
   {
    "duration": 280,
    "start_time": "2023-03-24T13:07:58.718Z"
   },
   {
    "duration": 8,
    "start_time": "2023-03-24T13:07:59.000Z"
   },
   {
    "duration": 11,
    "start_time": "2023-03-24T13:07:59.010Z"
   },
   {
    "duration": 66,
    "start_time": "2023-03-24T13:07:59.023Z"
   },
   {
    "duration": 6,
    "start_time": "2023-03-24T13:07:59.092Z"
   },
   {
    "duration": 6,
    "start_time": "2023-03-24T13:07:59.100Z"
   },
   {
    "duration": 9,
    "start_time": "2023-03-24T13:07:59.108Z"
   },
   {
    "duration": 3352,
    "start_time": "2023-03-24T13:07:59.119Z"
   },
   {
    "duration": 41,
    "start_time": "2023-03-24T13:08:02.475Z"
   },
   {
    "duration": 4,
    "start_time": "2023-03-24T13:08:02.518Z"
   },
   {
    "duration": 107,
    "start_time": "2023-03-24T13:08:02.523Z"
   },
   {
    "duration": 6,
    "start_time": "2023-03-24T13:08:02.633Z"
   },
   {
    "duration": 1137,
    "start_time": "2023-03-24T13:08:02.640Z"
   },
   {
    "duration": 1989,
    "start_time": "2023-03-24T13:08:03.780Z"
   },
   {
    "duration": 9,
    "start_time": "2023-03-24T13:08:05.776Z"
   },
   {
    "duration": 20,
    "start_time": "2023-03-24T13:08:05.787Z"
   },
   {
    "duration": 16,
    "start_time": "2023-03-24T13:08:05.809Z"
   },
   {
    "duration": 12,
    "start_time": "2023-03-24T13:08:05.827Z"
   },
   {
    "duration": 9,
    "start_time": "2023-03-24T13:08:05.841Z"
   },
   {
    "duration": 25,
    "start_time": "2023-03-24T13:08:05.851Z"
   },
   {
    "duration": 16,
    "start_time": "2023-03-24T13:08:05.880Z"
   },
   {
    "duration": 21,
    "start_time": "2023-03-24T13:08:05.897Z"
   },
   {
    "duration": 19,
    "start_time": "2023-03-24T13:08:05.922Z"
   },
   {
    "duration": 12,
    "start_time": "2023-03-24T13:08:05.943Z"
   },
   {
    "duration": 29,
    "start_time": "2023-03-24T13:08:05.957Z"
   },
   {
    "duration": 3,
    "start_time": "2023-03-24T13:08:05.988Z"
   },
   {
    "duration": 44908,
    "start_time": "2023-03-24T13:08:05.993Z"
   },
   {
    "duration": 0,
    "start_time": "2023-03-24T13:08:50.904Z"
   },
   {
    "duration": 0,
    "start_time": "2023-03-24T13:08:50.905Z"
   },
   {
    "duration": 0,
    "start_time": "2023-03-24T13:08:50.906Z"
   },
   {
    "duration": 0,
    "start_time": "2023-03-24T13:08:50.907Z"
   },
   {
    "duration": 0,
    "start_time": "2023-03-24T13:08:50.909Z"
   },
   {
    "duration": 0,
    "start_time": "2023-03-24T13:08:50.910Z"
   },
   {
    "duration": 0,
    "start_time": "2023-03-24T13:08:50.911Z"
   },
   {
    "duration": 0,
    "start_time": "2023-03-24T13:08:50.913Z"
   },
   {
    "duration": 1501,
    "start_time": "2023-03-24T13:10:04.335Z"
   },
   {
    "duration": 802,
    "start_time": "2023-03-24T13:10:05.838Z"
   },
   {
    "duration": 5,
    "start_time": "2023-03-24T13:10:06.642Z"
   },
   {
    "duration": 308,
    "start_time": "2023-03-24T13:10:06.664Z"
   },
   {
    "duration": 115,
    "start_time": "2023-03-24T13:10:06.974Z"
   },
   {
    "duration": 290,
    "start_time": "2023-03-24T13:10:07.091Z"
   },
   {
    "duration": 5,
    "start_time": "2023-03-24T13:10:07.382Z"
   },
   {
    "duration": 6,
    "start_time": "2023-03-24T13:10:07.389Z"
   },
   {
    "duration": 31,
    "start_time": "2023-03-24T13:10:07.397Z"
   },
   {
    "duration": 45,
    "start_time": "2023-03-24T13:10:07.430Z"
   },
   {
    "duration": 9,
    "start_time": "2023-03-24T13:10:07.477Z"
   },
   {
    "duration": 8,
    "start_time": "2023-03-24T13:10:07.488Z"
   },
   {
    "duration": 3241,
    "start_time": "2023-03-24T13:10:07.497Z"
   },
   {
    "duration": 47,
    "start_time": "2023-03-24T13:10:10.742Z"
   },
   {
    "duration": 4,
    "start_time": "2023-03-24T13:10:10.790Z"
   },
   {
    "duration": 112,
    "start_time": "2023-03-24T13:10:10.796Z"
   },
   {
    "duration": 9,
    "start_time": "2023-03-24T13:10:10.911Z"
   },
   {
    "duration": 1161,
    "start_time": "2023-03-24T13:10:10.922Z"
   },
   {
    "duration": 1841,
    "start_time": "2023-03-24T13:10:12.085Z"
   },
   {
    "duration": 3,
    "start_time": "2023-03-24T13:10:13.928Z"
   },
   {
    "duration": 26,
    "start_time": "2023-03-24T13:10:13.932Z"
   },
   {
    "duration": 11,
    "start_time": "2023-03-24T13:10:13.963Z"
   },
   {
    "duration": 8,
    "start_time": "2023-03-24T13:10:13.976Z"
   },
   {
    "duration": 8,
    "start_time": "2023-03-24T13:10:13.988Z"
   },
   {
    "duration": 8,
    "start_time": "2023-03-24T13:10:13.998Z"
   },
   {
    "duration": 24,
    "start_time": "2023-03-24T13:10:14.008Z"
   },
   {
    "duration": 45,
    "start_time": "2023-03-24T13:10:14.033Z"
   },
   {
    "duration": 11,
    "start_time": "2023-03-24T13:10:14.080Z"
   },
   {
    "duration": 6,
    "start_time": "2023-03-24T13:10:14.094Z"
   },
   {
    "duration": 30,
    "start_time": "2023-03-24T13:10:14.103Z"
   },
   {
    "duration": 29,
    "start_time": "2023-03-24T13:10:14.136Z"
   },
   {
    "duration": 125066,
    "start_time": "2023-03-24T13:10:14.166Z"
   },
   {
    "duration": 2,
    "start_time": "2023-03-24T13:12:19.234Z"
   },
   {
    "duration": 91373,
    "start_time": "2023-03-24T13:12:19.238Z"
   },
   {
    "duration": 94310,
    "start_time": "2023-03-24T13:13:50.613Z"
   },
   {
    "duration": 4661,
    "start_time": "2023-03-24T13:15:24.925Z"
   },
   {
    "duration": 2592,
    "start_time": "2023-03-24T13:15:29.589Z"
   },
   {
    "duration": 105,
    "start_time": "2023-03-24T13:15:32.190Z"
   },
   {
    "duration": 34,
    "start_time": "2023-03-24T13:15:32.297Z"
   },
   {
    "duration": 165,
    "start_time": "2023-03-24T13:15:32.333Z"
   },
   {
    "duration": 20,
    "start_time": "2023-03-24T13:17:25.810Z"
   },
   {
    "duration": 29,
    "start_time": "2023-03-24T13:17:40.644Z"
   },
   {
    "duration": 32,
    "start_time": "2023-03-24T13:18:40.345Z"
   },
   {
    "duration": 21,
    "start_time": "2023-03-24T13:18:56.197Z"
   },
   {
    "duration": 22,
    "start_time": "2023-03-24T13:19:43.693Z"
   },
   {
    "duration": 21,
    "start_time": "2023-03-24T13:21:53.681Z"
   },
   {
    "duration": 23,
    "start_time": "2023-03-24T13:23:11.151Z"
   },
   {
    "duration": 19,
    "start_time": "2023-03-24T13:24:39.975Z"
   },
   {
    "duration": 30,
    "start_time": "2023-03-24T13:26:01.373Z"
   },
   {
    "duration": 25,
    "start_time": "2023-03-24T13:26:46.499Z"
   },
   {
    "duration": 21,
    "start_time": "2023-03-24T13:27:19.290Z"
   },
   {
    "duration": 22,
    "start_time": "2023-03-24T13:28:12.848Z"
   },
   {
    "duration": 22,
    "start_time": "2023-03-24T13:28:26.378Z"
   },
   {
    "duration": 21,
    "start_time": "2023-03-24T13:29:00.580Z"
   },
   {
    "duration": 30,
    "start_time": "2023-03-24T13:29:34.940Z"
   },
   {
    "duration": 27,
    "start_time": "2023-03-24T13:30:52.464Z"
   },
   {
    "duration": 21,
    "start_time": "2023-03-24T13:31:07.097Z"
   },
   {
    "duration": 20,
    "start_time": "2023-03-24T13:31:26.339Z"
   },
   {
    "duration": 26,
    "start_time": "2023-03-24T13:31:57.748Z"
   },
   {
    "duration": 27,
    "start_time": "2023-03-24T13:32:34.046Z"
   },
   {
    "duration": 20,
    "start_time": "2023-03-24T13:33:46.413Z"
   },
   {
    "duration": 10,
    "start_time": "2023-03-24T13:34:13.875Z"
   },
   {
    "duration": 25,
    "start_time": "2023-03-24T13:34:19.947Z"
   },
   {
    "duration": 27,
    "start_time": "2023-03-24T13:34:53.673Z"
   },
   {
    "duration": 22,
    "start_time": "2023-03-24T13:38:23.309Z"
   },
   {
    "duration": 21,
    "start_time": "2023-03-24T13:38:33.638Z"
   },
   {
    "duration": 21,
    "start_time": "2023-03-24T13:38:56.701Z"
   },
   {
    "duration": 24,
    "start_time": "2023-03-24T13:39:11.273Z"
   },
   {
    "duration": 24,
    "start_time": "2023-03-24T13:39:46.841Z"
   },
   {
    "duration": 259,
    "start_time": "2023-03-24T13:40:11.184Z"
   },
   {
    "duration": 19,
    "start_time": "2023-03-24T13:41:11.878Z"
   },
   {
    "duration": 28,
    "start_time": "2023-03-24T13:51:15.557Z"
   },
   {
    "duration": 19,
    "start_time": "2023-03-24T13:52:48.432Z"
   },
   {
    "duration": 3,
    "start_time": "2023-03-24T13:57:12.516Z"
   },
   {
    "duration": 4,
    "start_time": "2023-03-24T13:57:14.358Z"
   },
   {
    "duration": 33,
    "start_time": "2023-03-24T13:57:21.841Z"
   },
   {
    "duration": 25,
    "start_time": "2023-03-24T13:58:04.503Z"
   },
   {
    "duration": 26,
    "start_time": "2023-03-24T13:58:36.731Z"
   },
   {
    "duration": 3031,
    "start_time": "2023-03-24T13:59:53.131Z"
   },
   {
    "duration": 2632,
    "start_time": "2023-03-24T14:00:22.033Z"
   },
   {
    "duration": 85884,
    "start_time": "2023-03-24T14:00:58.905Z"
   },
   {
    "duration": 12,
    "start_time": "2023-03-24T14:02:56.693Z"
   },
   {
    "duration": 1455,
    "start_time": "2023-03-24T14:10:04.373Z"
   },
   {
    "duration": 757,
    "start_time": "2023-03-24T14:10:05.830Z"
   },
   {
    "duration": 4,
    "start_time": "2023-03-24T14:10:06.589Z"
   },
   {
    "duration": 288,
    "start_time": "2023-03-24T14:10:06.595Z"
   },
   {
    "duration": 117,
    "start_time": "2023-03-24T14:10:06.885Z"
   },
   {
    "duration": 263,
    "start_time": "2023-03-24T14:10:07.003Z"
   },
   {
    "duration": 5,
    "start_time": "2023-03-24T14:10:07.268Z"
   },
   {
    "duration": 5,
    "start_time": "2023-03-24T14:10:07.276Z"
   },
   {
    "duration": 29,
    "start_time": "2023-03-24T14:10:07.283Z"
   },
   {
    "duration": 51,
    "start_time": "2023-03-24T14:10:07.314Z"
   },
   {
    "duration": 4,
    "start_time": "2023-03-24T14:10:07.367Z"
   },
   {
    "duration": 10,
    "start_time": "2023-03-24T14:10:07.372Z"
   },
   {
    "duration": 3000,
    "start_time": "2023-03-24T14:10:07.383Z"
   },
   {
    "duration": 40,
    "start_time": "2023-03-24T14:10:10.386Z"
   },
   {
    "duration": 34,
    "start_time": "2023-03-24T14:10:10.428Z"
   },
   {
    "duration": 60,
    "start_time": "2023-03-24T14:10:10.464Z"
   },
   {
    "duration": 8,
    "start_time": "2023-03-24T14:10:10.526Z"
   },
   {
    "duration": 1115,
    "start_time": "2023-03-24T14:10:10.536Z"
   },
   {
    "duration": 1731,
    "start_time": "2023-03-24T14:10:11.653Z"
   },
   {
    "duration": 2,
    "start_time": "2023-03-24T14:10:13.386Z"
   },
   {
    "duration": 15,
    "start_time": "2023-03-24T14:10:13.390Z"
   },
   {
    "duration": 5,
    "start_time": "2023-03-24T14:10:13.407Z"
   },
   {
    "duration": 6,
    "start_time": "2023-03-24T14:10:13.413Z"
   },
   {
    "duration": 6,
    "start_time": "2023-03-24T14:10:13.421Z"
   },
   {
    "duration": 36,
    "start_time": "2023-03-24T14:10:13.429Z"
   },
   {
    "duration": 21,
    "start_time": "2023-03-24T14:10:13.467Z"
   },
   {
    "duration": 5,
    "start_time": "2023-03-24T14:10:13.490Z"
   },
   {
    "duration": 11,
    "start_time": "2023-03-24T14:10:13.497Z"
   },
   {
    "duration": 7,
    "start_time": "2023-03-24T14:10:13.510Z"
   },
   {
    "duration": 57,
    "start_time": "2023-03-24T14:10:13.518Z"
   },
   {
    "duration": 3,
    "start_time": "2023-03-24T14:10:13.577Z"
   },
   {
    "duration": 117998,
    "start_time": "2023-03-24T14:10:13.582Z"
   },
   {
    "duration": 3,
    "start_time": "2023-03-24T14:12:11.582Z"
   },
   {
    "duration": 4321,
    "start_time": "2023-03-24T14:12:11.587Z"
   },
   {
    "duration": 3156,
    "start_time": "2023-03-24T14:12:15.910Z"
   },
   {
    "duration": 128,
    "start_time": "2023-03-24T14:12:19.073Z"
   },
   {
    "duration": 31,
    "start_time": "2023-03-24T14:12:19.203Z"
   },
   {
    "duration": 150,
    "start_time": "2023-03-24T14:12:19.236Z"
   },
   {
    "duration": 22,
    "start_time": "2023-03-24T14:12:44.397Z"
   },
   {
    "duration": 7,
    "start_time": "2023-03-24T14:15:25.076Z"
   },
   {
    "duration": 15,
    "start_time": "2023-03-24T14:17:20.176Z"
   },
   {
    "duration": 88,
    "start_time": "2023-03-24T14:17:34.058Z"
   },
   {
    "duration": 7,
    "start_time": "2023-03-24T14:18:33.171Z"
   },
   {
    "duration": 6,
    "start_time": "2023-03-24T14:18:47.375Z"
   },
   {
    "duration": 50,
    "start_time": "2023-03-24T14:23:40.553Z"
   },
   {
    "duration": 57,
    "start_time": "2023-03-24T14:24:23.918Z"
   },
   {
    "duration": 75,
    "start_time": "2023-03-24T14:24:31.773Z"
   },
   {
    "duration": 7,
    "start_time": "2023-03-24T14:25:55.276Z"
   },
   {
    "duration": 9,
    "start_time": "2023-03-24T14:26:03.902Z"
   },
   {
    "duration": 11,
    "start_time": "2023-03-24T14:26:29.678Z"
   },
   {
    "duration": 70,
    "start_time": "2023-03-24T14:26:43.350Z"
   },
   {
    "duration": 1499,
    "start_time": "2023-03-24T14:27:13.747Z"
   },
   {
    "duration": 744,
    "start_time": "2023-03-24T14:27:15.249Z"
   },
   {
    "duration": 4,
    "start_time": "2023-03-24T14:27:15.995Z"
   },
   {
    "duration": 292,
    "start_time": "2023-03-24T14:27:16.001Z"
   },
   {
    "duration": 109,
    "start_time": "2023-03-24T14:27:16.295Z"
   },
   {
    "duration": 232,
    "start_time": "2023-03-24T14:27:16.405Z"
   },
   {
    "duration": 4,
    "start_time": "2023-03-24T14:27:16.639Z"
   },
   {
    "duration": 17,
    "start_time": "2023-03-24T14:27:16.645Z"
   },
   {
    "duration": 24,
    "start_time": "2023-03-24T14:27:16.664Z"
   },
   {
    "duration": 11,
    "start_time": "2023-03-24T14:27:16.690Z"
   },
   {
    "duration": 6,
    "start_time": "2023-03-24T14:27:16.702Z"
   },
   {
    "duration": 8,
    "start_time": "2023-03-24T14:27:16.710Z"
   },
   {
    "duration": 3198,
    "start_time": "2023-03-24T14:27:16.720Z"
   },
   {
    "duration": 73,
    "start_time": "2023-03-24T14:27:19.920Z"
   },
   {
    "duration": 5,
    "start_time": "2023-03-24T14:27:19.995Z"
   },
   {
    "duration": 88,
    "start_time": "2023-03-24T14:27:20.002Z"
   },
   {
    "duration": 8,
    "start_time": "2023-03-24T14:27:20.093Z"
   },
   {
    "duration": 1147,
    "start_time": "2023-03-24T14:27:20.103Z"
   },
   {
    "duration": 1834,
    "start_time": "2023-03-24T14:27:21.251Z"
   },
   {
    "duration": 2,
    "start_time": "2023-03-24T14:27:23.087Z"
   },
   {
    "duration": 16,
    "start_time": "2023-03-24T14:27:23.091Z"
   },
   {
    "duration": 5,
    "start_time": "2023-03-24T14:27:23.109Z"
   },
   {
    "duration": 10,
    "start_time": "2023-03-24T14:27:23.116Z"
   },
   {
    "duration": 14,
    "start_time": "2023-03-24T14:27:23.127Z"
   },
   {
    "duration": 21,
    "start_time": "2023-03-24T14:27:23.143Z"
   },
   {
    "duration": 24,
    "start_time": "2023-03-24T14:27:23.166Z"
   },
   {
    "duration": 12,
    "start_time": "2023-03-24T14:27:23.192Z"
   },
   {
    "duration": 13,
    "start_time": "2023-03-24T14:27:23.208Z"
   },
   {
    "duration": 10,
    "start_time": "2023-03-24T14:27:23.222Z"
   },
   {
    "duration": 31,
    "start_time": "2023-03-24T14:27:23.234Z"
   },
   {
    "duration": 27,
    "start_time": "2023-03-24T14:27:23.266Z"
   },
   {
    "duration": 4,
    "start_time": "2023-03-24T14:27:23.295Z"
   },
   {
    "duration": 117433,
    "start_time": "2023-03-24T14:27:23.301Z"
   },
   {
    "duration": 3,
    "start_time": "2023-03-24T14:29:20.735Z"
   },
   {
    "duration": 4233,
    "start_time": "2023-03-24T14:29:20.740Z"
   },
   {
    "duration": 2990,
    "start_time": "2023-03-24T14:29:24.976Z"
   },
   {
    "duration": 150,
    "start_time": "2023-03-24T14:29:27.968Z"
   },
   {
    "duration": 170,
    "start_time": "2023-03-24T14:29:28.120Z"
   },
   {
    "duration": 23,
    "start_time": "2023-03-24T14:30:25.090Z"
   },
   {
    "duration": 13,
    "start_time": "2023-03-24T14:31:18.830Z"
   },
   {
    "duration": 20,
    "start_time": "2023-03-24T14:32:23.681Z"
   },
   {
    "duration": 1644,
    "start_time": "2023-03-24T14:38:12.964Z"
   },
   {
    "duration": 754,
    "start_time": "2023-03-24T14:38:14.611Z"
   },
   {
    "duration": 5,
    "start_time": "2023-03-24T14:38:15.366Z"
   },
   {
    "duration": 324,
    "start_time": "2023-03-24T14:38:15.374Z"
   },
   {
    "duration": 116,
    "start_time": "2023-03-24T14:38:15.700Z"
   },
   {
    "duration": 292,
    "start_time": "2023-03-24T14:38:15.818Z"
   },
   {
    "duration": 6,
    "start_time": "2023-03-24T14:38:16.113Z"
   },
   {
    "duration": 7,
    "start_time": "2023-03-24T14:38:16.121Z"
   },
   {
    "duration": 54,
    "start_time": "2023-03-24T14:38:16.130Z"
   },
   {
    "duration": 9,
    "start_time": "2023-03-24T14:38:16.189Z"
   },
   {
    "duration": 4,
    "start_time": "2023-03-24T14:38:16.200Z"
   },
   {
    "duration": 7,
    "start_time": "2023-03-24T14:38:16.206Z"
   },
   {
    "duration": 3271,
    "start_time": "2023-03-24T14:38:16.215Z"
   },
   {
    "duration": 39,
    "start_time": "2023-03-24T14:38:19.488Z"
   },
   {
    "duration": 34,
    "start_time": "2023-03-24T14:38:19.529Z"
   },
   {
    "duration": 51,
    "start_time": "2023-03-24T14:38:19.565Z"
   },
   {
    "duration": 9,
    "start_time": "2023-03-24T14:38:19.618Z"
   },
   {
    "duration": 1211,
    "start_time": "2023-03-24T14:38:19.630Z"
   },
   {
    "duration": 1794,
    "start_time": "2023-03-24T14:38:20.843Z"
   },
   {
    "duration": 2,
    "start_time": "2023-03-24T14:38:22.639Z"
   },
   {
    "duration": 20,
    "start_time": "2023-03-24T14:38:22.643Z"
   },
   {
    "duration": 10,
    "start_time": "2023-03-24T14:38:22.665Z"
   },
   {
    "duration": 4,
    "start_time": "2023-03-24T14:38:22.678Z"
   },
   {
    "duration": 5,
    "start_time": "2023-03-24T14:38:22.684Z"
   },
   {
    "duration": 7,
    "start_time": "2023-03-24T14:38:22.691Z"
   },
   {
    "duration": 25,
    "start_time": "2023-03-24T14:38:22.700Z"
   },
   {
    "duration": 45,
    "start_time": "2023-03-24T14:38:22.727Z"
   },
   {
    "duration": 6,
    "start_time": "2023-03-24T14:38:22.777Z"
   },
   {
    "duration": 10,
    "start_time": "2023-03-24T14:38:22.786Z"
   },
   {
    "duration": 8,
    "start_time": "2023-03-24T14:38:22.797Z"
   },
   {
    "duration": 75,
    "start_time": "2023-03-24T14:38:22.806Z"
   },
   {
    "duration": 3,
    "start_time": "2023-03-24T14:38:22.883Z"
   },
   {
    "duration": 120741,
    "start_time": "2023-03-24T14:38:22.888Z"
   },
   {
    "duration": 4355,
    "start_time": "2023-03-24T14:40:23.631Z"
   },
   {
    "duration": 3177,
    "start_time": "2023-03-24T14:40:27.988Z"
   },
   {
    "duration": 148,
    "start_time": "2023-03-24T14:40:31.168Z"
   },
   {
    "duration": 56,
    "start_time": "2023-03-24T14:40:31.318Z"
   },
   {
    "duration": 21,
    "start_time": "2023-03-24T14:41:46.996Z"
   },
   {
    "duration": 116,
    "start_time": "2023-03-24T14:42:14.945Z"
   },
   {
    "duration": 12,
    "start_time": "2023-03-24T14:43:20.041Z"
   },
   {
    "duration": 21,
    "start_time": "2023-03-24T14:43:31.250Z"
   },
   {
    "duration": 1519,
    "start_time": "2023-03-24T14:45:30.205Z"
   },
   {
    "duration": 754,
    "start_time": "2023-03-24T14:45:31.726Z"
   },
   {
    "duration": 5,
    "start_time": "2023-03-24T14:45:32.482Z"
   },
   {
    "duration": 340,
    "start_time": "2023-03-24T14:45:32.489Z"
   },
   {
    "duration": 113,
    "start_time": "2023-03-24T14:45:32.832Z"
   },
   {
    "duration": 242,
    "start_time": "2023-03-24T14:45:32.962Z"
   },
   {
    "duration": 6,
    "start_time": "2023-03-24T14:45:33.206Z"
   },
   {
    "duration": 6,
    "start_time": "2023-03-24T14:45:33.213Z"
   },
   {
    "duration": 68,
    "start_time": "2023-03-24T14:45:33.222Z"
   },
   {
    "duration": 6,
    "start_time": "2023-03-24T14:45:33.292Z"
   },
   {
    "duration": 6,
    "start_time": "2023-03-24T14:45:33.300Z"
   },
   {
    "duration": 7,
    "start_time": "2023-03-24T14:45:33.308Z"
   },
   {
    "duration": 3310,
    "start_time": "2023-03-24T14:45:33.317Z"
   },
   {
    "duration": 58,
    "start_time": "2023-03-24T14:45:36.630Z"
   },
   {
    "duration": 4,
    "start_time": "2023-03-24T14:45:36.689Z"
   },
   {
    "duration": 79,
    "start_time": "2023-03-24T14:45:36.694Z"
   },
   {
    "duration": 7,
    "start_time": "2023-03-24T14:45:36.774Z"
   },
   {
    "duration": 1168,
    "start_time": "2023-03-24T14:45:36.783Z"
   },
   {
    "duration": 1826,
    "start_time": "2023-03-24T14:45:37.953Z"
   },
   {
    "duration": 2,
    "start_time": "2023-03-24T14:45:39.781Z"
   },
   {
    "duration": 18,
    "start_time": "2023-03-24T14:45:39.785Z"
   },
   {
    "duration": 4,
    "start_time": "2023-03-24T14:45:39.805Z"
   },
   {
    "duration": 11,
    "start_time": "2023-03-24T14:45:39.811Z"
   },
   {
    "duration": 4,
    "start_time": "2023-03-24T14:45:39.823Z"
   },
   {
    "duration": 7,
    "start_time": "2023-03-24T14:45:39.829Z"
   },
   {
    "duration": 16,
    "start_time": "2023-03-24T14:45:39.861Z"
   },
   {
    "duration": 10,
    "start_time": "2023-03-24T14:45:39.879Z"
   },
   {
    "duration": 5,
    "start_time": "2023-03-24T14:45:39.890Z"
   },
   {
    "duration": 9,
    "start_time": "2023-03-24T14:45:39.897Z"
   },
   {
    "duration": 9,
    "start_time": "2023-03-24T14:45:39.907Z"
   },
   {
    "duration": 69,
    "start_time": "2023-03-24T14:45:39.918Z"
   },
   {
    "duration": 3,
    "start_time": "2023-03-24T14:45:39.989Z"
   },
   {
    "duration": 8761033,
    "start_time": "2023-03-24T14:45:39.994Z"
   },
   {
    "duration": 0,
    "start_time": "2023-03-24T17:11:41.030Z"
   },
   {
    "duration": 0,
    "start_time": "2023-03-24T17:11:41.031Z"
   },
   {
    "duration": 0,
    "start_time": "2023-03-24T17:11:41.033Z"
   },
   {
    "duration": 0,
    "start_time": "2023-03-24T17:11:41.034Z"
   },
   {
    "duration": 0,
    "start_time": "2023-03-24T17:11:41.038Z"
   },
   {
    "duration": 0,
    "start_time": "2023-03-24T17:11:41.040Z"
   },
   {
    "duration": 0,
    "start_time": "2023-03-24T17:11:41.041Z"
   },
   {
    "duration": 1697256,
    "start_time": "2023-03-24T17:11:51.210Z"
   },
   {
    "duration": 53,
    "start_time": "2023-03-24T17:40:08.470Z"
   },
   {
    "duration": 81,
    "start_time": "2023-03-24T17:42:57.542Z"
   },
   {
    "duration": 1517,
    "start_time": "2023-03-24T20:54:54.727Z"
   },
   {
    "duration": 1695,
    "start_time": "2023-03-24T20:54:56.246Z"
   },
   {
    "duration": 4,
    "start_time": "2023-03-24T20:54:57.942Z"
   },
   {
    "duration": 269,
    "start_time": "2023-03-24T20:54:57.948Z"
   },
   {
    "duration": 106,
    "start_time": "2023-03-24T20:54:58.219Z"
   },
   {
    "duration": 250,
    "start_time": "2023-03-24T20:54:58.327Z"
   },
   {
    "duration": 5,
    "start_time": "2023-03-24T20:54:58.578Z"
   },
   {
    "duration": 6,
    "start_time": "2023-03-24T20:54:58.585Z"
   },
   {
    "duration": 24,
    "start_time": "2023-03-24T20:54:58.592Z"
   },
   {
    "duration": 6,
    "start_time": "2023-03-24T20:54:58.661Z"
   },
   {
    "duration": 5,
    "start_time": "2023-03-24T20:54:58.669Z"
   },
   {
    "duration": 7,
    "start_time": "2023-03-24T20:54:58.675Z"
   },
   {
    "duration": 3141,
    "start_time": "2023-03-24T20:54:58.683Z"
   },
   {
    "duration": 53,
    "start_time": "2023-03-24T20:55:01.826Z"
   },
   {
    "duration": 4,
    "start_time": "2023-03-24T20:55:01.880Z"
   },
   {
    "duration": 84,
    "start_time": "2023-03-24T20:55:01.886Z"
   },
   {
    "duration": 7,
    "start_time": "2023-03-24T20:55:01.972Z"
   },
   {
    "duration": 1270,
    "start_time": "2023-03-24T20:55:01.980Z"
   },
   {
    "duration": 1762,
    "start_time": "2023-03-24T20:55:03.252Z"
   },
   {
    "duration": 3,
    "start_time": "2023-03-24T20:55:05.015Z"
   },
   {
    "duration": 7,
    "start_time": "2023-03-24T20:55:05.020Z"
   },
   {
    "duration": 5,
    "start_time": "2023-03-24T20:55:05.029Z"
   },
   {
    "duration": 25,
    "start_time": "2023-03-24T20:55:05.037Z"
   },
   {
    "duration": 3,
    "start_time": "2023-03-24T20:55:05.065Z"
   },
   {
    "duration": 8,
    "start_time": "2023-03-24T20:55:05.070Z"
   },
   {
    "duration": 17,
    "start_time": "2023-03-24T20:55:05.080Z"
   },
   {
    "duration": 64,
    "start_time": "2023-03-24T20:55:05.099Z"
   },
   {
    "duration": 6,
    "start_time": "2023-03-24T20:55:05.166Z"
   },
   {
    "duration": 10,
    "start_time": "2023-03-24T20:55:05.173Z"
   },
   {
    "duration": 6,
    "start_time": "2023-03-24T20:55:05.186Z"
   },
   {
    "duration": 28,
    "start_time": "2023-03-24T20:55:05.193Z"
   },
   {
    "duration": 40,
    "start_time": "2023-03-24T20:55:05.223Z"
   },
   {
    "duration": 24087,
    "start_time": "2023-03-24T21:02:40.282Z"
   },
   {
    "duration": 19,
    "start_time": "2023-03-24T21:05:54.273Z"
   },
   {
    "duration": 23304,
    "start_time": "2023-03-24T21:06:47.286Z"
   },
   {
    "duration": 18,
    "start_time": "2023-03-24T21:07:59.946Z"
   },
   {
    "duration": 56,
    "start_time": "2023-03-24T21:08:20.151Z"
   },
   {
    "duration": 843,
    "start_time": "2023-03-24T21:15:31.993Z"
   },
   {
    "duration": 3229,
    "start_time": "2023-03-24T21:18:21.154Z"
   },
   {
    "duration": 3071,
    "start_time": "2023-03-24T21:18:39.994Z"
   },
   {
    "duration": 3178,
    "start_time": "2023-03-24T21:18:55.988Z"
   },
   {
    "duration": 2667,
    "start_time": "2023-03-24T21:19:20.801Z"
   },
   {
    "duration": 1481,
    "start_time": "2023-03-24T21:34:23.689Z"
   },
   {
    "duration": 770,
    "start_time": "2023-03-24T21:34:25.172Z"
   },
   {
    "duration": 5,
    "start_time": "2023-03-24T21:34:25.946Z"
   },
   {
    "duration": 288,
    "start_time": "2023-03-24T21:34:25.962Z"
   },
   {
    "duration": 124,
    "start_time": "2023-03-24T21:34:26.252Z"
   },
   {
    "duration": 251,
    "start_time": "2023-03-24T21:34:26.379Z"
   },
   {
    "duration": 6,
    "start_time": "2023-03-24T21:34:26.632Z"
   },
   {
    "duration": 24,
    "start_time": "2023-03-24T21:34:26.641Z"
   },
   {
    "duration": 29,
    "start_time": "2023-03-24T21:34:26.669Z"
   },
   {
    "duration": 7,
    "start_time": "2023-03-24T21:34:26.700Z"
   },
   {
    "duration": 53,
    "start_time": "2023-03-24T21:34:26.710Z"
   },
   {
    "duration": 8,
    "start_time": "2023-03-24T21:34:26.765Z"
   },
   {
    "duration": 3035,
    "start_time": "2023-03-24T21:34:26.775Z"
   },
   {
    "duration": 56,
    "start_time": "2023-03-24T21:34:29.811Z"
   },
   {
    "duration": 4,
    "start_time": "2023-03-24T21:34:29.868Z"
   },
   {
    "duration": 55,
    "start_time": "2023-03-24T21:34:29.873Z"
   },
   {
    "duration": 31,
    "start_time": "2023-03-24T21:34:29.930Z"
   },
   {
    "duration": 1186,
    "start_time": "2023-03-24T21:34:29.963Z"
   },
   {
    "duration": 1733,
    "start_time": "2023-03-24T21:34:31.150Z"
   },
   {
    "duration": 3,
    "start_time": "2023-03-24T21:34:32.885Z"
   },
   {
    "duration": 7,
    "start_time": "2023-03-24T21:34:32.889Z"
   },
   {
    "duration": 5,
    "start_time": "2023-03-24T21:34:32.898Z"
   },
   {
    "duration": 4,
    "start_time": "2023-03-24T21:34:32.905Z"
   },
   {
    "duration": 4,
    "start_time": "2023-03-24T21:34:32.911Z"
   },
   {
    "duration": 45,
    "start_time": "2023-03-24T21:34:32.917Z"
   },
   {
    "duration": 21,
    "start_time": "2023-03-24T21:34:32.965Z"
   },
   {
    "duration": 13,
    "start_time": "2023-03-24T21:34:32.991Z"
   },
   {
    "duration": 7,
    "start_time": "2023-03-24T21:34:33.006Z"
   },
   {
    "duration": 57,
    "start_time": "2023-03-24T21:34:33.015Z"
   },
   {
    "duration": 5,
    "start_time": "2023-03-24T21:34:33.076Z"
   },
   {
    "duration": 32,
    "start_time": "2023-03-24T21:34:33.083Z"
   },
   {
    "duration": 3,
    "start_time": "2023-03-24T21:34:33.118Z"
   },
   {
    "duration": 216859,
    "start_time": "2023-03-24T21:34:33.122Z"
   },
   {
    "duration": 0,
    "start_time": "2023-03-24T21:38:09.983Z"
   },
   {
    "duration": 0,
    "start_time": "2023-03-24T21:38:09.985Z"
   },
   {
    "duration": 0,
    "start_time": "2023-03-24T21:38:09.986Z"
   },
   {
    "duration": 0,
    "start_time": "2023-03-24T21:38:09.987Z"
   },
   {
    "duration": 66,
    "start_time": "2023-03-24T21:38:38.226Z"
   },
   {
    "duration": 3012,
    "start_time": "2023-03-24T21:38:41.650Z"
   },
   {
    "duration": 1487,
    "start_time": "2023-03-24T21:39:13.017Z"
   },
   {
    "duration": 720,
    "start_time": "2023-03-24T21:39:14.507Z"
   },
   {
    "duration": 4,
    "start_time": "2023-03-24T21:39:15.229Z"
   },
   {
    "duration": 288,
    "start_time": "2023-03-24T21:39:15.235Z"
   },
   {
    "duration": 138,
    "start_time": "2023-03-24T21:39:15.525Z"
   },
   {
    "duration": 234,
    "start_time": "2023-03-24T21:39:15.665Z"
   },
   {
    "duration": 6,
    "start_time": "2023-03-24T21:39:15.900Z"
   },
   {
    "duration": 5,
    "start_time": "2023-03-24T21:39:15.908Z"
   },
   {
    "duration": 65,
    "start_time": "2023-03-24T21:39:15.915Z"
   },
   {
    "duration": 9,
    "start_time": "2023-03-24T21:39:15.983Z"
   },
   {
    "duration": 5,
    "start_time": "2023-03-24T21:39:15.994Z"
   },
   {
    "duration": 9,
    "start_time": "2023-03-24T21:39:16.001Z"
   },
   {
    "duration": 3006,
    "start_time": "2023-03-24T21:39:16.012Z"
   },
   {
    "duration": 47,
    "start_time": "2023-03-24T21:39:19.020Z"
   },
   {
    "duration": 4,
    "start_time": "2023-03-24T21:39:19.069Z"
   },
   {
    "duration": 52,
    "start_time": "2023-03-24T21:39:19.074Z"
   },
   {
    "duration": 39,
    "start_time": "2023-03-24T21:39:19.127Z"
   },
   {
    "duration": 1071,
    "start_time": "2023-03-24T21:39:19.167Z"
   },
   {
    "duration": 1737,
    "start_time": "2023-03-24T21:39:20.240Z"
   },
   {
    "duration": 2,
    "start_time": "2023-03-24T21:39:21.979Z"
   },
   {
    "duration": 7,
    "start_time": "2023-03-24T21:39:21.983Z"
   },
   {
    "duration": 4,
    "start_time": "2023-03-24T21:39:21.992Z"
   },
   {
    "duration": 5,
    "start_time": "2023-03-24T21:39:21.998Z"
   },
   {
    "duration": 4,
    "start_time": "2023-03-24T21:39:22.004Z"
   },
   {
    "duration": 8,
    "start_time": "2023-03-24T21:39:22.010Z"
   },
   {
    "duration": 55,
    "start_time": "2023-03-24T21:39:22.020Z"
   },
   {
    "duration": 10,
    "start_time": "2023-03-24T21:39:22.076Z"
   },
   {
    "duration": 5,
    "start_time": "2023-03-24T21:39:22.089Z"
   },
   {
    "duration": 11,
    "start_time": "2023-03-24T21:39:22.095Z"
   },
   {
    "duration": 58,
    "start_time": "2023-03-24T21:39:22.107Z"
   },
   {
    "duration": 26,
    "start_time": "2023-03-24T21:39:22.166Z"
   },
   {
    "duration": 3,
    "start_time": "2023-03-24T21:39:22.194Z"
   },
   {
    "duration": 817094,
    "start_time": "2023-03-24T21:39:22.198Z"
   },
   {
    "duration": 39055,
    "start_time": "2023-03-24T21:52:59.294Z"
   },
   {
    "duration": 2820,
    "start_time": "2023-03-24T21:53:38.351Z"
   },
   {
    "duration": 226,
    "start_time": "2023-03-24T21:53:41.175Z"
   },
   {
    "duration": 107,
    "start_time": "2023-03-24T21:53:41.403Z"
   },
   {
    "duration": 2748,
    "start_time": "2023-03-25T18:24:50.426Z"
   },
   {
    "duration": 4736,
    "start_time": "2023-03-25T18:24:53.177Z"
   },
   {
    "duration": 17,
    "start_time": "2023-03-25T18:24:57.933Z"
   },
   {
    "duration": 558,
    "start_time": "2023-03-25T18:24:57.952Z"
   },
   {
    "duration": 223,
    "start_time": "2023-03-25T18:24:58.514Z"
   },
   {
    "duration": 444,
    "start_time": "2023-03-25T18:24:58.740Z"
   },
   {
    "duration": 11,
    "start_time": "2023-03-25T18:24:59.190Z"
   },
   {
    "duration": 66,
    "start_time": "2023-03-25T18:24:59.206Z"
   },
   {
    "duration": 110,
    "start_time": "2023-03-25T18:24:59.274Z"
   },
   {
    "duration": 57,
    "start_time": "2023-03-25T18:24:59.387Z"
   },
   {
    "duration": 21,
    "start_time": "2023-03-25T18:24:59.450Z"
   },
   {
    "duration": 19,
    "start_time": "2023-03-25T18:24:59.473Z"
   },
   {
    "duration": 5191,
    "start_time": "2023-03-25T18:24:59.502Z"
   },
   {
    "duration": 109,
    "start_time": "2023-03-25T18:25:04.703Z"
   },
   {
    "duration": 137,
    "start_time": "2023-03-25T18:25:04.823Z"
   },
   {
    "duration": 236,
    "start_time": "2023-03-25T18:25:04.963Z"
   },
   {
    "duration": 20,
    "start_time": "2023-03-25T18:25:05.203Z"
   },
   {
    "duration": 2120,
    "start_time": "2023-03-25T18:25:05.230Z"
   },
   {
    "duration": 2657,
    "start_time": "2023-03-25T18:25:07.355Z"
   },
   {
    "duration": 6,
    "start_time": "2023-03-25T18:25:10.019Z"
   },
   {
    "duration": 34,
    "start_time": "2023-03-25T18:25:10.032Z"
   },
   {
    "duration": 13,
    "start_time": "2023-03-25T18:25:10.069Z"
   },
   {
    "duration": 62,
    "start_time": "2023-03-25T18:25:10.084Z"
   },
   {
    "duration": 20,
    "start_time": "2023-03-25T18:25:10.150Z"
   },
   {
    "duration": 9,
    "start_time": "2023-03-25T18:25:10.173Z"
   },
   {
    "duration": 75,
    "start_time": "2023-03-25T18:25:10.185Z"
   },
   {
    "duration": 19,
    "start_time": "2023-03-25T18:25:10.264Z"
   },
   {
    "duration": 8,
    "start_time": "2023-03-25T18:25:10.285Z"
   },
   {
    "duration": 68,
    "start_time": "2023-03-25T18:25:10.296Z"
   },
   {
    "duration": 8,
    "start_time": "2023-03-25T18:25:10.368Z"
   },
   {
    "duration": 93,
    "start_time": "2023-03-25T18:25:10.378Z"
   },
   {
    "duration": 105,
    "start_time": "2023-03-25T18:25:10.473Z"
   },
   {
    "duration": 369216,
    "start_time": "2023-03-25T18:25:10.584Z"
   },
   {
    "duration": 0,
    "start_time": "2023-03-25T18:31:19.807Z"
   },
   {
    "duration": 0,
    "start_time": "2023-03-25T18:31:19.814Z"
   },
   {
    "duration": 0,
    "start_time": "2023-03-25T18:31:19.822Z"
   },
   {
    "duration": 0,
    "start_time": "2023-03-25T18:31:19.829Z"
   },
   {
    "duration": 3819,
    "start_time": "2023-03-25T18:34:25.361Z"
   },
   {
    "duration": 2567,
    "start_time": "2023-03-25T18:34:29.204Z"
   },
   {
    "duration": 6,
    "start_time": "2023-03-25T18:34:31.774Z"
   },
   {
    "duration": 1039,
    "start_time": "2023-03-25T18:34:31.790Z"
   },
   {
    "duration": 429,
    "start_time": "2023-03-25T18:34:32.832Z"
   },
   {
    "duration": 618,
    "start_time": "2023-03-25T18:34:33.268Z"
   },
   {
    "duration": 11,
    "start_time": "2023-03-25T18:34:33.888Z"
   },
   {
    "duration": 207,
    "start_time": "2023-03-25T18:34:33.902Z"
   },
   {
    "duration": 174,
    "start_time": "2023-03-25T18:34:34.114Z"
   },
   {
    "duration": 60,
    "start_time": "2023-03-25T18:34:34.290Z"
   },
   {
    "duration": 69,
    "start_time": "2023-03-25T18:34:34.353Z"
   },
   {
    "duration": 68,
    "start_time": "2023-03-25T18:34:34.424Z"
   },
   {
    "duration": 10845,
    "start_time": "2023-03-25T18:34:34.495Z"
   },
   {
    "duration": 142,
    "start_time": "2023-03-25T18:34:45.347Z"
   },
   {
    "duration": 5,
    "start_time": "2023-03-25T18:34:45.496Z"
   },
   {
    "duration": 229,
    "start_time": "2023-03-25T18:34:45.505Z"
   },
   {
    "duration": 18,
    "start_time": "2023-03-25T18:34:45.736Z"
   },
   {
    "duration": 2906,
    "start_time": "2023-03-25T18:34:45.756Z"
   },
   {
    "duration": 6030,
    "start_time": "2023-03-25T18:34:48.666Z"
   },
   {
    "duration": 7,
    "start_time": "2023-03-25T18:34:54.706Z"
   },
   {
    "duration": 42,
    "start_time": "2023-03-25T18:34:54.723Z"
   },
   {
    "duration": 32,
    "start_time": "2023-03-25T18:34:54.767Z"
   },
   {
    "duration": 88,
    "start_time": "2023-03-25T18:34:54.803Z"
   },
   {
    "duration": 67,
    "start_time": "2023-03-25T18:34:54.894Z"
   },
   {
    "duration": 57,
    "start_time": "2023-03-25T18:34:54.964Z"
   },
   {
    "duration": 83,
    "start_time": "2023-03-25T18:34:55.030Z"
   },
   {
    "duration": 84,
    "start_time": "2023-03-25T18:34:55.125Z"
   },
   {
    "duration": 74,
    "start_time": "2023-03-25T18:34:55.216Z"
   },
   {
    "duration": 104,
    "start_time": "2023-03-25T18:34:55.300Z"
   },
   {
    "duration": 64,
    "start_time": "2023-03-25T18:34:55.409Z"
   },
   {
    "duration": 126,
    "start_time": "2023-03-25T18:34:55.475Z"
   },
   {
    "duration": 19,
    "start_time": "2023-03-25T18:34:55.624Z"
   },
   {
    "duration": 2975523,
    "start_time": "2023-03-25T18:34:55.645Z"
   },
   {
    "duration": 42803,
    "start_time": "2023-03-25T19:24:31.170Z"
   },
   {
    "duration": 4519,
    "start_time": "2023-03-25T19:25:13.975Z"
   },
   {
    "duration": 143,
    "start_time": "2023-03-25T19:25:18.500Z"
   },
   {
    "duration": 103,
    "start_time": "2023-03-25T19:25:18.645Z"
   },
   {
    "duration": 6,
    "start_time": "2023-03-25T19:29:42.606Z"
   },
   {
    "duration": 7,
    "start_time": "2023-03-25T19:29:49.299Z"
   },
   {
    "duration": 9,
    "start_time": "2023-03-25T19:30:01.448Z"
   },
   {
    "duration": 107,
    "start_time": "2023-03-25T19:30:49.891Z"
   },
   {
    "duration": 98,
    "start_time": "2023-03-25T19:31:32.102Z"
   },
   {
    "duration": 92,
    "start_time": "2023-03-25T19:32:14.821Z"
   },
   {
    "duration": 6,
    "start_time": "2023-03-25T19:33:07.188Z"
   },
   {
    "duration": 7,
    "start_time": "2023-03-25T19:33:24.996Z"
   },
   {
    "duration": 963,
    "start_time": "2023-03-25T19:42:39.139Z"
   },
   {
    "duration": 27,
    "start_time": "2023-03-25T19:42:57.611Z"
   },
   {
    "duration": 52,
    "start_time": "2023-03-25T19:43:04.170Z"
   },
   {
    "duration": 78,
    "start_time": "2023-03-25T19:43:24.971Z"
   },
   {
    "duration": 1795,
    "start_time": "2023-03-26T06:18:51.832Z"
   },
   {
    "duration": 3254,
    "start_time": "2023-03-26T06:18:53.629Z"
   },
   {
    "duration": 5,
    "start_time": "2023-03-26T06:18:56.885Z"
   },
   {
    "duration": 333,
    "start_time": "2023-03-26T06:18:56.892Z"
   },
   {
    "duration": 122,
    "start_time": "2023-03-26T06:18:57.227Z"
   },
   {
    "duration": 237,
    "start_time": "2023-03-26T06:18:57.351Z"
   },
   {
    "duration": 6,
    "start_time": "2023-03-26T06:18:57.590Z"
   },
   {
    "duration": 8,
    "start_time": "2023-03-26T06:18:57.598Z"
   },
   {
    "duration": 62,
    "start_time": "2023-03-26T06:18:57.608Z"
   },
   {
    "duration": 18,
    "start_time": "2023-03-26T06:18:57.672Z"
   },
   {
    "duration": 10,
    "start_time": "2023-03-26T06:18:57.693Z"
   },
   {
    "duration": 11,
    "start_time": "2023-03-26T06:18:57.705Z"
   },
   {
    "duration": 3465,
    "start_time": "2023-03-26T06:18:57.718Z"
   },
   {
    "duration": 67,
    "start_time": "2023-03-26T06:19:01.185Z"
   },
   {
    "duration": 18,
    "start_time": "2023-03-26T06:19:01.254Z"
   },
   {
    "duration": 98,
    "start_time": "2023-03-26T06:19:01.275Z"
   },
   {
    "duration": 7,
    "start_time": "2023-03-26T06:19:01.376Z"
   },
   {
    "duration": 1218,
    "start_time": "2023-03-26T06:19:01.385Z"
   },
   {
    "duration": 1980,
    "start_time": "2023-03-26T06:19:02.606Z"
   },
   {
    "duration": 3,
    "start_time": "2023-03-26T06:19:04.588Z"
   },
   {
    "duration": 43,
    "start_time": "2023-03-26T06:19:04.592Z"
   },
   {
    "duration": 61,
    "start_time": "2023-03-26T06:19:04.637Z"
   },
   {
    "duration": 12,
    "start_time": "2023-03-26T06:19:04.701Z"
   },
   {
    "duration": 20,
    "start_time": "2023-03-26T06:19:04.715Z"
   },
   {
    "duration": 39,
    "start_time": "2023-03-26T06:19:04.737Z"
   },
   {
    "duration": 25,
    "start_time": "2023-03-26T06:19:04.779Z"
   },
   {
    "duration": 17,
    "start_time": "2023-03-26T06:19:04.806Z"
   },
   {
    "duration": 5,
    "start_time": "2023-03-26T06:19:04.827Z"
   },
   {
    "duration": 38,
    "start_time": "2023-03-26T06:19:04.834Z"
   },
   {
    "duration": 9,
    "start_time": "2023-03-26T06:19:04.874Z"
   },
   {
    "duration": 29,
    "start_time": "2023-03-26T06:19:04.885Z"
   },
   {
    "duration": 4,
    "start_time": "2023-03-26T06:19:04.917Z"
   },
   {
    "duration": 1246151,
    "start_time": "2023-03-26T06:19:04.924Z"
   },
   {
    "duration": 38590,
    "start_time": "2023-03-26T06:39:51.077Z"
   },
   {
    "duration": 4598,
    "start_time": "2023-03-26T06:40:29.669Z"
   },
   {
    "duration": 240,
    "start_time": "2023-03-26T06:40:34.269Z"
   },
   {
    "duration": 90,
    "start_time": "2023-03-26T06:40:34.511Z"
   },
   {
    "duration": 1658,
    "start_time": "2023-03-30T07:31:44.246Z"
   },
   {
    "duration": 1921,
    "start_time": "2023-03-30T07:31:45.910Z"
   },
   {
    "duration": 5,
    "start_time": "2023-03-30T07:31:47.833Z"
   },
   {
    "duration": 312,
    "start_time": "2023-03-30T07:31:47.840Z"
   },
   {
    "duration": 113,
    "start_time": "2023-03-30T07:31:48.153Z"
   },
   {
    "duration": 278,
    "start_time": "2023-03-30T07:31:48.268Z"
   },
   {
    "duration": 6,
    "start_time": "2023-03-30T07:31:48.548Z"
   },
   {
    "duration": 13,
    "start_time": "2023-03-30T07:31:48.556Z"
   },
   {
    "duration": 54,
    "start_time": "2023-03-30T07:31:48.571Z"
   },
   {
    "duration": 8,
    "start_time": "2023-03-30T07:31:48.628Z"
   },
   {
    "duration": 4,
    "start_time": "2023-03-30T07:31:48.639Z"
   },
   {
    "duration": 8,
    "start_time": "2023-03-30T07:31:48.645Z"
   },
   {
    "duration": 3500,
    "start_time": "2023-03-30T07:31:48.655Z"
   },
   {
    "duration": 61,
    "start_time": "2023-03-30T07:31:52.157Z"
   },
   {
    "duration": 4,
    "start_time": "2023-03-30T07:31:52.220Z"
   },
   {
    "duration": 59,
    "start_time": "2023-03-30T07:31:52.225Z"
   },
   {
    "duration": 3,
    "start_time": "2023-03-30T07:31:52.286Z"
   },
   {
    "duration": 1268,
    "start_time": "2023-03-30T07:31:52.291Z"
   },
   {
    "duration": 1831,
    "start_time": "2023-03-30T07:31:57.829Z"
   },
   {
    "duration": 1971,
    "start_time": "2023-03-30T07:35:26.689Z"
   },
   {
    "duration": 1592,
    "start_time": "2023-03-30T07:36:07.401Z"
   },
   {
    "duration": 1440,
    "start_time": "2023-03-30T07:36:23.695Z"
   },
   {
    "duration": 1503,
    "start_time": "2023-03-30T07:38:37.489Z"
   },
   {
    "duration": 704,
    "start_time": "2023-03-30T07:38:38.994Z"
   },
   {
    "duration": 14,
    "start_time": "2023-03-30T07:38:39.700Z"
   },
   {
    "duration": 307,
    "start_time": "2023-03-30T07:38:39.717Z"
   },
   {
    "duration": 109,
    "start_time": "2023-03-30T07:38:40.025Z"
   },
   {
    "duration": 233,
    "start_time": "2023-03-30T07:38:40.135Z"
   },
   {
    "duration": 5,
    "start_time": "2023-03-30T07:38:40.370Z"
   },
   {
    "duration": 5,
    "start_time": "2023-03-30T07:38:40.377Z"
   },
   {
    "duration": 55,
    "start_time": "2023-03-30T07:38:40.384Z"
   },
   {
    "duration": 10,
    "start_time": "2023-03-30T07:38:40.441Z"
   },
   {
    "duration": 5,
    "start_time": "2023-03-30T07:38:40.453Z"
   },
   {
    "duration": 13,
    "start_time": "2023-03-30T07:38:40.459Z"
   },
   {
    "duration": 19,
    "start_time": "2023-03-30T07:38:40.474Z"
   },
   {
    "duration": 3438,
    "start_time": "2023-03-30T07:38:40.495Z"
   },
   {
    "duration": 43,
    "start_time": "2023-03-30T07:38:43.935Z"
   },
   {
    "duration": 4,
    "start_time": "2023-03-30T07:38:43.980Z"
   },
   {
    "duration": 86,
    "start_time": "2023-03-30T07:38:43.986Z"
   },
   {
    "duration": 5,
    "start_time": "2023-03-30T07:38:44.074Z"
   },
   {
    "duration": 1167,
    "start_time": "2023-03-30T07:38:44.080Z"
   },
   {
    "duration": 1600,
    "start_time": "2023-03-30T07:38:45.249Z"
   },
   {
    "duration": 3,
    "start_time": "2023-03-30T07:39:14.547Z"
   },
   {
    "duration": 4,
    "start_time": "2023-03-30T07:39:32.423Z"
   },
   {
    "duration": 7,
    "start_time": "2023-03-30T07:39:37.009Z"
   },
   {
    "duration": 8,
    "start_time": "2023-03-30T07:39:39.897Z"
   },
   {
    "duration": 2,
    "start_time": "2023-03-30T07:40:20.899Z"
   },
   {
    "duration": 45,
    "start_time": "2023-03-30T07:40:20.903Z"
   },
   {
    "duration": 8,
    "start_time": "2023-03-30T07:40:20.984Z"
   },
   {
    "duration": 5,
    "start_time": "2023-03-30T07:40:21.134Z"
   },
   {
    "duration": 169,
    "start_time": "2023-03-30T07:40:21.140Z"
   },
   {
    "duration": 0,
    "start_time": "2023-03-30T07:40:21.312Z"
   },
   {
    "duration": 0,
    "start_time": "2023-03-30T07:40:21.314Z"
   },
   {
    "duration": 0,
    "start_time": "2023-03-30T07:40:21.316Z"
   },
   {
    "duration": 0,
    "start_time": "2023-03-30T07:40:21.317Z"
   },
   {
    "duration": 0,
    "start_time": "2023-03-30T07:40:21.318Z"
   },
   {
    "duration": 0,
    "start_time": "2023-03-30T07:40:21.319Z"
   },
   {
    "duration": 1483,
    "start_time": "2023-03-30T07:45:10.134Z"
   },
   {
    "duration": 757,
    "start_time": "2023-03-30T07:45:11.619Z"
   },
   {
    "duration": 4,
    "start_time": "2023-03-30T07:45:12.378Z"
   },
   {
    "duration": 308,
    "start_time": "2023-03-30T07:45:12.384Z"
   },
   {
    "duration": 124,
    "start_time": "2023-03-30T07:45:12.693Z"
   },
   {
    "duration": 233,
    "start_time": "2023-03-30T07:45:12.819Z"
   },
   {
    "duration": 6,
    "start_time": "2023-03-30T07:45:13.053Z"
   },
   {
    "duration": 8,
    "start_time": "2023-03-30T07:45:13.060Z"
   },
   {
    "duration": 46,
    "start_time": "2023-03-30T07:45:13.069Z"
   },
   {
    "duration": 6,
    "start_time": "2023-03-30T07:45:13.120Z"
   },
   {
    "duration": 4,
    "start_time": "2023-03-30T07:45:13.128Z"
   },
   {
    "duration": 8,
    "start_time": "2023-03-30T07:45:13.133Z"
   },
   {
    "duration": 17,
    "start_time": "2023-03-30T07:45:13.143Z"
   },
   {
    "duration": 3378,
    "start_time": "2023-03-30T07:45:13.162Z"
   },
   {
    "duration": 37,
    "start_time": "2023-03-30T07:45:16.542Z"
   },
   {
    "duration": 3,
    "start_time": "2023-03-30T07:45:16.581Z"
   },
   {
    "duration": 55,
    "start_time": "2023-03-30T07:45:16.606Z"
   },
   {
    "duration": 4,
    "start_time": "2023-03-30T07:45:16.662Z"
   },
   {
    "duration": 1200,
    "start_time": "2023-03-30T07:45:16.667Z"
   },
   {
    "duration": 1567,
    "start_time": "2023-03-30T07:45:17.869Z"
   },
   {
    "duration": 2,
    "start_time": "2023-03-30T07:45:19.438Z"
   },
   {
    "duration": 9,
    "start_time": "2023-03-30T07:45:19.442Z"
   },
   {
    "duration": 5,
    "start_time": "2023-03-30T07:45:19.453Z"
   },
   {
    "duration": 5,
    "start_time": "2023-03-30T07:45:19.459Z"
   },
   {
    "duration": 5,
    "start_time": "2023-03-30T07:45:19.466Z"
   },
   {
    "duration": 13,
    "start_time": "2023-03-30T07:45:19.473Z"
   },
   {
    "duration": 25,
    "start_time": "2023-03-30T07:45:19.488Z"
   },
   {
    "duration": 5,
    "start_time": "2023-03-30T07:45:19.517Z"
   },
   {
    "duration": 7,
    "start_time": "2023-03-30T07:45:19.523Z"
   },
   {
    "duration": 7,
    "start_time": "2023-03-30T07:45:19.532Z"
   },
   {
    "duration": 16,
    "start_time": "2023-03-30T07:45:19.541Z"
   },
   {
    "duration": 29,
    "start_time": "2023-03-30T07:45:19.558Z"
   },
   {
    "duration": 25,
    "start_time": "2023-03-30T07:45:19.588Z"
   },
   {
    "duration": 1249170,
    "start_time": "2023-03-30T07:45:19.615Z"
   },
   {
    "duration": 38883,
    "start_time": "2023-03-30T08:06:08.787Z"
   },
   {
    "duration": 5632,
    "start_time": "2023-03-30T08:06:47.672Z"
   },
   {
    "duration": 171,
    "start_time": "2023-03-30T08:06:53.307Z"
   },
   {
    "duration": 104,
    "start_time": "2023-03-30T08:06:53.480Z"
   },
   {
    "duration": 1483,
    "start_time": "2023-03-30T09:17:11.631Z"
   },
   {
    "duration": 1453,
    "start_time": "2023-03-30T09:17:25.940Z"
   },
   {
    "duration": 1287,
    "start_time": "2023-03-30T09:18:06.492Z"
   },
   {
    "duration": 1458,
    "start_time": "2023-03-30T09:18:26.685Z"
   }
  ],
  "kernelspec": {
   "display_name": "Python 3 (ipykernel)",
   "language": "python",
   "name": "python3"
  },
  "language_info": {
   "codemirror_mode": {
    "name": "ipython",
    "version": 3
   },
   "file_extension": ".py",
   "mimetype": "text/x-python",
   "name": "python",
   "nbconvert_exporter": "python",
   "pygments_lexer": "ipython3",
   "version": "3.9.12"
  },
  "toc": {
   "base_numbering": 1,
   "nav_menu": {},
   "number_sections": true,
   "sideBar": true,
   "skip_h1_title": true,
   "title_cell": "Содержание",
   "title_sidebar": "Contents",
   "toc_cell": true,
   "toc_position": {
    "height": "calc(100% - 180px)",
    "left": "10px",
    "top": "150px",
    "width": "165px"
   },
   "toc_section_display": true,
   "toc_window_display": true
  },
  "varInspector": {
   "cols": {
    "lenName": 16,
    "lenType": 16,
    "lenVar": 40
   },
   "kernels_config": {
    "python": {
     "delete_cmd_postfix": "",
     "delete_cmd_prefix": "del ",
     "library": "var_list.py",
     "varRefreshCmd": "print(var_dic_list())"
    },
    "r": {
     "delete_cmd_postfix": ") ",
     "delete_cmd_prefix": "rm(",
     "library": "var_list.r",
     "varRefreshCmd": "cat(var_dic_list()) "
    }
   },
   "types_to_exclude": [
    "module",
    "function",
    "builtin_function_or_method",
    "instance",
    "_Feature"
   ],
   "window_display": false
  }
 },
 "nbformat": 4,
 "nbformat_minor": 2
}
